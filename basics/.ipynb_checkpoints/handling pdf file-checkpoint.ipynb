{
 "cells": [
  {
   "cell_type": "code",
   "execution_count": 1,
   "id": "julian-design",
   "metadata": {},
   "outputs": [
    {
     "name": "stdout",
     "output_type": "stream",
     "text": [
      "Collecting PyPDF2"
     ]
    },
    {
     "name": "stderr",
     "output_type": "stream",
     "text": [
      "WARNING: You are using pip version 19.2.3, however version 21.1.1 is available.\n",
      "You should consider upgrading via the 'python -m pip install --upgrade pip' command.\n"
     ]
    },
    {
     "name": "stdout",
     "output_type": "stream",
     "text": [
      "\n",
      "  Downloading https://files.pythonhosted.org/packages/b4/01/68fcc0d43daf4c6bdbc6b33cc3f77bda531c86b174cac56ef0ffdb96faab/PyPDF2-1.26.0.tar.gz (77kB)\n",
      "Installing collected packages: PyPDF2\n",
      "  Running setup.py install for PyPDF2: started\n",
      "    Running setup.py install for PyPDF2: finished with status 'done'\n",
      "Successfully installed PyPDF2-1.26.0\n"
     ]
    }
   ],
   "source": [
    "# !pip install PyPDF2"
   ]
  },
  {
   "cell_type": "code",
   "execution_count": 1,
   "id": "undefined-ballet",
   "metadata": {},
   "outputs": [],
   "source": [
    "import PyPDF2"
   ]
  },
  {
   "cell_type": "markdown",
   "id": "eight-mouth",
   "metadata": {},
   "source": [
    "### TASK: Read pdf"
   ]
  },
  {
   "cell_type": "code",
   "execution_count": 2,
   "id": "animal-celebration",
   "metadata": {},
   "outputs": [],
   "source": [
    "# read pdf file in a binary format\n",
    "pdf_bobj = open('./sample-the-seeker-resume.pdf', mode='rb')"
   ]
  },
  {
   "cell_type": "code",
   "execution_count": 3,
   "id": "smaller-detective",
   "metadata": {},
   "outputs": [],
   "source": [
    "# create pdf file object\n",
    "pdf_file = PyPDF2.PdfFileReader(pdf_bobj)"
   ]
  },
  {
   "cell_type": "code",
   "execution_count": 4,
   "id": "social-participant",
   "metadata": {},
   "outputs": [
    {
     "data": {
      "text/plain": [
       "3"
      ]
     },
     "execution_count": 4,
     "metadata": {},
     "output_type": "execute_result"
    }
   ],
   "source": [
    "# No of pages\n",
    "pdf_file.numPages"
   ]
  },
  {
   "cell_type": "markdown",
   "id": "inside-lounge",
   "metadata": {},
   "source": [
    "### TASK: Get pdf page count"
   ]
  },
  {
   "cell_type": "code",
   "execution_count": 5,
   "id": "numeric-assist",
   "metadata": {},
   "outputs": [
    {
     "name": "stdout",
     "output_type": "stream",
     "text": [
      " \n",
      " \n",
      "\n",
      " \n",
      "Lorem ipsum dolor sit amet, consectetuer adipiscing elit lorem ipsum dolor sit.\n",
      " \n",
      "\n",
      " \n",
      "Lorem ipsum \n",
      "dolor sit amet, consectetuer adipiscing elit lorem ipsum dolor sit.\n",
      " \n",
      "\n",
      " \n",
      "Lorem ipsum dolor sit amet, consectetuer adipiscing elit lorem ipsum dolor sit.\n",
      " \n",
      "\n",
      " \n",
      "Lorem ipsum dolor sit amet, consectetuer adipiscing elit lorem ipsum dolor sit.\n",
      " \n",
      " \n",
      " \n",
      "\n",
      " \n",
      "Lorem ipsum\n",
      " \n",
      "\n",
      " \n",
      "Ipsum dolor\n",
      " \n",
      "\n",
      " \n",
      "Nulla quis sem\n",
      " \n",
      "\n",
      " \n",
      "Lorem ipsum\n",
      " \n",
      "\n",
      " \n",
      "Integer nec odio\n",
      " \n",
      " \n",
      " \n",
      " \n",
      "April 2014 \n",
      "\n",
      " \n",
      "Current\n",
      " \n",
      "Sales Manager\n",
      " \n",
      "Solvent Solutions Pvt Ltd\n",
      " \n",
      "Kolkata, West Bangal\n",
      " \n",
      "Lorem ipsum dolor sit amet, \n",
      "consectetuer adipiscing elit. Aenean commodo ligula eget dolor. Aenean massa. Cum \n",
      "sociis natoque penatibus et magnis dis parturient montes, nascetur ridiculus mus. Donec quam felis, ultricies Lorem \n",
      "ipsum dolor sit amet, consectetuer adipiscing elit. Aenean\n",
      " \n",
      "commodo ligula eget dolor. Aenean massa. Cum sociis \n",
      "natoque penatibus et magnis dis parturient montes, nascetur ridiculus mus.\n",
      " \n",
      "\n",
      " \n",
      "Lorem ipsum dolor sit amet, consectetuer adipiscing elit lorem ipsum dolor sit.\n",
      " \n",
      "\n",
      " \n",
      "Lorem ipsum dolor sit amet, consectetuer \n",
      "adipiscing elit lorem ipsum dolor sit.\n",
      " \n",
      "\n",
      " \n",
      "Lorem ipsum dolor sit amet, consectetuer adipiscing elit lorem ipsum dolor sit.\n",
      " \n",
      "\n",
      " \n",
      "Lorem ipsum dolor sit amet, consectetuer adipiscing elit lorem ipsum dolor sit.\n",
      " \n",
      " \n",
      "October 2011 \n",
      "\n",
      " \n",
      "March 2014\n",
      " \n",
      "Team Leader\n",
      " \n",
      "Serena Global Pvt \n",
      "Ltd\n",
      " \n",
      "Gurgaon, Delhi\n",
      "-\n",
      "NCR\n",
      " \n",
      "Lorem ipsum dolor sit amet, consectetuer adipiscing elit. Aenean commodo ligula eget dolor. Aenean massa. Cum \n",
      "sociis natoque penatibus et magnis dis parturient montes, nascetur ridiculus mus. Donec quam felis, ultricies Lorem \n",
      "ipsum d\n",
      "olor sit amet, consectetuer adipiscing elit. Aenean commodo ligula eget dolor. Aenean massa. Cum sociis \n",
      "natoque penatibus et magnis dis parturient montes, nascetur ridiculus mus.\n",
      " \n",
      "\n",
      " \n",
      "Lorem ipsum dolor sit amet, consectetuer adipiscing elit lorem ipsum dolor si\n",
      "t.\n",
      " \n",
      "\n",
      " \n",
      "Lorem ipsum dolor sit amet, consectetuer adipiscing elit lorem ipsum dolor sit.\n",
      " \n",
      "\n",
      " \n",
      "Lorem ipsum dolor sit amet, consectetuer adipiscing elit lorem ipsum dolor sit.\n",
      " \n",
      "\n",
      " \n",
      "Lorem ipsum dolor sit amet, consectetuer adipiscing elit lorem ipsum dolor sit.\n",
      " \n",
      " \n",
      "August 2009 \n",
      "\n",
      " \n",
      "October 2011\n",
      " \n",
      "Sales Assistant\n",
      " \n",
      "Tamcoj Technologies\n",
      " \n",
      "Pimpri\n",
      "-\n",
      "Pune, Maharashtra\n",
      " \n",
      "Lorem ipsum dolor sit amet, consectetuer adipiscing elit. Aenean commodo ligula eget dolor. Aenean massa. Cum \n",
      "sociis natoque penatibus et magnis dis parturient montes, nascetur rid\n",
      "iculus mus. Donec quam felis, ultricies Lorem \n",
      "ipsum dolor sit amet, consectetuer adipiscing elit. Aenean commodo ligula eget dolor. Aenean massa. Cum sociis \n",
      "natoque penatibus et magnis dis parturient montes, nascetur ridiculus mus.\n",
      " \n",
      "Skills\n",
      " \n",
      "Work Experience\n",
      " \n",
      "\n"
     ]
    }
   ],
   "source": [
    "# Read page one\n",
    "page_n = pdf_file.getPage(1)\n",
    "print(page_n.extractText())\n",
    "# page_n.close()"
   ]
  },
  {
   "cell_type": "markdown",
   "id": "sized-language",
   "metadata": {},
   "source": [
    "### TASK: Write a page in pdf"
   ]
  },
  {
   "cell_type": "code",
   "execution_count": 6,
   "id": "sunset-corpus",
   "metadata": {},
   "outputs": [],
   "source": [
    "pdf_writer = PyPDF2.PdfFileWriter()\n",
    "pdf_writer.addPage(page_n)"
   ]
  },
  {
   "cell_type": "code",
   "execution_count": 7,
   "id": "fifty-brick",
   "metadata": {},
   "outputs": [],
   "source": [
    "# Create new pdf document\n",
    "new_pdf_inst = open('new_pdf_file.pdf', 'wb')"
   ]
  },
  {
   "cell_type": "code",
   "execution_count": 8,
   "id": "convenient-complex",
   "metadata": {},
   "outputs": [],
   "source": [
    "# Overwrite previously read file to the new file\n",
    "pdf_writer.write(new_pdf_inst)"
   ]
  },
  {
   "cell_type": "code",
   "execution_count": 9,
   "id": "satellite-tourist",
   "metadata": {},
   "outputs": [],
   "source": [
    "# close pdf file instances\n",
    "new_pdf_inst.close()\n",
    "pdf_bobj.close()"
   ]
  },
  {
   "cell_type": "code",
   "execution_count": 10,
   "id": "signed-quarterly",
   "metadata": {},
   "outputs": [
    {
     "name": "stdout",
     "output_type": "stream",
     "text": [
      "Numer of pages : 1\n",
      "last page content: \n",
      " \n",
      " \n",
      " \n",
      " \n",
      "\n",
      " \n",
      "Lorem ipsum dolor sit amet, consectetuer adipiscing elit lorem ipsum dolor sit.\n",
      " \n",
      "\n",
      " \n",
      "Lorem ipsum \n",
      "dolor sit amet, consectetuer adipiscing elit lorem ipsum dolor sit.\n",
      " \n",
      "\n",
      " \n",
      "Lorem ipsum dolor sit amet, consectetuer adipiscing elit lorem ipsum dolor sit.\n",
      " \n",
      "\n",
      " \n",
      "Lorem ipsum dolor sit amet, consectetuer adipiscing elit lorem ipsum dolor sit.\n",
      " \n",
      " \n",
      " \n",
      "\n",
      " \n",
      "Lorem ipsum\n",
      " \n",
      "\n",
      " \n",
      "Ipsum dolor\n",
      " \n",
      "\n",
      " \n",
      "Nulla quis sem\n",
      " \n",
      "\n",
      " \n",
      "Lorem ipsum\n",
      " \n",
      "\n",
      " \n",
      "Integer nec odio\n",
      " \n",
      " \n",
      " \n",
      " \n",
      "April 2014 \n",
      "\n",
      " \n",
      "Current\n",
      " \n",
      "Sales Manager\n",
      " \n",
      "Solvent Solutions Pvt Ltd\n",
      " \n",
      "Kolkata, West Bangal\n",
      " \n",
      "Lorem ipsum dolor sit amet, \n",
      "consectetuer adipiscing elit. Aenean commodo ligula eget dolor. Aenean massa. Cum \n",
      "sociis natoque penatibus et magnis dis parturient montes, nascetur ridiculus mus. Donec quam felis, ultricies Lorem \n",
      "ipsum dolor sit amet, consectetuer adipiscing elit. Aenean\n",
      " \n",
      "commodo ligula eget dolor. Aenean massa. Cum sociis \n",
      "natoque penatibus et magnis dis parturient montes, nascetur ridiculus mus.\n",
      " \n",
      "\n",
      " \n",
      "Lorem ipsum dolor sit amet, consectetuer adipiscing elit lorem ipsum dolor sit.\n",
      " \n",
      "\n",
      " \n",
      "Lorem ipsum dolor sit amet, consectetuer \n",
      "adipiscing elit lorem ipsum dolor sit.\n",
      " \n",
      "\n",
      " \n",
      "Lorem ipsum dolor sit amet, consectetuer adipiscing elit lorem ipsum dolor sit.\n",
      " \n",
      "\n",
      " \n",
      "Lorem ipsum dolor sit amet, consectetuer adipiscing elit lorem ipsum dolor sit.\n",
      " \n",
      " \n",
      "October 2011 \n",
      "\n",
      " \n",
      "March 2014\n",
      " \n",
      "Team Leader\n",
      " \n",
      "Serena Global Pvt \n",
      "Ltd\n",
      " \n",
      "Gurgaon, Delhi\n",
      "-\n",
      "NCR\n",
      " \n",
      "Lorem ipsum dolor sit amet, consectetuer adipiscing elit. Aenean commodo ligula eget dolor. Aenean massa. Cum \n",
      "sociis natoque penatibus et magnis dis parturient montes, nascetur ridiculus mus. Donec quam felis, ultricies Lorem \n",
      "ipsum d\n",
      "olor sit amet, consectetuer adipiscing elit. Aenean commodo ligula eget dolor. Aenean massa. Cum sociis \n",
      "natoque penatibus et magnis dis parturient montes, nascetur ridiculus mus.\n",
      " \n",
      "\n",
      " \n",
      "Lorem ipsum dolor sit amet, consectetuer adipiscing elit lorem ipsum dolor si\n",
      "t.\n",
      " \n",
      "\n",
      " \n",
      "Lorem ipsum dolor sit amet, consectetuer adipiscing elit lorem ipsum dolor sit.\n",
      " \n",
      "\n",
      " \n",
      "Lorem ipsum dolor sit amet, consectetuer adipiscing elit lorem ipsum dolor sit.\n",
      " \n",
      "\n",
      " \n",
      "Lorem ipsum dolor sit amet, consectetuer adipiscing elit lorem ipsum dolor sit.\n",
      " \n",
      " \n",
      "August 2009 \n",
      "\n",
      " \n",
      "October 2011\n",
      " \n",
      "Sales Assistant\n",
      " \n",
      "Tamcoj Technologies\n",
      " \n",
      "Pimpri\n",
      "-\n",
      "Pune, Maharashtra\n",
      " \n",
      "Lorem ipsum dolor sit amet, consectetuer adipiscing elit. Aenean commodo ligula eget dolor. Aenean massa. Cum \n",
      "sociis natoque penatibus et magnis dis parturient montes, nascetur rid\n",
      "iculus mus. Donec quam felis, ultricies Lorem \n",
      "ipsum dolor sit amet, consectetuer adipiscing elit. Aenean commodo ligula eget dolor. Aenean massa. Cum sociis \n",
      "natoque penatibus et magnis dis parturient montes, nascetur ridiculus mus.\n",
      " \n",
      "Skills\n",
      " \n",
      "Work Experience\n",
      " \n",
      "\n"
     ]
    }
   ],
   "source": [
    "# Let;s check the newly written content\n",
    "pdf_new_obj = open('./new_pdf_file.pdf', mode='rb')\n",
    "\n",
    "pdf_new_file = PyPDF2.PdfFileReader(pdf_new_obj)\n",
    "\n",
    "print(f'Numer of pages : {pdf_new_file.numPages}')\n",
    "\n",
    "page_n = pdf_file.getPage(pdf_new_file.numPages)\n",
    "print('last page content: \\n \\n ')\n",
    "print(page_n.extractText())\n",
    "pdf_new_obj.close()"
   ]
  },
  {
   "cell_type": "markdown",
   "id": "adaptive-alert",
   "metadata": {},
   "source": [
    "### TASK: Read entire pdf in a list"
   ]
  },
  {
   "cell_type": "code",
   "execution_count": 14,
   "id": "olympic-continent",
   "metadata": {},
   "outputs": [
    {
     "name": "stdout",
     "output_type": "stream",
     "text": [
      "Reading page:0\n",
      "Reading page:1\n",
      "Reading page:2\n"
     ]
    }
   ],
   "source": [
    "pdf_obj = open('./sample-the-seeker-resume.pdf', mode='rb')\n",
    "pdf_file = PyPDF2.PdfFileReader(pdf_obj)\n",
    "pdf_content = []\n",
    "\n",
    "for page in range(pdf_file.numPages):\n",
    "    print(f'Reading page:{page}')\n",
    "    page_n = pdf_file.getPage(page)\n",
    "    pdf_content.append(page_n.extractText())\n",
    "\n",
    "pdf_obj.close()"
   ]
  },
  {
   "cell_type": "code",
   "execution_count": 15,
   "id": "administrative-update",
   "metadata": {},
   "outputs": [
    {
     "name": "stdout",
     "output_type": "stream",
     "text": [
      "number of pages: 3\n"
     ]
    },
    {
     "data": {
      "text/plain": [
       "[' \\n \\nRAM KUMAR\\n \\n \\n \\n \\n \\n \\n \\n \\nMarketing and Sales Professional\\n \\nLorem ipsum dolor \\nsit\\n \\namet\\n, \\nconsectetur\\n \\nadipiscing\\n \\nelit\\n. Integer \\nnec\\n \\nodio\\n. \\nPraesent\\n \\nlibero. \\nSed cursus ante dapi\\n-\\nbus \\ndiam.\\n \\nSed nisi. Nulla \\nquis\\n \\nsem at \\nnibh\\n \\nelementum\\n \\nimperdiet\\n. Duis \\nsagittis\\n \\nipsum\\n. \\nPraesent\\n \\nmauris\\n. \\nFusce nec tellus \\nsed augue semper porta.\\n \\nMauris \\nmassa\\n. \\nVestibulum lacinia arcu eget nulla.\\n \\nClass aptent taciti sociosqu ad litora \\ntorquent per conubia nostra, per inceptos himenaeos.\\n \\n \\n \\nMasters, Business Administration\\n \\n \\n \\nGrad\\nuated, July 2010\\n \\nSymbiosis Institute of Management Studies\\n \\n \\nMarks 59%\\n \\nAICTE & UGC Board\\n \\n \\n \\n \\n \\nDivision 2\\n \\nPune, Maharashtra\\n \\nBachelor, Technology\\n \\n \\n \\n \\n \\nGraduated, July 2008\\n \\nDeccan College of Engineering & Technology\\n \\n \\nMarks 64%\\n \\nOsmania University Board\\n \\n \\n \\n \\nDivisio\\nn 1\\n \\nHyderabad, Telangana\\n \\n10+2\\n \\n \\n \\n \\n \\n \\n \\nGraduated, July 2004\\n \\nDPS Bokaro\\n \\n \\n \\n \\n \\n \\nMarks 81%\\n \\nCBSE Board\\n \\n \\n \\n \\n \\n \\nDivision 1\\n \\nNew Delhi, Delhi\\n \\n \\n \\n\\n \\nLorem ipsum dolor sit ame\\nt, consectetuer adipiscing elit l\\norem ipsum dolor sit\\n.\\n \\n\\n \\nLorem ipsum dolor sit ame\\nt, consectetuer adipiscing elit l\\norem ipsum dolor sit\\n.\\n \\n\\n \\nLorem ipsum dolor sit ame\\nt, consectetuer adipiscing elit l\\norem ipsum dolor sit\\n.\\n \\n\\n \\nLorem ipsum dolor sit ame\\nt, consectetuer adipiscing elit l\\norem ipsum dolor sit\\n.\\n \\n \\n \\nLorem ipsum dolor sit amet, consectetuer adipiscing elit. Aenean commodo ligula eget dolor. Aenean massa. Cum \\nsociis natoque penatibus et magnis dis parturient montes, nascetur ridiculus mus. Donec quam felis, ultricies Lorem \\nipsum dolor sit amet, \\nconsectetuer adipiscing elit. Aenean commodo ligula eget dolor. Aenean massa. Cum sociis \\nnatoque penatibus et magnis dis parturient montes, nascetur ridiculus mus.\\n \\nEducation\\n \\nProfessional Qualifications and Affiliations\\n \\nCareer Highl\\nights\\n \\nAbout Me\\n \\n6 Years experience\\n \\nOctober 28, 1982\\n \\nMumbai, Maharashtra\\n \\nLinkedin.com/in/ramkumar\\n \\n+91.0000000000\\n \\nshri.babuji@shriresume.com\\n \\n',\n",
       " ' \\n \\n\\n \\nLorem ipsum dolor sit amet, consectetuer adipiscing elit lorem ipsum dolor sit.\\n \\n\\n \\nLorem ipsum \\ndolor sit amet, consectetuer adipiscing elit lorem ipsum dolor sit.\\n \\n\\n \\nLorem ipsum dolor sit amet, consectetuer adipiscing elit lorem ipsum dolor sit.\\n \\n\\n \\nLorem ipsum dolor sit amet, consectetuer adipiscing elit lorem ipsum dolor sit.\\n \\n \\n \\n\\n \\nLorem ipsum\\n \\n\\n \\nIpsum dolor\\n \\n\\n \\nNulla quis sem\\n \\n\\n \\nLorem ipsum\\n \\n\\n \\nInteger nec odio\\n \\n \\n \\n \\nApril 2014 \\n\\n \\nCurrent\\n \\nSales Manager\\n \\nSolvent Solutions Pvt Ltd\\n \\nKolkata, West Bangal\\n \\nLorem ipsum dolor sit amet, \\nconsectetuer adipiscing elit. Aenean commodo ligula eget dolor. Aenean massa. Cum \\nsociis natoque penatibus et magnis dis parturient montes, nascetur ridiculus mus. Donec quam felis, ultricies Lorem \\nipsum dolor sit amet, consectetuer adipiscing elit. Aenean\\n \\ncommodo ligula eget dolor. Aenean massa. Cum sociis \\nnatoque penatibus et magnis dis parturient montes, nascetur ridiculus mus.\\n \\n\\n \\nLorem ipsum dolor sit amet, consectetuer adipiscing elit lorem ipsum dolor sit.\\n \\n\\n \\nLorem ipsum dolor sit amet, consectetuer \\nadipiscing elit lorem ipsum dolor sit.\\n \\n\\n \\nLorem ipsum dolor sit amet, consectetuer adipiscing elit lorem ipsum dolor sit.\\n \\n\\n \\nLorem ipsum dolor sit amet, consectetuer adipiscing elit lorem ipsum dolor sit.\\n \\n \\nOctober 2011 \\n\\n \\nMarch 2014\\n \\nTeam Leader\\n \\nSerena Global Pvt \\nLtd\\n \\nGurgaon, Delhi\\n-\\nNCR\\n \\nLorem ipsum dolor sit amet, consectetuer adipiscing elit. Aenean commodo ligula eget dolor. Aenean massa. Cum \\nsociis natoque penatibus et magnis dis parturient montes, nascetur ridiculus mus. Donec quam felis, ultricies Lorem \\nipsum d\\nolor sit amet, consectetuer adipiscing elit. Aenean commodo ligula eget dolor. Aenean massa. Cum sociis \\nnatoque penatibus et magnis dis parturient montes, nascetur ridiculus mus.\\n \\n\\n \\nLorem ipsum dolor sit amet, consectetuer adipiscing elit lorem ipsum dolor si\\nt.\\n \\n\\n \\nLorem ipsum dolor sit amet, consectetuer adipiscing elit lorem ipsum dolor sit.\\n \\n\\n \\nLorem ipsum dolor sit amet, consectetuer adipiscing elit lorem ipsum dolor sit.\\n \\n\\n \\nLorem ipsum dolor sit amet, consectetuer adipiscing elit lorem ipsum dolor sit.\\n \\n \\nAugust 2009 \\n\\n \\nOctober 2011\\n \\nSales Assistant\\n \\nTamcoj Technologies\\n \\nPimpri\\n-\\nPune, Maharashtra\\n \\nLorem ipsum dolor sit amet, consectetuer adipiscing elit. Aenean commodo ligula eget dolor. Aenean massa. Cum \\nsociis natoque penatibus et magnis dis parturient montes, nascetur rid\\niculus mus. Donec quam felis, ultricies Lorem \\nipsum dolor sit amet, consectetuer adipiscing elit. Aenean commodo ligula eget dolor. Aenean massa. Cum sociis \\nnatoque penatibus et magnis dis parturient montes, nascetur ridiculus mus.\\n \\nSkills\\n \\nWork Experience\\n \\n',\n",
       " ' \\n \\n\\n \\nLorem ipsum dolor sit am\\net, consectetuer adipiscing elit lorem ipsum dolor sit.\\n \\n\\n \\nLorem ipsum dolor sit amet, consectetuer adipiscing elit lorem ipsum dolor sit.\\n \\n\\n \\nLorem ipsum dolor sit amet, consectetuer adipiscing elit lorem ipsum dolor sit.\\n \\n \\n \\n \\n\\n \\nWord 2010\\n \\n \\n \\n \\n\\n \\nExcel 2010\\n \\n\\n \\nPower Point 2010\\n \\n \\n \\n \\n\\n \\nHindi\\n \\n \\n \\n\\n \\nEnglish\\n \\n \\n \\n\\n \\nLorem ipsum dolor sit amet\\n \\n\\n \\nLorem ipsum dolor sit\\n \\n\\n \\nLorem ipsum dolor\\n \\n\\n \\nLorem ipsum\\n \\n\\n \\nLorem ipsum dolor sit\\n \\n \\n \\n \\n \\n\\n \\nMr. Abhijeet Kumar\\n \\n \\nMarital \\nStatus:\\n \\nSingle\\n \\nBirthday:\\n \\nOctober 28, 1982\\n \\n \\nNationality:\\n \\nIndian\\n \\nGender:\\n \\nMale\\n \\n \\n \\n \\n \\n \\nDeclaration\\n \\nI, Ram Kumar, hereby declare that the information contained herein is true and correct to the best of my knowledge \\nand belief.\\n \\n \\n \\n____________________________\\n \\nRam\\n \\nKumar\\n \\n \\n \\n \\n \\nMumbai, Maharashtra\\n \\n \\n \\n \\n \\n \\n \\nMarch 1, 2015\\n \\nComputer Proficiency\\n \\nLanguages\\n \\nPersonal Interests\\n \\nPersonal Details\\n \\n']"
      ]
     },
     "execution_count": 15,
     "metadata": {},
     "output_type": "execute_result"
    }
   ],
   "source": [
    "print(f\"number of pages: {len(pdf_content)}\")\n",
    "pdf_content"
   ]
  },
  {
   "cell_type": "code",
   "execution_count": null,
   "id": "thick-presence",
   "metadata": {},
   "outputs": [],
   "source": []
  },
  {
   "cell_type": "code",
   "execution_count": null,
   "id": "disabled-dylan",
   "metadata": {},
   "outputs": [],
   "source": []
  },
  {
   "cell_type": "code",
   "execution_count": null,
   "id": "assured-valentine",
   "metadata": {},
   "outputs": [],
   "source": []
  }
 ],
 "metadata": {
  "kernelspec": {
   "display_name": "Python 3",
   "language": "python",
   "name": "python3"
  },
  "language_info": {
   "codemirror_mode": {
    "name": "ipython",
    "version": 3
   },
   "file_extension": ".py",
   "mimetype": "text/x-python",
   "name": "python",
   "nbconvert_exporter": "python",
   "pygments_lexer": "ipython3",
   "version": "3.7.6"
  }
 },
 "nbformat": 4,
 "nbformat_minor": 5
}
