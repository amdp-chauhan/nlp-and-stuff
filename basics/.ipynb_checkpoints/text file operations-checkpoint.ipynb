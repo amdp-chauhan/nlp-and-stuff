{
 "cells": [
  {
   "cell_type": "markdown",
   "id": "yellow-belize",
   "metadata": {},
   "source": [
    "### Writing to a file"
   ]
  },
  {
   "cell_type": "code",
   "execution_count": 57,
   "id": "raising-manchester",
   "metadata": {},
   "outputs": [],
   "source": [
    "file_inst = open('./sample_text.txt', 'w')"
   ]
  },
  {
   "cell_type": "code",
   "execution_count": 58,
   "id": "academic-finger",
   "metadata": {},
   "outputs": [
    {
     "data": {
      "text/plain": [
       "21"
      ]
     },
     "execution_count": 58,
     "metadata": {},
     "output_type": "execute_result"
    }
   ],
   "source": [
    "# Writing line by line\n",
    "file_inst.write('Hey! this is my file.')"
   ]
  },
  {
   "cell_type": "code",
   "execution_count": 59,
   "id": "fatal-front",
   "metadata": {},
   "outputs": [],
   "source": [
    "# write lines from list of lines\n",
    "lines = [\"line one \\n \", \"line two \\n \", \"line three\\n \"]\n",
    "\n",
    "file_inst.writelines(lines)"
   ]
  },
  {
   "cell_type": "code",
   "execution_count": 60,
   "id": "mineral-candy",
   "metadata": {},
   "outputs": [],
   "source": [
    "# Context manager: It will auto close the file once the scope ends\n",
    "with file_inst as f:\n",
    "    f.write('It\\'s ment for experimentation')\n",
    "    f.write(' and learning.\\n')"
   ]
  },
  {
   "cell_type": "code",
   "execution_count": 61,
   "id": "given-equivalent",
   "metadata": {},
   "outputs": [
    {
     "data": {
      "text/plain": [
       "<_io.TextIOWrapper name='./sample_text.txt' mode='w' encoding='cp1252'>"
      ]
     },
     "execution_count": 61,
     "metadata": {},
     "output_type": "execute_result"
    }
   ],
   "source": [
    "file_inst"
   ]
  },
  {
   "cell_type": "code",
   "execution_count": 62,
   "id": "manual-flesh",
   "metadata": {},
   "outputs": [],
   "source": [
    "f.close()"
   ]
  },
  {
   "cell_type": "markdown",
   "id": "executed-brunswick",
   "metadata": {},
   "source": [
    "### Reading from a file"
   ]
  },
  {
   "cell_type": "code",
   "execution_count": 78,
   "id": "conscious-surge",
   "metadata": {},
   "outputs": [
    {
     "name": "stdout",
     "output_type": "stream",
     "text": [
      "Hey! this is my file.line one \n",
      " line two \n",
      " line three\n",
      " It's ment for experimentation and learning.\n",
      "\n"
     ]
    }
   ],
   "source": [
    "text_file = open('sample_text.txt', 'r')\n",
    "print(text_file.read())"
   ]
  },
  {
   "cell_type": "code",
   "execution_count": 86,
   "id": "isolated-illness",
   "metadata": {},
   "outputs": [
    {
     "name": "stdout",
     "output_type": "stream",
     "text": [
      "Hey! t\n"
     ]
    }
   ],
   "source": [
    "text_file = open('sample_text.txt', 'r')\n",
    "\n",
    "# Read only first n bits\n",
    "print(text_file.read(6))"
   ]
  },
  {
   "cell_type": "code",
   "execution_count": 88,
   "id": "metallic-apparel",
   "metadata": {},
   "outputs": [
    {
     "name": "stdout",
     "output_type": "stream",
     "text": [
      "Hey! this is my file.line one \n",
      "\n"
     ]
    }
   ],
   "source": [
    "# moves the point to the initial index\n",
    "text_file.seek(0)\n",
    "\n",
    "# Read only first line\n",
    "print(text_file.readline())"
   ]
  },
  {
   "cell_type": "code",
   "execution_count": 90,
   "id": "devoted-footwear",
   "metadata": {},
   "outputs": [
    {
     "name": "stdout",
     "output_type": "stream",
     "text": [
      "['Hey! this is my file.line one \\n', ' line two \\n', ' line three\\n', \" It's ment for experimentation and learning.\\n\"]\n"
     ]
    }
   ],
   "source": [
    "text_file.seek(0)\n",
    "\n",
    "# Read all lines\n",
    "print(text_file.readlines())"
   ]
  },
  {
   "cell_type": "markdown",
   "id": "burning-reality",
   "metadata": {},
   "source": [
    "### Appending to a file"
   ]
  },
  {
   "cell_type": "code",
   "execution_count": 91,
   "id": "published-zealand",
   "metadata": {},
   "outputs": [],
   "source": [
    "# Append-adds at last\n",
    "file_inst = open(\"sample_text.txt\", \"a\")#append mode\n",
    "file_inst.write(\"Appended Line\\n\")\n",
    "file_inst.close()"
   ]
  },
  {
   "cell_type": "code",
   "execution_count": 93,
   "id": "dependent-airfare",
   "metadata": {},
   "outputs": [
    {
     "name": "stdout",
     "output_type": "stream",
     "text": [
      "Hey! this is my file.line one \n",
      " line two \n",
      " line three\n",
      " It's ment for experimentation and learning.\n",
      "Appended Line\n",
      "\n"
     ]
    }
   ],
   "source": [
    "text_file = open('sample_text.txt', 'r')\n",
    "\n",
    "# read\n",
    "print(text_file.read())\n",
    "text_file.close()"
   ]
  },
  {
   "cell_type": "code",
   "execution_count": 94,
   "id": "chinese-strand",
   "metadata": {},
   "outputs": [],
   "source": [
    "# Write-Overwrites\n",
    "file1 = open(\"sample_text.txt\",\"w\")#write mode\n",
    "file1.write(\"Overwrite content ...... ); \\n\")\n",
    "file1.close()"
   ]
  },
  {
   "cell_type": "code",
   "execution_count": 95,
   "id": "periodic-drove",
   "metadata": {},
   "outputs": [
    {
     "name": "stdout",
     "output_type": "stream",
     "text": [
      "Overwrite content ...... ); \n",
      "\n"
     ]
    }
   ],
   "source": [
    "text_file = open('sample_text.txt', 'r')\n",
    "\n",
    "# read\n",
    "print(text_file.read())\n",
    "text_file.close()"
   ]
  },
  {
   "cell_type": "code",
   "execution_count": null,
   "id": "existing-malaysia",
   "metadata": {},
   "outputs": [],
   "source": []
  }
 ],
 "metadata": {
  "kernelspec": {
   "display_name": "Python 3",
   "language": "python",
   "name": "python3"
  },
  "language_info": {
   "codemirror_mode": {
    "name": "ipython",
    "version": 3
   },
   "file_extension": ".py",
   "mimetype": "text/x-python",
   "name": "python",
   "nbconvert_exporter": "python",
   "pygments_lexer": "ipython3",
   "version": "3.7.6"
  }
 },
 "nbformat": 4,
 "nbformat_minor": 5
}
