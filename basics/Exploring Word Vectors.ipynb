{
 "cells": [
  {
   "cell_type": "code",
   "execution_count": 4,
   "metadata": {
    "scrolled": true
   },
   "outputs": [],
   "source": [
    "import warnings\n",
    "warnings.filterwarnings(\"ignore\")\n",
    "\n",
    "import nltk\n",
    "from gensim.models import word2vec\n",
    "#from gensim.models.word2vec import Word2Vec"
   ]
  },
  {
   "cell_type": "code",
   "execution_count": 5,
   "metadata": {},
   "outputs": [],
   "source": [
    "import numpy as np\n",
    "import matplotlib.pyplot as plt\n",
    "import os"
   ]
  },
  {
   "cell_type": "markdown",
   "metadata": {},
   "source": [
    "### Creating our sentences to train the word vectors"
   ]
  },
  {
   "cell_type": "code",
   "execution_count": 6,
   "metadata": {},
   "outputs": [],
   "source": [
    "TextCorpus  = [\"Alice notices a white rabbit\",\n",
    "               \"Alice follows the rabbit down the rabbit hole\",\n",
    "               \"Door too small for Alice\",\n",
    "               \"Bottle reads drink me\",\n",
    "               \"Alice meets a mouse\"\n",
    "]"
   ]
  },
  {
   "cell_type": "markdown",
   "metadata": {},
   "source": [
    "#### Formatting for passing to word2vec"
   ]
  },
  {
   "cell_type": "code",
   "execution_count": 7,
   "metadata": {},
   "outputs": [],
   "source": [
    "from nltk.tokenize import word_tokenize"
   ]
  },
  {
   "cell_type": "code",
   "execution_count": 8,
   "metadata": {},
   "outputs": [
    {
     "data": {
      "text/plain": [
       "[['Alice', 'notices', 'a', 'white', 'rabbit'],\n",
       " ['Alice', 'follows', 'the', 'rabbit', 'down', 'the', 'rabbit', 'hole']]"
      ]
     },
     "execution_count": 8,
     "metadata": {},
     "output_type": "execute_result"
    }
   ],
   "source": [
    "text_tokens = [word_tokenize(sent) for sent in TextCorpus]\n",
    "text_tokens[:2]"
   ]
  },
  {
   "cell_type": "markdown",
   "metadata": {},
   "source": [
    "#### Training the word vectors"
   ]
  },
  {
   "cell_type": "code",
   "execution_count": 12,
   "metadata": {},
   "outputs": [],
   "source": [
    "?word2vec.Word2Vec"
   ]
  },
  {
   "cell_type": "code",
   "execution_count": 10,
   "metadata": {},
   "outputs": [],
   "source": [
    "model = word2vec.Word2Vec(text_tokens, min_count=1, seed=42)"
   ]
  },
  {
   "cell_type": "markdown",
   "metadata": {},
   "source": [
    "#### Taking a look at the trained vectors"
   ]
  },
  {
   "cell_type": "code",
   "execution_count": 8,
   "metadata": {},
   "outputs": [
    {
     "data": {
      "text/plain": [
       "array([-1.10025948e-03, -2.38052616e-03,  7.73931097e-04,  3.82754486e-03,\n",
       "        1.83823824e-04,  1.28422712e-03, -4.93822945e-03, -9.37719771e-04,\n",
       "        2.34830217e-03,  1.87413476e-03,  2.38923728e-03, -3.12597514e-03,\n",
       "       -1.28897850e-03, -4.56113368e-03,  3.34020401e-03, -4.59642848e-03,\n",
       "       -2.34829867e-03, -1.15730648e-03, -3.52751976e-03, -4.08722507e-03,\n",
       "        2.16680649e-03, -3.60529870e-03, -3.89965740e-03,  2.01266469e-03,\n",
       "       -9.98557080e-04,  4.45065927e-03, -1.01780424e-04,  1.61453406e-03,\n",
       "        4.57050744e-03, -2.96300440e-03, -3.07397870e-03,  3.11316876e-03,\n",
       "       -7.41654439e-05, -1.23991724e-03, -2.55299639e-03, -3.90257617e-03,\n",
       "        1.77634880e-04,  2.88360845e-03, -2.11577839e-03,  2.15123710e-03,\n",
       "        4.17343760e-03,  4.86418651e-03,  1.28059590e-03,  4.11214726e-03,\n",
       "        2.51751230e-03, -1.43945601e-03, -6.56051910e-04, -4.63480456e-03,\n",
       "       -1.16360653e-03, -2.67951109e-04, -2.33123219e-03,  6.67481334e-04,\n",
       "       -2.14066170e-03,  4.39500716e-03,  4.48106183e-03, -4.39644651e-03,\n",
       "       -2.15572407e-04,  1.35571498e-03, -1.54761516e-03, -2.20999937e-03,\n",
       "       -6.96671836e-04, -2.73530441e-03,  3.49626382e-04, -4.21525817e-03,\n",
       "       -2.05989624e-03,  2.81005842e-03,  4.98718908e-03,  4.85146977e-03,\n",
       "        2.69317068e-03, -3.76681332e-03,  2.88318028e-03, -2.29255948e-03,\n",
       "       -3.50012630e-03,  3.73994932e-03, -1.27603285e-04,  2.37828656e-03,\n",
       "        4.77871904e-03,  2.94011115e-04, -3.81861901e-04,  3.82046739e-04,\n",
       "        2.08317745e-03, -3.61208268e-03, -4.83074365e-03,  2.07754620e-03,\n",
       "        1.56257139e-03, -7.13364454e-04,  3.90271796e-03,  1.20715820e-03,\n",
       "       -1.20190589e-03, -2.73571606e-03,  3.01249092e-03, -2.04580463e-03,\n",
       "        3.34631954e-03, -1.72277750e-03, -4.14741645e-03,  2.11606501e-03,\n",
       "       -2.15018308e-03,  2.89920252e-03, -3.23711964e-03, -3.70294135e-03],\n",
       "      dtype=float32)"
      ]
     },
     "execution_count": 8,
     "metadata": {},
     "output_type": "execute_result"
    }
   ],
   "source": [
    "model.wv['Alice']"
   ]
  },
  {
   "cell_type": "code",
   "execution_count": 9,
   "metadata": {
    "scrolled": true
   },
   "outputs": [
    {
     "data": {
      "text/plain": [
       "100"
      ]
     },
     "execution_count": 9,
     "metadata": {},
     "output_type": "execute_result"
    }
   ],
   "source": [
    "len(model.wv['Alice'])"
   ]
  },
  {
   "cell_type": "code",
   "execution_count": 10,
   "metadata": {},
   "outputs": [
    {
     "data": {
      "text/plain": [
       "[('drink', 0.19697389006614685),\n",
       " ('too', 0.16111689805984497),\n",
       " ('a', 0.10828886926174164),\n",
       " ('mouse', 0.09715116024017334),\n",
       " ('small', 0.06045091152191162)]"
      ]
     },
     "execution_count": 10,
     "metadata": {},
     "output_type": "execute_result"
    }
   ],
   "source": [
    "model.wv.most_similar(\"Alice\",topn=5)"
   ]
  },
  {
   "cell_type": "markdown",
   "metadata": {},
   "source": [
    "### Training our word vectors on the text8 corpus\n",
    "Cleaned Wikipedia text, compressed to 100MB"
   ]
  },
  {
   "cell_type": "markdown",
   "metadata": {},
   "source": [
    "#### Importing the raw text file"
   ]
  },
  {
   "cell_type": "code",
   "execution_count": 14,
   "metadata": {},
   "outputs": [],
   "source": [
    "sentences = word2vec.Text8Corpus('text8')"
   ]
  },
  {
   "cell_type": "code",
   "execution_count": 15,
   "metadata": {},
   "outputs": [
    {
     "data": {
      "text/plain": [
       "gensim.models.word2vec.Text8Corpus"
      ]
     },
     "execution_count": 15,
     "metadata": {},
     "output_type": "execute_result"
    }
   ],
   "source": [
    "type(sentences)"
   ]
  },
  {
   "cell_type": "markdown",
   "metadata": {},
   "source": [
    "#### Using all default parameters"
   ]
  },
  {
   "cell_type": "code",
   "execution_count": 17,
   "metadata": {
    "scrolled": true
   },
   "outputs": [
    {
     "name": "stdout",
     "output_type": "stream",
     "text": [
      "Wall time: 58.9 s\n"
     ]
    }
   ],
   "source": [
    "%%time\n",
    "model = word2vec.Word2Vec(sentences)"
   ]
  },
  {
   "cell_type": "code",
   "execution_count": 23,
   "metadata": {
    "scrolled": true
   },
   "outputs": [
    {
     "data": {
      "text/plain": [
       "[('cnn', 0.7800887823104858),\n",
       " ('newspaper', 0.706696093082428),\n",
       " ('daily', 0.6832059621810913),\n",
       " ('pbs', 0.6730657815933228),\n",
       " ('bbc', 0.661893904209137),\n",
       " ('abc', 0.6617001295089722),\n",
       " ('coverage', 0.6604894399642944),\n",
       " ('newspapers', 0.6603118777275085),\n",
       " ('forum', 0.6567295789718628),\n",
       " ('weekly', 0.6559501886367798)]"
      ]
     },
     "execution_count": 23,
     "metadata": {},
     "output_type": "execute_result"
    }
   ],
   "source": [
    "model.wv.most_similar(\"news\")"
   ]
  },
  {
   "cell_type": "code",
   "execution_count": 24,
   "metadata": {},
   "outputs": [
    {
     "data": {
      "text/plain": [
       "[('humanity', 0.8101158142089844),\n",
       " ('goodness', 0.7647572159767151),\n",
       " ('desires', 0.748024046421051),\n",
       " ('pleasure', 0.7388514876365662),\n",
       " ('guilt', 0.7347894906997681),\n",
       " ('compassion', 0.7330222725868225),\n",
       " ('mankind', 0.7308719754219055),\n",
       " ('dignity', 0.7287883758544922),\n",
       " ('salvation', 0.7285864949226379),\n",
       " ('fear', 0.7265817523002625)]"
      ]
     },
     "execution_count": 24,
     "metadata": {},
     "output_type": "execute_result"
    }
   ],
   "source": [
    "model.wv.most_similar(\"happiness\")"
   ]
  },
  {
   "cell_type": "code",
   "execution_count": 29,
   "metadata": {},
   "outputs": [],
   "source": [
    "v1 = model.wv['machine']\n",
    "v2 = model.wv['learning']\n",
    "res = (v1+v2)/2"
   ]
  },
  {
   "cell_type": "code",
   "execution_count": 30,
   "metadata": {},
   "outputs": [
    {
     "data": {
      "text/plain": [
       "[('machine', 0.8402273654937744),\n",
       " ('learning', 0.7512092590332031),\n",
       " ('memory', 0.6508206129074097),\n",
       " ('instruction', 0.6486309170722961),\n",
       " ('interface', 0.6441025733947754),\n",
       " ('tool', 0.6409190893173218),\n",
       " ('communication', 0.6317555904388428),\n",
       " ('programmer', 0.6254351139068604),\n",
       " ('interpreter', 0.6215000152587891),\n",
       " ('device', 0.6196221709251404)]"
      ]
     },
     "execution_count": 30,
     "metadata": {},
     "output_type": "execute_result"
    }
   ],
   "source": [
    "model.wv.most_similar([res])"
   ]
  },
  {
   "cell_type": "markdown",
   "metadata": {},
   "source": [
    "#### Semantic regularities captured in word embeddings"
   ]
  },
  {
   "cell_type": "code",
   "execution_count": 31,
   "metadata": {},
   "outputs": [
    {
     "data": {
      "text/plain": [
       "[('wife', 0.768734872341156),\n",
       " ('daughter', 0.7210648655891418),\n",
       " ('mother', 0.7167145013809204),\n",
       " ('child', 0.6970947980880737),\n",
       " ('grandmother', 0.6716728210449219)]"
      ]
     },
     "execution_count": 31,
     "metadata": {},
     "output_type": "execute_result"
    }
   ],
   "source": [
    "model.wv.most_similar(positive=['woman', 'husband'], negative=['man'], topn=5)"
   ]
  },
  {
   "cell_type": "code",
   "execution_count": 32,
   "metadata": {},
   "outputs": [
    {
     "data": {
      "text/plain": [
       "[('queen', 0.6606237888336182),\n",
       " ('empress', 0.6513140201568604),\n",
       " ('princess', 0.6327988505363464),\n",
       " ('prince', 0.6228598952293396),\n",
       " ('daughter', 0.5962039828300476)]"
      ]
     },
     "execution_count": 32,
     "metadata": {},
     "output_type": "execute_result"
    }
   ],
   "source": [
    "model.wv.most_similar(positive=['woman', 'king'], negative=['man'], topn=5)"
   ]
  },
  {
   "cell_type": "code",
   "execution_count": 33,
   "metadata": {},
   "outputs": [
    {
     "data": {
      "text/plain": [
       "[('heroine', 0.6431500911712646),\n",
       " ('protagonist', 0.6128721237182617),\n",
       " ('lover', 0.6088616847991943),\n",
       " ('warrior', 0.6079815626144409),\n",
       " ('idol', 0.5993800163269043)]"
      ]
     },
     "execution_count": 33,
     "metadata": {},
     "output_type": "execute_result"
    }
   ],
   "source": [
    "model.wv.most_similar(positive=['woman', 'hero'], negative=['man'], topn=5)"
   ]
  },
  {
   "cell_type": "markdown",
   "metadata": {},
   "source": [
    "#### And these regularities needn't always be the most desirable"
   ]
  },
  {
   "cell_type": "code",
   "execution_count": 34,
   "metadata": {},
   "outputs": [
    {
     "data": {
      "text/plain": [
       "[('child', 0.6013621687889099),\n",
       " ('nurse', 0.5954213738441467),\n",
       " ('teacher', 0.5828046202659607),\n",
       " ('dominatrix', 0.582726776599884),\n",
       " ('prostitute', 0.5428712964057922)]"
      ]
     },
     "execution_count": 34,
     "metadata": {},
     "output_type": "execute_result"
    }
   ],
   "source": [
    "model.wv.most_similar(positive=['woman', 'doctor'], negative=['man'], topn=5)"
   ]
  },
  {
   "cell_type": "code",
   "execution_count": 35,
   "metadata": {},
   "outputs": [
    {
     "data": {
      "text/plain": [
       "[('dumb', 0.5973577499389648),\n",
       " ('pet', 0.5935730934143066),\n",
       " ('gunslinger', 0.5774900317192078),\n",
       " ('dominatrix', 0.5764394998550415),\n",
       " ('fancy', 0.5736312866210938)]"
      ]
     },
     "execution_count": 35,
     "metadata": {},
     "output_type": "execute_result"
    }
   ],
   "source": [
    "model.wv.most_similar(positive=['woman', 'smart'], negative=['man'], topn=5)"
   ]
  },
  {
   "cell_type": "code",
   "execution_count": 37,
   "metadata": {
    "scrolled": true
   },
   "outputs": [
    {
     "data": {
      "text/plain": [
       "[('rational', 0.6199946403503418),\n",
       " ('intuition', 0.5872678756713867),\n",
       " ('rationality', 0.5849977731704712),\n",
       " ('extraterrestrial', 0.5728286504745483),\n",
       " ('reality', 0.5712677240371704)]"
      ]
     },
     "execution_count": 37,
     "metadata": {},
     "output_type": "execute_result"
    }
   ],
   "source": [
    "model.wv.most_similar(positive=['man', 'intelligent'], negative=['woman'], topn=5)"
   ]
  },
  {
   "cell_type": "markdown",
   "metadata": {},
   "source": [
    "### Visualizing these word vectors"
   ]
  },
  {
   "cell_type": "code",
   "execution_count": 40,
   "metadata": {},
   "outputs": [],
   "source": [
    "X = model.wv[model.wv.vocab]"
   ]
  },
  {
   "cell_type": "markdown",
   "metadata": {},
   "source": [
    "##### We'll use PCA to reduce and visualize in 2 dimensions"
   ]
  },
  {
   "cell_type": "code",
   "execution_count": 41,
   "metadata": {},
   "outputs": [],
   "source": [
    "from sklearn.decomposition import PCA"
   ]
  },
  {
   "cell_type": "code",
   "execution_count": 42,
   "metadata": {},
   "outputs": [],
   "source": [
    "pca = PCA(n_components=2)\n",
    "result = pca.fit_transform(X)"
   ]
  },
  {
   "cell_type": "markdown",
   "metadata": {},
   "source": [
    "Randomly select 100 words"
   ]
  },
  {
   "cell_type": "code",
   "execution_count": 43,
   "metadata": {},
   "outputs": [],
   "source": [
    "import random\n",
    "random.seed(2)"
   ]
  },
  {
   "cell_type": "code",
   "execution_count": 44,
   "metadata": {
    "scrolled": true
   },
   "outputs": [],
   "source": [
    "ind = random.sample(range(0,len(X)),50)\n",
    "result_random = result[ind]"
   ]
  },
  {
   "cell_type": "code",
   "execution_count": 45,
   "metadata": {},
   "outputs": [],
   "source": [
    "all_words = list(model.wv.vocab)\n",
    "words = [all_words[i] for i in ind]"
   ]
  },
  {
   "cell_type": "code",
   "execution_count": 46,
   "metadata": {},
   "outputs": [
    {
     "data": {
      "image/png": "[encoded data removed]",
      "text/plain": [
       "<Figure size 792x792 with 1 Axes>"
      ]
     },
     "metadata": {},
     "output_type": "display_data"
    }
   ],
   "source": [
    "%matplotlib inline\n",
    "plt.figure(figsize=(11,11))\n",
    "plt.scatter(result_random[:, 0], result_random[:, 1])\n",
    "for i, word in enumerate(words):\n",
    "    plt.annotate(word, xy=(result_random[i, 0], result_random[i, 1]))\n",
    "plt.show()"
   ]
  },
  {
   "cell_type": "markdown",
   "metadata": {},
   "source": [
    "## Effect of vector dimension"
   ]
  },
  {
   "cell_type": "markdown",
   "metadata": {},
   "source": [
    "#### Reducing the length to 50"
   ]
  },
  {
   "cell_type": "code",
   "execution_count": 47,
   "metadata": {},
   "outputs": [
    {
     "name": "stdout",
     "output_type": "stream",
     "text": [
      "Wall time: 56.3 s\n"
     ]
    }
   ],
   "source": [
    "%%time\n",
    "model = word2vec.Word2Vec(sentences, size=50, seed =42)"
   ]
  },
  {
   "cell_type": "code",
   "execution_count": 48,
   "metadata": {
    "scrolled": true
   },
   "outputs": [
    {
     "data": {
      "text/plain": [
       "[('emperor', 0.7299188375473022),\n",
       " ('empress', 0.7249405384063721),\n",
       " ('son', 0.7165752053260803),\n",
       " ('queen', 0.7119096517562866),\n",
       " ('prince', 0.6934196949005127)]"
      ]
     },
     "execution_count": 48,
     "metadata": {},
     "output_type": "execute_result"
    }
   ],
   "source": [
    "model.wv.most_similar(positive=['woman', 'king'], negative=['man'], topn=5)"
   ]
  },
  {
   "cell_type": "markdown",
   "metadata": {},
   "source": [
    "#### Inreasing vector length to 300"
   ]
  },
  {
   "cell_type": "code",
   "execution_count": 49,
   "metadata": {},
   "outputs": [
    {
     "name": "stdout",
     "output_type": "stream",
     "text": [
      "Wall time: 1min 30s\n"
     ]
    }
   ],
   "source": [
    "%%time\n",
    "model = word2vec.Word2Vec(sentences, size = 300, seed = 42)"
   ]
  },
  {
   "cell_type": "code",
   "execution_count": 50,
   "metadata": {
    "scrolled": true
   },
   "outputs": [
    {
     "data": {
      "text/plain": [
       "[('queen', 0.6202068328857422),\n",
       " ('princess', 0.5560327172279358),\n",
       " ('daughter', 0.5539674758911133),\n",
       " ('prince', 0.5415325164794922),\n",
       " ('elizabeth', 0.5340068340301514)]"
      ]
     },
     "execution_count": 50,
     "metadata": {},
     "output_type": "execute_result"
    }
   ],
   "source": [
    "model.wv.most_similar(positive=['woman', 'king'], negative=['man'], topn=5)"
   ]
  },
  {
   "cell_type": "code",
   "execution_count": 51,
   "metadata": {
    "scrolled": true
   },
   "outputs": [
    {
     "data": {
      "text/plain": [
       "[('running', 0.6980862617492676),\n",
       " ('runs', 0.6365170478820801),\n",
       " ('compete', 0.5764539241790771),\n",
       " ('operate', 0.5763216614723206),\n",
       " ('move', 0.5715463757514954),\n",
       " ('switch', 0.5416829586029053),\n",
       " ('drive', 0.536190390586853),\n",
       " ('finish', 0.5347497463226318),\n",
       " ('ticket', 0.5300155878067017),\n",
       " ('stay', 0.5263422727584839)]"
      ]
     },
     "execution_count": 51,
     "metadata": {},
     "output_type": "execute_result"
    }
   ],
   "source": [
    "model.wv.most_similar(\"run\")"
   ]
  },
  {
   "cell_type": "markdown",
   "metadata": {},
   "source": [
    "## Effect of window size"
   ]
  },
  {
   "cell_type": "markdown",
   "metadata": {},
   "source": [
    "#### Increasing the window size to 20"
   ]
  },
  {
   "cell_type": "code",
   "execution_count": 52,
   "metadata": {},
   "outputs": [
    {
     "name": "stdout",
     "output_type": "stream",
     "text": [
      "Wall time: 1min 21s\n"
     ]
    }
   ],
   "source": [
    "%%time\n",
    "model20 = word2vec.Word2Vec(sentences, size=100,window=20)"
   ]
  },
  {
   "cell_type": "code",
   "execution_count": 53,
   "metadata": {},
   "outputs": [
    {
     "data": {
      "text/plain": [
       "[('buying', 0.780925989151001),\n",
       " ('profits', 0.7519193887710571),\n",
       " ('taxes', 0.7228024005889893),\n",
       " ('payments', 0.7202187776565552),\n",
       " ('paid', 0.7163376212120056),\n",
       " ('pay', 0.7153226137161255),\n",
       " ('credit', 0.709079384803772),\n",
       " ('cash', 0.6947434544563293),\n",
       " ('creditors', 0.6900806427001953),\n",
       " ('payment', 0.6846361756324768)]"
      ]
     },
     "execution_count": 53,
     "metadata": {},
     "output_type": "execute_result"
    }
   ],
   "source": [
    "model20.wv.most_similar(\"money\")"
   ]
  },
  {
   "cell_type": "code",
   "execution_count": 54,
   "metadata": {},
   "outputs": [
    {
     "data": {
      "text/plain": [
       "[('elizabeth', 0.8220455050468445),\n",
       " ('princess', 0.7224969863891602),\n",
       " ('crown', 0.6927047967910767),\n",
       " ('prince', 0.692075252532959),\n",
       " ('monarch', 0.6618814468383789),\n",
       " ('victoria', 0.6581650972366333),\n",
       " ('king', 0.6270338892936707),\n",
       " ('consort', 0.6230613589286804),\n",
       " ('mary', 0.6200700998306274),\n",
       " ('coronation', 0.616712212562561)]"
      ]
     },
     "execution_count": 54,
     "metadata": {},
     "output_type": "execute_result"
    }
   ],
   "source": [
    "model20.wv.most_similar(\"queen\")"
   ]
  },
  {
   "cell_type": "code",
   "execution_count": 55,
   "metadata": {},
   "outputs": [
    {
     "data": {
      "text/plain": [
       "[('queen', 0.7191203832626343),\n",
       " ('elizabeth', 0.654670238494873),\n",
       " ('throne', 0.6169127225875854),\n",
       " ('princess', 0.6145281791687012),\n",
       " ('empress', 0.6093745231628418)]"
      ]
     },
     "execution_count": 55,
     "metadata": {},
     "output_type": "execute_result"
    }
   ],
   "source": [
    "model20.wv.most_similar(positive=['woman', 'king'], negative=['man'], topn=5)"
   ]
  },
  {
   "cell_type": "code",
   "execution_count": 56,
   "metadata": {},
   "outputs": [
    {
     "data": {
      "text/plain": [
       "[('driver', 0.8027411699295044),\n",
       " ('cars', 0.788783609867096),\n",
       " ('truck', 0.7207086682319641),\n",
       " ('motorcycle', 0.7014740109443665),\n",
       " ('automobile', 0.697812557220459),\n",
       " ('vehicle', 0.6831107139587402),\n",
       " ('racing', 0.6739612817764282),\n",
       " ('racer', 0.6739027500152588),\n",
       " ('volkswagen', 0.6712490320205688),\n",
       " ('jeep', 0.6700466871261597)]"
      ]
     },
     "execution_count": 56,
     "metadata": {},
     "output_type": "execute_result"
    }
   ],
   "source": [
    "model20.wv.most_similar(\"car\")"
   ]
  },
  {
   "cell_type": "markdown",
   "metadata": {},
   "source": [
    "#### Reducing the window size to 2"
   ]
  },
  {
   "cell_type": "code",
   "execution_count": 57,
   "metadata": {},
   "outputs": [
    {
     "name": "stdout",
     "output_type": "stream",
     "text": [
      "Wall time: 1min 4s\n"
     ]
    }
   ],
   "source": [
    "%%time\n",
    "model2 = word2vec.Word2Vec(sentences, size=100, window=2, seed = 42)"
   ]
  },
  {
   "cell_type": "code",
   "execution_count": 58,
   "metadata": {},
   "outputs": [
    {
     "data": {
      "text/plain": [
       "[('royalties', 0.6770974397659302),\n",
       " ('profits', 0.6750068664550781),\n",
       " ('payment', 0.6463176012039185),\n",
       " ('buying', 0.6340569853782654),\n",
       " ('cash', 0.6313360929489136),\n",
       " ('funds', 0.6304786205291748),\n",
       " ('payments', 0.6267861127853394),\n",
       " ('credit', 0.621099591255188),\n",
       " ('compensation', 0.6206685304641724),\n",
       " ('goods', 0.6109568476676941)]"
      ]
     },
     "execution_count": 58,
     "metadata": {},
     "output_type": "execute_result"
    }
   ],
   "source": [
    "model2.wv.most_similar(\"money\")"
   ]
  },
  {
   "cell_type": "code",
   "execution_count": 59,
   "metadata": {},
   "outputs": [
    {
     "data": {
      "text/plain": [
       "[('princess', 0.6965975761413574),\n",
       " ('prince', 0.686797022819519),\n",
       " ('king', 0.6794460415840149),\n",
       " ('crown', 0.6616418957710266),\n",
       " ('consort', 0.6552071571350098),\n",
       " ('mary', 0.6189430952072144),\n",
       " ('bride', 0.6179883480072021),\n",
       " ('elizabeth', 0.6079295873641968),\n",
       " ('regent', 0.6058372855186462),\n",
       " ('aragon', 0.5941654443740845)]"
      ]
     },
     "execution_count": 59,
     "metadata": {},
     "output_type": "execute_result"
    }
   ],
   "source": [
    "model2.wv.most_similar(\"queen\")"
   ]
  },
  {
   "cell_type": "code",
   "execution_count": 60,
   "metadata": {},
   "outputs": [
    {
     "data": {
      "text/plain": [
       "[('queen', 0.5944898724555969),\n",
       " ('prince', 0.577151894569397),\n",
       " ('kings', 0.5742230415344238),\n",
       " ('monarch', 0.5603979229927063),\n",
       " ('throne', 0.5513135194778442)]"
      ]
     },
     "execution_count": 60,
     "metadata": {},
     "output_type": "execute_result"
    }
   ],
   "source": [
    "model2.wv.most_similar(positive=['woman', 'king'], negative=['man'], topn=5)"
   ]
  },
  {
   "cell_type": "code",
   "execution_count": 61,
   "metadata": {},
   "outputs": [
    {
     "data": {
      "text/plain": [
       "[('cars', 0.7331576347351074),\n",
       " ('driver', 0.7064088582992554),\n",
       " ('taxi', 0.6881927251815796),\n",
       " ('motorcycle', 0.6725943088531494),\n",
       " ('boat', 0.6701037287712097),\n",
       " ('truck', 0.6544116735458374),\n",
       " ('aircraft', 0.6523904204368591),\n",
       " ('vehicle', 0.6453977823257446),\n",
       " ('bicycle', 0.6163585186004639),\n",
       " ('airplane', 0.6138440370559692)]"
      ]
     },
     "execution_count": 61,
     "metadata": {},
     "output_type": "execute_result"
    }
   ],
   "source": [
    "model2.wv.most_similar(\"car\")"
   ]
  },
  {
   "cell_type": "markdown",
   "metadata": {},
   "source": [
    "## Skip gram vs CBOW"
   ]
  },
  {
   "cell_type": "markdown",
   "metadata": {},
   "source": [
    "Simply put, the CBOW model learns the embedding by predicting the current word based on its context. The skip-gram model learns by predicting the surrounding words given a current word."
   ]
  },
  {
   "cell_type": "markdown",
   "metadata": {},
   "source": [
    "#### Using the CBOW method (default)"
   ]
  },
  {
   "cell_type": "code",
   "execution_count": 62,
   "metadata": {},
   "outputs": [
    {
     "name": "stdout",
     "output_type": "stream",
     "text": [
      "Wall time: 1min 1s\n"
     ]
    }
   ],
   "source": [
    "%%time\n",
    "model = word2vec.Word2Vec(sentences, size=100, seed = 42)"
   ]
  },
  {
   "cell_type": "code",
   "execution_count": 63,
   "metadata": {},
   "outputs": [
    {
     "data": {
      "text/plain": [
       "[('queen', 0.682964563369751),\n",
       " ('throne', 0.6320975422859192),\n",
       " ('prince', 0.6246257424354553),\n",
       " ('empress', 0.62110835313797),\n",
       " ('son', 0.5979068279266357)]"
      ]
     },
     "execution_count": 63,
     "metadata": {},
     "output_type": "execute_result"
    }
   ],
   "source": [
    "model.wv.most_similar(positive=['woman', 'king'], negative=['man'], topn=5)"
   ]
  },
  {
   "cell_type": "code",
   "execution_count": 64,
   "metadata": {},
   "outputs": [
    {
     "data": {
      "text/plain": [
       "[('projecting', 0.7326324582099915),\n",
       " ('troughs', 0.7085111141204834),\n",
       " ('sloping', 0.7078056335449219),\n",
       " ('flowing', 0.6970741748809814),\n",
       " ('steep', 0.6895877718925476),\n",
       " ('featureless', 0.6889464855194092),\n",
       " ('undulating', 0.6799795627593994),\n",
       " ('merges', 0.6749551296234131),\n",
       " ('sinuous', 0.6738845109939575),\n",
       " ('concentric', 0.673874020576477)]"
      ]
     },
     "execution_count": 64,
     "metadata": {},
     "output_type": "execute_result"
    }
   ],
   "source": [
    "model.wv.most_similar(\"meandering\")"
   ]
  },
  {
   "cell_type": "markdown",
   "metadata": {},
   "source": [
    "#### Using Skipgram method"
   ]
  },
  {
   "cell_type": "code",
   "execution_count": 65,
   "metadata": {},
   "outputs": [
    {
     "name": "stdout",
     "output_type": "stream",
     "text": [
      "Wall time: 3min 35s\n"
     ]
    }
   ],
   "source": [
    "%%time\n",
    "model_sg = word2vec.Word2Vec(sentences, size=100,sg=1)"
   ]
  },
  {
   "cell_type": "code",
   "execution_count": 66,
   "metadata": {},
   "outputs": [
    {
     "data": {
      "text/plain": [
       "[('sinuous', 0.9114779829978943),\n",
       " ('basaltic', 0.9056195020675659),\n",
       " ('undulating', 0.9049124717712402),\n",
       " ('uplifted', 0.8970229625701904),\n",
       " ('troughs', 0.8926218748092651),\n",
       " ('tableland', 0.8904924392700195),\n",
       " ('wadis', 0.8893045783042908),\n",
       " ('buttes', 0.8881261348724365),\n",
       " ('abyssal', 0.8869340419769287),\n",
       " ('crescentic', 0.8862241506576538)]"
      ]
     },
     "execution_count": 66,
     "metadata": {},
     "output_type": "execute_result"
    }
   ],
   "source": [
    "model_sg.wv.most_similar(\"meandering\")"
   ]
  },
  {
   "cell_type": "markdown",
   "metadata": {},
   "source": [
    "#### Learning:\n",
    "\n",
    "This turns out to learn finer-grained vectors when one trains over more data. The main reason is that the CBOW smooths over a lot of the distributional statistics by averaging over all context words while the skipgram does not. With little data, this \"regularizing\" effect of the CBOW turns out to be helpful, but since data is the ultimate regularizer the skipgram is able to extract more information when more data is available."
   ]
  },
  {
   "cell_type": "markdown",
   "metadata": {},
   "source": [
    "## Word vectors trained on different contexts\n",
    " - We'll load different corpora, from different contexts and see how the embeddings vary\n",
    " - The text8 corpus is wikipedia pages, while Brown corpus is from 15 different topics, and movie reviews are from IMDB"
   ]
  },
  {
   "cell_type": "code",
   "execution_count": 67,
   "metadata": {},
   "outputs": [],
   "source": [
    "from nltk.corpus import brown, movie_reviews"
   ]
  },
  {
   "cell_type": "code",
   "execution_count": 68,
   "metadata": {},
   "outputs": [],
   "source": [
    "model_brown = word2vec.Word2Vec(brown.sents(), sg=1)\n",
    "model_movie = word2vec.Word2Vec(movie_reviews.sents(), sg=1, window=5)"
   ]
  },
  {
   "cell_type": "code",
   "execution_count": 69,
   "metadata": {},
   "outputs": [
    {
     "data": {
      "text/plain": [
       "[('credit', 0.7705346345901489),\n",
       " ('dividends', 0.7592810392379761),\n",
       " ('dues', 0.7532870173454285),\n",
       " ('repay', 0.7520968914031982),\n",
       " ('profits', 0.7460830807685852)]"
      ]
     },
     "execution_count": 69,
     "metadata": {},
     "output_type": "execute_result"
    }
   ],
   "source": [
    "model_sg.wv.most_similar('money', topn=5)"
   ]
  },
  {
   "cell_type": "code",
   "execution_count": 70,
   "metadata": {},
   "outputs": [
    {
     "data": {
      "text/plain": [
       "[('job', 0.847070574760437),\n",
       " ('friendship', 0.8414795994758606),\n",
       " ('care', 0.8375280499458313),\n",
       " ('chances', 0.824509859085083),\n",
       " ('permission', 0.8238842487335205)]"
      ]
     },
     "execution_count": 70,
     "metadata": {},
     "output_type": "execute_result"
    }
   ],
   "source": [
    "model_brown.wv.most_similar('money', topn=5)"
   ]
  },
  {
   "cell_type": "code",
   "execution_count": 71,
   "metadata": {},
   "outputs": [
    {
     "data": {
      "text/plain": [
       "[('cash', 0.74306321144104),\n",
       " ('ransom', 0.7157845497131348),\n",
       " ('risk', 0.6962698698043823),\n",
       " ('paid', 0.6931880712509155),\n",
       " ('record', 0.6931635737419128)]"
      ]
     },
     "execution_count": 71,
     "metadata": {},
     "output_type": "execute_result"
    }
   ],
   "source": [
    "model_movie.wv.most_similar('money', topn=5)"
   ]
  },
  {
   "cell_type": "markdown",
   "metadata": {},
   "source": [
    " \n",
    "I hope it’s pretty clear from the above examples that the semantic similarity of words can vary greatly depending on the textual context. "
   ]
  },
  {
   "cell_type": "markdown",
   "metadata": {},
   "source": [
    "## Using pre-trained word vectors"
   ]
  },
  {
   "cell_type": "markdown",
   "metadata": {},
   "source": [
    "### A quick note on Glove:\n",
    "   - Developed by Stanford by training on 6 Billion tokens\n",
    "   - Objective is slightly different\n",
    "   - End result very similar to Google's word2vec"
   ]
  },
  {
   "cell_type": "markdown",
   "metadata": {},
   "source": [
    "https://nlp.stanford.edu/projects/glove/"
   ]
  },
  {
   "cell_type": "markdown",
   "metadata": {},
   "source": [
    "- We'll use the 100D vectors for this example.\n",
    "- The trained vectors are available in a text file\n",
    "- The format is slightly different from that of word2vec, necessitating the use of a utility to format accordingly"
   ]
  },
  {
   "cell_type": "code",
   "execution_count": 72,
   "metadata": {
    "scrolled": true
   },
   "outputs": [
    {
     "data": {
      "text/plain": [
       "(400000, 100)"
      ]
     },
     "execution_count": 72,
     "metadata": {},
     "output_type": "execute_result"
    }
   ],
   "source": [
    "from gensim.scripts.glove2word2vec import glove2word2vec\n",
    "glove_input_file = 'glove.6B.100d.txt'\n",
    "word2vec_output_file = 'glove.6B.100d.w2vformat.txt'\n",
    "glove2word2vec(glove_input_file, word2vec_output_file)"
   ]
  },
  {
   "cell_type": "code",
   "execution_count": 73,
   "metadata": {},
   "outputs": [],
   "source": [
    "from gensim.models.keyedvectors import KeyedVectors\n",
    "glove_model = KeyedVectors.load_word2vec_format(\"glove.6B.100d.w2vformat.txt\", binary=False)"
   ]
  },
  {
   "cell_type": "markdown",
   "metadata": {},
   "source": [
    "#### Now you can use all the methods you used with word2vec models"
   ]
  },
  {
   "cell_type": "code",
   "execution_count": 74,
   "metadata": {},
   "outputs": [
    {
     "data": {
      "text/plain": [
       "[('prince', 0.7682329416275024),\n",
       " ('queen', 0.7507690787315369),\n",
       " ('son', 0.7020887732505798),\n",
       " ('brother', 0.6985775232315063),\n",
       " ('monarch', 0.6977890729904175),\n",
       " ('throne', 0.691999077796936),\n",
       " ('kingdom', 0.6811410188674927),\n",
       " ('father', 0.680202841758728),\n",
       " ('emperor', 0.6712858080863953),\n",
       " ('ii', 0.6676074266433716)]"
      ]
     },
     "execution_count": 74,
     "metadata": {},
     "output_type": "execute_result"
    }
   ],
   "source": [
    "glove_model.most_similar(\"king\")"
   ]
  },
  {
   "cell_type": "code",
   "execution_count": 75,
   "metadata": {},
   "outputs": [
    {
     "data": {
      "text/plain": [
       "[('queen', 0.7698541283607483),\n",
       " ('monarch', 0.6843380928039551),\n",
       " ('throne', 0.6755737066268921),\n",
       " ('daughter', 0.6594556570053101),\n",
       " ('princess', 0.6520533561706543)]"
      ]
     },
     "execution_count": 75,
     "metadata": {},
     "output_type": "execute_result"
    }
   ],
   "source": [
    "glove_model.most_similar(positive=['woman', 'king'], negative=['man'], topn=5)"
   ]
  },
  {
   "cell_type": "code",
   "execution_count": 76,
   "metadata": {},
   "outputs": [
    {
     "data": {
      "text/plain": [
       "[('nurse', 0.7735227346420288),\n",
       " ('physician', 0.7189429998397827),\n",
       " ('doctors', 0.6824328303337097),\n",
       " ('patient', 0.6750683188438416),\n",
       " ('dentist', 0.6726033687591553)]"
      ]
     },
     "execution_count": 76,
     "metadata": {},
     "output_type": "execute_result"
    }
   ],
   "source": [
    "glove_model.most_similar(positive=['woman', 'doctor'], negative=['man'], topn=5)"
   ]
  },
  {
   "cell_type": "code",
   "execution_count": 77,
   "metadata": {},
   "outputs": [
    {
     "data": {
      "text/plain": [
       "[('assistant', 0.6566410064697266),\n",
       " ('job', 0.6263916492462158),\n",
       " ('supervisor', 0.5934786796569824),\n",
       " ('owner', 0.5878321528434753),\n",
       " ('hired', 0.5773900747299194)]"
      ]
     },
     "execution_count": 77,
     "metadata": {},
     "output_type": "execute_result"
    }
   ],
   "source": [
    "glove_model.most_similar(positive=['woman', 'manager'], negative=['man'], topn=5)"
   ]
  },
  {
   "cell_type": "code",
   "execution_count": 78,
   "metadata": {},
   "outputs": [
    {
     "data": {
      "text/plain": [
       "[('intelligent', 0.6548852324485779),\n",
       " ('sexy', 0.597896933555603),\n",
       " ('sophisticated', 0.5743618011474609),\n",
       " ('mom', 0.5572563409805298),\n",
       " ('cute', 0.5498133301734924)]"
      ]
     },
     "execution_count": 78,
     "metadata": {},
     "output_type": "execute_result"
    }
   ],
   "source": [
    "glove_model.most_similar(positive=['woman', 'smart'], negative=['man'], topn=5)"
   ]
  }
 ],
 "metadata": {
  "kernelspec": {
   "display_name": "Python 3",
   "language": "python",
   "name": "python3"
  },
  "language_info": {
   "codemirror_mode": {
    "name": "ipython",
    "version": 3
   },
   "file_extension": ".py",
   "mimetype": "text/x-python",
   "name": "python",
   "nbconvert_exporter": "python",
   "pygments_lexer": "ipython3",
   "version": "3.7.6"
  }
 },
 "nbformat": 4,
 "nbformat_minor": 2
}
