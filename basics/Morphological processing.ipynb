{
 "cells": [
  {
   "cell_type": "code",
   "execution_count": 1,
   "metadata": {},
   "outputs": [],
   "source": [
    "import pandas as pd, numpy as np\n",
    "import re\n",
    "import nltk\n",
    "import matplotlib.pyplot as plt"
   ]
  },
  {
   "cell_type": "code",
   "execution_count": 2,
   "metadata": {},
   "outputs": [
    {
     "data": {
      "text/html": [
       "<div>\n",
       "<style scoped>\n",
       "    .dataframe tbody tr th:only-of-type {\n",
       "        vertical-align: middle;\n",
       "    }\n",
       "\n",
       "    .dataframe tbody tr th {\n",
       "        vertical-align: top;\n",
       "    }\n",
       "\n",
       "    .dataframe thead th {\n",
       "        text-align: right;\n",
       "    }\n",
       "</style>\n",
       "<table border=\"1\" class=\"dataframe\">\n",
       "  <thead>\n",
       "    <tr style=\"text-align: right;\">\n",
       "      <th></th>\n",
       "      <th>sentiment</th>\n",
       "      <th>review</th>\n",
       "    </tr>\n",
       "  </thead>\n",
       "  <tbody>\n",
       "    <tr>\n",
       "      <th>0</th>\n",
       "      <td>1</td>\n",
       "      <td>Good but need updates and improvements</td>\n",
       "    </tr>\n",
       "    <tr>\n",
       "      <th>1</th>\n",
       "      <td>0</td>\n",
       "      <td>Worst mobile i have bought ever, Battery is dr...</td>\n",
       "    </tr>\n",
       "    <tr>\n",
       "      <th>2</th>\n",
       "      <td>1</td>\n",
       "      <td>when I will get my 10% cash back.... its alrea...</td>\n",
       "    </tr>\n",
       "    <tr>\n",
       "      <th>3</th>\n",
       "      <td>1</td>\n",
       "      <td>Good</td>\n",
       "    </tr>\n",
       "    <tr>\n",
       "      <th>4</th>\n",
       "      <td>0</td>\n",
       "      <td>The worst phone everThey have changed the last...</td>\n",
       "    </tr>\n",
       "  </tbody>\n",
       "</table>\n",
       "</div>"
      ],
      "text/plain": [
       "   sentiment                                             review\n",
       "0          1             Good but need updates and improvements\n",
       "1          0  Worst mobile i have bought ever, Battery is dr...\n",
       "2          1  when I will get my 10% cash back.... its alrea...\n",
       "3          1                                               Good\n",
       "4          0  The worst phone everThey have changed the last..."
      ]
     },
     "execution_count": 2,
     "metadata": {},
     "output_type": "execute_result"
    }
   ],
   "source": [
    "reviews0 = pd.read_csv(\"K8 Reviews v0.2.csv\")\n",
    "reviews0.head()"
   ]
  },
  {
   "cell_type": "code",
   "execution_count": 178,
   "metadata": {},
   "outputs": [
    {
     "data": {
      "text/plain": [
       "0    0.52552\n",
       "1    0.47448\n",
       "Name: sentiment, dtype: float64"
      ]
     },
     "execution_count": 178,
     "metadata": {},
     "output_type": "execute_result"
    }
   ],
   "source": [
    "reviews0.sentiment.value_counts(normalize=True)"
   ]
  },
  {
   "cell_type": "code",
   "execution_count": 3,
   "metadata": {},
   "outputs": [
    {
     "data": {
      "text/plain": [
       "(14675, 2)"
      ]
     },
     "execution_count": 3,
     "metadata": {},
     "output_type": "execute_result"
    }
   ],
   "source": [
    "reviews0.shape"
   ]
  },
  {
   "cell_type": "code",
   "execution_count": 49,
   "metadata": {},
   "outputs": [
    {
     "name": "stdout",
     "output_type": "stream",
     "text": [
      "1848    No. mobile not upto expectations\n",
      "Name: review, dtype: object\n"
     ]
    }
   ],
   "source": [
    "print(reviews0.review.sample(1))"
   ]
  },
  {
   "cell_type": "markdown",
   "metadata": {},
   "source": [
    "### Tokenization\n",
    "- word segmentation\n",
    "- Splitting reviews into individual words\n",
    "- Multiple options"
   ]
  },
  {
   "cell_type": "code",
   "execution_count": 50,
   "metadata": {},
   "outputs": [],
   "source": [
    "txt = \"This hotel is awesome.\""
   ]
  },
  {
   "cell_type": "code",
   "execution_count": 51,
   "metadata": {},
   "outputs": [
    {
     "data": {
      "text/plain": [
       "['This', 'hotel', 'is', 'awesome.']"
      ]
     },
     "execution_count": 51,
     "metadata": {},
     "output_type": "execute_result"
    }
   ],
   "source": [
    "txt.split()"
   ]
  },
  {
   "cell_type": "code",
   "execution_count": 52,
   "metadata": {},
   "outputs": [],
   "source": [
    "txt = \"This hotel is awesome, isn't it?\""
   ]
  },
  {
   "cell_type": "code",
   "execution_count": 53,
   "metadata": {},
   "outputs": [
    {
     "data": {
      "text/plain": [
       "['This', 'hotel', 'is', 'awesome,', \"isn't\", 'it?']"
      ]
     },
     "execution_count": 53,
     "metadata": {},
     "output_type": "execute_result"
    }
   ],
   "source": [
    "txt.split()"
   ]
  },
  {
   "cell_type": "code",
   "execution_count": 54,
   "metadata": {},
   "outputs": [],
   "source": [
    "txt = \"Five o'clock is the time to party!\""
   ]
  },
  {
   "cell_type": "code",
   "execution_count": 55,
   "metadata": {},
   "outputs": [
    {
     "data": {
      "text/plain": [
       "['Five', \"o'clock\", 'is', 'the', 'time', 'to', 'party!']"
      ]
     },
     "execution_count": 55,
     "metadata": {},
     "output_type": "execute_result"
    }
   ],
   "source": [
    "txt.split()"
   ]
  },
  {
   "cell_type": "markdown",
   "metadata": {},
   "source": [
    "Using `word_tokenize` utility in NLTK"
   ]
  },
  {
   "cell_type": "code",
   "execution_count": 56,
   "metadata": {},
   "outputs": [],
   "source": [
    "from nltk.tokenize import word_tokenize"
   ]
  },
  {
   "cell_type": "code",
   "execution_count": 57,
   "metadata": {},
   "outputs": [],
   "source": [
    "txt = \"This hotel is awesome, isn't it?\""
   ]
  },
  {
   "cell_type": "code",
   "execution_count": 58,
   "metadata": {},
   "outputs": [
    {
     "data": {
      "text/plain": [
       "['This', 'hotel', 'is', 'awesome', ',', 'is', \"n't\", 'it', '?']"
      ]
     },
     "execution_count": 58,
     "metadata": {},
     "output_type": "execute_result"
    }
   ],
   "source": [
    "word_tokenize(txt)"
   ]
  },
  {
   "cell_type": "code",
   "execution_count": 59,
   "metadata": {},
   "outputs": [],
   "source": [
    "from nltk.tokenize import wordpunct_tokenize"
   ]
  },
  {
   "cell_type": "code",
   "execution_count": 60,
   "metadata": {},
   "outputs": [
    {
     "data": {
      "text/plain": [
       "['This', 'hotel', 'is', 'awesome', ',', 'isn', \"'\", 't', 'it', '?']"
      ]
     },
     "execution_count": 60,
     "metadata": {},
     "output_type": "execute_result"
    }
   ],
   "source": [
    "wordpunct_tokenize(txt)"
   ]
  },
  {
   "cell_type": "code",
   "execution_count": 61,
   "metadata": {},
   "outputs": [
    {
     "data": {
      "text/plain": [
       "['this', 'hotel', \"'s\", 'is', 'awesome', ',', 'is', \"n't\", 'it', '?']"
      ]
     },
     "execution_count": 61,
     "metadata": {},
     "output_type": "execute_result"
    }
   ],
   "source": [
    "word_tokenize(\"this hotel's is awesome, isn't it?\")"
   ]
  },
  {
   "cell_type": "code",
   "execution_count": 62,
   "metadata": {},
   "outputs": [],
   "source": [
    "from nltk.tokenize import TweetTokenizer"
   ]
  },
  {
   "cell_type": "code",
   "execution_count": 69,
   "metadata": {},
   "outputs": [],
   "source": [
    "tknzr = TweetTokenizer()"
   ]
  },
  {
   "cell_type": "code",
   "execution_count": 68,
   "metadata": {},
   "outputs": [],
   "source": [
    "txt = \"LMAO #kiling it , luv mah lyf :D <3\""
   ]
  },
  {
   "cell_type": "code",
   "execution_count": 70,
   "metadata": {
    "scrolled": true
   },
   "outputs": [
    {
     "data": {
      "text/plain": [
       "['LMAO', '#kiling', 'it', ',', 'luv', 'mah', 'lyf', ':D', '<', '3']"
      ]
     },
     "execution_count": 70,
     "metadata": {},
     "output_type": "execute_result"
    }
   ],
   "source": [
    "tknzr.tokenize(txt)"
   ]
  },
  {
   "cell_type": "markdown",
   "metadata": {},
   "source": [
    "#### Regular expression based tokenizer"
   ]
  },
  {
   "cell_type": "code",
   "execution_count": 74,
   "metadata": {},
   "outputs": [],
   "source": [
    "from nltk.tokenize import regexp_tokenize"
   ]
  },
  {
   "cell_type": "code",
   "execution_count": 72,
   "metadata": {},
   "outputs": [],
   "source": [
    "message = \"Living life king size #lifegoals #chilling #wanderlust #yolo\"\n",
    "pattern = \"[\\w]+\""
   ]
  },
  {
   "cell_type": "code",
   "execution_count": 75,
   "metadata": {},
   "outputs": [
    {
     "data": {
      "text/plain": [
       "['Living',\n",
       " 'life',\n",
       " 'king',\n",
       " 'size',\n",
       " 'lifegoals',\n",
       " 'chilling',\n",
       " 'wanderlust',\n",
       " 'yolo']"
      ]
     },
     "execution_count": 75,
     "metadata": {},
     "output_type": "execute_result"
    }
   ],
   "source": [
    "regexp_tokenize(message, pattern)"
   ]
  },
  {
   "cell_type": "markdown",
   "metadata": {},
   "source": [
    "#### Using Regex, can customize tokenizing for specific tasks\n",
    "E.g. Extracting hashtags from a tweet"
   ]
  },
  {
   "cell_type": "code",
   "execution_count": 76,
   "metadata": {},
   "outputs": [],
   "source": [
    "message = \"Living life king size #lifegoals #chilling #wanderlust #yolo\"\n",
    "pattern = \"#[\\w]+\""
   ]
  },
  {
   "cell_type": "code",
   "execution_count": 77,
   "metadata": {
    "scrolled": true
   },
   "outputs": [
    {
     "data": {
      "text/plain": [
       "['#lifegoals', '#chilling', '#wanderlust', '#yolo']"
      ]
     },
     "execution_count": 77,
     "metadata": {},
     "output_type": "execute_result"
    }
   ],
   "source": [
    "regexp_tokenize(message, pattern)"
   ]
  },
  {
   "cell_type": "markdown",
   "metadata": {},
   "source": [
    " "
   ]
  },
  {
   "cell_type": "markdown",
   "metadata": {},
   "source": [
    "While there are several options, and you should pick the best for your use-case, we'll go with the word_tokenize method in NLTK "
   ]
  },
  {
   "cell_type": "code",
   "execution_count": 78,
   "metadata": {},
   "outputs": [
    {
     "data": {
      "text/plain": [
       "Index(['sentiment', 'review'], dtype='object')"
      ]
     },
     "execution_count": 78,
     "metadata": {},
     "output_type": "execute_result"
    }
   ],
   "source": [
    "reviews0.columns"
   ]
  },
  {
   "cell_type": "code",
   "execution_count": 80,
   "metadata": {},
   "outputs": [
    {
     "data": {
      "text/plain": [
       "['Good', 'but', 'need', 'updates', 'and', 'improvements']"
      ]
     },
     "execution_count": 80,
     "metadata": {},
     "output_type": "execute_result"
    }
   ],
   "source": [
    "word_tokenize(reviews0.review[0])"
   ]
  },
  {
   "cell_type": "markdown",
   "metadata": {},
   "source": [
    "#### Using list comprehension"
   ]
  },
  {
   "cell_type": "code",
   "execution_count": 82,
   "metadata": {},
   "outputs": [],
   "source": [
    "reviews_tokens = [word_tokenize(sent) for sent in reviews0.review.values]"
   ]
  },
  {
   "cell_type": "code",
   "execution_count": 86,
   "metadata": {},
   "outputs": [
    {
     "name": "stdout",
     "output_type": "stream",
     "text": [
      "[['Good', 'but', 'need', 'updates', 'and', 'improvements'], ['Worst', 'mobile', 'i', 'have', 'bought', 'ever', ',', 'Battery', 'is', 'draining', 'like', 'hell', ',', 'backup', 'is', 'only', '6', 'to', '7', 'hours', 'with', 'internet', 'uses', ',', 'even', 'if', 'I', 'put', 'mobile', 'idle', 'its', 'getting', 'discharged.This', 'is', 'biggest', 'lie', 'from', 'Amazon', '&', 'Lenove', 'which', 'is', 'not', 'at', 'all', 'expected', ',', 'they', 'are', 'making', 'full', 'by', 'saying', 'that', 'battery', 'is', '4000MAH', '&', 'booster', 'charger', 'is', 'fake', ',', 'it', 'takes', 'at', 'least', '4', 'to', '5', 'hours', 'to', 'be', 'fully', 'charged.Do', \"n't\", 'know', 'how', 'Lenovo', 'will', 'survive', 'by', 'making', 'full', 'of', 'us.Please', 'don', ';', 't', 'go', 'for', 'this', 'else', 'you', 'will', 'regret', 'like', 'me', '.'], ['when', 'I', 'will', 'get', 'my', '10', '%', 'cash', 'back', '...', '.', 'its', 'already', '15', 'January..'], ['Good'], ['The', 'worst', 'phone', 'everThey', 'have', 'changed', 'the', 'last', 'phone', 'but', 'the', 'problem', 'is', 'still', 'same', 'and', 'the', 'amazon', 'is', 'not', 'returning', 'the', 'phone', '.Highly', 'disappointing', 'of', 'amazon'], ['Only', 'I', \"'m\", 'telling', 'do', \"n't\", 'buyI', \"'m\", 'totally', 'disappointedPoor', 'batteryPoor', 'cameraWaste', 'of', 'money'], ['Phone', 'is', 'awesome', '.', 'But', 'while', 'charging', ',', 'it', 'heats', 'up', 'allot..Really', 'a', 'genuine', 'reason', 'to', 'hate', 'Lenovo', 'k8', 'note'], ['The', 'battery', 'level', 'has', 'worn', 'down'], ['It', \"'s\", 'over', 'hitting', 'problems', '...', 'and', 'phone', 'hanging', 'problems', 'Lenovo', 'k', '8', 'note', '...', 'so', 'where', 'is', 'service', 'station', 'in', 'Ahmedabad', 'it', \"'s\", 'one', 'years', 'warranty', 'so', 'it', \"'s\", 'can', 'change', 'the', 'phone', 'by', 'lenovo'], ['A', 'lot', 'of', 'glitches', 'dont', 'buy', 'this', 'thing', 'better', 'go', 'for', 'some', 'other', 'options'], ['Wrost'], ['Good', 'phone', 'but', 'charger', 'not', 'working', '/', 'damage', 'within', '2', 'months', '.'], ['Do', \"n't\", 'purchase', 'this', 'item', ',', 'It', 'is', 'so', 'much', 'of', 'heating', '&', 'Battery', 'life', 'is', 'very', 'poor'], ['I', 'have', 'faced', 'the', 'battery', 'problem', 'and', 'motherboard', 'problem', 'with', 'in', '8', 'months', '.', 'This', 'is', 'the', 'worst', 'mobile', 'in', 'my', 'life', '.'], ['Very', 'good', 'phone', 'slim', 'good', 'battry', 'backup', 'good', 'screen', 'love', 'it'], ['headset', 'is', 'not', 'available'], ['every', 'time', 'automatic', 'on', 'and', 'off', 'so', 'kindly', 'suggest', 'me', 'what', 'i', 'can', 'do'], ['Best', 'product', 'according', 'to', 'their', 'prize', 'range', 'and', 'it', \"'s\", 'specification', 'comparison', 'to', 'another', 'mobile', '(', 'under', 'range', ')', 'and', 'I', 'had', 'bought', 'this', 'phone', 'during', 'amazon', 'seal', 'so', 'I', 'had', '2', 'paid', 'only', '10,999', 'but', 'I', 'have', 'also', 'hdpf', 'credit', 'card', 'in', 'which', 'I', 'was', 'to', 'paid', 'only', 'Rs', '9998..', '..', 'So', 'for', 'me', '...', 'It', 'was', '1', 'of', 'the', 'best', 'deal', 'ever', 'which', 'I', 'hv', 'done', 'on', 'Amazon..'], ['Battery', 'draining', 'very', 'rapidly', 'I', 'do', \"n't\", 'know', 'why..Tell', 'me', 'possible', 'solutions', 'for', 'battery', 'life'], ['Good', 'smartphone']]\n"
     ]
    }
   ],
   "source": [
    "print(reviews_tokens[:20])"
   ]
  },
  {
   "cell_type": "markdown",
   "metadata": {},
   "source": [
    "## Text pre-processing and clean-up\n",
    "- let's first explore some techniques"
   ]
  },
  {
   "cell_type": "markdown",
   "metadata": {},
   "source": [
    "#### Case normalization"
   ]
  },
  {
   "cell_type": "code",
   "execution_count": 87,
   "metadata": {},
   "outputs": [
    {
     "name": "stdout",
     "output_type": "stream",
     "text": [
      "I mustered all my drive, drove to the driving school!\n"
     ]
    }
   ],
   "source": [
    "txt = \"I mustered all my drive, drove to the driving school!\"\n",
    "print(txt)"
   ]
  },
  {
   "cell_type": "code",
   "execution_count": 89,
   "metadata": {
    "scrolled": true
   },
   "outputs": [
    {
     "data": {
      "text/plain": [
       "'i mustered all my drive, drove to the driving school!'"
      ]
     },
     "execution_count": 89,
     "metadata": {},
     "output_type": "execute_result"
    }
   ],
   "source": [
    "txt.lower()"
   ]
  },
  {
   "cell_type": "code",
   "execution_count": 90,
   "metadata": {},
   "outputs": [
    {
     "name": "stdout",
     "output_type": "stream",
     "text": [
      "['i', 'mustered', 'all', 'my', 'drive', ',', 'drove', 'to', 'the', 'driving', 'school', '!']\n"
     ]
    }
   ],
   "source": [
    "print(word_tokenize(txt.lower()))"
   ]
  },
  {
   "cell_type": "markdown",
   "metadata": {},
   "source": [
    "#### Stemming"
   ]
  },
  {
   "cell_type": "code",
   "execution_count": 91,
   "metadata": {
    "scrolled": true
   },
   "outputs": [
    {
     "name": "stdout",
     "output_type": "stream",
     "text": [
      "['I', 'mustered', 'all', 'my', 'drive', ',', 'drove', 'to', 'the', 'driving', 'school', '!']\n"
     ]
    }
   ],
   "source": [
    "tokens = word_tokenize(txt)\n",
    "print(tokens)"
   ]
  },
  {
   "cell_type": "code",
   "execution_count": 92,
   "metadata": {},
   "outputs": [],
   "source": [
    "from nltk.stem import PorterStemmer, SnowballStemmer"
   ]
  },
  {
   "cell_type": "code",
   "execution_count": 93,
   "metadata": {},
   "outputs": [],
   "source": [
    "stemmer_p = PorterStemmer()"
   ]
  },
  {
   "cell_type": "code",
   "execution_count": 96,
   "metadata": {},
   "outputs": [
    {
     "data": {
      "text/plain": [
       "'drive'"
      ]
     },
     "execution_count": 96,
     "metadata": {},
     "output_type": "execute_result"
    }
   ],
   "source": [
    "stemmer_p.stem('drive')"
   ]
  },
  {
   "cell_type": "code",
   "execution_count": 99,
   "metadata": {},
   "outputs": [
    {
     "name": "stdout",
     "output_type": "stream",
     "text": [
      "['I', 'mustered', 'all', 'my', 'drive', ',', 'drove', 'to', 'the', 'driving', 'school', '!']\n"
     ]
    }
   ],
   "source": [
    "print(tokens)"
   ]
  },
  {
   "cell_type": "code",
   "execution_count": 98,
   "metadata": {},
   "outputs": [
    {
     "name": "stdout",
     "output_type": "stream",
     "text": [
      "['I', 'muster', 'all', 'my', 'drive', ',', 'drove', 'to', 'the', 'drive', 'school', '!']\n"
     ]
    }
   ],
   "source": [
    "print([stemmer_p.stem(word) for word in tokens])"
   ]
  },
  {
   "cell_type": "markdown",
   "metadata": {},
   "source": [
    "#### Now trying out Snowball stemmer"
   ]
  },
  {
   "cell_type": "code",
   "execution_count": 101,
   "metadata": {},
   "outputs": [],
   "source": [
    "stemmer_s = SnowballStemmer(\"english\")"
   ]
  },
  {
   "cell_type": "code",
   "execution_count": 102,
   "metadata": {},
   "outputs": [
    {
     "name": "stdout",
     "output_type": "stream",
     "text": [
      "['I', 'muster', 'all', 'my', 'drive', ',', 'drove', 'to', 'the', 'drive', 'school', '!']\n"
     ]
    }
   ],
   "source": [
    "print([stemmer_p.stem(word) for word in tokens])"
   ]
  },
  {
   "cell_type": "markdown",
   "metadata": {},
   "source": [
    "Another example"
   ]
  },
  {
   "cell_type": "code",
   "execution_count": 103,
   "metadata": {},
   "outputs": [],
   "source": [
    "tokens = word_tokenize(\"he is very methodical and orderly in his execution\")"
   ]
  },
  {
   "cell_type": "code",
   "execution_count": 104,
   "metadata": {},
   "outputs": [
    {
     "data": {
      "text/plain": [
       "['he', 'is', 'veri', 'method', 'and', 'orderli', 'in', 'hi', 'execut']"
      ]
     },
     "execution_count": 104,
     "metadata": {},
     "output_type": "execute_result"
    }
   ],
   "source": [
    "[stemmer_p.stem(word) for word in tokens]"
   ]
  },
  {
   "cell_type": "code",
   "execution_count": 105,
   "metadata": {},
   "outputs": [
    {
     "data": {
      "text/plain": [
       "['he', 'is', 'veri', 'method', 'and', 'order', 'in', 'his', 'execut']"
      ]
     },
     "execution_count": 105,
     "metadata": {},
     "output_type": "execute_result"
    }
   ],
   "source": [
    "[stemmer_s.stem(word) for word in tokens]"
   ]
  },
  {
   "cell_type": "markdown",
   "metadata": {},
   "source": [
    "### Lemmatization"
   ]
  },
  {
   "cell_type": "code",
   "execution_count": 106,
   "metadata": {},
   "outputs": [
    {
     "name": "stdout",
     "output_type": "stream",
     "text": [
      "[nltk_data] Downloading package wordnet to\n",
      "[nltk_data]     C:\\Users\\rahim.baig\\AppData\\Roaming\\nltk_data...\n",
      "[nltk_data]   Package wordnet is already up-to-date!\n"
     ]
    },
    {
     "data": {
      "text/plain": [
       "True"
      ]
     },
     "execution_count": 106,
     "metadata": {},
     "output_type": "execute_result"
    }
   ],
   "source": [
    "nltk.download('wordnet')"
   ]
  },
  {
   "cell_type": "code",
   "execution_count": 107,
   "metadata": {},
   "outputs": [],
   "source": [
    "#nltk.download('wordnet')\n",
    "from nltk.stem import WordNetLemmatizer"
   ]
  },
  {
   "cell_type": "markdown",
   "metadata": {},
   "source": [
    "Note: for Lemmatizer to work really well, you'll need to provide the POS tag as well"
   ]
  },
  {
   "cell_type": "code",
   "execution_count": 108,
   "metadata": {},
   "outputs": [],
   "source": [
    "lemm = WordNetLemmatizer()"
   ]
  },
  {
   "cell_type": "code",
   "execution_count": 109,
   "metadata": {},
   "outputs": [
    {
     "data": {
      "text/plain": [
       "'word'"
      ]
     },
     "execution_count": 109,
     "metadata": {},
     "output_type": "execute_result"
    }
   ],
   "source": [
    "lemm.lemmatize('words')"
   ]
  },
  {
   "cell_type": "code",
   "execution_count": 110,
   "metadata": {},
   "outputs": [
    {
     "data": {
      "text/plain": [
       "'drive'"
      ]
     },
     "execution_count": 110,
     "metadata": {},
     "output_type": "execute_result"
    }
   ],
   "source": [
    "lemm.lemmatize('drives')"
   ]
  },
  {
   "cell_type": "code",
   "execution_count": 111,
   "metadata": {},
   "outputs": [
    {
     "data": {
      "text/plain": [
       "'running'"
      ]
     },
     "execution_count": 111,
     "metadata": {},
     "output_type": "execute_result"
    }
   ],
   "source": [
    "lemm.lemmatize('running')"
   ]
  },
  {
   "cell_type": "code",
   "execution_count": 112,
   "metadata": {},
   "outputs": [
    {
     "data": {
      "text/plain": [
       "['i', 'like', 'petting', 'dog']"
      ]
     },
     "execution_count": 112,
     "metadata": {},
     "output_type": "execute_result"
    }
   ],
   "source": [
    "[lemm.lemmatize(word) for word in \"i like petting dogs\".split()]"
   ]
  },
  {
   "cell_type": "code",
   "execution_count": 113,
   "metadata": {},
   "outputs": [
    {
     "data": {
      "text/plain": [
       "['he', 'is', 'very', 'methodical', 'and', 'orderly', 'in', 'his', 'execution']"
      ]
     },
     "execution_count": 113,
     "metadata": {},
     "output_type": "execute_result"
    }
   ],
   "source": [
    "[lemm.lemmatize(word) for word in tokens]"
   ]
  },
  {
   "cell_type": "markdown",
   "metadata": {},
   "source": [
    "### Tokenizing and Normalizing case on our data"
   ]
  },
  {
   "cell_type": "code",
   "execution_count": 117,
   "metadata": {},
   "outputs": [],
   "source": [
    "reviews_tokens = [word_tokenize(sent.lower()) for sent in reviews0.review.values]"
   ]
  },
  {
   "cell_type": "code",
   "execution_count": 118,
   "metadata": {},
   "outputs": [
    {
     "name": "stdout",
     "output_type": "stream",
     "text": [
      "[['good', 'but', 'need', 'updates', 'and', 'improvements'], ['worst', 'mobile', 'i', 'have', 'bought', 'ever', ',', 'battery', 'is', 'draining', 'like', 'hell', ',', 'backup', 'is', 'only', '6', 'to', '7', 'hours', 'with', 'internet', 'uses', ',', 'even', 'if', 'i', 'put', 'mobile', 'idle', 'its', 'getting', 'discharged.this', 'is', 'biggest', 'lie', 'from', 'amazon', '&', 'lenove', 'which', 'is', 'not', 'at', 'all', 'expected', ',', 'they', 'are', 'making', 'full', 'by', 'saying', 'that', 'battery', 'is', '4000mah', '&', 'booster', 'charger', 'is', 'fake', ',', 'it', 'takes', 'at', 'least', '4', 'to', '5', 'hours', 'to', 'be', 'fully', 'charged.do', \"n't\", 'know', 'how', 'lenovo', 'will', 'survive', 'by', 'making', 'full', 'of', 'us.please', 'don', ';', 't', 'go', 'for', 'this', 'else', 'you', 'will', 'regret', 'like', 'me', '.'], ['when', 'i', 'will', 'get', 'my', '10', '%', 'cash', 'back', '...', '.', 'its', 'already', '15', 'january..'], ['good'], ['the', 'worst', 'phone', 'everthey', 'have', 'changed', 'the', 'last', 'phone', 'but', 'the', 'problem', 'is', 'still', 'same', 'and', 'the', 'amazon', 'is', 'not', 'returning', 'the', 'phone', '.highly', 'disappointing', 'of', 'amazon'], ['only', 'i', \"'m\", 'telling', 'do', \"n't\", 'buyi', \"'m\", 'totally', 'disappointedpoor', 'batterypoor', 'camerawaste', 'of', 'money'], ['phone', 'is', 'awesome', '.', 'but', 'while', 'charging', ',', 'it', 'heats', 'up', 'allot..really', 'a', 'genuine', 'reason', 'to', 'hate', 'lenovo', 'k8', 'note'], ['the', 'battery', 'level', 'has', 'worn', 'down'], ['it', \"'s\", 'over', 'hitting', 'problems', '...', 'and', 'phone', 'hanging', 'problems', 'lenovo', 'k', '8', 'note', '...', 'so', 'where', 'is', 'service', 'station', 'in', 'ahmedabad', 'it', \"'s\", 'one', 'years', 'warranty', 'so', 'it', \"'s\", 'can', 'change', 'the', 'phone', 'by', 'lenovo'], ['a', 'lot', 'of', 'glitches', 'dont', 'buy', 'this', 'thing', 'better', 'go', 'for', 'some', 'other', 'options']]\n"
     ]
    }
   ],
   "source": [
    "print(reviews_tokens[:10])"
   ]
  },
  {
   "cell_type": "markdown",
   "metadata": {},
   "source": [
    "### Plotting the most common terms in the dataset"
   ]
  },
  {
   "cell_type": "markdown",
   "metadata": {},
   "source": [
    "Need to get all tokens in one list"
   ]
  },
  {
   "cell_type": "code",
   "execution_count": 119,
   "metadata": {},
   "outputs": [
    {
     "data": {
      "text/plain": [
       "['good', 'but', 'need', 'updates', 'and', 'improvements']"
      ]
     },
     "execution_count": 119,
     "metadata": {},
     "output_type": "execute_result"
    }
   ],
   "source": [
    "reviews_tokens[0]"
   ]
  },
  {
   "cell_type": "code",
   "execution_count": 120,
   "metadata": {},
   "outputs": [],
   "source": [
    "all_terms = []\n",
    "\n",
    "for sent in reviews_tokens:\n",
    "    all_terms.extend(sent)"
   ]
  },
  {
   "cell_type": "code",
   "execution_count": 121,
   "metadata": {},
   "outputs": [
    {
     "name": "stdout",
     "output_type": "stream",
     "text": [
      "['good', 'but', 'need', 'updates', 'and', 'improvements', 'worst', 'mobile', 'i', 'have', 'bought', 'ever', ',', 'battery', 'is', 'draining', 'like', 'hell', ',', 'backup', 'is', 'only', '6', 'to', '7', 'hours', 'with', 'internet', 'uses', ',', 'even', 'if', 'i', 'put', 'mobile', 'idle', 'its', 'getting', 'discharged.this', 'is', 'biggest', 'lie', 'from', 'amazon', '&', 'lenove', 'which', 'is', 'not', 'at']\n"
     ]
    }
   ],
   "source": [
    "print(all_terms[:50])"
   ]
  },
  {
   "cell_type": "code",
   "execution_count": 122,
   "metadata": {},
   "outputs": [],
   "source": [
    "from nltk.probability import FreqDist"
   ]
  },
  {
   "cell_type": "code",
   "execution_count": 123,
   "metadata": {},
   "outputs": [
    {
     "data": {
      "text/plain": [
       "FreqDist({'.': 13584, 'is': 10386, ',': 6890, 'phone': 6566, 'the': 6526, 'not': 6030, 'good': 5717, 'and': 5413, 'it': 5375, 'to': 4697, ...})"
      ]
     },
     "execution_count": 123,
     "metadata": {},
     "output_type": "execute_result"
    }
   ],
   "source": [
    "fdist = FreqDist(all_terms)\n",
    "fdist"
   ]
  },
  {
   "cell_type": "code",
   "execution_count": 124,
   "metadata": {},
   "outputs": [
    {
     "data": {
      "text/plain": [
       "[('.', 13584),\n",
       " ('is', 10386),\n",
       " (',', 6890),\n",
       " ('phone', 6566),\n",
       " ('the', 6526),\n",
       " ('not', 6030),\n",
       " ('good', 5717),\n",
       " ('and', 5413),\n",
       " ('it', 5375),\n",
       " ('to', 4697)]"
      ]
     },
     "execution_count": 124,
     "metadata": {},
     "output_type": "execute_result"
    }
   ],
   "source": [
    "fdist.most_common(10)"
   ]
  },
  {
   "cell_type": "code",
   "execution_count": 125,
   "metadata": {},
   "outputs": [
    {
     "data": {
      "image/png": "[encoded data removed]",
      "text/plain": [
       "<Figure size 432x288 with 1 Axes>"
      ]
     },
     "metadata": {},
     "output_type": "display_data"
    }
   ],
   "source": [
    "fdist.plot(30,cumulative=False)\n",
    "plt.show()"
   ]
  },
  {
   "cell_type": "markdown",
   "metadata": {},
   "source": [
    "### Removing stop words"
   ]
  },
  {
   "cell_type": "code",
   "execution_count": 126,
   "metadata": {},
   "outputs": [],
   "source": [
    "from string import punctuation\n",
    "from nltk.corpus import stopwords"
   ]
  },
  {
   "cell_type": "code",
   "execution_count": 127,
   "metadata": {},
   "outputs": [
    {
     "data": {
      "text/plain": [
       "'!\"#$%&\\'()*+,-./:;<=>?@[\\\\]^_`{|}~'"
      ]
     },
     "execution_count": 127,
     "metadata": {},
     "output_type": "execute_result"
    }
   ],
   "source": [
    "punctuation"
   ]
  },
  {
   "cell_type": "code",
   "execution_count": 128,
   "metadata": {},
   "outputs": [
    {
     "data": {
      "text/plain": [
       "179"
      ]
     },
     "execution_count": 128,
     "metadata": {},
     "output_type": "execute_result"
    }
   ],
   "source": [
    "stop_nltk = stopwords.words(\"english\")\n",
    "len(stop_nltk)"
   ]
  },
  {
   "cell_type": "code",
   "execution_count": 129,
   "metadata": {},
   "outputs": [
    {
     "name": "stdout",
     "output_type": "stream",
     "text": [
      "['i', 'me', 'my', 'myself', 'we', 'our', 'ours', 'ourselves', 'you', \"you're\", \"you've\", \"you'll\", \"you'd\", 'your', 'yours', 'yourself', 'yourselves', 'he', 'him', 'his', 'himself', 'she', \"she's\", 'her', 'hers', 'herself', 'it', \"it's\", 'its', 'itself', 'they', 'them', 'their', 'theirs', 'themselves', 'what', 'which', 'who', 'whom', 'this', 'that', \"that'll\", 'these', 'those', 'am', 'is', 'are', 'was', 'were', 'be', 'been', 'being', 'have', 'has', 'had', 'having', 'do', 'does', 'did', 'doing', 'a', 'an', 'the', 'and', 'but', 'if', 'or', 'because', 'as', 'until', 'while', 'of', 'at', 'by', 'for', 'with', 'about', 'against', 'between', 'into', 'through', 'during', 'before', 'after', 'above', 'below', 'to', 'from', 'up', 'down', 'in', 'out', 'on', 'off', 'over', 'under', 'again', 'further', 'then', 'once', 'here', 'there', 'when', 'where', 'why', 'how', 'all', 'any', 'both', 'each', 'few', 'more', 'most', 'other', 'some', 'such', 'no', 'nor', 'not', 'only', 'own', 'same', 'so', 'than', 'too', 'very', 's', 't', 'can', 'will', 'just', 'don', \"don't\", 'should', \"should've\", 'now', 'd', 'll', 'm', 'o', 're', 've', 'y', 'ain', 'aren', \"aren't\", 'couldn', \"couldn't\", 'didn', \"didn't\", 'doesn', \"doesn't\", 'hadn', \"hadn't\", 'hasn', \"hasn't\", 'haven', \"haven't\", 'isn', \"isn't\", 'ma', 'mightn', \"mightn't\", 'mustn', \"mustn't\", 'needn', \"needn't\", 'shan', \"shan't\", 'shouldn', \"shouldn't\", 'wasn', \"wasn't\", 'weren', \"weren't\", 'won', \"won't\", 'wouldn', \"wouldn't\"]\n"
     ]
    }
   ],
   "source": [
    "print(stop_nltk)"
   ]
  },
  {
   "cell_type": "markdown",
   "metadata": {},
   "source": [
    "Let's also remove punctuations by adding them to our effective stop words list"
   ]
  },
  {
   "cell_type": "code",
   "execution_count": 130,
   "metadata": {},
   "outputs": [
    {
     "data": {
      "text/plain": [
       "'!\"#$%&\\'()*+,-./:;<=>?@[\\\\]^_`{|}~'"
      ]
     },
     "execution_count": 130,
     "metadata": {},
     "output_type": "execute_result"
    }
   ],
   "source": [
    "punctuation"
   ]
  },
  {
   "cell_type": "code",
   "execution_count": 132,
   "metadata": {},
   "outputs": [
    {
     "name": "stdout",
     "output_type": "stream",
     "text": [
      "['!', '\"', '#', '$', '%', '&', \"'\", '(', ')', '*', '+', ',', '-', '.', '/', ':', ';', '<', '=', '>', '?', '@', '[', '\\\\', ']', '^', '_', '`', '{', '|', '}', '~']\n"
     ]
    }
   ],
   "source": [
    "print(list(punctuation))"
   ]
  },
  {
   "cell_type": "code",
   "execution_count": 133,
   "metadata": {},
   "outputs": [
    {
     "data": {
      "text/plain": [
       "212"
      ]
     },
     "execution_count": 133,
     "metadata": {},
     "output_type": "execute_result"
    }
   ],
   "source": [
    "stop_updated = stop_nltk + list(punctuation) + [\"...\"]\n",
    "len(stop_updated)"
   ]
  },
  {
   "cell_type": "markdown",
   "metadata": {},
   "source": [
    "Removing from a sample text"
   ]
  },
  {
   "cell_type": "code",
   "execution_count": 136,
   "metadata": {},
   "outputs": [
    {
     "data": {
      "text/plain": [
       "['i', 'dont', 'care', ',', 'man', '`']"
      ]
     },
     "execution_count": 136,
     "metadata": {},
     "output_type": "execute_result"
    }
   ],
   "source": [
    "tok = word_tokenize(\"i dont care, man`\")\n",
    "tok"
   ]
  },
  {
   "cell_type": "code",
   "execution_count": 137,
   "metadata": {},
   "outputs": [
    {
     "data": {
      "text/plain": [
       "['dont', 'care', 'man']"
      ]
     },
     "execution_count": 137,
     "metadata": {},
     "output_type": "execute_result"
    }
   ],
   "source": [
    "[term for term in tok if term not in stop_updated]"
   ]
  },
  {
   "cell_type": "markdown",
   "metadata": {},
   "source": [
    "##### Removing terms from the updated list"
   ]
  },
  {
   "cell_type": "code",
   "execution_count": 138,
   "metadata": {},
   "outputs": [],
   "source": [
    "def del_stop(sent):\n",
    "    return [term for term in sent if term not in stop_updated]"
   ]
  },
  {
   "cell_type": "code",
   "execution_count": 140,
   "metadata": {},
   "outputs": [
    {
     "data": {
      "text/plain": [
       "[['good', 'need', 'updates', 'improvements'],\n",
       " ['worst',\n",
       "  'mobile',\n",
       "  'bought',\n",
       "  'ever',\n",
       "  'battery',\n",
       "  'draining',\n",
       "  'like',\n",
       "  'hell',\n",
       "  'backup',\n",
       "  '6',\n",
       "  '7',\n",
       "  'hours',\n",
       "  'internet',\n",
       "  'uses',\n",
       "  'even',\n",
       "  'put',\n",
       "  'mobile',\n",
       "  'idle',\n",
       "  'getting',\n",
       "  'discharged.this',\n",
       "  'biggest',\n",
       "  'lie',\n",
       "  'amazon',\n",
       "  'lenove',\n",
       "  'expected',\n",
       "  'making',\n",
       "  'full',\n",
       "  'saying',\n",
       "  'battery',\n",
       "  '4000mah',\n",
       "  'booster',\n",
       "  'charger',\n",
       "  'fake',\n",
       "  'takes',\n",
       "  'least',\n",
       "  '4',\n",
       "  '5',\n",
       "  'hours',\n",
       "  'fully',\n",
       "  'charged.do',\n",
       "  \"n't\",\n",
       "  'know',\n",
       "  'lenovo',\n",
       "  'survive',\n",
       "  'making',\n",
       "  'full',\n",
       "  'us.please',\n",
       "  'go',\n",
       "  'else',\n",
       "  'regret',\n",
       "  'like'],\n",
       " ['get', '10', 'cash', 'back', 'already', '15', 'january..'],\n",
       " ['good'],\n",
       " ['worst',\n",
       "  'phone',\n",
       "  'everthey',\n",
       "  'changed',\n",
       "  'last',\n",
       "  'phone',\n",
       "  'problem',\n",
       "  'still',\n",
       "  'amazon',\n",
       "  'returning',\n",
       "  'phone',\n",
       "  '.highly',\n",
       "  'disappointing',\n",
       "  'amazon']]"
      ]
     },
     "execution_count": 140,
     "metadata": {},
     "output_type": "execute_result"
    }
   ],
   "source": [
    "reviews_tokens2 = [del_stop(sent) for sent in reviews_tokens]\n",
    "reviews_tokens2[:5]"
   ]
  },
  {
   "cell_type": "markdown",
   "metadata": {},
   "source": [
    "## Phrasing"
   ]
  },
  {
   "cell_type": "markdown",
   "metadata": {},
   "source": [
    "Terms that occur together more than you expect them to by chance - \n",
    "- \"air india\", \"ice hockey\", \"kuala lumpur\" \"new delhi\""
   ]
  },
  {
   "cell_type": "code",
   "execution_count": 141,
   "metadata": {},
   "outputs": [
    {
     "name": "stderr",
     "output_type": "stream",
     "text": [
      "C:\\Users\\rahim.baig\\AppData\\Local\\Continuum\\anaconda3\\lib\\site-packages\\gensim\\utils.py:1197: UserWarning: detected Windows; aliasing chunkize to chunkize_serial\n",
      "  warnings.warn(\"detected Windows; aliasing chunkize to chunkize_serial\")\n"
     ]
    }
   ],
   "source": [
    "from gensim.models.phrases import Phraser, Phrases"
   ]
  },
  {
   "cell_type": "markdown",
   "metadata": {},
   "source": [
    "#### Assessing phrases on a larger corpus"
   ]
  },
  {
   "cell_type": "code",
   "execution_count": 142,
   "metadata": {},
   "outputs": [],
   "source": [
    "#nltk.download('gutenberg')\n",
    "from nltk.corpus import gutenberg"
   ]
  },
  {
   "cell_type": "code",
   "execution_count": 143,
   "metadata": {},
   "outputs": [],
   "source": [
    "gut_sents = gutenberg.sents()"
   ]
  },
  {
   "cell_type": "code",
   "execution_count": 145,
   "metadata": {},
   "outputs": [],
   "source": [
    "gut_clean = []\n",
    "for sent in gut_sents:\n",
    "    res = [term.lower() for term in sent if term not in stop_updated]\n",
    "    res = del_stop(res)\n",
    "    gut_clean.append(res)"
   ]
  },
  {
   "cell_type": "code",
   "execution_count": 146,
   "metadata": {},
   "outputs": [
    {
     "data": {
      "text/plain": [
       "[['emma', 'jane', 'austen', '1816'],\n",
       " ['volume'],\n",
       " ['chapter'],\n",
       " ['emma',\n",
       "  'woodhouse',\n",
       "  'handsome',\n",
       "  'clever',\n",
       "  'rich',\n",
       "  'comfortable',\n",
       "  'home',\n",
       "  'happy',\n",
       "  'disposition',\n",
       "  'seemed',\n",
       "  'unite',\n",
       "  'best',\n",
       "  'blessings',\n",
       "  'existence',\n",
       "  'lived',\n",
       "  'nearly',\n",
       "  'twenty',\n",
       "  'one',\n",
       "  'years',\n",
       "  'world',\n",
       "  'little',\n",
       "  'distress',\n",
       "  'vex'],\n",
       " ['youngest',\n",
       "  'two',\n",
       "  'daughters',\n",
       "  'affectionate',\n",
       "  'indulgent',\n",
       "  'father',\n",
       "  'consequence',\n",
       "  'sister',\n",
       "  'marriage',\n",
       "  'mistress',\n",
       "  'house',\n",
       "  'early',\n",
       "  'period']]"
      ]
     },
     "execution_count": 146,
     "metadata": {},
     "output_type": "execute_result"
    }
   ],
   "source": [
    "gut_clean[:5]"
   ]
  },
  {
   "cell_type": "code",
   "execution_count": 147,
   "metadata": {},
   "outputs": [],
   "source": [
    "bigram_gut = Phraser(Phrases(gut_clean))"
   ]
  },
  {
   "cell_type": "code",
   "execution_count": 148,
   "metadata": {},
   "outputs": [
    {
     "data": {
      "text/plain": [
       "{(b'two', b'daughters'): (20, 13.363678462850654),\n",
       " (b'long', b'ago'): (39, 68.68662622547201),\n",
       " (b'sixteen', b'years'): (15, 147.93917671337024),\n",
       " (b'miss', b'taylor'): (48, 473.24877181641887),\n",
       " (b'mr', b'woodhouse'): (132, 117.28850274196262),\n",
       " (b'passed', b'away'): (25, 13.227686080433829),\n",
       " (b'mr', b'weston'): (162, 103.14377797499614),\n",
       " (b'five', b'years'): (42, 42.39565046949423),\n",
       " (b'years', b'old'): (176, 54.70408288368016),\n",
       " (b'seven', b'years'): (55, 59.01828858246154),\n",
       " (b'well', b'informed'): (8, 15.96694253628115),\n",
       " (b'find', b'fault'): (9, 38.28852532748637),\n",
       " (b'half', b'mile'): (15, 110.96884572769342),\n",
       " (b'mrs', b'weston'): (249, 203.37454349635286),\n",
       " (b'sixteen', b'miles'): (6, 118.2357638888889),\n",
       " (b'emma', b'could'): (61, 12.25359175736826),\n",
       " (b'every', b'body'): (148, 44.193064948831605),\n",
       " (b'great', b'deal'): (182, 124.00852416517499),\n",
       " (b'good', b'humoured'): (30, 167.80121224067415),\n",
       " (b'three', b'times'): (41, 42.9360933067143),\n",
       " (b'last', b'night'): (70, 26.14874387888311),\n",
       " (b'doubt', b'whether'): (14, 28.314056458653805),\n",
       " (b'anywhere', b'else'): (6, 17.229255211495648),\n",
       " (b'immediately', b'afterwards'): (10, 42.24539420631475),\n",
       " (b'mr', b'knightley'): (277, 202.12282593040356),\n",
       " (b'sensible', b'man'): (17, 15.161130899376671),\n",
       " (b'intimate', b'friend'): (6, 22.731575433911882),\n",
       " (b'elder', b'brother'): (6, 16.229101134305594),\n",
       " (b'brunswick', b'square'): (11, 2672.4839764551994),\n",
       " (b'poor', b'isabella'): (11, 48.443148273286624),\n",
       " (b'moonlight', b'night'): (6, 14.895844269466316),\n",
       " (b'vast', b'deal'): (11, 66.03471234647706),\n",
       " (b'half', b'hour'): (73, 110.38734959287581),\n",
       " (b'pretty', b'well'): (23, 16.675373433795333),\n",
       " (b'tolerably', b'well'): (7, 15.51074417810169),\n",
       " (b'miss', b'woodhouse'): (173, 307.17744784814886),\n",
       " (b',\"', b'said'): (2902, 44.50118540233915),\n",
       " (b'one', b'another'): (213, 18.138205702368097),\n",
       " (b'much', b'less'): (41, 21.94788518555653),\n",
       " (b'dear', b'emma'): (33, 30.08156337157208),\n",
       " (b'every', b'thing'): (259, 30.301185816723912),\n",
       " (b'turned', b'away'): (51, 21.258911164207547),\n",
       " (b'four', b'years'): (23, 19.234467598367562),\n",
       " (b'years', b'ago'): (56, 177.75937725507052),\n",
       " (b'never', b'marry'): (11, 13.233289289600497),\n",
       " (b'shook', b'head'): (30, 110.56888657986168),\n",
       " (b'oh', b'dear'): (26, 18.174860846359127),\n",
       " (b'ever', b'since'): (69, 48.65121844499808),\n",
       " (b'match', b'making'): (6, 21.966133402141658),\n",
       " (b'young', b'lady'): (73, 52.5517329030296),\n",
       " (b'depend', b'upon'): (46, 92.23219110661883),\n",
       " (b',\"', b'rejoined'): (6, 12.070005671345527),\n",
       " (b'mr', b'elton'): (214, 156.92119815668204),\n",
       " (b'young', b'man'): (267, 27.441908778146374),\n",
       " (b'much', b'better'): (48, 14.517524360596314),\n",
       " (b'dare', b'say'): (117, 136.6106012737576),\n",
       " (b'seven', b'twenty'): (9, 10.233171054213246),\n",
       " (b'take', b'care'): (73, 86.48246935989587),\n",
       " (b'chapter', b'ii'): (11, 314.4219759926131),\n",
       " (b'two', b'three'): (98, 21.725771729018764),\n",
       " (b'never', b'seen'): (50, 17.833095727162167),\n",
       " (b'mr', b'mrs'): (72, 10.429391199087929),\n",
       " (b'mrs', b'churchill'): (59, 81.83476414905407),\n",
       " (b'three', b'years'): (80, 40.659179267721875),\n",
       " (b'twenty', b'years'): (71, 93.0888463641334),\n",
       " (b'deal', b'better'): (14, 20.626403284425898),\n",
       " (b'fine', b'young'): (13, 11.044426605690564),\n",
       " (b'mr', b'frank'): (50, 57.557262947548715),\n",
       " (b'frank', b'churchill'): (151, 1818.0272800409566),\n",
       " (b'curiosity', b'see'): (11, 10.116929933151772),\n",
       " (b'mrs', b'perry'): (11, 26.511396150028226),\n",
       " (b'miss', b'bates'): (113, 414.8220856127686),\n",
       " (b'good', b'sense'): (28, 17.42967430370873),\n",
       " (b'long', b'enough'): (40, 16.714112416907412),\n",
       " (b'hoped', b'would'): (14, 14.158074664720203),\n",
       " (b'could', b'bear'): (47, 13.19852047497626),\n",
       " (b'mr', b'perry'): (36, 107.96417247939125),\n",
       " (b'chapter', b'iii'): (10, 331.88986354775824),\n",
       " (b'donwell', b'abbey'): (9, 829.7752056046298),\n",
       " (b'card', b'table'): (8, 87.89099199862343),\n",
       " (b'drawing', b'room'): (49, 247.38848160623476),\n",
       " (b'thrown', b'away'): (13, 20.998951652688703),\n",
       " (b'mrs', b'goddard'): (58, 329.44528718636764),\n",
       " (b'mrs', b'bates'): (30, 61.53372148915947),\n",
       " (b'make', b'atonement'): (65, 201.34161123429416),\n",
       " (b'young', b'ladies'): (47, 125.38507666815705),\n",
       " (b'old', b'fashioned'): (38, 203.7686344554958),\n",
       " (b'coming', b'back'): (16, 12.90309012712908),\n",
       " (b'worked', b'hard'): (9, 134.61244255571478),\n",
       " (b'delighted', b'see'): (10, 10.3535832649214),\n",
       " (b'much', b'pleased'): (18, 14.102950734019778),\n",
       " (b'miss', b'smith'): (58, 167.57980407632667),\n",
       " (b'harriet', b'smith'): (31, 193.3372786233704),\n",
       " (b'several', b'years'): (10, 18.090388456797992),\n",
       " (b'pretty', b'girl'): (10, 40.63569536265782),\n",
       " (b'blue', b'eyes'): (28, 38.219858675177385),\n",
       " (b'situation', b'life'): (9, 11.13976683037339),\n",
       " (b'due', b'time'): (18, 21.950285489025468),\n",
       " (b'body', b'else'): (31, 42.32698918099719),\n",
       " (b'need', b'afraid'): (13, 39.07274813539874),\n",
       " (b'little', b'girl'): (54, 38.068951277107885),\n",
       " (b'chapter', b'iv'): (8, 284.4770258980785),\n",
       " (b'every', b'respect'): (15, 13.612157116702244),\n",
       " (b'quite', b'different'): (21, 45.903648159069846),\n",
       " (b'different', b'sort'): (8, 15.687300368550368),\n",
       " (b'sort', b'thing'): (27, 12.821096552479531),\n",
       " (b'abbey', b'mill'): (11, 2103.050952135872),\n",
       " (b'good', b'deal'): (62, 39.383931578840574),\n",
       " (b'mrs', b'martin'): (8, 12.36205550815923),\n",
       " (b'five', b'twenty'): (40, 86.92030835205227),\n",
       " (b'drink', b'tea'): (7, 33.07294094794095),\n",
       " (b'large', b'enough'): (11, 11.625776715602594),\n",
       " (b'mr', b'martin'): (37, 103.9336143911791),\n",
       " (b'poor', b'little'): (47, 10.289229861634452),\n",
       " (b'three', b'miles'): (9, 17.33097516286645),\n",
       " (b'thing', b'else'): (26, 13.196876332209433),\n",
       " (b'mother', b'sisters'): (12, 24.26015490621152),\n",
       " (b'miss', b'nash'): (13, 352.1851325145443),\n",
       " (b'oh', b'yes'): (33, 26.240627494151646),\n",
       " (b'never', b'heard'): (50, 10.427732648465684),\n",
       " (b'respectable', b'young'): (8, 29.405785837651127),\n",
       " (b'four', b'twenty'): (18, 30.10819027668199),\n",
       " (b'perfectly', b'right'): (12, 17.089179965873733),\n",
       " (b'would', b'probably'): (15, 11.296897756339014),\n",
       " (b'six', b'years'): (23, 32.8303378459808),\n",
       " (b'years', b'hence'): (10, 20.173524097277763),\n",
       " (b'young', b'woman'): (57, 31.658402972212393),\n",
       " (b'dear', b'miss'): (40, 27.364111218257793),\n",
       " (b'thirty', b'years'): (36, 79.37505827505828),\n",
       " (b'good', b'luck'): (24, 57.224515969255535),\n",
       " (b'next', b'day'): (103, 35.51621922211166),\n",
       " (b'robert', b'martin'): (31, 2051.0816633846866),\n",
       " (b'looked', b'like'): (62, 11.375539778321658),\n",
       " (b'able', b'get'): (13, 18.477533481877902),\n",
       " (b'well', b'bred'): (15, 63.12512165506502),\n",
       " (b'old', b'man'): (227, 12.939052608021608),\n",
       " (b',\"', b'replied'): (301, 89.13234957301312),\n",
       " (b'good', b'humour'): (28, 73.01620316418521),\n",
       " (b'know', b'whether'): (35, 11.0835746032676),\n",
       " (b'pleasing', b'young'): (8, 25.204959289415246),\n",
       " (b'chapter', b'v'): (7, 209.61465066174208),\n",
       " (b'emma', b'harriet'): (12, 10.87930058695196),\n",
       " (b'twelve', b'years'): (25, 49.681066806728815),\n",
       " (b'could', b'persuade'): (9, 14.301361808464842),\n",
       " (b'ten', b'years'): (32, 37.68262048359431),\n",
       " (b'yes', b',\"'): (124, 25.49699422881866),\n",
       " (b'would', b'seem'): (24, 10.316618563934112),\n",
       " (b'.--', b'harriet'): (13, 11.703694792919746),\n",
       " (b'could', b'possibly'): (38, 67.97033098642665),\n",
       " (b'venture', b'say'): (8, 12.23736650754386),\n",
       " (b'much', b'mistaken'): (10, 13.5356478463422),\n",
       " (b'could', b'imagine'): (17, 17.90485454760559),\n",
       " (b'many', b'years'): (56, 21.34006351710778),\n",
       " (b'give', b'advice'): (9, 19.332566886665248),\n",
       " (b',\"', b'cried'): (359, 46.317420137195846),\n",
       " (b'much', b'obliged'): (42, 49.179520508376655),\n",
       " (b'mrs', b'john'): (39, 25.604093064811654),\n",
       " (b'john', b'knightley'): (58, 190.53231842823436),\n",
       " (b'ill', b'humour'): (6, 29.977902984417643),\n",
       " (b'soon', b'afterwards'): (38, 88.46912433326116),\n",
       " (b'chapter', b'vi'): (6, 142.23851294903926),\n",
       " (b'infinitely', b'superior'): (8, 456.35782890328346),\n",
       " (b'great', b'pleasure'): (23, 10.381966975703081),\n",
       " (b'cannot', b'imagine'): (14, 59.14526401111627),\n",
       " (b'almost', b'every'): (41, 11.096402424453085),\n",
       " (b'ten', b'times'): (17, 36.84522891729222),\n",
       " (b'three', b'four'): (36, 27.59603107795107),\n",
       " (b'henry', b'john'): (7, 69.92176591375771),\n",
       " (b'stand', b'still'): (23, 12.49585533424395),\n",
       " (b'whole', b'length'): (9, 10.484524258542255),\n",
       " (b'mr', b'john'): (33, 16.619774580519657),\n",
       " (b'put', b'away'): (66, 12.873729153909656),\n",
       " (b'could', b'help'): (73, 29.896814360619075),\n",
       " (b'dear', b'isabella'): (6, 10.004083671191022),\n",
       " (b'husbands', b'wives'): (7, 229.76990553306342),\n",
       " (b'must', b'allow'): (15, 24.32626089441349),\n",
       " (b'indeed', b'!\"'): (28, 10.160012401749217),\n",
       " (b'must', b'confess'): (10, 12.916598704998313),\n",
       " (b'could', b'endure'): (20, 36.44096999272291),\n",
       " (b\",'\", b'says'): (14, 54.04110386175278),\n",
       " (b'half', b'minute'): (23, 72.73284127586862),\n",
       " (b'read', b'letter'): (8, 18.70469651194727),\n",
       " (b'yes', b'indeed'): (19, 16.15617099439463),\n",
       " (b'replied', b'emma'): (16, 17.984611543503),\n",
       " (b'beg', b'pardon'): (42, 2086.306176519291),\n",
       " (b'emma', b'smiling'): (8, 15.027095806181139),\n",
       " (b'run', b'away'): (47, 42.632312720866494),\n",
       " (b'good', b'opinion'): (19, 15.017825387749829),\n",
       " (b'good', b'natured'): (66, 179.12779406691962),\n",
       " (b'thank', b'thank'): (6, 17.548455255224304),\n",
       " (b'emma', b'felt'): (20, 19.46579242219834),\n",
       " (b'let', b'us'): (399, 35.76048896622165),\n",
       " (b'cried', b'emma'): (27, 15.628903617750572),\n",
       " (b'five', b'six'): (12, 22.480211255982834),\n",
       " (b'bond', b'street'): (8, 194.02792022792025),\n",
       " (b'next', b'morning'): (69, 87.96365727893765),\n",
       " (b'quarter', b'hour'): (23, 226.8278439789801),\n",
       " (b'without', b'ceremony'): (7, 22.671793335330737),\n",
       " (b'dear', b'sir'): (24, 16.83544366380432),\n",
       " (b'thank', b'sir'): (10, 16.462122310853275),\n",
       " (b'depends', b'upon'): (8, 20.246090730721207),\n",
       " (b'presently', b'added'): (6, 21.271801599200398),\n",
       " (b'reason', b'believe'): (13, 18.650272139116147),\n",
       " (b'ask', b'whether'): (15, 26.08351621415632),\n",
       " (b'could', b'afford'): (17, 34.983331193014),\n",
       " (b'sent', b'away'): (49, 15.660235130818693),\n",
       " (b'would', b'allow'): (19, 19.637773933102654),\n",
       " (b'nobody', b'knows'): (7, 33.37685314513955),\n",
       " (b'good', b'tempered'): (10, 31.74617528877619),\n",
       " (b'might', b'easily'): (11, 15.534507797233902),\n",
       " (b'cannot', b'help'): (18, 25.173712524452935),\n",
       " (b'common', b'sense'): (30, 181.86231574449903),\n",
       " (b'ninety', b'nine'): (8, 489.2514367816092),\n",
       " (b'every', b'man'): (329, 13.588399478279506),\n",
       " (b'within', b'reach'): (14, 83.91530900030119),\n",
       " (b'large', b'fortune'): (10, 44.731559934318554),\n",
       " (b'think', b'differently'): (11, 80.45339633786179),\n",
       " (b'labour', b'vain'): (9, 70.01701493304547),\n",
       " (b'throw', b'away'): (10, 18.25995795885974),\n",
       " (b'twenty', b'thousand'): (49, 84.08820294084633),\n",
       " (b'thousand', b'pounds'): (48, 503.7349961296981),\n",
       " (b'beyond', b'doubt'): (10, 26.643845263059056),\n",
       " (b'perfectly', b'satisfied'): (12, 99.082720206177),\n",
       " (b'three', b'hundred'): (78, 52.85268665855878),\n",
       " (b'pleasure', b'seeing'): (14, 43.394800560723844),\n",
       " (b'well', b'known'): (42, 16.303907232663708),\n",
       " (b'next', b'moment'): (22, 27.140938873586123),\n",
       " (b'moment', b'pause'): (10, 41.37784798590437),\n",
       " (b'ready', b'wit'): (8, 72.04464191262032),\n",
       " (b'give', b'credit'): (9, 20.11631959828681),\n",
       " (b'state', b'mind'): (14, 28.2489399749281),\n",
       " (b'something', b'like'): (54, 10.21497794821688),\n",
       " (b'matter', b'fact'): (9, 23.943958091621838),\n",
       " (b'nobody', b'could'): (28, 19.54412561044691),\n",
       " (b'exactly', b'right'): (9, 10.641052483554944),\n",
       " (b'arm', b'arm'): (9, 22.11144390061769),\n",
       " (b'without', b'exception'): (8, 56.18661826581966),\n",
       " (b'take', b'away'): (116, 20.684491478189205),\n",
       " (b'could', b'hardly'): (47, 25.92412979286868),\n",
       " (b'looked', b'grave'): (11, 22.088674104826154),\n",
       " (b'dear', b'mother'): (25, 15.340144788470981),\n",
       " (b'next', b'week'): (13, 60.64789892580843),\n",
       " (b'taken', b'away'): (75, 36.46329589304085),\n",
       " (b'going', b'married'): (10, 23.564024137072),\n",
       " (b'stay', b'longer'): (15, 79.34176802274104),\n",
       " (b'three', b'days'): (100, 41.48516889379056),\n",
       " (b'cannot', b'bear'): (17, 16.60906253048483),\n",
       " (b'brother', b'sister'): (31, 36.20749956036496),\n",
       " (b'four', b'clock'): (10, 51.08219198631883),\n",
       " (b'make', b'apologies'): (6, 16.778467602857848),\n",
       " (b'soon', b'possible'): (21, 33.48876547800886),\n",
       " (b'ran', b'away'): (24, 16.799161322150965),\n",
       " (b'quarter', b'mile'): (8, 258.4257525929674),\n",
       " (b'.--', b'emma'): (21, 13.676835023596746),\n",
       " (b'must', b'expect'): (9, 10.615095663016794),\n",
       " (b'never', b'mind'): (39, 16.489648434161875),\n",
       " (b'boys', b'girls'): (6, 49.13694083694084),\n",
       " (b'good', b'fortune'): (20, 20.136145468880894),\n",
       " (b'really', b'believe'): (14, 13.96682693403213),\n",
       " (b'jane', b'fairfax'): (111, 988.5930186379635),\n",
       " (b'round', b'round'): (32, 13.618298618620043),\n",
       " (b'nothing', b'else'): (45, 33.77825392042714),\n",
       " (b'present', b'instance'): (6, 17.08403572145294),\n",
       " (b'still', b'greater'): (13, 17.11016408887493),\n",
       " (b'turned', b'back'): (54, 40.874575739722516),\n",
       " (b'one', b'side'): (112, 10.05092088646529),\n",
       " (b'two', b'minutes'): (14, 10.713123149471977),\n",
       " (b'looked', b'around'): (9, 12.414561230814103),\n",
       " (b'still', b'remained'): (10, 13.657909513877746),\n",
       " (b'ten', b'minutes'): (42, 219.1985351044304),\n",
       " (b'ten', b'days'): (21, 17.987434589544232),\n",
       " (b'many', b'months'): (10, 11.089548398862775),\n",
       " (b'half', b'way'): (32, 10.471707977120364),\n",
       " (b'little', b'ones'): (53, 65.43264844524064),\n",
       " (b'eating', b'drinking'): (23, 1640.177147444474),\n",
       " (b'without', b'smallest'): (10, 25.949642974173734),\n",
       " (b'mr', b'wingfield'): (9, 115.62614601018676),\n",
       " (b'sister', b'law'): (14, 13.742426280671545),\n",
       " (b'yes', b'sir'): (25, 19.189574528036065),\n",
       " (b'sir', b',\"'): (121, 16.001378947155214),\n",
       " (b'cannot', b'deny'): (9, 37.09357298474946),\n",
       " (b'husband', b'wife'): (13, 22.550927152317882),\n",
       " (b'never', b'forget'): (18, 22.30054306210454),\n",
       " (b'twelve', b'clock'): (6, 23.749407169758683),\n",
       " (b'wrote', b'letter'): (7, 28.776456172226563),\n",
       " (b'cannot', b'tell'): (31, 18.820243014812167),\n",
       " (b'two', b'years'): (53, 13.460346322699232),\n",
       " (b'indeed', b'!--'): (21, 16.776607668526527),\n",
       " (b'dear', b'madam'): (15, 96.91456056466302),\n",
       " (b'madam', b\",'\"): (7, 26.770361635220123),\n",
       " (b'could', b'comprehend'): (8, 10.726021356348632),\n",
       " (b',\"', b'observed'): (22, 16.86493943119512),\n",
       " (b'five', b'times'): (10, 12.604112301741527),\n",
       " (b'men', b'women'): (83, 48.47457868398287),\n",
       " (b'shake', b'hands'): (15, 56.888751524466656),\n",
       " (b'south', b'end'): (9, 11.136806645735218),\n",
       " (b'perfectly', b'convinced'): (8, 81.62986935155219),\n",
       " (b'bad', b'cold'): (7, 14.556292947752022),\n",
       " (b'sorry', b'find'): (8, 13.1504981849077),\n",
       " (b'mrs', b'campbell'): (9, 28.763998437285522),\n",
       " (b'often', b'wished'): (7, 17.595835109612576),\n",
       " (b'ah', b'!\"'): (15, 19.378830733508995),\n",
       " (b'shaking', b'head'): (12, 54.047570999376454),\n",
       " (b'fixing', b'eyes'): (8, 102.19657863145257),\n",
       " (b'perfectly', b'well'): (16, 12.287317918866567),\n",
       " (b'ill', b'judged'): (6, 18.641721183587443),\n",
       " (b'hundred', b'thirty'): (45, 136.7820847559751),\n",
       " (b'true', b'true'): (10, 12.69059048016577),\n",
       " (b'morrow', b'morning'): (14, 24.017139028318187),\n",
       " (b'creature', b'world'): (11, 16.91459557910423),\n",
       " (b'sore', b'throat'): (9, 267.30958689039346),\n",
       " (b'stay', b'home'): (14, 32.61051522696801),\n",
       " (b'well', b'satisfied'): (17, 16.450789279804823),\n",
       " (b'never', b'occurred'): (9, 18.526605005440697),\n",
       " (b'well', b'pleased'): (26, 20.956612078869014),\n",
       " (b'set', b'forward'): (23, 33.48360875146814),\n",
       " (b'eldest', b'daughter'): (10, 91.58660570199032),\n",
       " (b'short', b'time'): (27, 13.837122275581825),\n",
       " (b'change', b'subject'): (7, 18.686477068499542),\n",
       " (b'nothing', b'matter'): (17, 11.148854550489679),\n",
       " (b'might', b'possibly'): (8, 11.31317415668121),\n",
       " (b'could', b'get'): (47, 10.769564068214729),\n",
       " (b',\"', b'continued'): (129, 57.19798865911511),\n",
       " (b'dining', b'room'): (18, 306.9866158113731),\n",
       " (b'turn', b'away'): (59, 30.803216006660506),\n",
       " (b'could', b'avoid'): (9, 10.383180491077214),\n",
       " (b'heard', b'words'): (35, 12.088409087278414),\n",
       " (b',\"', b'repeated'): (33, 20.17672589836864),\n",
       " (b'several', b'times'): (19, 111.43679289387565),\n",
       " (b'great', b'curiosity'): (14, 15.313401289162046),\n",
       " (b'pay', b'visit'): (14, 104.26178812002449),\n",
       " (b'upper', b'end'): (11, 52.41979679802956),\n",
       " (b'dearest', b'emma'): (8, 43.68988965871183),\n",
       " (b'let', b'go'): (134, 11.55589833681376),\n",
       " (b'continued', b'mrs'): (17, 14.015578856384346),\n",
       " (b'beyond', b'reach'): (6, 16.21210245667492),\n",
       " (b'go', b'home'): (38, 11.616276455364883),\n",
       " (b'hardly', b'knew'): (16, 32.623012071278026),\n",
       " (b'got', b'home'): (12, 14.199575257719676),\n",
       " (b'left', b'room'): (24, 17.543411385566102),\n",
       " (b'ring', b'bell'): (7, 99.21882284382285),\n",
       " (b'tete', b'tete'): (6, 4029.8106508875744),\n",
       " (b'three', b'quarters'): (8, 51.99292548859935),\n",
       " (b'smith', b'!--'): (9, 20.229252064397315),\n",
       " (b'drunk', b'wine'): (7, 67.59682382133995),\n",
       " (b'far', b'far'): (19, 10.654108318546097),\n",
       " (b'dead', b'alive'): (9, 19.39768009854953),\n",
       " (b'extremely', b'sorry'): (8, 80.22908976674782),\n",
       " (b'!--', b'oh'): (17, 10.218124531132784),\n",
       " (b'many', b'weeks'): (10, 21.839620826331792),\n",
       " (b'madam', b',\"'): (14, 13.578756380263718),\n",
       " (b'extremely', b'well'): (16, 25.090909699870384),\n",
       " (b'without', b'knowing'): (22, 42.57551887971994),\n",
       " (b'poor', b'harriet'): (15, 14.839304312963295),\n",
       " (b'thirty', b'thousand'): (18, 45.101854304635765),\n",
       " (b'somebody', b'else'): (17, 181.53751832600292),\n",
       " (b'poor', b'girl'): (16, 28.87956916292087),\n",
       " (b'many', b'days'): (52, 15.84146354741484),\n",
       " (b'great', b'importance'): (8, 10.509196963150423),\n",
       " (b'whole', b'party'): (15, 23.421074351743584),\n",
       " (b'six', b'weeks'): (6, 19.03936259435281),\n",
       " (b'drew', b'near'): (35, 147.95846097025787),\n",
       " (b'three', b'months'): (36, 89.07941638115814),\n",
       " (b'get', b'rid'): (18, 234.90923081005067),\n",
       " (b'watering', b'place'): (9, 90.28741879888638),\n",
       " (b'present', b'occasion'): (9, 34.693734080489044),\n",
       " (b'middle', b'room'): (9, 21.83986595367705),\n",
       " (b'burst', b'forth'): (18, 52.17451823914197),\n",
       " (b'young', b'men'): (143, 29.772549123960786),\n",
       " (b'nobody', b'else'): (21, 89.00494172037213),\n",
       " (b'something', b'else'): (35, 39.506572459480466),\n",
       " (b'walking', b'together'): (10, 15.492784086772948),\n",
       " (b'must', b'suffer'): (12, 12.459792165431297),\n",
       " (b'mrs', b'cole'): (30, 150.30368035876657),\n",
       " (b'mr', b'cole'): (23, 85.29797656489187),\n",
       " (b'entered', b'house'): (19, 13.364917297448835),\n",
       " (b'shew', b'kindness'): (13, 101.63418956479563),\n",
       " (b'miss', b'fairfax'): (125, 284.96307402629105),\n",
       " (b'extremely', b'happy'): (7, 20.116022507421246),\n",
       " (b'thank', b'god'): (23, 11.769779144131903),\n",
       " (b'without', b'seeming'): (8, 25.339063139487294),\n",
       " (b'raising', b'voice'): (6, 20.05057999175646),\n",
       " (b'colonel', b'campbell'): (28, 959.7962009803922),\n",
       " (b'mrs', b'dixon'): (14, 75.01520046996622),\n",
       " (b'father', b'mother'): (100, 23.000294708716517),\n",
       " (b'mr', b'dixon'): (22, 111.6843455780213),\n",
       " (b'miss', b'campbell'): (12, 78.55109573241062),\n",
       " (b'presence', b'mind'): (13, 32.71233008309717),\n",
       " (b'caught', b'hold'): (10, 25.28205927773818),\n",
       " (b'four', b'months'): (12, 39.64825056761949),\n",
       " (b'may', b'guess'): (11, 13.939747897726303),\n",
       " (b'thing', b'happened'): (11, 10.048661728686517),\n",
       " (b'running', b'away'): (12, 12.313521387964055),\n",
       " (b'five', b'minutes'): (37, 155.6424821990987),\n",
       " (b'took', b'notice'): (13, 31.55912371552034),\n",
       " (b'nine', b'years'): (9, 22.956079145178144),\n",
       " (b'hundred', b'pounds'): (11, 69.27923773354581),\n",
       " (b'began', b'feel'): (10, 10.50381571073396),\n",
       " (b'whatever', b'might'): (20, 22.925374943054436),\n",
       " (b'without', b'feeling'): (12, 14.566901031879171),\n",
       " (b'ill', b'health'): (7, 27.557326967042307),\n",
       " (b'bread', b'butter'): (9, 121.12187097061049),\n",
       " (b'twelve', b'thousand'): (24, 63.950390431946225),\n",
       " (b'mr', b'churchill'): (19, 16.722789712217093),\n",
       " (b'swept', b'away'): (7, 16.799161322150965),\n",
       " (b'asking', b'questions'): (7, 236.38944810829574),\n",
       " (b'back', b'chair'): (13, 44.92186933148643),\n",
       " (b'piece', b'news'): (6, 33.03123484334077),\n",
       " (b\",'\", b'said'): (287, 38.43075777859154),\n",
       " (b'miss', b'hawkins'): (18, 371.9955462184874),\n",
       " (b'glad', b'see'): (41, 23.282797654376676),\n",
       " (b'answer', b'question'): (10, 27.28517628205128),\n",
       " (b'dear', b'jane'): (15, 30.705603347219967),\n",
       " (b'three', b'minutes'): (10, 11.506041601903036),\n",
       " (b'hour', b'ago'): (11, 46.71149317542696),\n",
       " (b'looked', b'round'): (28, 13.69928669381358),\n",
       " (b'instead', b'going'): (8, 12.99591634226395),\n",
       " (b'help', b'thinking'): (10, 33.76355920439447),\n",
       " (b'human', b'nature'): (10, 34.43028887473332),\n",
       " (b'story', b'told'): (8, 10.534990924841184),\n",
       " (b'weeks', b'ago'): (7, 72.76824447056309),\n",
       " (b'twenty', b'miles'): (8, 33.81743246822034),\n",
       " (b'elder', b'sister'): (6, 21.612020817466362),\n",
       " (b'hear', b'voice'): (43, 16.657404916228447),\n",
       " (b'driven', b'away'): (12, 21.776690602788285),\n",
       " (b'little', b'farther'): (16, 13.578789197027369),\n",
       " (b'front', b'door'): (16, 53.78365688357935),\n",
       " (b'without', b'delay'): (10, 30.76886238366314),\n",
       " (b'till', b'last'): (26, 10.539322944685091),\n",
       " (b'six', b'months'): (21, 154.68248988572645),\n",
       " (b'months', b'ago'): (7, 36.94967853945691),\n",
       " (b'master', b'mistress'): (6, 12.29022070633245),\n",
       " (b'leaned', b'back'): (6, 13.476560799445929),\n",
       " (b'ill', b'disposed'): (6, 26.40910501008221),\n",
       " (b'turned', b'round'): (23, 14.51119944505868),\n",
       " (b'clock', b'struck'): (16, 305.73472636003754),\n",
       " (b'\"\\'', b'tis'): (7, 73.96958835668514),\n",
       " (b'four', b'hours'): (15, 49.689041295782864),\n",
       " (b'parlour', b'door'): (6, 15.248371134943913),\n",
       " (b'musical', b'society'): (6, 110.00452269423357),\n",
       " (b'mother', b'law'): (28, 17.545290601813686),\n",
       " (b'kind', b'hearted'): (6, 25.100914049830457),\n",
       " (b'give', b'hint'): (7, 10.195942810090576),\n",
       " (b'extremely', b'glad'): (10, 78.39737538851158),\n",
       " (b'knew', b'nothing'): (25, 12.395896659301135),\n",
       " (b'make', b'amends'): (11, 106.59261771227338),\n",
       " (b'old', b'woman'): (61, 18.971871104332504),\n",
       " (b'six', b'days'): (24, 27.914404055657428),\n",
       " (b'may', b'prove'): (10, 13.631556192504462),\n",
       " (b'half', b'guinea'): (14, 49.566084425036394),\n",
       " (b'asked', b'whether'): (14, 17.11236745565104),\n",
       " (b'particular', b'friend'): (11, 24.464475803313235),\n",
       " (b'behind', b'scenes'): (8, 87.96667527770602),\n",
       " (b'would', b'willingly'): (8, 10.305537340986815),\n",
       " (b'good', b'bad'): (30, 17.636764049320103),\n",
       " (b'held', b'hand'): (15, 10.627071461117387),\n",
       " (b'good', b'tidings'): (14, 32.03477688231052),\n",
       " (b'style', b'living'): (10, 84.44155135644498),\n",
       " (b'next', b'summer'): (9, 27.70981588851592),\n",
       " (b'giving', b'pain'): (7, 31.397261537043015),\n",
       " (b'perfectly', b'safe'): (6, 17.089179965873733),\n",
       " (b'two', b'ladies'): (13, 11.649690599087405),\n",
       " (b'rest', b'party'): (11, 17.458782311471907),\n",
       " (b'mr', b'cox'): (13, 92.50091680814941),\n",
       " (b'entered', b'room'): (15, 38.3973253047371),\n",
       " (b',\"', b'added'): (76, 37.25958272458836),\n",
       " (b'little', b'girls'): (15, 24.68870763095886),\n",
       " (b'mean', b'say'): (29, 10.42205035895533),\n",
       " (b'large', b'party'): (10, 25.251687059695957),\n",
       " (b'opposite', b'side'): (9, 23.13190564339453),\n",
       " (b'might', b'reasonably'): (6, 21.683583800305655),\n",
       " (b'short', b'pause'): (11, 93.72082568807339),\n",
       " (b'across', b'room'): (8, 11.956635474639654),\n",
       " (b'extremely', b'fond'): (6, 36.68595130359836),\n",
       " (b'towards', b'end'): (12, 11.038608661825727),\n",
       " (b'five', b'couple'): (8, 50.96445408965053),\n",
       " (b'mr', b'william'): (9, 14.274832840763798),\n",
       " (b'bow', b'window'): (8, 28.22370493162039),\n",
       " (b'caught', b'eye'): (8, 16.680115603161124),\n",
       " (b'bad', b'news'): (9, 67.05439866095604),\n",
       " (b'baked', b'apples'): (6, 661.8445092322643),\n",
       " (b'mrs', b'wallis'): (14, 89.20726542374362),\n",
       " (b'took', b'opportunity'): (8, 16.95896209970616),\n",
       " (b'william', b'larkins'): (13, 5174.0778727445395),\n",
       " (b'half', b'dozen'): (7, 70.80869203576627),\n",
       " (b'opened', b'door'): (19, 35.986155878467635),\n",
       " (b'low', b'voice'): (40, 59.77223372936863),\n",
       " (b'one', b'leg'): (18, 11.482654416418514),\n",
       " (b'hard', b'work'): (20, 33.57722989340687),\n",
       " (b'open', b'window'): (13, 33.59728671414917),\n",
       " (b',\"', b'resumed'): (23, 43.4520204168439),\n",
       " (b'cut', b'short'): (11, 18.641551094890513),\n",
       " (b'taking', b'leave'): (7, 10.432887036980299),\n",
       " (b'many', b'times'): (21, 14.728828152984194),\n",
       " (b'four', b'times'): (13, 18.807034985070505),\n",
       " (b'day', b'week'): (13, 10.302484333458137),\n",
       " (b'c', b'.,'): (6, 545.7035256410256),\n",
       " (b'look', b'forward'): (12, 12.95558333559801),\n",
       " (b'immediately', b'followed'): (7, 13.062720576952586),\n",
       " (b'wait', b'till'): (21, 36.78328911213281),\n",
       " (b'good', b'bye'): (45, 159.2689472114873),\n",
       " (b'spend', b'evening'): (11, 106.99172601591957),\n",
       " (b'things', b'happened'): (13, 13.377884506779418),\n",
       " (b'three', b'weeks'): (11, 33.95456358439141),\n",
       " (b'self', b'command'): (15, 145.7202156795618),\n",
       " (b'mrs', b'elton'): (142, 130.50263446838568),\n",
       " (b'maple', b'grove'): (31, 7332.08612836439),\n",
       " (b'mr', b'suckling'): (10, 76.06983290143866),\n",
       " (b'almost', b'fancy'): (9, 16.584390600267866),\n",
       " (b'left', b'behind'): (30, 35.112146371844204),\n",
       " (b'across', b'lawn'): (6, 95.78593530239098),\n",
       " (b'barouche', b'landau'): (7, 19458.22857142857),\n",
       " (b'last', b'summer'): (11, 17.61745608815997),\n",
       " (b'whose', b'name'): (60, 30.633056011488698),\n",
       " (b'mr', b'e'): (10, 17.625936891796762),\n",
       " (b'many', b'things'): (59, 11.691985170758507),\n",
       " (b'e', b'.,'): (6, 212.95747342088805),\n",
       " (b'worse', b'worse'): (8, 41.084960485833214),\n",
       " (b'good', b'breeding'): (8, 41.456770082990076),\n",
       " (b'greater', b'part'): (10, 16.967412427126412),\n",
       " (b'drew', b'back'): (12, 18.537627300547893),\n",
       " (b'third', b'time'): (24, 14.799061257306764),\n",
       " (b'better', b'acquainted'): (7, 14.167630538797587),\n",
       " (b'month', b'month'): (11, 35.98013542427951),\n",
       " (b'face', b'face'): (39, 14.243932026143792),\n",
       " (b'seemed', b'hardly'): (10, 10.213466025998645),\n",
       " (b'drawing', b'rooms'): (8, 143.0752100840336),\n",
       " (b'hardly', b'less'): (9, 18.333593560718228),\n",
       " (b'forty', b'eight'): (8, 49.96610418195158),\n",
       " (b'little', b'boys'): (17, 17.314158598334778),\n",
       " (b'post', b'office'): (12, 426.1814768460576),\n",
       " (b'pleasure', b'meeting'): (7, 21.141056683429564),\n",
       " (b'easily', b'believe'): (8, 23.278044890053547),\n",
       " (b'put', b'forth'): (48, 15.393197157334791),\n",
       " (b'mrs', b'bragge'): (6, 52.39156858219863),\n",
       " (b'drawing', b'near'): (8, 20.168147358445864),\n",
       " (b'great', b'joy'): (26, 11.317596729546608),\n",
       " (b'eight', b'clock'): (9, 146.318186701042),\n",
       " (b'clock', b'morning'): (8, 21.772546595765085),\n",
       " (b'spread', b'abroad'): (18, 305.1245519713262),\n",
       " (b'good', b'news'): (18, 25.03263985885466),\n",
       " (b'tells', b'us'): (12, 32.078607380292304),\n",
       " (b'hundred', b'ninety'): (10, 123.48382651581085),\n",
       " (b'sixty', b'five'): (9, 109.04022735460113),\n",
       " (b'give', b'notice'): (12, 18.741463222864333),\n",
       " (b'eleven', b'years'): (6, 17.519113031846477),\n",
       " (b'two', b'hours'): (18, 16.951623650149347),\n",
       " (b'two', b'months'): (20, 22.29587805719125),\n",
       " (b'twenty', b'four'): (35, 69.48043910003535),\n",
       " (b'hear', b'sound'): (14, 14.903993872414924),\n",
       " (b'door', b'opened'): (32, 69.40187205133044),\n",
       " (b'began', b'talking'): (9, 14.611022017216873),\n",
       " (b'mean', b'?\"'): (65, 30.858017992709573),\n",
       " (b'pretty', b'soon'): (13, 17.2015672506496),\n",
       " (b'many', b'hours'): (13, 15.565693388949203),\n",
       " (b'seemed', b'almost'): (19, 11.491486120351356),\n",
       " (b'whole', b'story'): (19, 40.98688011555127),\n",
       " (b'another', b'minute'): (9, 11.787558847964553),\n",
       " (b'whole', b'history'): (9, 24.61197643742546),\n",
       " (b'court', b'plaister'): (9, 743.4912663755458),\n",
       " (b'putting', b'hand'): (9, 10.606829420239071),\n",
       " (b'told', b'story'): (8, 10.534990924841184),\n",
       " (b'forty', b'years'): (68, 178.4713046733637),\n",
       " (b'faint', b'smile'): (6, 26.511912176891936),\n",
       " (b'turned', b'towards'): (12, 13.604667621727444),\n",
       " (b'ask', b'question'): (13, 48.39495469888079),\n",
       " (b'totally', b'different'): (7, 171.97929292929294),\n",
       " (b'box', b'hill'): (18, 183.44267865652776),\n",
       " (b'may', b'depend'): (9, 16.192636446853786),\n",
       " (b',\"', b'interrupted'): (25, 33.29656736922904),\n",
       " (b'whatever', b'else'): (9, 21.85914317581827),\n",
       " (b'gentlemen', b'ladies'): (6, 17.637988190199938),\n",
       " (b'sit', b'still'): (12, 10.439992554228214),\n",
       " (b'present', b'future'): (13, 57.090954815994635),\n",
       " (b'long', b'absent'): (7, 12.24943567606457),\n",
       " (b'twenty', b'minutes'): (8, 17.961125958224912),\n",
       " (b'quite', b'alone'): (14, 11.406780039527899),\n",
       " (b'etc', b'.,'): (11, 4191.003076923077),\n",
       " (b'eat', b'drink'): (60, 94.2715160117987),\n",
       " (b'hours', b'spent'): (6, 23.997110641296686),\n",
       " (b'lowering', b'voice'): (10, 84.58838434022258),\n",
       " (b'ladies', b'gentlemen'): (6, 17.637988190199938),\n",
       " (b',\"', b'whispered'): (19, 31.196322350554595),\n",
       " (b'open', b'mouth'): (21, 30.349371516743304),\n",
       " (b'looking', b'round'): (23, 18.15773149149339),\n",
       " (b'hold', b'tongue'): (14, 44.238567469253425),\n",
       " (b',\"', b'answered'): (153, 26.595943017753914),\n",
       " (b'yes', b'yes'): (31, 38.74817933545744),\n",
       " (b'old', b'age'): (51, 66.6114146959639),\n",
       " (b'door', b'shut'): (8, 11.889699078788867),\n",
       " (b'laid', b'upon'): (33, 10.854301035791353),\n",
       " (b'tears', b'eyes'): (10, 12.820359326526312),\n",
       " (b'mrs', b'smallridge'): (7, 73.34819601507809),\n",
       " (b'four', b'miles'): (7, 17.08060794542536),\n",
       " (b'change', b'mind'): (9, 13.060966956254914),\n",
       " (b'great', b'hurry'): (18, 24.577063797420564),\n",
       " (b'without', b'waiting'): (12, 19.206041487891643),\n",
       " (b'eyes', b'fixed'): (21, 41.02514984488419),\n",
       " (b'comes', b'back'): (13, 15.906760287870604),\n",
       " (b'twenty', b'five'): (15, 24.834373814872077),\n",
       " (b'ask', b'questions'): (14, 164.59911917933294),\n",
       " (b'quitted', b'room'): (6, 23.03839518284226),\n",
       " (b'trembling', b'voice'): (7, 13.044955657287337),\n",
       " (b'kept', b'secret'): (7, 11.752571270794505),\n",
       " (b'time', b'past'): (24, 14.61803298504613),\n",
       " (b'second', b'time'): (44, 21.376421816109772),\n",
       " (b'five', b'hundred'): (67, 94.87638581180371),\n",
       " (b'turning', b'away'): (13, 11.152970172382382),\n",
       " (b'upon', b'earth'): (134, 11.38692142167792),\n",
       " (b'daughter', b'law'): (24, 30.736265772271203),\n",
       " (b'child', b'born'): (8, 12.345398076086433),\n",
       " (b'far', b'distant'): (12, 38.17722147479018),\n",
       " (b'thank', b',\"'): (19, 10.293202806020552),\n",
       " (b'domestic', b'happiness'): (6, 61.923804328059646),\n",
       " (b'western', b'sun'): (7, 37.286504243087876),\n",
       " (b'rose', b'early'): (29, 150.26626092872314),\n",
       " (b'north', b'east'): (7, 21.12040439751283),\n",
       " (b'east', b'wind'): (22, 131.08896160509062),\n",
       " (b'gone', b'mad'): (10, 21.406192047776205),\n",
       " (b'throughout', b'whole'): (10, 18.809671111503913),\n",
       " (b'deep', b'sigh'): (7, 47.97393632009016),\n",
       " (b'ten', b'thousand'): (82, 145.6118566648618),\n",
       " (b'nay', b'nay'): (7, 36.5667803162501),\n",
       " (b'little', b'boy'): (67, 24.339750632641415),\n",
       " (b'right', b'hand'): (199, 47.051636605023916),\n",
       " (b'poor', b'fellow'): (38, 85.15006990304505),\n",
       " (b'paused', b'moment'): (9, 68.0782706485068),\n",
       " (b'days', b'ago'): (11, 16.8455621057839),\n",
       " (b'help', b'laughing'): (7, 17.75432101983889),\n",
       " (b'words', b'spoken'): (12, 10.86791669991223),\n",
       " (b'draw', b'near'): (18, 81.11829434778227),\n",
       " (b'found', b'fault'): (9, 22.009081067106177),\n",
       " (b'began', b'talk'): (15, 25.71623846421073),\n",
       " (b'laughed', b'heartily'): (9, 472.61485079805686),\n",
       " (b'tell', b'truth'): (18, 14.598211311869514),\n",
       " (b'sir', b'walter'): (136, 566.450653968254),\n",
       " (b'walter', b'elliot'): (16, 172.81241061130333),\n",
       " (b'kellynch', b'hall'): (25, 1446.4011893384304),\n",
       " (b'charles', b'musgrove'): (14, 272.5363272565585),\n",
       " (b'day', b'month'): (67, 37.6713243914059),\n",
       " (b'first', b'year'): (72, 37.69090015487868),\n",
       " (b'beginning', b'end'): (17, 32.80951310380267),\n",
       " (b'fifty', b'four'): (8, 13.896087820007073),\n",
       " (b'lady', b'elliot'): (12, 21.67638647017901),\n",
       " (b'seventeen', b'years'): (7, 55.477191267513845),\n",
       " (b'thirteen', b'years'): (7, 40.347048194555526),\n",
       " (b'lady', b'russell'): (147, 852.8816375486157),\n",
       " (b'mrs', b'charles'): (10, 10.599450291196256),\n",
       " (b'anne', b'elliot'): (23, 76.29063254586642),\n",
       " (b'twenty', b'nine'): (7, 24.877191700759788),\n",
       " (b'miss', b'elliot'): (48, 85.1520281468989),\n",
       " (b'everybody', b'else'): (22, 121.1988987291418),\n",
       " (b'young', b'girl'): (10, 10.281743299878014),\n",
       " (b'drawing', b'back'): (8, 10.829379213840479),\n",
       " (b'mr', b'elliot'): (174, 169.03822383842183),\n",
       " (b'mr', b'shepherd'): (26, 63.898659637208475),\n",
       " (b'ill', b'used'): (8, 21.26228262792561),\n",
       " (b'anybody', b'else'): (21, 174.10615792669287),\n",
       " (b'walter', b'elizabeth'): (11, 267.07372549019607),\n",
       " (b'mrs', b'clay'): (66, 187.99327550083038),\n",
       " (b'therefore', b'thus'): (68, 19.29331231271202),\n",
       " (b'surprised', b'find'): (7, 16.457348605673964),\n",
       " (b'miss', b'anne'): (19, 14.410452814219212),\n",
       " (b'admiral', b'croft'): (14, 1046.3199044042335),\n",
       " (b'mrs', b'croft'): (41, 227.63233246058712),\n",
       " (b'walked', b'along'): (8, 12.289333597993393),\n",
       " (b'frederick', b'wentworth'): (6, 25.398597747445365),\n",
       " (b'either', b'side'): (18, 19.98170533537962),\n",
       " (b'captain', b'wentworth'): (196, 694.6324294304237),\n",
       " (b'eldest', b'son'): (15, 38.044690240768674),\n",
       " (b'anything', b'matter'): (10, 17.319868162721384),\n",
       " (b'replied', b'anne'): (11, 15.279274293662784),\n",
       " (b'left', b'alone'): (19, 18.715197054101058),\n",
       " (b'mr', b'musgrove'): (21, 35.57727569544208),\n",
       " (b'miss', b'musgroves'): (22, 237.29547038327527),\n",
       " (b'mrs', b'musgrove'): (66, 172.08615218922165),\n",
       " (b'piano', b'forte'): (7, 12972.15238095238),\n",
       " (b'ere', b'long'): (23, 36.554894885940065),\n",
       " (b'anything', b'else'): (31, 81.86082679167477),\n",
       " (b'wherever', b'go'): (9, 15.981180335562595),\n",
       " (b'talking', b'laughing'): (7, 31.233111671634948),\n",
       " (b'papa', b'mamma'): (11, 668.7770867430442),\n",
       " (b'twentieth', b'year'): (13, 198.12014545454545),\n",
       " (b'eight', b'years'): (24, 72.69425062639746),\n",
       " (b'give', b'information'): (7, 10.483152466712845),\n",
       " (b'dressing', b'room'): (14, 257.611146135418),\n",
       " (b'waited', b'till'): (7, 11.634714273511573),\n",
       " (b'heard', b'voice'): (61, 18.95964787212994),\n",
       " (b'third', b'part'): (39, 83.94404042894121),\n",
       " (b'found', b'difficult'): (7, 22.467603589337553),\n",
       " (b'knife', b'fork'): (7, 1158.2278911564626),\n",
       " (b'hundred', b'men'): (36, 10.110634658227799),\n",
       " (b'young', b'fellow'): (10, 10.105081043866365),\n",
       " (b'days', b'nights'): (11, 36.5625268432355),\n",
       " (b'dear', b'fellow'): (11, 19.183088276716806),\n",
       " (b'good', b'cheer'): (15, 67.12048489626964),\n",
       " (b'board', b'ship'): (8, 19.070284498207887),\n",
       " (b'mrs', b'harville'): (24, 92.90771495243223),\n",
       " (b'women', b'children'): (20, 11.279123689144159),\n",
       " (b'fifteen', b'years'): (10, 67.93125461328226),\n",
       " (b'charles', b'hayter'): (33, 2900.6790386370553),\n",
       " (b'came', b'near'): (46, 13.876555689239348),\n",
       " (b'mansion', b'house'): (8, 32.02373040752351),\n",
       " (b'four', b'five'): (16, 20.696640264336413),\n",
       " (b'liked', b'best'): (6, 11.543016949152543),\n",
       " (b'two', b'hundred'): (105, 37.45086566612629),\n",
       " (b'hundred', b'fifty'): (59, 203.43437181926808),\n",
       " (b'dr', b'shirley'): (9, 1190.6258741258741),\n",
       " (b'bent', b'head'): (10, 21.692562509953813),\n",
       " (b'turn', b'back'): (21, 16.4738943558592),\n",
       " (b'walking', b'along'): (8, 19.781515045892878),\n",
       " (b'top', b'hill'): (14, 65.0576559746959),\n",
       " (b'trodden', b'foot'): (7, 158.14187855567167),\n",
       " (b'louisa', b'musgrove'): (15, 206.25015142337978),\n",
       " (b'side', b'side'): (36, 15.528729967724757),\n",
       " (b'charles', b'mary'): (7, 25.645836079154975),\n",
       " (b'captain', b'harville'): (37, 338.2726581296081),\n",
       " (b'earnest', b'desire'): (6, 35.192124844977265),\n",
       " (b'sea', b'shore'): (16, 36.967273624475695),\n",
       " (b'captain', b'benwick'): (56, 577.6307666722103),\n",
       " (b'breakfast', b'table'): (9, 52.77932343937691),\n",
       " (b'great', b'coat'): (15, 15.368288032133952),\n",
       " (b'preceding', b'evening'): (6, 52.810018610421835),\n",
       " (b'sent', b'letters'): (10, 23.73153155664585),\n",
       " (b'able', b'bear'): (11, 16.983703038691253),\n",
       " (b'dark', b'blue'): (7, 11.689432038584988),\n",
       " (b'catching', b'hold'): (10, 134.10483616887208),\n",
       " (b'every', b'one'): (395, 14.770219373816344),\n",
       " (b'could', b'scarcely'): (18, 18.80465321761885),\n",
       " (b'passed', b'along'): (11, 17.756635553006205),\n",
       " (b'something', b'wrong'): (9, 10.831015370913747),\n",
       " (b'opened', b'eyes'): (22, 23.16455782312925),\n",
       " (b'day', b'night'): (107, 16.44544201968741),\n",
       " (b'camden', b'place'): (29, 343.09219143576826),\n",
       " (b'straight', b'forward'): (7, 24.96473607038123),\n",
       " (b'hanging', b'door'): (9, 42.336653974667804),\n",
       " (b'looking', b'glasses'): (6, 24.420467584624213),\n",
       " (b'stopped', b'short'): (7, 19.797616279069768),\n",
       " (b'brothers', b'sisters'): (12, 414.47278734133187),\n",
       " (b'thirty', b'feet'): (8, 12.924557186234818),\n",
       " (b'colonel', b'wallis'): (23, 1035.3618243243243),\n",
       " (b'thirty', b'five'): (12, 31.558758109360518),\n",
       " (b'knock', b'door'): (8, 56.22836856010568),\n",
       " (b'carried', b'away'): (84, 86.17751587337182),\n",
       " (b'miss', b'carteret'): (12, 333.84215686274507),\n",
       " (b'lady', b'dalrymple'): (25, 639.2322132532381),\n",
       " (b'laura', b'place'): (7, 23.1819048267411),\n",
       " (b'mrs', b'smith'): (79, 149.93830124629224),\n",
       " (b'westgate', b'buildings'): (7, 4365.628205128205),\n",
       " (b'five', b'thousand'): (31, 40.36654774253115),\n",
       " (b'whose', b'names'): (9, 19.79876737019594),\n",
       " (b'thirty', b'forty'): (6, 11.146284779050736),\n",
       " (b'made', b'reply'): (10, 13.636906096818633),\n",
       " (b'past', b'present'): (17, 41.37784798590437),\n",
       " (b'glad', b'find'): (9, 10.280206800256614),\n",
       " (b'old', b'gentleman'): (32, 27.10475143203333),\n",
       " (b'almost', b'entirely'): (13, 37.73168231806976),\n",
       " (b'lower', b'part'): (8, 16.16489967719476),\n",
       " (b'ay', b'ay'): (6, 114.86557598245912),\n",
       " (b'eight', b'nine'): (6, 33.74147839873167),\n",
       " (b'short', b'silence'): (9, 19.971788856304986),\n",
       " (b'nine', b'hundred'): (20, 114.96770054920322),\n",
       " (b'general', b'character'): (6, 10.701414204902576),\n",
       " (b'fifty', b'pounds'): (6, 37.47732775698877),\n",
       " (b'hard', b'hearted'): (6, 34.833921538540224),\n",
       " (b'exclaimed', b'mrs'): (11, 13.336035639105106),\n",
       " (b'shut', b'door'): (17, 47.55879631515547),\n",
       " (b'boy', b'girl'): (8, 12.62147569744743),\n",
       " (b'minutes', b'afterwards'): (7, 24.0500750419352),\n",
       " (b'make', b'haste'): (39, 80.85371789723624),\n",
       " (b'rising', b'sun'): (17, 77.34966305746951),\n",
       " (b'make', b'known'): (34, 14.218117027097072),\n",
       " (b'next', b'instant'): (8, 13.245901001653213),\n",
       " (b'god', b'forbid'): (30, 51.94100563158569),\n",
       " (b'market', b'place'): (13, 44.557427459190684),\n",
       " (b'year', b'year'): (27, 38.35606016),\n",
       " (b'right', b'wrong'): (14, 19.9968093019614),\n",
       " (b'shut', b'eyes'): (10, 10.504787818210986),\n",
       " (b'many', b'generations'): (11, 18.611155138961003),\n",
       " (b'seven', b'thousand'): (27, 35.18584378375839),\n",
       " (b'mr', b'dashwood'): (15, 11.47084781847091),\n",
       " (b'john', b'dashwood'): (37, 177.5790880349402),\n",
       " (b'four', b'thousand'): (45, 57.91570376197208),\n",
       " (b'thousand', b'year'): (13, 11.546074701986754),\n",
       " (b'three', b'thousand'): (45, 29.382315507906036),\n",
       " (b'mrs', b'dashwood'): (121, 168.81727654264003),\n",
       " (b'miss', b'dashwoods'): (23, 286.1504201680672),\n",
       " (b'may', b'live'): (26, 10.238592205902986),\n",
       " (b'live', b'ever'): (20, 11.256975298846928),\n",
       " (b'edward', b'ferrars'): (13, 152.9563166760247),\n",
       " (b'younger', b'brother'): (8, 35.658306717629195),\n",
       " (b'replied', b'elinor'): (26, 43.406522299952954),\n",
       " (b'mrs', b'ferrars'): (73, 191.8337434240504),\n",
       " (b'barton', b'park'): (12, 575.9654464177843),\n",
       " (b'barton', b'cottage'): (7, 117.7248055315471),\n",
       " (b'letter', b'written'): (7, 10.391498062192927),\n",
       " (b'sir', b'john'): (113, 143.83906130830155),\n",
       " (b'lady', b'middleton'): (95, 563.2395725168393),\n",
       " (b'present', b'case'): (12, 22.877752183510893),\n",
       " (b'point', b'view'): (19, 161.62141270998254),\n",
       " (b'mrs', b'jennings'): (229, 357.1738240734237),\n",
       " (b'colonel', b'brandon'): (132, 1876.992751736111),\n",
       " (b'ill', b'natured'): (11, 166.3773615635179),\n",
       " (b'blue', b'sky'): (12, 68.0765693722511),\n",
       " (b'able', b'stand'): (11, 14.145266481119927),\n",
       " (b'miss', b'dashwood'): (70, 147.61728024543152),\n",
       " (b'cried', b'marianne'): (34, 28.22959475375345),\n",
       " (b'mr', b'willoughby'): (36, 41.295052146495266),\n",
       " (b'miss', b'marianne'): (31, 23.54402191256249),\n",
       " (b'aye', b'aye'): (36, 527.80445),\n",
       " (b'two', b'wives'): (11, 11.033601192404898),\n",
       " (b'seven', b'days'): (103, 93.17825989836378),\n",
       " (b'round', b'neck'): (15, 31.175065001647926),\n",
       " (b'lock', b'hair'): (9, 182.1931514178705),\n",
       " (b'miss', b'williams'): (6, 81.75726290516207),\n",
       " (b'considerable', b'time'): (10, 12.835920478276277),\n",
       " (b'two', b'sides'): (13, 14.617764637071458),\n",
       " (b'two', b'thousand'): (76, 26.97752026646284),\n",
       " (b'seven', b'hundred'): (50, 70.93751736014667),\n",
       " (b'lowered', b'voice'): (7, 34.926816759833834),\n",
       " (b'burst', b'tears'): (10, 128.92586703013782),\n",
       " (b'turning', b'round'): (16, 26.751051627970092),\n",
       " (b'mr', b'ferrars'): (26, 46.695174350267735),\n",
       " (b'combe', b'magna'): (11, 21282.4375),\n",
       " (b'full', b'fine'): (16, 21.471902640916724),\n",
       " (b'take', b'notice'): (9, 10.869781379555258),\n",
       " (b'mention', b'name'): (11, 28.215714571781717),\n",
       " (b'past', b'future'): (7, 26.36310145937367),\n",
       " (b'mrs', b'palmer'): (37, 152.41183587548693),\n",
       " (b'mr', b'palmer'): (35, 112.62286949044166),\n",
       " (b'without', b'ceasing'): (8, 92.30658715098944),\n",
       " (b'without', b'cause'): (25, 16.992665616224222),\n",
       " (b'miss', b'steeles'): (29, 457.84067226890755),\n",
       " (b'human', b'beings'): (7, 215.5865780310225),\n",
       " (b'sugar', b'plums'): (24, 6374.247290640395),\n",
       " (b'two', b'boys'): (13, 14.902526285845578),\n",
       " (b'miss', b'steele'): (27, 273.7090975520643),\n",
       " (b'lucy', b'steele'): (10, 321.851606805293),\n",
       " (b'robert', b'ferrars'): (7, 108.01554321966694),\n",
       " (b'mr', b'pratt'): (8, 96.35512167515563),\n",
       " (b'poor', b'edward'): (10, 13.701985369269025),\n",
       " (b'impose', b'upon'): (6, 10.605095144663489),\n",
       " (b'latter', b'end'): (12, 47.505440848214285),\n",
       " (b'able', b'go'): (24, 11.415128811116137),\n",
       " (b'hear', b'word'): (42, 15.658916048607853),\n",
       " (b'lifted', b'eyes'): (29, 46.90990494558479),\n",
       " (b'days', b'journey'): (15, 36.23313470951266),\n",
       " (b'third', b'day'): (65, 38.036261819346215),\n",
       " (b'returned', b'home'): (11, 14.528655694339262),\n",
       " (b'read', b'book'): (13, 36.206166932482724),\n",
       " (b'berkeley', b'street'): (16, 1632.117211328976),\n",
       " (b'conduit', b'street'): (6, 229.3057239057239),\n",
       " (b'miss', b'grey'): (10, 11.538323393873677),\n",
       " (b'fifty', b'thousand'): (11, 22.93314625659446),\n",
       " (b'let', b'alone'): (31, 13.287070554264892),\n",
       " (b'tis', b'true'): (10, 33.2006357006357),\n",
       " (b'thousand', b'times'): (12, 13.579052908922597),\n",
       " (b'drink', b'wine'): (33, 125.3718869165023),\n",
       " (b'walked', b'across'): (7, 15.659825934995803),\n",
       " (b'closed', b'eyes'): (13, 42.392654839713664),\n",
       " (b'fourteen', b'years'): (6, 17.519113031846477),\n",
       " (b'looked', b'anxiously'): (7, 39.54924506387921),\n",
       " (b'dressing', b'gown'): (6, 573.2643097643098),\n",
       " (b'giving', b'orders'): (6, 39.05034403669725),\n",
       " (b'wild', b'beasts'): (17, 129.2292220113852),\n",
       " (b'twice', b'much'): (10, 12.294880127094164),\n",
       " (b'miss', b'morton'): (15, 301.21096859796546),\n",
       " (b'six', b'hundred'): (66, 148.58656604313458),\n",
       " (b'harley', b'street'): (16, 1734.1245370370373),\n",
       " (b'two', b'thirds'): (6, 47.812271833754565),\n",
       " (b'looked', b'steadily'): (7, 19.774622531939606),\n",
       " (b'carry', b'away'): (19, 22.945195952206195),\n",
       " (b'public', b'school'): (6, 48.444871247688155),\n",
       " (b'third', b'fourth'): (7, 33.73562848297214),\n",
       " (b'fell', b'upon'): (66, 16.80287802141488),\n",
       " (b'upon', b'knees'): (17, 19.365825916342025),\n",
       " (b'frame', b'mind'): (6, 22.28527486910995),\n",
       " (b'clapped', b'hands'): (6, 48.35543879579665),\n",
       " (b'thousand', b'five'): (31, 40.36654774253115),\n",
       " (b'come', b'near'): (50, 13.954896030555624),\n",
       " (b'give', b'ear'): (30, 40.27618101388593),\n",
       " (b'give', b'thanks'): (37, 92.31675350531623),\n",
       " (b'ten', b'guineas'): (6, 29.744846261355697),\n",
       " (b'beyond', b'measure'): (6, 12.925865472213786),\n",
       " (b'built', b'house'): (18, 12.827432628223702),\n",
       " (b'south', b'east'): (8, 28.895498324069756),\n",
       " (b'mr', b'harris'): (10, 96.35512167515563),\n",
       " (b'fixed', b'eyes'): (9, 10.25628746122105),\n",
       " (b'six', b'clock'): (12, 122.0654461656638),\n",
       " (b'set', b'free'): (12, 12.269407462121894),\n",
       " (b'holding', b'hand'): (11, 14.401514083514252),\n",
       " (b'led', b'away'): (18, 19.49902653463951),\n",
       " (b'pour', b'forth'): (7, 11.285272795061934),\n",
       " (b'latter', b'days'): (12, 33.51564960629921),\n",
       " (b'sooner', b'later'): (13, 1053.8305609284332),\n",
       " (b'living', b'creature'): (16, 92.88570649208947),\n",
       " (b'thirty', b'six'): (9, 28.70550052687039),\n",
       " (b'first', b'month'): (33, 29.212575964851272),\n",
       " (b'heaven', b'earth'): (88, 28.359926147794717),\n",
       " (b'light', b'darkness'): (14, 25.01394483282117),\n",
       " (b'firmament', b'heaven'): (8, 50.7102010424423),\n",
       " (b'gathered', b'together'): (126, 270.515776826514),\n",
       " (b'dry', b'land'): (31, 53.85369740691853),\n",
       " (b'bring', b'forth'): (107, 58.36389575036548),\n",
       " (b'fruit', b'tree'): (9, 16.509611888196652),\n",
       " (b'brought', b'forth'): (111, 49.073976662848516),\n",
       " (b'fruitful', b'multiply'): (12, 1979.761627906977),\n",
       " (b'fifth', b'day'): (11, 14.982576302010765),\n",
       " (b'creeping', b'thing'): (15, 80.23350062439621),\n",
       " (b'thing', b'creepeth'): (12, 172.5020263424519),\n",
       " (b'creepeth', b'upon'): (11, 63.630570867980936),\n",
       " (b'fowl', b'air'): (8, 58.954120498614955),\n",
       " (b'every', b'creeping'): (9, 21.906076104088264),\n",
       " (b'male', b'female'): (29, 2793.0471633629527),\n",
       " (b'said', b'unto'): (1697, 13.563796863032307),\n",
       " (b'every', b'herb'): (7, 14.272140492057506),\n",
       " (b'face', b'earth'): (46, 13.020241076216458),\n",
       " (b'every', b'beast'): (20, 14.017280840413619),\n",
       " (b'sixth', b'day'): (8, 11.375659784860025),\n",
       " (b'heavens', b'earth'): (14, 18.687588036220617),\n",
       " (b'seventh', b'day'): (53, 70.20407181513616),\n",
       " (b'lord', b'god'): (960, 14.320963648177829),\n",
       " (b'breath', b'life'): (9, 10.06748980926793),\n",
       " (b'tree', b'life'): (19, 13.257891509388049),\n",
       " (b'good', b'evil'): (43, 11.007428472507845),\n",
       " (b'toward', b'east'): (33, 157.31993531993533),\n",
       " (b'river', b'euphrates'): (16, 927.7297832817337),\n",
       " (b'garden', b'eden'): (6, 23.002600736312356),\n",
       " (b'thou', b'mayest'): (121, 90.60604580054616),\n",
       " (b'thou', b'shalt'): (1282, 76.91018479533653),\n",
       " (b'shalt', b'eat'): (37, 15.343261683341815),\n",
       " (b'shalt', b'surely'): (28, 24.068755694940204),\n",
       " (b'surely', b'die'): (23, 67.33616768835277),\n",
       " (b'beast', b'field'): (16, 67.56329365079365),\n",
       " (b'deep', b'sleep'): (10, 33.80713633294945),\n",
       " (b'shall', b'cleave'): (11, 10.930887262455059),\n",
       " (b'cleave', b'unto'): (13, 18.896725860155385),\n",
       " (b'shall', b'eat'): (153, 10.162678067331598),\n",
       " (b'may', b'eat'): (41, 11.32912373313445),\n",
       " (b'eat', b'fruit'): (19, 33.8262307179247),\n",
       " (b'god', b'hath'): (220, 10.925027298919721),\n",
       " (b'shall', b'surely'): (79, 11.09012041023718),\n",
       " (b'eat', b'thereof'): (25, 17.43836738874379),\n",
       " (b'fruit', b'thereof'): (21, 35.67511786275537),\n",
       " (b'art', b'thou'): (166, 22.688654029799167),\n",
       " (b'thou', b'wast'): (56, 65.88165067659075),\n",
       " (b'hast', b'thou'): (195, 15.564579356401643),\n",
       " (b'thou', b'shouldest'): (54, 66.71957310173022),\n",
       " (b'thou', b'gavest'): (24, 51.74170975236222),\n",
       " (b'thou', b'hast'): (848, 69.05758103919256),\n",
       " (b'hast', b'done'): (45, 16.75308414203658),\n",
       " (b'thou', b'art'): (411, 57.214866683841386),\n",
       " (b'shalt', b'thou'): (273, 16.140900176311817),\n",
       " (b'thy', b'seed'): (74, 25.008646551517685),\n",
       " (b'shall', b'bruise'): (10, 11.211166423030829),\n",
       " (b'shalt', b'bring'): (30, 10.217768863859503),\n",
       " (b'hearkened', b'unto'): (54, 44.62359359747536),\n",
       " (b'eat', b'bread'): (67, 108.35342874225991),\n",
       " (b'sent', b'forth'): (27, 13.281714062832423),\n",
       " (b'conceived', b'bare'): (24, 808.6315460567429),\n",
       " (b'process', b'time'): (7, 22.871276488565),\n",
       " (b'came', b'pass'): (461, 85.37947560435813),\n",
       " (b'thou', b'doest'): (30, 51.40825082807202),\n",
       " (b'thy', b'brother'): (83, 11.735645248839988),\n",
       " (b'opened', b'mouth'): (33, 86.34396196513471),\n",
       " (b'come', b'pass'): (164, 27.277340809818178),\n",
       " (b'shall', b'slay'): (28, 10.394228714685946),\n",
       " (b'dwelt', b'land'): (13, 10.818670299164816),\n",
       " (b'called', b'name'): (95, 36.07545228641687),\n",
       " (b'dwell', b'tents'): (7, 36.25242201639519),\n",
       " (b'brass', b'iron'): (16, 177.6606825242488),\n",
       " (b'hearken', b'unto'): (90, 40.66384045856221),\n",
       " (b'wife', b'bare'): (13, 28.41061688480993),\n",
       " (b'bare', b'son'): (26, 20.445276448287103),\n",
       " (b'lived', b'hundred'): (8, 10.141637462895492),\n",
       " (b'years', b'begat'): (34, 84.30595004844899),\n",
       " (b'eight', b'hundred'): (20, 76.64513369946881),\n",
       " (b'hundred', b'years'): (25, 17.381887603398592),\n",
       " (b'begat', b'sons'): (19, 34.95844745342617),\n",
       " (b'sons', b'daughters'): (82, 136.73964151425545),\n",
       " (b'years', b'died'): (10, 11.02195852996964),\n",
       " (b'lived', b'begat'): (15, 113.07851960084346),\n",
       " (b'seventy', b'years'): (13, 60.52057229183329),\n",
       " (b'hundred', b'forty'): (24, 71.88335092494862),\n",
       " (b'hundred', b'sixty'): (13, 165.41089319327222),\n",
       " (b'lord', b'hath'): (330, 10.164442852452167),\n",
       " (b'hundred', b'seventy'): (18, 131.34188820318064),\n",
       " (b'shem', b'ham'): (6, 105.68559900682806),\n",
       " (b'ham', b'japheth'): (6, 172.9400711020823),\n",
       " (b'hundred', b'twenty'): (53, 90.41527636411912),\n",
       " (b'mighty', b'men'): (72, 38.65737852414268),\n",
       " (b'man', b'beast'): (38, 15.883089513632703),\n",
       " (b'fowls', b'air'): (19, 214.81912400865176),\n",
       " (b'found', b'grace'): (18, 24.94623601378405),\n",
       " (b'shalt', b'make'): (85, 14.441717482435925),\n",
       " (b'hundred', b'cubits'): (21, 66.78561884798783),\n",
       " (b'cubits', b'breadth'): (32, 784.806914212548),\n",
       " (b'fifty', b'cubits'): (19, 189.6739874273892),\n",
       " (b'cubits', b'height'): (11, 144.2418722863497),\n",
       " (b'thirty', b'cubits'): (8, 36.89263271939328),\n",
       " ...}"
      ]
     },
     "execution_count": 148,
     "metadata": {},
     "output_type": "execute_result"
    }
   ],
   "source": [
    "bigram_gut.phrasegrams"
   ]
  },
  {
   "cell_type": "markdown",
   "metadata": {},
   "source": [
    "##### Increasing the threshold to 50"
   ]
  },
  {
   "cell_type": "code",
   "execution_count": 151,
   "metadata": {},
   "outputs": [],
   "source": [
    "bigram_gut = Phraser(Phrases(gut_clean, min_count=20, threshold=80))"
   ]
  },
  {
   "cell_type": "code",
   "execution_count": 152,
   "metadata": {},
   "outputs": [
    {
     "data": {
      "text/plain": [
       "{(b'miss', b'taylor'): (48, 308.16199095022625),\n",
       " (b'mr', b'woodhouse'): (132, 103.43552997716387),\n",
       " (b'mr', b'weston'): (162, 93.2892768945825),\n",
       " (b'mrs', b'weston'): (249, 190.8720100846918),\n",
       " (b'great', b'deal'): (182, 113.49932720202457),\n",
       " (b'mr', b'knightley'): (277, 190.97634655924165),\n",
       " (b'half', b'hour'): (73, 86.0371989473885),\n",
       " (b'miss', b'woodhouse'): (173, 279.7508900045641),\n",
       " (b'years', b'ago'): (56, 125.47720747416746),\n",
       " (b'mr', b'elton'): (214, 145.65891120763786),\n",
       " (b'dare', b'say'): (117, 118.31453860316505),\n",
       " (b'frank', b'churchill'): (151, 1631.2436553792145),\n",
       " (b'miss', b'bates'): (113, 357.20790705543965),\n",
       " (b'drawing', b'room'): (49, 163.05149924047288),\n",
       " (b'mrs', b'goddard'): (58, 236.20605496381077),\n",
       " (b'make', b'atonement'): (65, 151.00620842572062),\n",
       " (b'young', b'ladies'): (47, 80.60469214381526),\n",
       " (b'old', b'fashioned'): (38, 111.1465278848159),\n",
       " (b'miss', b'smith'): (58, 120.15155763963044),\n",
       " (b'harriet', b'smith'): (31, 81.79654095604131),\n",
       " (b'robert', b'martin'): (31, 867.7653191242905),\n",
       " (b',\"', b'replied'): (301, 84.61550753384014),\n",
       " (b'john', b'knightley'): (58, 136.60807736363972),\n",
       " (b'beg', b'pardon'): (42, 1240.5063752276867),\n",
       " (b'good', b'natured'): (66, 135.07997585374267),\n",
       " (b'thousand', b'pounds'): (48, 328.01348585189646),\n",
       " (b'jane', b'fairfax'): (111, 848.6977801514593),\n",
       " (b'ten', b'minutes'): (42, 130.33426411614778),\n",
       " (b'eating', b'drinking'): (23, 273.3628579074124),\n",
       " (b'hundred', b'thirty'): (45, 85.48880297248444),\n",
       " (b'miss', b'fairfax'): (125, 249.34268977300465),\n",
       " (b'colonel', b'campbell'): (28, 333.84215686274507),\n",
       " (b'five', b'minutes'): (37, 82.68506866827119),\n",
       " (b'good', b'bye'): (45, 99.54309200717958),\n",
       " (b'mrs', b'elton'): (142, 116.21402485505877),\n",
       " (b'maple', b'grove'): (31, 3102.0364389233955),\n",
       " (b'forty', b'years'): (68, 135.97813689399138),\n",
       " (b'ten', b'thousand'): (82, 117.24591056131727),\n",
       " (b'sir', b'walter'): (136, 501.5898920634921),\n",
       " (b'kellynch', b'hall'): (25, 361.6002973346076),\n",
       " (b'lady', b'russell'): (147, 762.7885068216494),\n",
       " (b'mr', b'elliot'): (174, 154.0348311900412),\n",
       " (b'mrs', b'clay'): (66, 141.76542086947865),\n",
       " (b'mrs', b'croft'): (41, 132.78552726867582),\n",
       " (b'captain', b'wentworth'): (196, 640.0801443966208),\n",
       " (b'mrs', b'musgrove'): (66, 129.76988525744582),\n",
       " (b'charles', b'hayter'): (33, 1346.7438393672041),\n",
       " (b'hundred', b'fifty'): (59, 146.92482409169358),\n",
       " (b'captain', b'harville'): (37, 179.70734963135428),\n",
       " (b'captain', b'benwick'): (56, 407.73936470979544),\n",
       " (b'camden', b'place'): (29, 128.6595717884131),\n",
       " (b'colonel', b'wallis'): (23, 172.56030405405406),\n",
       " (b'lady', b'dalrymple'): (25, 159.80805331330953),\n",
       " (b'mrs', b'smith'): (79, 119.54540234501677),\n",
       " (b'john', b'dashwood'): (37, 94.33889051856197),\n",
       " (b'mrs', b'dashwood'): (121, 146.98745630005726),\n",
       " (b'mrs', b'ferrars'): (73, 149.51747649227454),\n",
       " (b'sir', b'john'): (113, 123.86141390437078),\n",
       " (b'lady', b'middleton'): (95, 469.3663104306994),\n",
       " (b'mrs', b'jennings'): (229, 333.2559340685069),\n",
       " (b'colonel', b'brandon'): (132, 1655.3006944444444),\n",
       " (b'miss', b'dashwood'): (70, 113.55175403494732),\n",
       " (b'aye', b'aye'): (36, 272.4152),\n",
       " (b'mrs', b'palmer'): (37, 80.96878780885243),\n",
       " (b'miss', b'steeles'): (29, 171.69025210084033),\n",
       " (b'sugar', b'plums'): (24, 1341.9467980295565),\n",
       " (b'miss', b'steele'): (27, 87.08925831202045),\n",
       " (b'six', b'hundred'): (66, 112.0488858685933),\n",
       " (b'gathered', b'together'): (126, 236.98076317033457),\n",
       " (b'male', b'female'): (29, 1047.3926862611074),\n",
       " (b'eat', b'bread'): (67, 82.13888953042282),\n",
       " (b'conceived', b'bare'): (24, 170.23822022247217),\n",
       " (b'came', b'pass'): (461, 82.57094022263584),\n",
       " (b'sons', b'daughters'): (82, 110.10204901147843),\n",
       " (b'cubits', b'breadth'): (32, 348.80307298335464),\n",
       " (b'seventh', b'month'): (29, 129.91398897838067),\n",
       " (b'burnt', b'offerings'): (86, 411.5673775100033),\n",
       " (b'sweet', b'savour'): (43, 673.5411936704506),\n",
       " (b'land', b'canaan'): (66, 150.54179721287844),\n",
       " (b'silver', b'gold'): (64, 101.5664988899622),\n",
       " (b'land', b'egypt'): (227, 107.189570800309),\n",
       " (b'thine', b'enemies'): (63, 85.53529671202706),\n",
       " (b'unleavened', b'bread'): (43, 559.4440515732705),\n",
       " (b'early', b'morning'): (51, 83.87867254140859),\n",
       " (b'children', b'ammon'): (89, 226.7103861517976),\n",
       " (b'burnt', b'offering'): (184, 361.338953934151),\n",
       " (b'take', b'heed'): (59, 145.8541704420026),\n",
       " (b'sent', b'messengers'): (46, 210.75733193677394),\n",
       " (b'edge', b'sword'): (38, 127.16081449747415),\n",
       " (b'abraham', b'isaac'): (25, 97.36347000629037),\n",
       " (b'reigned', b'stead'): (63, 1549.4515343915343),\n",
       " (b'kid', b'goats'): (28, 1057.7177247136478),\n",
       " (b'captain', b'guard'): (31, 89.90816461241194),\n",
       " (b'loud', b'voice'): (57, 103.25015160703457),\n",
       " (b'fine', b'linen'): (34, 186.5127543035994),\n",
       " (b'thus', b'saith'): (445, 167.23722816258186),\n",
       " (b'moses', b'aaron'): (66, 103.00843066077441),\n",
       " (b'signs', b'wonders'): (24, 287.26689866076134),\n",
       " (b'without', b'blemish'): (46, 174.99790480708413),\n",
       " (b'throughout', b'generations'): (26, 153.4214913268754),\n",
       " (b'palm', b'trees'): (24, 125.24836781609196),\n",
       " (b'keep', b'commandments'): (50, 165.71477236781274),\n",
       " (b'wash', b'clothes'): (31, 287.22559619661064),\n",
       " (b'graven', b'image'): (27, 473.64788872329854),\n",
       " (b'peace', b'offerings'): (83, 245.08124935738525),\n",
       " (b'utterly', b'destroyed'): (24, 90.75968682325504),\n",
       " (b'beasts', b'field'): (31, 83.46053921568627),\n",
       " (b'blue', b'purple'): (29, 199.5943208831287),\n",
       " (b'purple', b'scarlet'): (28, 707.2045690550364),\n",
       " (b'shittim', b'wood'): (27, 435.60544590643275),\n",
       " (b'pure', b'gold'): (39, 107.23585765667215),\n",
       " (b'twined', b'linen'): (21, 218.28141025641025),\n",
       " (b'tabernacle', b'congregation'): (133, 618.3494086263419),\n",
       " (b'door', b'tabernacle'): (52, 86.97560333164382),\n",
       " (b'sin', b'offering'): (118, 166.69844695209977),\n",
       " (b'flour', b'mingled'): (27, 1203.8550505050505),\n",
       " (b'meat', b'offering'): (122, 268.7486256136862),\n",
       " (b'burn', b'incense'): (26, 169.27207953603977),\n",
       " (b'shekel', b'sanctuary'): (25, 557.6793318047821),\n",
       " (b'fine', b'flour'): (36, 387.55896998150524),\n",
       " (b'mingled', b'oil'): (32, 451.0185430463576),\n",
       " (b'trespass', b'offering'): (36, 163.29643783062838),\n",
       " (b'goats', b'sin'): (27, 90.42270778802019),\n",
       " (b'statutes', b'judgments'): (29, 336.4812252964427),\n",
       " (b'dwell', b'therein'): (37, 113.27090752553516),\n",
       " (b'high', b'places'): (99, 172.28990380304603),\n",
       " (b'among', b'heathen'): (47, 80.78742586002372),\n",
       " (b'tribe', b'manasseh'): (39, 346.5563768814613),\n",
       " (b'ark', b'covenant'): (43, 205.82195416798066),\n",
       " (b'eleazar', b'priest'): (29, 116.66048724781119),\n",
       " (b'bringeth', b'forth'): (36, 115.42405592924105),\n",
       " (b'priests', b'levites'): (64, 257.58088279537543),\n",
       " (b'written', b'book'): (85, 245.1459219386851),\n",
       " (b'east', b'west'): (28, 117.51912167554626),\n",
       " (b'cities', b'villages'): (28, 120.199969113332),\n",
       " (b'inhabitants', b'jerusalem'): (45, 93.4146997179884),\n",
       " (b'mount', b'ephraim'): (31, 126.0587265262166),\n",
       " (b'fig', b'tree'): (37, 465.90124748490945),\n",
       " (b'thine', b'handmaid'): (29, 130.09321872015283),\n",
       " (b'began', b'reign'): (54, 145.58590120025903),\n",
       " (b'reign', b'reigned'): (36, 275.8565099617731),\n",
       " (b'slept', b'fathers'): (36, 210.50145851444026),\n",
       " (b'fir', b'tree'): (36, 327.23529235112164),\n",
       " (b'rest', b'acts'): (45, 250.56585724797648),\n",
       " (b'book', b'chronicles'): (38, 640.0733082706766),\n",
       " (b'chronicles', b'kings'): (34, 534.1474509803921),\n",
       " (b'king', b'assyria'): (83, 111.68102806511565),\n",
       " (b'king', b'babylon'): (136, 83.90454473522942),\n",
       " (b'mercy', b'endureth'): (41, 706.7153234175026),\n",
       " (b'endureth', b'ever'): (50, 209.11262589044458),\n",
       " (b'jeremiah', b'prophet'): (25, 85.27471701893218),\n",
       " (b'chief', b'priests'): (70, 198.38099843284846),\n",
       " (b'workers', b'iniquity'): (21, 86.86709183673469),\n",
       " (b'jesus', b'christ'): (205, 214.68400264452896),\n",
       " (b'holy', b'ghost'): (90, 425.2538714051238),\n",
       " (b'verily', b'say'): (77, 97.14457385098173),\n",
       " (b'verily', b'verily'): (25, 159.7480765622068),\n",
       " (b'chimney', b'sweeper'): (24, 1472.5145945945947),\n",
       " (b'gingerbread', b'boy'): (27, 171.89247854618878),\n",
       " (b'little', b'jackal'): (61, 111.09918433931485),\n",
       " (b'half', b'chick'): (27, 179.46340912513176),\n",
       " (b'father', b'brown'): (208, 110.86618487750053),\n",
       " (b'buster', b'bear'): (142, 599.0816641430529),\n",
       " (b'green', b'forest'): (66, 512.2679748180852),\n",
       " (b'sammy', b'jay'): (25, 3095.6272727272726),\n",
       " (b'blacky', b'crow'): (22, 494.22206095791),\n",
       " (b'laughing', b'brook'): (30, 425.11735330836456),\n",
       " (b'little', b'joe'): (111, 172.82095341671197),\n",
       " (b'joe', b'otter'): (47, 2576.43631778058),\n",
       " (b'billy', b'mink'): (28, 4989.289377289378),\n",
       " (b'farmer', b'brown'): (100, 511.2322185940021),\n",
       " (b'brown', b'boy'): (93, 176.37963160060735),\n",
       " (b'grandfather', b'frog'): (21, 878.7587096774193),\n",
       " (b'march', b'hare'): (31, 1393.492931547619),\n",
       " (b'mock', b'turtle'): (56, 4269.830721003134),\n",
       " (b'project', b'gutenberg'): (29, 3714.752727272727),\n",
       " (b'de', b'worms'): (22, 202.26848826848828),\n",
       " (b'dr', b'bull'): (65, 1044.9641980360066),\n",
       " (b'mrs', b'pomfret'): (34, 116.69031184216968),\n",
       " (b'attorney', b'case'): (25, 101.75377259823696),\n",
       " (b'guinea', b'hen'): (51, 1663.6862096138693),\n",
       " (b'sir', b'arthur'): (71, 193.44437761069338),\n",
       " (b'miss', b'somers'): (49, 307.3467475879241),\n",
       " (b'mr', b'somerville'): (32, 91.28379948172639),\n",
       " (b'aside', b').'): (29, 182.79082667302876),\n",
       " (b'mr', b'gresham'): (49, 167.6579117147708),\n",
       " (b'lady', b'diana'): (30, 248.59030515403705),\n",
       " (b'mrs', b'theresa'): (67, 257.26606064990074),\n",
       " (b'de', b'grey'): (77, 860.0488745125842),\n",
       " (b'dr', b'middleton'): (40, 457.93302850995167),\n",
       " (b'mrs', b'villars'): (30, 122.24699335846346),\n",
       " (b'moby', b'dick'): (84, 5702.045002616431),\n",
       " (b'sperm', b'whale'): (183, 361.3227679588582),\n",
       " (b'mast', b'head'): (50, 96.9242154700064),\n",
       " (b'mast', b'heads'): (37, 297.50349470654743),\n",
       " (b'quarter', b'deck'): (32, 313.385075542603),\n",
       " (b'captain', b'peleg'): (32, 117.45578407278057),\n",
       " (b'haue', b'seene'): (22, 89.422006302521),\n",
       " (b'wee', b'l'): (35, 2534.8808933002483)}"
      ]
     },
     "execution_count": 152,
     "metadata": {},
     "output_type": "execute_result"
    }
   ],
   "source": [
    "bigram_gut.phrasegrams"
   ]
  },
  {
   "cell_type": "code",
   "execution_count": 153,
   "metadata": {},
   "outputs": [
    {
     "data": {
      "text/plain": [
       "['He', 'sat', 'in', 'the', 'drawing_room']"
      ]
     },
     "execution_count": 153,
     "metadata": {},
     "output_type": "execute_result"
    }
   ],
   "source": [
    "bigram_gut['He sat in the drawing room'.split()]"
   ]
  },
  {
   "cell_type": "markdown",
   "metadata": {},
   "source": [
    "#### Assessing the phrases in our data"
   ]
  },
  {
   "cell_type": "code",
   "execution_count": 154,
   "metadata": {},
   "outputs": [],
   "source": [
    "phrases = Phrases(reviews_tokens2)"
   ]
  },
  {
   "cell_type": "code",
   "execution_count": 155,
   "metadata": {},
   "outputs": [],
   "source": [
    "bigram = Phraser(phrases)"
   ]
  },
  {
   "cell_type": "code",
   "execution_count": 156,
   "metadata": {},
   "outputs": [
    {
     "data": {
      "text/plain": [
       "{(b'battery', b'draining'): (140, 24.60182588597843),\n",
       " (b'like', b'hell'): (18, 40.333761804826864),\n",
       " (b'6', b'7'): (11, 46.35654559707343),\n",
       " (b'7', b'hours'): (17, 41.464648825522964),\n",
       " (b'4', b'5'): (17, 12.711616659202866),\n",
       " (b'5', b'hours'): (40, 35.864538208282795),\n",
       " (b\"n't\", b'know'): (73, 30.059308097117572),\n",
       " (b'10', b'cash'): (7, 34.83681885125184),\n",
       " (b'cash', b'back'): (32, 139.72071756727195),\n",
       " (b'lenovo', b'k8'): (567, 32.221337692317384),\n",
       " (b'k8', b'note'): (704, 66.4291124349742),\n",
       " (b'lenovo', b'k'): (23, 12.715260979411921),\n",
       " (b'k', b'8'): (18, 129.12765600067186),\n",
       " (b'service', b'station'): (8, 61.343879668049794),\n",
       " (b'dont', b'buy'): (91, 39.2145225464191),\n",
       " (b'better', b'go'): (27, 11.000604577028609),\n",
       " (b'within', b'2'): (20, 18.840962192013592),\n",
       " (b'2', b'months'): (37, 32.581542699724515),\n",
       " (b'battery', b'life'): (251, 26.844307686629822),\n",
       " (b'8', b'months'): (14, 27.428339517625233),\n",
       " (b'every', b'time'): (24, 16.55102341442576),\n",
       " (b'draining', b'quickly'): (15, 43.48198529411765),\n",
       " (b'many', b'options'): (8, 10.825720823798626),\n",
       " (b'cast', b'screen'): (78, 56.01842023305909),\n",
       " (b'call', b'recording'): (112, 153.7143742104752),\n",
       " (b'recording', b'option'): (23, 44.455354159705976),\n",
       " (b'option', b'available'): (17, 21.411683060768812),\n",
       " (b'usb', b'cable'): (22, 730.0679012345679),\n",
       " (b'new', b'update'): (17, 13.307566807313643),\n",
       " (b'8.0', b'oreo'): (6, 31.058560924369747),\n",
       " (b'heating', b'problem'): (278, 18.977146655664054),\n",
       " (b'dual', b'sim'): (32, 19.933314606741572),\n",
       " (b'customer', b'service'): (35, 42.064374629519854),\n",
       " (b'feels', b'like'): (12, 17.729126068055763),\n",
       " (b'big', b'disappointment'): (6, 34.99142011834319),\n",
       " (b'incoming', b'calls'): (21, 296.60438871473355),\n",
       " (b'camera', b'quality'): (429, 11.576084617977164),\n",
       " (b'works', b'well'): (16, 21.914211599036502),\n",
       " (b'lower', b'price'): (8, 12.774085541474653),\n",
       " (b'ever', b'purchased'): (10, 11.83514790057239),\n",
       " (b'full', b'charge'): (82, 51.28664511623715),\n",
       " (b\"n't\", b'buy'): (437, 22.052094887795292),\n",
       " (b'network', b'problem'): (64, 10.577871325101034),\n",
       " (b'value', b'money'): (176, 137.24444218241044),\n",
       " (b'bluetooth', b'speaker'): (10, 10.947977413681384),\n",
       " (b'half', b'hour'): (15, 137.31684662719147),\n",
       " (b'really', b'killer'): (20, 26.292961629096087),\n",
       " (b'screen', b'cast'): (37, 24.556019828190287),\n",
       " (b'ca', b\"n't\"): (223, 61.67462743690946),\n",
       " (b\"n't\", b'work'): (89, 13.675244123015425),\n",
       " (b'fast', b'charging'): (86, 11.928566447933658),\n",
       " (b'sd', b'card'): (41, 494.0538407983291),\n",
       " (b'last', b'day'): (26, 19.379611423220975),\n",
       " (b'though', b'4000'): (7, 12.715260979411923),\n",
       " (b'4000', b'mah'): (92, 610.729878917379),\n",
       " (b'mah', b'battery'): (70, 16.451838298236602),\n",
       " (b'battery', b'drains'): (171, 21.15463919747433),\n",
       " (b'drains', b'fast'): (101, 53.28772703806261),\n",
       " (b'depth', b'enabled'): (20, 208.71352941176468),\n",
       " (b'enabled', b'mode'): (13, 79.50991596638656),\n",
       " (b'fully', b'charged'): (33, 215.42987249544626),\n",
       " (b'1', b'hour'): (15, 37.33301767676768),\n",
       " (b'battery', b'backup'): (530, 28.817399799506195),\n",
       " (b'price', b'point'): (15, 20.95220379818594),\n",
       " (b'heating', b'issue'): (244, 23.070694828047767),\n",
       " (b'system', b'updates'): (10, 27.111452411516595),\n",
       " (b'fast', b'delivery'): (27, 16.63126877596676),\n",
       " (b'heating', b'issues'): (121, 20.984276440969353),\n",
       " (b'thanks', b'amazon'): (43, 49.82868229946228),\n",
       " (b'8', b'hours'): (26, 42.45190236898779),\n",
       " (b'turbo', b'charger'): (150, 97.2623355263158),\n",
       " (b'basic', b'features'): (20, 27.061825004576242),\n",
       " (b'call', b'recorder'): (52, 153.79418437361664),\n",
       " (b'third', b'class'): (25, 649.8406593406594),\n",
       " (b'k4', b'note'): (102, 55.75702656071542),\n",
       " (b'turbo', b'charge'): (24, 11.922479838709677),\n",
       " (b'stock', b'android'): (116, 301.8782422737307),\n",
       " (b'service', b'centre'): (81, 198.38871722433123),\n",
       " (b'6', b'month'): (11, 17.258281044797897),\n",
       " (b'turbo', b'charging'): (139, 38.68839468801875),\n",
       " (b'charging', b'slow'): (29, 11.34965773143113),\n",
       " (b'slow', b'charging'): (27, 10.403852920478537),\n",
       " (b'recommend', b'buy'): (22, 13.66402756445979),\n",
       " (b'mid', b'range'): (9, 103.38374125874125),\n",
       " (b'worth', b'money'): (68, 40.31660480266647),\n",
       " (b'sim', b'slot'): (26, 75.0178506705328),\n",
       " (b'5', b'star'): (16, 39.700366188587125),\n",
       " (b'deca', b'core'): (65, 925.4381846635368),\n",
       " (b'core', b'processor'): (55, 190.78429474770937),\n",
       " (b'one', b'thing'): (22, 10.905519455864964),\n",
       " (b'worst', b'experience'): (40, 14.386299341762298),\n",
       " (b'k5', b'note'): (72, 61.10169792116465),\n",
       " (b'plz', b'dont'): (8, 16.889423076923077),\n",
       " (b'dual', b'camera'): (270, 22.026716564762104),\n",
       " (b'upto', b'mark'): (44, 267.76785092302333),\n",
       " (b'dolby', b'atmos'): (120, 378.5883482714469),\n",
       " (b'lenovo', b'k6'): (20, 16.19396445491141),\n",
       " (b'got', b'defective'): (15, 27.025341041519095),\n",
       " (b'let', b'know'): (7, 32.85305555555556),\n",
       " (b'draining', b'fast'): (73, 53.97602684563759),\n",
       " (b'waste', b'money'): (137, 74.34601977255844),\n",
       " (b'please', b\"n't\"): (94, 15.649987511076485),\n",
       " (b'go', b'mi'): (17, 22.75864723144273),\n",
       " (b'battery', b'drain'): (106, 20.450900530731037),\n",
       " (b'since', b'last'): (21, 44.09806114839672),\n",
       " (b'fully', b'satisfied'): (21, 58.66617063492063),\n",
       " (b'sim', b'slots'): (13, 132.8887640449438),\n",
       " (b'support', b'4g'): (9, 10.343346888801435),\n",
       " (b'dual', b'cameras'): (9, 12.368209150326797),\n",
       " (b'4gb', b'ram'): (65, 250.39731827805224),\n",
       " (b'4000mah', b'battery'): (38, 11.564960886571056),\n",
       " (b'pls', b\"n't\"): (37, 18.860742335446318),\n",
       " (b'front', b'camera'): (158, 16.53985642364348),\n",
       " (b'need', b'improve'): (9, 33.29232934553132),\n",
       " (b'reasonable', b'price'): (12, 36.9596875),\n",
       " (b'price', b'range'): (181, 65.99944196428571),\n",
       " (b'left', b'speaker'): (15, 56.929482551143195),\n",
       " (b'speaker', b'working'): (60, 20.986069305046087),\n",
       " (b'double', b'tap'): (8, 791.9933035714286),\n",
       " (b'working', b'properly'): (165, 53.51568421171706),\n",
       " (b'sound', b'quality'): (118, 20.624099936729372),\n",
       " (b'hota', b'hai'): (14, 207.81706364701287),\n",
       " (b'ota', b'update'): (9, 65.70611111111111),\n",
       " (b'bluetooth', b'connection'): (8, 30.325897435897435),\n",
       " (b'gorilla', b'glass'): (110, 425.11485006161854),\n",
       " (b'bit', b'heavy'): (14, 29.160315590499412),\n",
       " (b'takes', b'lot'): (20, 25.209813562212243),\n",
       " (b'want', b'return'): (51, 49.796492576930824),\n",
       " (b'touch', b'screen'): (26, 20.09621328586455),\n",
       " (b'full', b'day'): (26, 15.590301927060446),\n",
       " (b'corning', b'gorilla'): (14, 467.26909569798073),\n",
       " (b'depth', b'effect'): (19, 60.76308256880734),\n",
       " (b'mi', b'a1'): (33, 502.4409042633895),\n",
       " (b'snapdragon', b'625'): (7, 758.147435897436),\n",
       " (b'much', b'better'): (66, 18.301005796329413),\n",
       " (b'1', b'hr'): (14, 75.59936079545454),\n",
       " (b'note', b'4'): (124, 29.315550047386452),\n",
       " (b'west', b'money'): (7, 22.66162100019161),\n",
       " (b'automatic', b'call'): (7, 18.12304627643273),\n",
       " (b\"n't\", b'expect'): (17, 12.320323622347999),\n",
       " (b'expect', b'much'): (11, 18.610700236034617),\n",
       " (b'selfie', b'camera'): (37, 12.733228363411254),\n",
       " (b'kept', b'idle'): (8, 151.62948717948717),\n",
       " (b'getting', b'discharged'): (9, 53.49208502939846),\n",
       " (b'mistake', b'buying'): (7, 52.45996895098691),\n",
       " (b'finger', b'print'): (39, 955.3846519363269),\n",
       " (b'long', b'lasting'): (20, 347.8558823529412),\n",
       " (b'camera', b'clarity'): (40, 10.14833365204046),\n",
       " (b'highly', b'recommend'): (6, 30.372624550590654),\n",
       " (b'3', b'days'): (28, 20.09895671705753),\n",
       " (b'every', b'thing'): (23, 70.04270579719682),\n",
       " (b'service', b'center'): (127, 205.03981697265957),\n",
       " (b'venom', b'black'): (27, 1822.1022408963584),\n",
       " (b'going', b'return'): (8, 10.498047221729095),\n",
       " (b'totally', b'satisfied'): (10, 17.633438692748094),\n",
       " (b'headphone', b'jack'): (16, 225.86475694444442),\n",
       " (b'normal', b'usage'): (37, 64.9149600356763),\n",
       " (b'moto', b'g5'): (13, 518.7324561403509),\n",
       " (b'network', b'reception'): (10, 37.03375501002004),\n",
       " (b'drains', b'quickly'): (22, 51.69187062937063),\n",
       " (b'need', b'invoice'): (8, 30.813113330438558),\n",
       " (b'network', b'issue'): (69, 15.933850895067444),\n",
       " (b'internet', b'speed'): (13, 28.519652761032074),\n",
       " (b'heats', b'much'): (16, 10.524459005784088),\n",
       " (b'return', b'policy'): (35, 120.37760814249364),\n",
       " (b'customer', b'care'): (71, 387.8701118012423),\n",
       " (b'strongly', b'recommend'): (7, 182.23574730354392),\n",
       " (b'two', b'days'): (32, 46.437440013960384),\n",
       " (b'8', b'hrs'): (10, 25.95369760807549),\n",
       " (b'hrs', b'charge'): (14, 13.845460457856401),\n",
       " (b'must', b'buy'): (18, 17.365880931136136),\n",
       " (b'bad', b'experience'): (70, 24.39180828246164),\n",
       " (b'one', b'month'): (53, 24.260406917860028),\n",
       " (b'mi', b'note'): (38, 18.519917624784693),\n",
       " (b'one', b'speaker'): (44, 16.438177340779255),\n",
       " (b'charging', b'takes'): (46, 15.404957811268963),\n",
       " (b'cast', b'feature'): (11, 14.123596847384762),\n",
       " (b'lenovo', b'k3'): (17, 11.25613267029908),\n",
       " (b'k3', b'note'): (46, 63.747893304586746),\n",
       " (b'connect', b'smart'): (9, 33.688243252866194),\n",
       " (b'smart', b'tv'): (32, 306.4897782896631),\n",
       " (b'android', b'version'): (17, 62.3792194092827),\n",
       " (b'2', b'hrs'): (21, 27.746862170087976),\n",
       " (b'screen', b'casting'): (8, 14.354438061331821),\n",
       " (b'could', b'find'): (8, 21.592806718597856),\n",
       " (b'draw', b'back'): (6, 30.186574783052578),\n",
       " (b'lenovo', b'team'): (15, 10.403395346791573),\n",
       " (b'flash', b'light'): (20, 57.7438726686847),\n",
       " (b'rear', b'camera'): (142, 21.99282656437904),\n",
       " (b'needs', b'improvement'): (10, 245.8856548856549),\n",
       " (b'pros', b'cons'): (7, 108.60514233241506),\n",
       " (b'network', b'issues'): (37, 14.930143752071068),\n",
       " (b'whole', b'day'): (18, 78.52517875383045),\n",
       " (b'bluetooth', b'headset'): (9, 36.75866355866356),\n",
       " (b'worth', b'price'): (28, 10.086293456336023),\n",
       " (b'gets', b'heated'): (62, 119.02272245762711),\n",
       " (b'everything', b'perfect'): (9, 17.03211405529954),\n",
       " (b'little', b'bit'): (60, 202.15380073342035),\n",
       " (b'.battery', b'backup'): (7, 23.749196787148595),\n",
       " (b'playing', b'games'): (46, 213.26960460922726),\n",
       " (b'airtel', b'4g'): (6, 28.444203944203945),\n",
       " (b'totally', b'waste'): (16, 29.038458104548905),\n",
       " (b'15', b'days'): (27, 54.00502283105023),\n",
       " (b'getting', b'hang'): (10, 11.14418438112468),\n",
       " (b'mother', b'board'): (11, 3899.0439560439563),\n",
       " (b'let', b\"'s\"): (15, 14.405724725943971),\n",
       " (b'never', b'seen'): (13, 63.22539258269295),\n",
       " (b'redmi', b'note'): (121, 59.470018856065366),\n",
       " (b'listening', b'music'): (7, 58.9292476332835),\n",
       " (b'lenevo', b'k8'): (14, 20.913179299776026),\n",
       " (b'sim', b'card'): (29, 57.36205642227791),\n",
       " (b'honor', b'6x'): (18, 1926.720551378446),\n",
       " (b'print', b'sensor'): (17, 211.5129657228018),\n",
       " (b'worth', b'buying'): (26, 49.40997075616209),\n",
       " (b'contacted', b'amazon'): (8, 19.669216697156163),\n",
       " (b'many', b'times'): (34, 58.826155561272614),\n",
       " (b'killer', b'note'): (28, 14.257658904246005),\n",
       " (b'till', b'date'): (20, 194.65273206056617),\n",
       " (b'even', b'though'): (56, 46.892436504419614),\n",
       " (b'getting', b'hot'): (29, 47.70915691811214),\n",
       " (b'pls', b'pls'): (10, 50.6991598079561),\n",
       " (b'hour', b'full'): (8, 10.0110885390215),\n",
       " (b'7', b'days'): (11, 18.83896145269194),\n",
       " (b'multiple', b'times'): (6, 14.889966007805615),\n",
       " (b'horrible', b'experience'): (6, 11.586108934169278),\n",
       " (b'replaced', b'new'): (7, 15.594804852320674),\n",
       " (b'5', b'months'): (18, 20.08258881922675),\n",
       " (b'stop', b'working'): (13, 22.852643528246745),\n",
       " (b'need', b'restart'): (8, 17.03783913565426),\n",
       " (b'want', b'invoice'): (10, 45.25906934027246),\n",
       " (b'bokeh', b'effect'): (34, 542.5275229357799),\n",
       " (b'4g', b'sim'): (18, 22.85124249450092),\n",
       " (b'sim', b'cards'): (7, 73.8270911360799),\n",
       " (b'solve', b'problem'): (15, 20.332657131068625),\n",
       " (b'operating', b'system'): (15, 218.53473762010347),\n",
       " (b'user', b'friendly'): (44, 561.9601608187135),\n",
       " (b'k6', b'power'): (23, 254.2247432529257),\n",
       " (b'best', b'class'): (10, 10.457206012378427),\n",
       " (b'front', b'rear'): (24, 27.874035575181722),\n",
       " (b'picture', b'quality'): (62, 42.05781396219352),\n",
       " (b'depth', b'mode'): (121, 156.7935542857143),\n",
       " (b'lenovo', b'k4'): (44, 13.524413950829045),\n",
       " (b'many', b'problems'): (26, 34.947108484592654),\n",
       " (b'first', b'day'): (19, 17.975291754871627),\n",
       " (b'twice', b'day'): (7, 16.107728975144706),\n",
       " (b'normal', b'use'): (24, 14.130613040552864),\n",
       " (b'hanging', b'problem'): (39, 14.623872628883975),\n",
       " (b'everything', b'fine'): (29, 56.62624932671016),\n",
       " (b'customer', b'support'): (13, 22.341629279811098),\n",
       " (b'hard', b'earned'): (8, 923.9921875),\n",
       " (b'earned', b'money'): (8, 72.23391693811074),\n",
       " (b'return', b'item'): (13, 32.98016661438182),\n",
       " (b'liked', b'much'): (10, 21.367841011743447),\n",
       " (b'best', b'smartphone'): (24, 17.69130058258542),\n",
       " (b'price', b'segment'): (23, 56.57095025510205),\n",
       " (b'takes', b'3'): (14, 11.797213725229419),\n",
       " (b'3', b'hours'): (33, 26.927420272885463),\n",
       " (b'fully', b'charge'): (15, 18.924571172555044),\n",
       " (b'missed', b'calls'): (8, 81.56620689655173),\n",
       " (b'ever', b'used'): (25, 27.67090917598615),\n",
       " (b'slow', b'motion'): (20, 364.1348522167488),\n",
       " (b'moto', b'g5s'): (16, 600.6375807940905),\n",
       " (b'g5s', b'plus'): (14, 444.62781954887214),\n",
       " (b'mat', b'lena'): (9, 1689.5857142857144),\n",
       " (b'heats', b'lot'): (26, 51.27249643896699),\n",
       " (b'data', b'cable'): (11, 75.5242656449553),\n",
       " (b'getting', b'heated'): (37, 49.03441127694859),\n",
       " (b'5', b'mins'): (11, 47.98012170385395),\n",
       " (b'front', b'back'): (32, 14.133598597845427),\n",
       " (b'dedicated', b'memory'): (8, 53.17940647482015),\n",
       " (b'10', b'days'): (49, 61.242809396036336),\n",
       " (b'ever', b'seen'): (33, 150.71169162153552),\n",
       " (b'half', b'day'): (24, 58.04336820353868),\n",
       " (b'3', b'months'): (49, 63.79234088457389),\n",
       " (b'1', b'day'): (33, 23.25553370786517),\n",
       " (b'mediatek', b'processor'): (18, 107.14445993031359),\n",
       " (b'almost', b'2'): (9, 11.438201160541587),\n",
       " (b'2', b'weeks'): (26, 110.68141711229947),\n",
       " (b'every', b'penny'): (7, 177.05239520958085),\n",
       " (b'using', b'net'): (10, 10.544470596626368),\n",
       " (b'go', b'redmi'): (12, 12.127693547205741),\n",
       " (b\"'m\", b'happy'): (10, 17.688292653744917),\n",
       " (b'4g', b'lte'): (8, 35.42108415693321),\n",
       " (b'u', b'want'): (20, 18.76920228523064),\n",
       " (b'ring', b'tone'): (10, 1971.1833333333334),\n",
       " (b'ke', b'baad'): (7, 404.3452991452991),\n",
       " (b'nahi', b'hai'): (13, 72.77095831410553),\n",
       " (b'could', b'better'): (35, 35.03357096309169),\n",
       " (b'works', b'fine'): (31, 57.62721838046514),\n",
       " (b'stopped', b'working'): (41, 56.79052458885198),\n",
       " (b'software', b'updates'): (18, 39.187536638205685),\n",
       " (b'note', b'venom'): (18, 44.0349123610952),\n",
       " (b'black', b'4gb'): (14, 191.48030221262817),\n",
       " (b'4gb', b'new'): (8, 13.734873998374173),\n",
       " (b'new', b'system'): (22, 51.729108778429556),\n",
       " (b'system', b'update'): (40, 56.09058265582656),\n",
       " (b'working', b'perfectly'): (8, 12.683217158176944),\n",
       " (b'video', b'calling'): (10, 34.00937428111341),\n",
       " (b'dual', b'cam'): (18, 40.19667973856209),\n",
       " (b'portrait', b'mode'): (10, 140.79880952380952),\n",
       " (b'stay', b'away'): (7, 622.478947368421),\n",
       " (b'thank', b'amazon'): (15, 25.4971327555728),\n",
       " (b'4', b'gb'): (47, 100.01775898520084),\n",
       " (b'amazon', b'customer'): (19, 11.014761350407449),\n",
       " (b'low', b'light'): (61, 84.05792392725242),\n",
       " (b'manufacturing', b'defect'): (11, 934.9486166007905),\n",
       " (b'since', b'bought'): (10, 12.80266291405066),\n",
       " (b'facing', b'issues'): (12, 11.239437958186262),\n",
       " (b'build', b'quality'): (43, 44.33120931150128),\n",
       " (b'fingerprint', b'scanner'): (7, 184.65417642466824),\n",
       " (b'compare', b'mi'): (7, 12.609520763366918),\n",
       " (b'night', b'mode'): (7, 10.900552995391704),\n",
       " (b'wo', b\"n't\"): (59, 52.08136803992563),\n",
       " (b'regret', b'buying'): (7, 50.58639863130881),\n",
       " (b'screen', b'guard'): (21, 113.17122181687698),\n",
       " (b'battery', b'capacity'): (19, 12.756502311248072),\n",
       " (b'look', b'like'): (28, 16.035894926724595),\n",
       " (b'1', b'year'): (14, 58.357401315789474),\n",
       " (b'20', b'days'): (20, 65.32865665046398),\n",
       " (b'dual', b'rear'): (26, 23.688040057224608),\n",
       " (b'better', b'redmi'): (21, 15.957633764810053),\n",
       " (b'2', b'days'): (58, 32.52575238688252),\n",
       " (b\"'m\", b'using'): (35, 24.798051453372562),\n",
       " (b'using', b'past'): (9, 24.369443156647606),\n",
       " (b'3', b'weeks'): (7, 15.009962561076211),\n",
       " (b'value', b'money..'): (7, 57.97598039215686),\n",
       " (b'oreo', b'update'): (68, 121.74955882352943),\n",
       " (b'5', b'6'): (13, 18.32948469585432),\n",
       " (b'6', b'hours'): (35, 50.08370504206425),\n",
       " (b'4', b'hours'): (30, 19.296319258630817),\n",
       " (b'4', b'months'): (21, 18.618024399842582),\n",
       " (b'would', b'rate'): (7, 22.18968105065666),\n",
       " (b'battery', b'percentage'): (17, 16.198733093648347),\n",
       " (b'1', b'month'): (37, 51.1995670995671),\n",
       " (b'heating', b'issue..'): (7, 14.137947522562907),\n",
       " (b'6', b'hrs'): (16, 47.154077564334905),\n",
       " (b'mediatek', b'helio'): (6, 107.5190909090909),\n",
       " (b'helio', b'x23'): (10, 1168.6857707509882),\n",
       " (b'x23', b'processor'): (6, 17.91713376761097),\n",
       " (b'many', b'features'): (26, 11.860138958527326),\n",
       " (b'options', b'available'): (14, 49.359564108509154),\n",
       " (b'available', b'market'): (12, 84.81682204692143),\n",
       " (b'gets', b'hot'): (28, 62.30492441594137),\n",
       " (b'ram', b'64'): (15, 90.97769230769231),\n",
       " (b'64', b'gb'): (39, 623.444031007752),\n",
       " (b'gb', b'internal'): (8, 49.11586378737542),\n",
       " (b'internal', b'memory'): (30, 379.85290339157245),\n",
       " (b'10', b'core'): (19, 79.02796869033982),\n",
       " (b'got', b'broken'): (9, 19.278076609616953),\n",
       " (b'two', b'months'): (10, 14.267395290484464),\n",
       " (b'dolby', b'sound'): (23, 17.789719977604896),\n",
       " (b'call', b'logs'): (7, 52.35546702080567),\n",
       " (b'fingerprint', b'sensor'): (28, 405.3998509687034),\n",
       " (b'getting', b'heat'): (54, 43.817984545358314),\n",
       " (b'duel', b'camera'): (14, 18.70192915876028),\n",
       " (b'front', b'flash'): (25, 46.50662577169596),\n",
       " (b'dedicated', b'music'): (13, 88.39387144992526),\n",
       " (b'music', b'button'): (14, 56.824631646380524),\n",
       " (b'memory', b'card'): (33, 171.3983748253196),\n",
       " (b'card', b'slot'): (23, 164.68461359944303),\n",
       " (b'music', b'key'): (33, 181.09963906813957),\n",
       " (b'notification', b'led'): (8, 66.49419040479759),\n",
       " (b'nokia', b'6'): (8, 117.2547918043622),\n",
       " (b'7', b'months'): (10, 26.046291402396054),\n",
       " (b'getting', b'charged'): (18, 31.349869504934347),\n",
       " (b'never', b'buy'): (53, 22.207475502180845),\n",
       " (b'13', b'mp'): (49, 805.5609907120744),\n",
       " (b'android', b'8.0'): (11, 87.99925595238095),\n",
       " (b'2', b'hours'): (49, 29.71633165829146),\n",
       " (b'like', b'anything'): (14, 24.281194397554636),\n",
       " (b'invoice', b'copy'): (7, 186.40031520882584),\n",
       " (b'software', b'update'): (45, 35.63721280602636),\n",
       " (b'4000', b'mh'): (6, 112.318138651472),\n",
       " (b'long', b'time'): (49, 42.67260352603526),\n",
       " (b'defective', b'piece'): (14, 96.58279647944832),\n",
       " (b'compared', b'k3'): (6, 12.672345440908606),\n",
       " (b'decacore', b'processor'): (8, 72.72248411559747),\n",
       " (b'drains', b'faster'): (16, 60.65179487179487),\n",
       " (b'heated', b'quickly'): (8, 13.588120404411764),\n",
       " (b'5', b'mp'): (14, 43.18210953346856),\n",
       " (b'takes', b'much'): (22, 11.196163269851876),\n",
       " (b'tried', b'return'): (11, 25.431889044188797),\n",
       " (b'notification', b'light'): (32, 166.07639900145622),\n",
       " (b'jack', b'trades'): (6, 307.9973958333333),\n",
       " (b'would', b'like'): (22, 10.291541473651883),\n",
       " (b'charger', b'takes'): (18, 11.348038202645252),\n",
       " (b'takes', b'around'): (9, 22.193844999061735),\n",
       " (b'5', b'hrs'): (10, 13.155839822024472),\n",
       " (b'hrs', b'full'): (13, 17.051144350333395),\n",
       " (b'battery', b'consumption'): (9, 13.253508894803193),\n",
       " (b'suggest', b'go'): (9, 11.3457562894213),\n",
       " (b'options', b'missing'): (7, 14.999492707672797),\n",
       " (b'ram', b'management'): (25, 178.38763197586727),\n",
       " (b'gb', b'storage'): (7, 29.575143785946484),\n",
       " (b'battery', b'lasts'): (23, 11.1194693269959),\n",
       " (b'gb', b'ram'): (46, 144.5769528920692),\n",
       " (b'internal', b'storage'): (6, 34.06422811059908),\n",
       " (b'atmos', b'sound'): (20, 26.413140577077687),\n",
       " (b'sound', b'loud'): (9, 25.64557922697458),\n",
       " (b'really', b'disappointed'): (16, 13.65773284622491),\n",
       " (b'sound', b'system'): (12, 10.672626720981798),\n",
       " (b'brand', b'new'): (7, 14.67746339041946),\n",
       " (b'audio', b'output'): (7, 83.05547752808988),\n",
       " (b'lot', b'time'): (27, 13.279855869098109),\n",
       " (b'charger', b'stopped'): (9, 15.217575913535772),\n",
       " (b'last', b'two'): (10, 13.078445682944091),\n",
       " (b'return', b'refund'): (9, 10.652885676326871),\n",
       " (b'signal', b'strength'): (25, 376.06041335453097),\n",
       " (b'second', b'sim'): (12, 26.129813154904685),\n",
       " (b'faulty', b'piece'): (8, 57.41310679611651),\n",
       " (b'suggest', b'everyone'): (6, 52.33230088495575),\n",
       " (b'nice', b'phone..'): (17, 12.050332407855525),\n",
       " (b'please', b'replace'): (11, 15.682342541436464),\n",
       " (b'hours', b'full'): (35, 24.90195390359619),\n",
       " (b'via', b'bluetooth'): (9, 65.56950796950798),\n",
       " (b'basic', b'feature'): (13, 36.96546335364901),\n",
       " (b'music', b'player'): (26, 222.75255605381165),\n",
       " (b'social', b'media'): (7, 657.061111111111),\n",
       " (b'stops', b'working'): (12, 23.866268846031883),\n",
       " (b'hear', b'voice'): (7, 51.41099760921539),\n",
       " (b'camera', b'setup'): (22, 26.494399641577065),\n",
       " (b'sound', b'output'): (7, 15.627774841437633),\n",
       " (b'compared', b'previous'): (8, 38.65065359477124),\n",
       " (b'full', b'hd'): (14, 78.24456042340488),\n",
       " (b'making', b'fool'): (6, 172.91081871345028),\n",
       " (b'ram', b'64gb'): (12, 96.49149184149184),\n",
       " (b'led', b'notification'): (17, 265.97676161919037),\n",
       " (b'screen', b'shot'): (22, 76.82282592083142),\n",
       " (b'automatically', b'switched'): (6, 12.657427226027396),\n",
       " (b'wasted', b'money'): (16, 64.20792616720955),\n",
       " (b'sim', b'4g'): (17, 21.09345461030854),\n",
       " (b'4g', b'network'): (15, 12.540530797043823),\n",
       " (b'able', b'hear'): (9, 86.62955502655191),\n",
       " (b'time', b'charge'): (42, 10.851949668690237),\n",
       " (b'everything', b'ok'): (11, 10.187432705973556),\n",
       " (b'lenovo', b'vibe'): (28, 22.305584938459898),\n",
       " (b'playing', b'game'): (15, 90.71253259702408),\n",
       " (b'go', b'samsung'): (9, 18.057330432459253),\n",
       " (b'works', b'perfectly'): (8, 61.43948051948052),\n",
       " (b'features', b'missing'): (35, 35.21297711438836),\n",
       " (b'10', b'mins'): (9, 47.815241560541736),\n",
       " (b'primary', b'camera'): (15, 10.109150896627177),\n",
       " (b'data', b'connection'): (7, 22.65727969348659),\n",
       " (b'print', b'scanner'): (8, 276.98126463700237),\n",
       " (b'next', b'day'): (18, 50.07402703142811),\n",
       " (b'jio', b'sim'): (58, 106.07085081900635),\n",
       " (b'receive', b'calls'): (7, 33.292329345531314),\n",
       " (b'jio', b'network'): (15, 14.278074220730618),\n",
       " (b'built', b'quality'): (11, 13.63092585478294),\n",
       " (b'rear', b'cameras'): (16, 65.68952284776573),\n",
       " (b'3gb', b'ram'): (9, 107.03257918552036),\n",
       " (b'first', b'sale'): (15, 90.69166474963576),\n",
       " (b'price', b'dropped'): (7, 13.894619360902254),\n",
       " (b'hours', b'charge'): (53, 28.7577403144756),\n",
       " (b'2000', b'mah'): (6, 45.629243827160494),\n",
       " (b'main', b'problem'): (13, 10.080415929769234),\n",
       " (b\"n't\", b'understand'): (9, 10.18480086114101),\n",
       " (b'writing', b'review'): (32, 471.8257978723405),\n",
       " (b'bokeh', b'mode'): (9, 23.30463054187192),\n",
       " (b'heavy', b'usage'): (14, 20.507051207952838),\n",
       " (b'multi', b'tasking'): (12, 2155.9817708333335),\n",
       " (b'split', b'screen'): (12, 63.265856640684696),\n",
       " (b'note', b'4.'): (12, 36.88394368707119),\n",
       " (b'would', b'say'): (9, 20.422361320958345),\n",
       " (b'ear', b'phones'): (14, 48.50485304169514),\n",
       " (b'looks', b'like'): (18, 10.827855518074324),\n",
       " (b\"'ll\", b'give'): (6, 12.078329248366014),\n",
       " (b'5', b'days'): (26, 19.55354274917336),\n",
       " (b'asphalt', b'8'): (10, 268.18820861678006),\n",
       " (b'plz', b'plz'): (14, 104.34653465346534),\n",
       " (b'signal', b'reception'): (15, 217.40992647058823),\n",
       " (b'v', b'v'): (7, 127.9296917252569),\n",
       " (b\"n't\", b'bye'): (9, 12.124762929929775),\n",
       " (b'many', b'apps'): (14, 13.07343404568902),\n",
       " (b'works', b'smoothly'): (7, 29.256895485466917),\n",
       " (b'late', b'delivery'): (6, 20.859082892416225),\n",
       " (b'splash', b'proof'): (6, 657.0611111111111),\n",
       " (b'gon', b'na'): (11, 1907.5967741935483),\n",
       " (b'headphone', b'missing'): (9, 31.665595716198126),\n",
       " (b'battery', b'drainage'): (15, 17.355785457480373),\n",
       " (b'15', b'min'): (11, 124.0604895104895),\n",
       " (b'finger', b'sensor'): (11, 93.49486166007905),\n",
       " (b'dedicated', b'sd'): (7, 79.48319892473117),\n",
       " (b'timely', b'delivery'): (10, 216.6135531135531),\n",
       " (b'within', b'month'): (10, 11.962515677468948),\n",
       " (b'super', b'fast'): (22, 10.0327187445423),\n",
       " (b'center', b'said'): (7, 21.89392817475009),\n",
       " (b'connect', b'wifi'): (7, 20.347698924731183),\n",
       " (b'soon', b'possible'): (16, 292.22394429469904),\n",
       " (b'first', b'time'): (34, 20.380525399456893),\n",
       " (b'play', b'games'): (17, 101.2738689881547),\n",
       " (b'would', b'recommend'): (15, 48.892517569243495),\n",
       " (b'last', b'3'): (19, 18.606099424667388),\n",
       " (b'youtube', b'videos'): (6, 38.0537323037323),\n",
       " (b'feel', b'like'): (19, 12.682148574229672),\n",
       " (b'voice', b'recorder'): (7, 30.703790238836966),\n",
       " (b'vibe', b'k5'): (18, 250.57415254237287),\n",
       " (b'hold', b'hand'): (6, 29.89661274014156),\n",
       " (b'cast', b'option'): (13, 15.28444042388214),\n",
       " (b'becomes', b'hot'): (8, 95.8954054054054),\n",
       " (b'k8', b'plus'): (29, 22.57295543467888),\n",
       " (b'affordable', b'price'): (11, 34.43449145962733),\n",
       " (b'lenovo', b'p2'): (7, 12.715260979411921),\n",
       " (b'u', b'r'): (18, 59.50166408668731),\n",
       " (b'music', b'lover'): (8, 72.32225845902977),\n",
       " (b'months', b'usage'): (18, 23.67459657551121),\n",
       " (b'perform', b'well'): (9, 68.17754719700244),\n",
       " (b'heating', b'problem..'): (7, 10.210739877406544),\n",
       " (b'--', b'--'): (34, 1055.6660510926438),\n",
       " (b'nano', b'sim'): (6, 27.68515917602996),\n",
       " (b'app', b'lock'): (12, 54.23853511530399),\n",
       " (b'play', b'store'): (7, 100.57057823129252),\n",
       " (b'chrome', b'cast'): (6, 42.91400580551524),\n",
       " (b'custom', b'ringtone'): (6, 139.4705188679245),\n",
       " (b'ringtone', b'set'): (6, 14.876855345911949),\n",
       " (b'status', b'bar'): (11, 1346.5388994307402),\n",
       " (b'received', b'defective'): (13, 39.65332551024685),\n",
       " (b'want', b'replace'): (16, 37.43830215827337),\n",
       " (b'authorised', b'service'): (6, 30.671939834024897),\n",
       " (b'please', b'help'): (16, 27.64515512112197),\n",
       " (b'price', b'range..'): (9, 52.79955357142857),\n",
       " (b'loud', b'clear'): (6, 40.98094248094248),\n",
       " (b'home', b'button'): (7, 93.86587301587302),\n",
       " (b'come', b'across'): (6, 131.1208425720621),\n",
       " (b'started', b'using'): (14, 14.657858136300417),\n",
       " (b'gets', b'heat'): (18, 15.84177013033847),\n",
       " (b'recommend', b'anyone'): (7, 36.447149460708786),\n",
       " (b'shows', b'full'): (10, 21.452332583617498),\n",
       " (b'get', b'heated'): (24, 22.335689010814246),\n",
       " (b'k', b'series'): (7, 108.15820759030635),\n",
       " (b'low', b'cost'): (9, 13.071507515473032),\n",
       " (b'power', b'button'): (12, 62.3792194092827),\n",
       " (b'almost', b'every'): (8, 22.60243343101032),\n",
       " (b'couple', b'days'): (7, 31.767660488853075),\n",
       " (b'able', b'send'): (8, 42.330350751610595),\n",
       " (b'heavy', b'weight'): (19, 145.32157275759172),\n",
       " (b'never', b'expected'): (9, 11.774116475858635),\n",
       " (b'lenova', b'k8'): (17, 33.85943315201832),\n",
       " (b'screen', b'mirroring'): (27, 102.25828257024956),\n",
       " (b'inbuilt', b'call'): (9, 20.051029922861744),\n",
       " (b'around', b'2'): (11, 22.092963885429636),\n",
       " (b'user', b'interface'): (13, 142.83937198067633),\n",
       " (b'drain', b'fast'): (52, 41.452177479492924),\n",
       " (b'tempered', b'glass'): (20, 353.8222975668129),\n",
       " (b'missed', b'call'): (12, 54.97324037184595),\n",
       " (b'network', b'signal'): (22, 23.701603206412827),\n",
       " (b'far', b'better'): (38, 57.98890127033653),\n",
       " (b'missing', b'box'): (9, 20.069743763787546),\n",
       " (b'2-3', b'hrs'): (8, 63.586559139784946),\n",
       " (b'within', b'10'): (9, 11.395221119568358),\n",
       " (b'gaming', b'experience'): (9, 12.256379698955932),\n",
       " (b'came', b'know'): (9, 56.64319923371647),\n",
       " (b'ok', b'ok'): (17, 13.773662910880136),\n",
       " (b'work', b'properly'): (46, 39.246260804817254),\n",
       " (b'takes', b'2'): (19, 12.887562266500622),\n",
       " (b'2500', b'mah'): (6, 136.88773148148147),\n",
       " (b'moderate', b'use'): (10, 28.42916205951637),\n",
       " (b'playing', b'videos'): (6, 10.051929287778345),\n",
       " (b'hangs', b'lot'): (12, 39.0370143342135),\n",
       " (b'bluetooth', b'connectivity'): (25, 126.35790598290598),\n",
       " (b'one', b'day'): (54, 12.855971250152512),\n",
       " (b'please', b'dont'): (22, 26.70270665108372),\n",
       " (b'12', b'hrs'): (6, 20.079966044142612),\n",
       " (b'6', b'months'): (43, 95.63964078992169),\n",
       " (b'totally', b'disappointed'): (18, 54.337114786542266),\n",
       " (b'right', b'side'): (7, 38.75196592398427),\n",
       " (b'side', b'speaker'): (17, 47.005994766998974),\n",
       " (b'depth', b'enable'): (8, 59.1355),\n",
       " (b'enable', b'mode'): (6, 14.079880952380952),\n",
       " (b'drained', b'fast'): (13, 20.159113667838497),\n",
       " (b'file', b'manager'): (10, 1877.3174603174602),\n",
       " (b'compared', b'redmi'): (11, 25.0706942236354),\n",
       " (b'3-4', b'hours'): (11, 66.03629257398102),\n",
       " (b'screen', b'broke'): (7, 11.620259382982905),\n",
       " (b'biggest', b'problem'): (10, 14.910615229450325),\n",
       " (b'contact', b'list'): (9, 231.11089399120664),\n",
       " (b'heavy', b'gaming'): (8, 13.897340488034153),\n",
       " (b'24', b'hours'): (10, 70.75317061497965),\n",
       " (b'screen', b'resolution'): (11, 23.807360687086923),\n",
       " (b'review', b'using'): (20, 17.13476471951785),\n",
       " (b'budget', b'smartphone'): (9, 17.80385368056601),\n",
       " (b'hand', b'set'): (17, 110.01953488372092),\n",
       " (b'raha', b'h'): (7, 71.59261501210653),\n",
       " (b'drain', b'quickly'): (12, 33.819321895424835),\n",
       " (b'per', b'specifications'): (9, 53.89428115743905),\n",
       " (b'like', b'iron'): (15, 42.794442233238044),\n",
       " (b'iron', b'box'): (14, 258.48445847498783),\n",
       " (b'incoming', b'call'): (9, 21.4181455994205),\n",
       " (b'meet', b'expectations'): (8, 167.68100189035914),\n",
       " (b'watching', b'videos'): (10, 210.2969416785206),\n",
       " (b'headset', b'box'): (6, 12.61961160904823),\n",
       " (b'top', b'bottom'): (6, 77.91238471673255),\n",
       " (b'auto', b'brightness'): (7, 75.81474358974359),\n",
       " (b'high', b'end'): (17, 168.95857142857142),\n",
       " (b'head', b'phones'): (7, 16.273959408324732),\n",
       " (b'battery', b'saver'): (17, 16.821761289557898),\n",
       " (b'working', b'fine'): (41, 16.471710595034992),\n",
       " (b'vibe', b'x3'): (7, 572.7409200968523),\n",
       " (b'great', b'indian'): (8, 41.209407665505225),\n",
       " (b'nothing', b'else'): (7, 31.818940005380682),\n",
       " (b'30', b'minutes'): (9, 103.06840958605665),\n",
       " (b'bahut', b'hi'): (8, 126.35790598290599),\n",
       " (b'ho', b'jata'): (11, 832.8943661971831),\n",
       " (b'support', b'volte'): (12, 22.359882244908984),\n",
       " (b'data', b'speed'): (10, 14.649103250099087),\n",
       " (b'blue', b'tooth'): (11, 2667.766917293233),\n",
       " (b'hd', b'display'): (9, 33.92255843969597),\n",
       " (b'ho', b'gya'): (7, 277.63145539906105),\n",
       " (b'service', b'centres'): (7, 61.343879668049794),\n",
       " (b'days', b'ago'): (12, 59.067993721461185),\n",
       " (b'android', b'nougat'): (10, 70.8039990421456),\n",
       " (b'glass', b'broke'): (7, 38.75196592398427),\n",
       " (b'call', b'record'): (15, 71.393818664735),\n",
       " (b'1', b'week'): (15, 39.3188164893617),\n",
       " (b'secondary', b'camera'): (12, 10.909458675943496),\n",
       " (b'way', b'better'): (10, 13.566922088648251),\n",
       " (b'humble', b'request'): (6, 244.86749482401652),\n",
       " (b'memory', b'4gb'): (8, 23.418454227443736),\n",
       " (b'64gb', b'internal'): (9, 255.9978354978355),\n",
       " (b'nothing', b'special'): (10, 192.74934810951757),\n",
       " (b'15', b'minutes'): (7, 25.298609625668448),\n",
       " (b'update', b'oreo'): (13, 15.460261437908498),\n",
       " (b'normal', b'user'): (8, 10.396536568213783),\n",
       " (b'playing', b'high'): (8, 13.282906558849954),\n",
       " (b'go', b'ahead'): (7, 64.10352303523035),\n",
       " (b'gets', b'drained'): (15, 63.637880010761364),\n",
       " (b'six', b'months'): (8, 103.38374125874125),\n",
       " (b'play', b'video'): (7, 12.770867076989525),\n",
       " (b'getting', b'hanged'): (7, 18.98106242978655),\n",
       " (b'fine', b'gold'): (8, 73.1422387136673),\n",
       " (b'high', b'definition'): (6, 117.33234126984127),\n",
       " (b'flash', b'sale'): (14, 114.93780369290573),\n",
       " (b'3', b'hrs'): (10, 12.346904687336881),\n",
       " (b'gallery', b'music'): (9, 18.28838719653626),\n",
       " (b'third', b'party'): (22, 997.3249007936507),\n",
       " (b'please', b'provide'): (8, 10.317330619366095),\n",
       " (b'one', b'star'): (17, 12.398570792092183),\n",
       " (b'3.5', b'mm'): (8, 2956.775),\n",
       " (b'g5', b'plus'): (13, 469.32936507936506),\n",
       " (b'party', b'app'): (9, 45.629243827160494),\n",
       " (b'left', b'side'): (24, 274.88061162079515),\n",
       " (b'warranty', b'period'): (7, 127.17311827956989),\n",
       " (b'think', b'twice'): (6, 18.569791176008795),\n",
       " (b'suggest', b'buy'): (17, 10.071974508732461),\n",
       " (b'processing', b'speed'): (6, 13.415494555353902),\n",
       " (b'system', b'ui'): (9, 49.73549201009252),\n",
       " (b'head', b'set'): (8, 46.380784313725485),\n",
       " (b'got', b'damaged'): (7, 11.802904046704256),\n",
       " (b'curved', b'edges'): (6, 205.6886956521739),\n",
       " (b'google', b'photos'): (14, 115.69989130434783),\n",
       " (b'takes', b'long'): (15, 27.002511415525113),\n",
       " (b'4k', b'recording'): (8, 83.21130393996248),\n",
       " (b'volume', b'low'): (20, 42.39407842856119),\n",
       " (b'lenovo', b'k8note'): (18, 29.753710691823898),\n",
       " (b'0', b'100'): (11, 106.83920505871725),\n",
       " (b'factory', b'reset'): (10, 1421.5264423076924),\n",
       " (b\"'m\", b'satisfied'): (12, 16.25111887562814),\n",
       " (b'audio', b'jack'): (11, 124.58321629213482),\n",
       " (b'playing', b'music'): (8, 10.006853371689651),\n",
       " (b'look', b'wise'): (9, 40.26932243786176),\n",
       " (b'helio', b'x20'): (7, 977.4462809917355),\n",
       " (b'back', b'panel'): (7, 30.186574783052578),\n",
       " (b'make', b'call'): (10, 11.113188754416297),\n",
       " (b'1', b'star'): (16, 35.978456858407085),\n",
       " (b'visited', b'service'): (7, 27.263946519133242),\n",
       " (b'month', b'old'): (7, 12.961915721409392),\n",
       " (b'within', b'week'): (9, 23.517796778683635),\n",
       " (b'easy', b'handle'): (10, 405.5932784636488),\n",
       " (b'30', b'mins'): (9, 171.78068264342775),\n",
       " (b'hi', b'nahi'): (6, 24.88867845117845),\n",
       " (b'important', b'features'): (7, 12.570654195674123),\n",
       " (b'updating', b'android'): (10, 62.221696127946124),\n",
       " (b'mirroring', b'option'): (7, 23.145009784735812),\n",
       " (b'facing', b'problem'): (27, 13.573801450258228),\n",
       " (b'call', b'history'): (8, 58.89990039840637),\n",
       " (b'heavy', b'games'): (11, 23.518576210519335),\n",
       " (b'4', b'stars'): (7, 15.35987012987013),\n",
       " (b'heavy', b'user'): (9, 15.570168509741972),\n",
       " (b'5', b'pro'): (10, 84.96479885057471),\n",
       " (b'5-6', b'hours'): (7, 34.96039018622524),\n",
       " (b'recording', b'facility'): (9, 77.96374423203692),\n",
       " (b'voice', b'calls'): (7, 15.246019980663874),\n",
       " (b'call', b'log'): (8, 41.576400281228025),\n",
       " (b'never', b'ever'): (15, 19.16716635604894),\n",
       " (b'back', b'cover'): (42, 90.55972434915773),\n",
       " (b'gets', b'switched'): (7, 12.528707627118644),\n",
       " (b'defective', b'product'): (26, 10.887460328593221),\n",
       " (b'able', b'connect'): (9, 40.05452544238422),\n",
       " (b\"n't\", b'believe'): (18, 22.365272161289383),\n",
       " (b'perfectly', b'fine'): (8, 61.43948051948052),\n",
       " (b'wish', b'could'): (8, 83.17229254571026),\n",
       " (b'need', b'improvement'): (7, 26.093987865416437),\n",
       " (b'selfie', b'flash'): (8, 25.67759444203213),\n",
       " (b'last', b'week'): (10, 21.84378693853428),\n",
       " (b'updated', b'oreo'): (7, 26.75814479638009),\n",
       " (b'oreo', b'8.0'): (7, 62.117121848739494),\n",
       " (b'major', b'issue'): (12, 10.477586817859672),\n",
       " (b'gets', b'warm'): (13, 54.36185004309107),\n",
       " (b'15w', b'turbo'): (12, 103.74649122807017),\n",
       " (b'gallery', b'app'): (12, 24.781399664750957),\n",
       " (b'compare', b'redmi'): (8, 17.27845142439737),\n",
       " (b'regular', b'updates'): (6, 27.78923872180451),\n",
       " (b'doesnt', b'work'): (10, 37.81042199488491),\n",
       " (b'three', b'months'): (8, 38.39967532467532),\n",
       " (b'draining', b'fastly'): (7, 35.839696969696966),\n",
       " (b'automatically', b'restart'): (8, 28.590894439967766),\n",
       " (b'4-5', b'hours'): (10, 64.60072099628577),\n",
       " (b'set', b'ringtone'): (10, 74.38427672955974),\n",
       " (b'made', b'china'): (8, 234.66468253968253),\n",
       " (b'facility', b'available'): (6, 14.081557328253364),\n",
       " (b'seems', b'like'): (18, 17.163302895671006),\n",
       " (b'glass', b'broken'): (9, 36.168501529051994),\n",
       " (b'price', b'tag'): (9, 47.99959415584415),\n",
       " (b'5', b'stars'): (8, 30.587327586206897),\n",
       " (b'easy', b'use'): (15, 32.64088977203731),\n",
       " (b'auto', b'call'): (17, 47.1199203187251),\n",
       " (b'name', b'sake'): (9, 788.4733333333332),\n",
       " (b'per', b'expectation'): (8, 77.80986842105263),\n",
       " (b'android', b'oreo'): (13, 24.156658496732025),\n",
       " (b'compared', b'k4'): (8, 14.05478312537136),\n",
       " (b'piece', b'15w'): (8, 164.0374479889043),\n",
       " (b'charger', b'usb'): (10, 24.98964672075727),\n",
       " (b'get', b'charged'): (16, 20.350722688024028),\n",
       " (b'visit', b'service'): (8, 29.4450622406639),\n",
       " (b'party', b'flash'): (6, 22.349017384731667),\n",
       " (b'bhi', b'nahi'): (7, 62.87666135034555),\n",
       " (b'listen', b'music'): (7, 66.29540358744394),\n",
       " (b'party', b'apps'): (7, 27.841572504708097),\n",
       " (b'hope', b'get'): (9, 12.037760814249365),\n",
       " (b'4k', b'video'): (7, 48.13634513634514),\n",
       " (b'raha', b'hai'): (6, 21.441443074691804),\n",
       " (b'u', b'hv'): (6, 14.493995098039216),\n",
       " (b'wan', b'na'): (7, 1090.0552995391706),\n",
       " (b'little', b'warm'): (6, 10.777382905048297),\n",
       " (b'quick', b'delivery'): (7, 14.82092731829574),\n",
       " (b'video', b'recording'): (9, 15.26274357981675),\n",
       " (b'saver', b'mode'): (7, 25.993626373626373),\n",
       " (b'money', b'spent'): (9, 40.55237442139551),\n",
       " (b'star', b'rating'): (6, 18.690107458912767),\n",
       " (b'must', b'say'): (8, 44.224479621089365),\n",
       " (b'inbuilt', b'gallery'): (6, 21.693140132061625),\n",
       " (b'heats', b'quickly'): (9, 17.306262803628915),\n",
       " (b'next', b'update'): (10, 19.04524959742351),\n",
       " (b'12', b'hours'): (13, 62.56069822798201),\n",
       " (b'ho', b'jati'): (6, 208.22359154929578),\n",
       " (b'h', b'pr'): (6, 71.59261501210653),\n",
       " (b'connectivity', b'issue'): (13, 10.352853641456583),\n",
       " (b'hangs', b'often'): (6, 40.72692837465565),\n",
       " (b'wifi', b'hotspot'): (7, 40.262468085106384),\n",
       " (b'vibe', b'k4'): (9, 48.596199280945044),\n",
       " (b\"n't\", b'seem'): (10, 21.21833512737711),\n",
       " (b'performance', b'wise'): (13, 15.650522694190817),\n",
       " (b'music', b'lovers'): (9, 106.07264573991031),\n",
       " (b'went', b'service'): (8, 20.447959889349928),\n",
       " (b'0', b'star'): (7, 38.764667322189446),\n",
       " (b'dolby', b'atoms'): (11, 215.75737306172087),\n",
       " (b'wireless', b'display'): (6, 20.14151907356948),\n",
       " (b'back', b'button'): (13, 17.249471304601474),\n",
       " (b'plz', b'help'): (10, 45.03846153846154),\n",
       " (b'button', b'left'): (8, 56.31952380952381),\n",
       " (b'hai', b'aur'): (7, 41.4041659373359),\n",
       " (b'net', b'speed'): (8, 19.607261273209552),\n",
       " (b'network', b'connectivity'): (18, 32.09592100868403),\n",
       " (b'front', b'cam'): (10, 20.107276436586197),\n",
       " (b'volte', b'support'): (14, 28.74842002916869),\n",
       " (b'issue', b'starts'): (9, 14.198199279711885),\n",
       " (b'per', b'expectations'): (7, 22.55358504958047),\n",
       " (b'5', b'min'): (7, 15.685809018567637),\n",
       " (b'getting', b'drained'): (9, 18.679775724551845),\n",
       " (b'standby', b'mode'): (10, 42.239642857142854),\n",
       " (b'everything', b'else'): (11, 51.90739521615098),\n",
       " (b'feature', b'rich'): (9, 142.5810729355033),\n",
       " (b'mind', b'blowing'): (11, 2252.7809523809524),\n",
       " (b'3rd', b'class'): (11, 341.1663461538462),\n",
       " (b'charger', b'charges'): (9, 22.164730134932533),\n",
       " (b'two', b'weeks'): (8, 44.31285125515174),\n",
       " (b'video', b'player'): (13, 100.12359788359788),\n",
       " (b'taking', b'long'): (8, 17.919848484848483),\n",
       " (b'end', b'games'): (6, 16.5413986013986),\n",
       " (b'red', b'mi'): (6, 58.31903353057199),\n",
       " (b'10', b'minutes'): (7, 14.344572468162523),\n",
       " (b'wastage', b'money'): (10, 56.654052500479025),\n",
       " (b'would', b'suggest'): (7, 10.211180660479172),\n",
       " (b'one', b'week'): (18, 16.146720295729978),\n",
       " (b'k4', b'k5'): (8, 20.67674825174825),\n",
       " (b'received', b'faulty'): (7, 17.678774289985054),\n",
       " (b'ho', b'raha'): (13, 475.9396378269618),\n",
       " (b'1.5', b'days'): (8, 32.40301369863013),\n",
       " (b'dedicated', b'card'): (6, 17.726468824940046),\n",
       " (b'internet', b'connection'): (8, 41.3534965034965),\n",
       " (b'recording', b'feature'): (9, 12.171555006689308),\n",
       " (b'hitting', b'problem'): (11, 14.507625628654374),\n",
       " (b'metal', b'body'): (11, 762.219119226638),\n",
       " (b'5.5', b'inch'): (6, 2111.9821428571427),\n",
       " (b'insert', b'remove'): (6, 422.3964285714286),\n",
       " (b'led', b'flash'): (6, 13.87180389397138),\n",
       " (b'paisa', b'wasool'): (11, 2389.313131313131),\n",
       " (b'already', b'used'): (7, 11.409511865714837),\n",
       " (b'gb', b'rom'): (8, 119.58645096056624),\n",
       " (b'need', b'replacement'): (10, 14.198199279711885),\n",
       " (b'3rd', b'party'): (6, 102.6657986111111),\n",
       " (b'replace', b'new'): (8, 11.97681012658228),\n",
       " (b'lte', b'volte'): (9, 58.3406091996547),\n",
       " (b'watching', b'movies'): (8, 518.7324561403509),\n",
       " (b'.do', b\"n't\"): (9, 23.147274684411393),\n",
       " (b'light', b'weight'): (6, 10.479443558390926),\n",
       " (b'g4', b'plus'): (6, 134.09410430839003),\n",
       " (b'bhi', b'nhi'): (7, 74.1046365914787),\n",
       " (b'3000', b'mah'): (6, 54.7550925925926),\n",
       " (b'waste', b'waste'): (27, 22.245836325707053),\n",
       " (b'10', b'min'): (6, 11.72392942109437),\n",
       " (b'proximity', b'sensor'): (6, 153.5987012987013)}"
      ]
     },
     "execution_count": 156,
     "metadata": {},
     "output_type": "execute_result"
    }
   ],
   "source": [
    "bigram.phrasegrams"
   ]
  },
  {
   "cell_type": "code",
   "execution_count": null,
   "metadata": {},
   "outputs": [],
   "source": [
    "?Phrases"
   ]
  },
  {
   "cell_type": "markdown",
   "metadata": {},
   "source": [
    "Increasing the threshold"
   ]
  },
  {
   "cell_type": "code",
   "execution_count": 157,
   "metadata": {},
   "outputs": [],
   "source": [
    "bigram = Phraser(Phrases(reviews_tokens2, min_count=20, threshold=50))"
   ]
  },
  {
   "cell_type": "code",
   "execution_count": 158,
   "metadata": {},
   "outputs": [
    {
     "data": {
      "text/plain": [
       "{(b'cash', b'back'): (32, 62.0980966965653),\n",
       " (b'k8', b'note'): (704, 65.00359500074728),\n",
       " (b'call', b'recording'): (112, 132.16563016227772),\n",
       " (b'usb', b'cable'): (22, 85.89034132171388),\n",
       " (b'value', b'money'): (176, 125.20545602605863),\n",
       " (b'ca', b\"n't\"): (223, 57.43096041143404),\n",
       " (b'sd', b'card'): (41, 288.1980737990253),\n",
       " (b'4000', b'mah'): (92, 505.43162393162396),\n",
       " (b'fully', b'charged'): (33, 100.02101223002862),\n",
       " (b'turbo', b'charger'): (150, 87.20071460980037),\n",
       " (b'call', b'recorder'): (52, 104.71093404161134),\n",
       " (b'third', b'class'): (25, 162.46016483516485),\n",
       " (b'stock', b'android'): (116, 261.083885209713),\n",
       " (b'service', b'centre'): (81, 159.23304935110798),\n",
       " (b'deca', b'core'): (65, 694.0786384976526),\n",
       " (b'core', b'processor'): (55, 133.54900632339655),\n",
       " (b'upto', b'mark'): (44, 164.78021595262976),\n",
       " (b'dolby', b'atmos'): (120, 329.20725936647557),\n",
       " (b'waste', b'money'): (137, 65.8976084347677),\n",
       " (b'4gb', b'ram'): (65, 187.79798870853918),\n",
       " (b'price', b'range'): (181, 60.37448952414773),\n",
       " (b'gorilla', b'glass'): (110, 364.384157195673),\n",
       " (b'mi', b'a1'): (33, 233.27613412228797),\n",
       " (b'finger', b'print'): (39, 533.8914231408885),\n",
       " (b'service', b'center'): (127, 179.83000341044732),\n",
       " (b'venom', b'black'): (27, 579.7598039215686),\n",
       " (b'return', b'policy'): (35, 60.18880407124682),\n",
       " (b'customer', b'care'): (71, 299.7178136645963),\n",
       " (b'smart', b'tv'): (32, 136.21767923985027),\n",
       " (b'gets', b'heated'): (62, 87.70095338983052),\n",
       " (b'little', b'bit'): (60, 147.02094598794207),\n",
       " (b'playing', b'games'): (46, 135.24413950829046),\n",
       " (b'redmi', b'note'): (121, 51.7799302108845),\n",
       " (b'bokeh', b'effect'): (34, 261.9098386586523),\n",
       " (b'user', b'friendly'): (44, 345.82163742690057),\n",
       " (b'depth', b'mode'): (121, 136.51852571428574),\n",
       " (b'ever', b'seen'): (33, 69.97328539571292),\n",
       " (b'4', b'gb'): (47, 64.29713077620053),\n",
       " (b'low', b'light'): (61, 61.542408589595524),\n",
       " (b'oreo', b'update'): (68, 92.76156862745098),\n",
       " (b'64', b'gb'): (39, 348.3951937984496),\n",
       " (b'internal', b'memory'): (30, 151.94116135662898),\n",
       " (b'fingerprint', b'sensor'): (28, 141.0086438152012),\n",
       " (b'memory', b'card'): (33, 79.57781688318411),\n",
       " (b'music', b'key'): (33, 84.08197528163623),\n",
       " (b'13', b'mp'): (49, 530.9379256965944),\n",
       " (b'notification', b'light'): (32, 73.81173288953609),\n",
       " (b'gb', b'ram'): (46, 91.6829457364341),\n",
       " (b'signal', b'strength'): (25, 94.01510333863274),\n",
       " (b'music', b'player'): (26, 63.64358744394619),\n",
       " (b'jio', b'sim'): (58, 76.05079870041965),\n",
       " (b'writing', b'review'): (32, 209.70035460992906),\n",
       " (b'--', b'--'): (34, 509.63188673437975),\n",
       " (b'6', b'months'): (43, 57.88715100442629),\n",
       " (b'third', b'party'): (22, 117.33234126984127),\n",
       " (b'left', b'side'): (24, 57.869602446483185),\n",
       " (b'back', b'cover'): (42, 53.84632258598568)}"
      ]
     },
     "execution_count": 158,
     "metadata": {},
     "output_type": "execute_result"
    }
   ],
   "source": [
    "bigram.phrasegrams"
   ]
  },
  {
   "cell_type": "code",
   "execution_count": 159,
   "metadata": {
    "scrolled": true
   },
   "outputs": [
    {
     "data": {
      "text/plain": [
       "['phone', 'gets_heated', 'very', 'quickly']"
      ]
     },
     "execution_count": 159,
     "metadata": {},
     "output_type": "execute_result"
    }
   ],
   "source": [
    "bigram[\"phone\", \"gets\", \"heated\", \"very\", \"quickly\"]"
   ]
  },
  {
   "cell_type": "markdown",
   "metadata": {},
   "source": [
    "## Over to the predictive modeling part"
   ]
  },
  {
   "cell_type": "code",
   "execution_count": 160,
   "metadata": {},
   "outputs": [
    {
     "data": {
      "text/plain": [
       "'this string is broken'"
      ]
     },
     "execution_count": 160,
     "metadata": {},
     "output_type": "execute_result"
    }
   ],
   "source": [
    "\" \".join([\"this\", \"string\", \"is\", \"broken\"])"
   ]
  },
  {
   "cell_type": "code",
   "execution_count": 161,
   "metadata": {},
   "outputs": [],
   "source": [
    "X = [\" \".join(sent) for sent in reviews_tokens2]\n",
    "y = reviews0.sentiment.values"
   ]
  },
  {
   "cell_type": "code",
   "execution_count": 162,
   "metadata": {},
   "outputs": [
    {
     "data": {
      "text/plain": [
       "['good need updates improvements',\n",
       " \"worst mobile bought ever battery draining like hell backup 6 7 hours internet uses even put mobile idle getting discharged.this biggest lie amazon lenove expected making full saying battery 4000mah booster charger fake takes least 4 5 hours fully charged.do n't know lenovo survive making full us.please go else regret like\",\n",
       " 'get 10 cash back already 15 january..',\n",
       " 'good',\n",
       " 'worst phone everthey changed last phone problem still amazon returning phone .highly disappointing amazon']"
      ]
     },
     "execution_count": 162,
     "metadata": {},
     "output_type": "execute_result"
    }
   ],
   "source": [
    "X[:5]"
   ]
  },
  {
   "cell_type": "code",
   "execution_count": 163,
   "metadata": {},
   "outputs": [],
   "source": [
    "from sklearn.model_selection import train_test_split\n",
    "X_train,X_test,y_train,y_test = train_test_split(X,y,test_size=0.30,random_state=42)"
   ]
  },
  {
   "cell_type": "markdown",
   "metadata": {},
   "source": [
    "### Bag of words representation"
   ]
  },
  {
   "cell_type": "code",
   "execution_count": 164,
   "metadata": {},
   "outputs": [],
   "source": [
    "from sklearn.feature_extraction.text import CountVectorizer, TfidfVectorizer"
   ]
  },
  {
   "cell_type": "code",
   "execution_count": 165,
   "metadata": {},
   "outputs": [],
   "source": [
    "?CountVectorizer"
   ]
  },
  {
   "cell_type": "code",
   "execution_count": 166,
   "metadata": {},
   "outputs": [],
   "source": [
    "vectorizer = CountVectorizer(max_features = 2500)"
   ]
  },
  {
   "cell_type": "code",
   "execution_count": 167,
   "metadata": {},
   "outputs": [],
   "source": [
    "X_train_bow = vectorizer.fit_transform(X_train)"
   ]
  },
  {
   "cell_type": "code",
   "execution_count": 168,
   "metadata": {},
   "outputs": [],
   "source": [
    "X_test_bow = vectorizer.transform(X_test)"
   ]
  },
  {
   "cell_type": "code",
   "execution_count": 169,
   "metadata": {},
   "outputs": [
    {
     "data": {
      "text/plain": [
       "((10272, 2500), (4403, 2500))"
      ]
     },
     "execution_count": 169,
     "metadata": {},
     "output_type": "execute_result"
    }
   ],
   "source": [
    "X_train_bow.shape, X_test_bow.shape"
   ]
  },
  {
   "cell_type": "markdown",
   "metadata": {},
   "source": [
    "### Model building"
   ]
  },
  {
   "cell_type": "code",
   "execution_count": 170,
   "metadata": {},
   "outputs": [],
   "source": [
    "from sklearn.naive_bayes import GaussianNB\n",
    "from sklearn.metrics import accuracy_score"
   ]
  },
  {
   "cell_type": "code",
   "execution_count": 171,
   "metadata": {},
   "outputs": [],
   "source": [
    "y_train = np.array(y_train)\n",
    "y_test = np.array(y_test)"
   ]
  },
  {
   "cell_type": "code",
   "execution_count": 172,
   "metadata": {},
   "outputs": [],
   "source": [
    "classifier = GaussianNB()"
   ]
  },
  {
   "cell_type": "code",
   "execution_count": 173,
   "metadata": {},
   "outputs": [
    {
     "data": {
      "text/plain": [
       "GaussianNB(priors=None)"
      ]
     },
     "execution_count": 173,
     "metadata": {},
     "output_type": "execute_result"
    }
   ],
   "source": [
    "classifier.fit(X_train_bow.toarray(), y_train)"
   ]
  },
  {
   "cell_type": "code",
   "execution_count": 174,
   "metadata": {},
   "outputs": [],
   "source": [
    "y_pred_train = classifier.predict(X_train_bow.toarray())"
   ]
  },
  {
   "cell_type": "code",
   "execution_count": 175,
   "metadata": {},
   "outputs": [
    {
     "data": {
      "text/plain": [
       "0.6695872274143302"
      ]
     },
     "execution_count": 175,
     "metadata": {},
     "output_type": "execute_result"
    }
   ],
   "source": [
    "accuracy_score(y_pred_train, y_train)"
   ]
  },
  {
   "cell_type": "markdown",
   "metadata": {},
   "source": [
    "##### Accuracy on the test set"
   ]
  },
  {
   "cell_type": "code",
   "execution_count": 176,
   "metadata": {},
   "outputs": [],
   "source": [
    "y_pred_test = classifier.predict(X_test_bow.toarray())"
   ]
  },
  {
   "cell_type": "code",
   "execution_count": 177,
   "metadata": {},
   "outputs": [
    {
     "data": {
      "text/plain": [
       "0.628889393595276"
      ]
     },
     "execution_count": 177,
     "metadata": {},
     "output_type": "execute_result"
    }
   ],
   "source": [
    "accuracy_score(y_pred_test, y_test)"
   ]
  },
  {
   "cell_type": "markdown",
   "metadata": {},
   "source": [
    "#### Multinomial Naive Bayes"
   ]
  },
  {
   "cell_type": "code",
   "execution_count": 179,
   "metadata": {},
   "outputs": [],
   "source": [
    "from sklearn.naive_bayes import MultinomialNB"
   ]
  },
  {
   "cell_type": "code",
   "execution_count": 180,
   "metadata": {},
   "outputs": [
    {
     "data": {
      "text/plain": [
       "MultinomialNB(alpha=1.0, class_prior=None, fit_prior=True)"
      ]
     },
     "execution_count": 180,
     "metadata": {},
     "output_type": "execute_result"
    }
   ],
   "source": [
    "classifier_MNB = MultinomialNB()\n",
    "classifier_MNB.fit(X_train_bow.toarray(), y_train)"
   ]
  },
  {
   "cell_type": "code",
   "execution_count": 181,
   "metadata": {},
   "outputs": [],
   "source": [
    "y_pred_train = classifier_MNB.predict(X_train_bow.toarray())"
   ]
  },
  {
   "cell_type": "code",
   "execution_count": 182,
   "metadata": {},
   "outputs": [
    {
     "data": {
      "text/plain": [
       "0.8590342679127726"
      ]
     },
     "execution_count": 182,
     "metadata": {},
     "output_type": "execute_result"
    }
   ],
   "source": [
    "accuracy_score(y_pred_train, y_train)"
   ]
  },
  {
   "cell_type": "markdown",
   "metadata": {},
   "source": [
    "##### Accuracy on the test set"
   ]
  },
  {
   "cell_type": "code",
   "execution_count": 183,
   "metadata": {},
   "outputs": [],
   "source": [
    "y_pred_test = classifier_MNB.predict(X_test_bow.toarray())"
   ]
  },
  {
   "cell_type": "code",
   "execution_count": 184,
   "metadata": {},
   "outputs": [
    {
     "data": {
      "text/plain": [
       "0.8471496706790824"
      ]
     },
     "execution_count": 184,
     "metadata": {},
     "output_type": "execute_result"
    }
   ],
   "source": [
    "accuracy_score(y_pred_test, y_test)"
   ]
  }
 ],
 "metadata": {
  "kernelspec": {
   "display_name": "Python 3",
   "language": "python",
   "name": "python3"
  },
  "language_info": {
   "codemirror_mode": {
    "name": "ipython",
    "version": 3
   },
   "file_extension": ".py",
   "mimetype": "text/x-python",
   "name": "python",
   "nbconvert_exporter": "python",
   "pygments_lexer": "ipython3",
   "version": "3.7.6"
  }
 },
 "nbformat": 4,
 "nbformat_minor": 2
}
