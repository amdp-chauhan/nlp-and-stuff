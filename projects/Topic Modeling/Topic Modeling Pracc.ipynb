{
 "cells": [
  {
   "cell_type": "markdown",
   "metadata": {},
   "source": [
    "# Topic Modeling"
   ]
  },
  {
   "cell_type": "code",
   "execution_count": 2,
   "metadata": {},
   "outputs": [],
   "source": [
    "import warnings\n",
    "warnings.filterwarnings(\"ignore\")\n",
    "\n",
    "import numpy as np, pandas as pd\n",
    "import re, random, os, string\n",
    "\n",
    "from nltk.tokenize import word_tokenize\n",
    "from pprint import pprint"
   ]
  },
  {
   "cell_type": "markdown",
   "metadata": {},
   "source": [
    "### Quick and dirty LSA on small data"
   ]
  },
  {
   "cell_type": "code",
   "execution_count": 1,
   "metadata": {},
   "outputs": [],
   "source": [
    "TextCorpus = [\n",
    "\"the sky is blue\",\n",
    "\"the sun is bright\",\n",
    "\"the sun in the sky is bright\",\n",
    "\"we can see the shining sun, the bright sun\"\n",
    "]"
   ]
  },
  {
   "cell_type": "code",
   "execution_count": 3,
   "metadata": {},
   "outputs": [
    {
     "data": {
      "text/plain": [
       "[['the', 'sky', 'is', 'blue'],\n",
       " ['the', 'sun', 'is', 'bright'],\n",
       " ['the', 'sun', 'in', 'the', 'sky', 'is', 'bright'],\n",
       " ['we', 'can', 'see', 'the', 'shining', 'sun', ',', 'the', 'bright', 'sun']]"
      ]
     },
     "execution_count": 3,
     "metadata": {},
     "output_type": "execute_result"
    }
   ],
   "source": [
    "text_tokens = [word_tokenize(sent) for sent in TextCorpus]\n",
    "text_tokens"
   ]
  },
  {
   "cell_type": "code",
   "execution_count": 4,
   "metadata": {},
   "outputs": [],
   "source": [
    "from sklearn.feature_extraction.text import TfidfVectorizer"
   ]
  },
  {
   "cell_type": "code",
   "execution_count": 5,
   "metadata": {},
   "outputs": [],
   "source": [
    "transformer = TfidfVectorizer()\n",
    "tfidf = transformer.fit_transform(TextCorpus) "
   ]
  },
  {
   "cell_type": "code",
   "execution_count": 6,
   "metadata": {},
   "outputs": [
    {
     "data": {
      "text/plain": [
       "matrix([[0.65919112, 0.        , 0.        , 0.        , 0.42075315,\n",
       "         0.        , 0.        , 0.51971385, 0.        , 0.34399327,\n",
       "         0.        ],\n",
       "        [0.        , 0.52210862, 0.        , 0.        , 0.52210862,\n",
       "         0.        , 0.        , 0.        , 0.52210862, 0.42685801,\n",
       "         0.        ],\n",
       "        [0.        , 0.3218464 , 0.        , 0.50423458, 0.3218464 ,\n",
       "         0.        , 0.        , 0.39754433, 0.3218464 , 0.52626104,\n",
       "         0.        ],\n",
       "        [0.        , 0.23910199, 0.37459947, 0.        , 0.        ,\n",
       "         0.37459947, 0.37459947, 0.        , 0.47820398, 0.39096309,\n",
       "         0.37459947]])"
      ]
     },
     "execution_count": 6,
     "metadata": {},
     "output_type": "execute_result"
    }
   ],
   "source": [
    "tfidf.todense()"
   ]
  },
  {
   "cell_type": "code",
   "execution_count": 7,
   "metadata": {},
   "outputs": [],
   "source": [
    "from sklearn.decomposition import TruncatedSVD"
   ]
  },
  {
   "cell_type": "code",
   "execution_count": 8,
   "metadata": {},
   "outputs": [],
   "source": [
    "svd = TruncatedSVD(n_components = 3)\n",
    "lsa = svd.fit_transform(tfidf)"
   ]
  },
  {
   "cell_type": "code",
   "execution_count": 9,
   "metadata": {},
   "outputs": [
    {
     "data": {
      "text/plain": [
       "array([[ 0.62306129,  0.69703778,  0.34250357],\n",
       "       [ 0.88015639, -0.15398603, -0.30658728],\n",
       "       [ 0.89278882,  0.12337056, -0.25257634],\n",
       "       [ 0.67267265, -0.60788755,  0.41913607]])"
      ]
     },
     "execution_count": 9,
     "metadata": {},
     "output_type": "execute_result"
    }
   ],
   "source": [
    "lsa"
   ]
  },
  {
   "cell_type": "markdown",
   "metadata": {},
   "source": [
    "#### Can measure association using cosine similarity"
   ]
  },
  {
   "cell_type": "code",
   "execution_count": 11,
   "metadata": {},
   "outputs": [],
   "source": [
    "from sklearn.metrics.pairwise import cosine_similarity"
   ]
  },
  {
   "cell_type": "code",
   "execution_count": 12,
   "metadata": {},
   "outputs": [
    {
     "data": {
      "text/plain": [
       "array([[0.35728045]])"
      ]
     },
     "execution_count": 12,
     "metadata": {},
     "output_type": "execute_result"
    }
   ],
   "source": [
    "cosine_similarity(lsa[0,:].reshape(1,-1),lsa[1,:].reshape(1,-1))"
   ]
  },
  {
   "cell_type": "code",
   "execution_count": 13,
   "metadata": {},
   "outputs": [
    {
     "data": {
      "text/plain": [
       "array([[1.        , 0.35728045, 0.59632771, 0.1397158 ],\n",
       "       [0.35728045, 1.        , 0.95480174, 0.59048322],\n",
       "       [0.59632771, 0.95480174, 1.        , 0.44891338],\n",
       "       [0.1397158 , 0.59048322, 0.44891338, 1.        ]])"
      ]
     },
     "execution_count": 13,
     "metadata": {},
     "output_type": "execute_result"
    }
   ],
   "source": [
    "cosine_similarity(lsa)"
   ]
  },
  {
   "cell_type": "markdown",
   "metadata": {},
   "source": [
    "## Using LDA package on clean, dummy dataset"
   ]
  },
  {
   "cell_type": "code",
   "execution_count": 2,
   "metadata": {},
   "outputs": [],
   "source": [
    "import numpy as np\n",
    "import lda"
   ]
  },
  {
   "cell_type": "code",
   "execution_count": 3,
   "metadata": {},
   "outputs": [],
   "source": [
    "X = lda.datasets.load_reuters()\n",
    "vocab = lda.datasets.load_reuters_vocab()\n",
    "titles = lda.datasets.load_reuters_titles()"
   ]
  },
  {
   "cell_type": "code",
   "execution_count": 4,
   "metadata": {},
   "outputs": [
    {
     "data": {
      "text/plain": [
       "('0 UK: Prince Charles spearheads British royal revolution. LONDON 1996-08-20',\n",
       " '1 GERMANY: Historic Dresden church rising from WW2 ashes. DRESDEN, Germany 1996-08-21',\n",
       " \"2 INDIA: Mother Teresa's condition said still unstable. CALCUTTA 1996-08-23\",\n",
       " '3 UK: Palace warns British weekly over Charles pictures. LONDON 1996-08-25',\n",
       " '4 INDIA: Mother Teresa, slightly stronger, blesses nuns. CALCUTTA 1996-08-25',\n",
       " \"5 INDIA: Mother Teresa's condition unchanged, thousands pray. CALCUTTA 1996-08-25\",\n",
       " '6 INDIA: Mother Teresa shows signs of strength, blesses nuns. CALCUTTA 1996-08-26',\n",
       " \"7 INDIA: Mother Teresa's condition improves, many pray. CALCUTTA, India 1996-08-25\",\n",
       " '8 INDIA: Mother Teresa improves, nuns pray for \"miracle\". CALCUTTA 1996-08-26',\n",
       " '9 UK: Charles under fire over prospect of Queen Camilla. LONDON 1996-08-26',\n",
       " '10 UK: Britain tells Charles to forget Camilla. LONDON 1996-08-27',\n",
       " \"11 COTE D'IVOIRE: FEATURE - Quiet homecoming for reprieved Ivory Coast maid. ABIDJAN 1996-08-28\",\n",
       " '12 INDIA: Mother Teresa (\"I want to go home\") sits and prays. CALCUTTA 1996-08-28',\n",
       " '13 INDIA: Mother Teresa nears end of crisis, nuns rejoice. CALCUTTA 1996-08-28',\n",
       " '14 UK: Prosaic end for marriage of Charles and Diana. LONDON 1996-08-28',\n",
       " '15 UK: No respite for British royals despite divorce. LONDON 1996-08-28',\n",
       " \"16 UK: Camilla, love of Charles' life, an unlikely queen. LONDON 1996-08-28\",\n",
       " '17 UK: Diana sets out on new life as single woman. LONDON 1996-08-28',\n",
       " '18 USA: O.J. Simpson attacks media, hints at lawsuits. WASHINGTON 1996-08-28',\n",
       " '19 USA: U.S. Cardinal Bernardin has one year or less to live. CHICAGO 1996-08-30',\n",
       " '20 USA: U.S. Cardinal Bernardin says has terminal cancer. CHICAGO 1996-08-30',\n",
       " '21 ROMANIA: German architect wins Bucharest rebuilding prize. BUCHAREST 1996-09-02',\n",
       " '22 ARGENTINA: Argentina\\'s \"Blond Angel\" finally quits Navy. BUENOS AIRES, Argentina 1996-09-02',\n",
       " '23 UK: Disney lights up Pocahontas resting place. GRAVESEND, England 1996-09-06',\n",
       " '24 HUNGARY: POPE LEAVES HUNGARY AFTER DEMANDING TWO-DAY VISIT. BUDAPEST 1996-09-07',\n",
       " '25 HUNGARY: Pope says mass in Hungary, health in spotlight. GYOR, Hungary 1996-09-07',\n",
       " \"26 UK: Prince Charles' love will not wed him, paper says. LONDON 1996-09-09\",\n",
       " '27 UK: Ex-archbishop calls Princess Diana actress-schemer. LONDON 1996-09-09',\n",
       " '28 USA: Politics discussed backstage at Emmys, no airplay. PASADENA, Calif 1996-09-08',\n",
       " '29 UK: Diana angered by ex-archbishop\\'s \"schemer\" jibe. LONDON 1996-09-11',\n",
       " '30 UK: Queen Elizabeth to hold \"royal summit\" - report. LONDON 1996-09-10',\n",
       " \"31 BRAZIL: Nobel Prize winner sides with Brazil's landless. BRASILIA 1996-09-10\",\n",
       " \"32 VATICAN: FEATURE - Papal health in spotlight amid talk of Parkinson's. VATICAN CITY 1996-09-13\",\n",
       " '33 UK: Cool it with Camilla, Major tells Charles - paper. LONDON 1996-09-14',\n",
       " '34 ROMANIA: Romania \"royalty\" wedding draws business barons. BUCHAREST 1996-09-15',\n",
       " '35 UK: British royal family holds meeting on future. LONDON 1996-09-15',\n",
       " '36 UK: Scandal-battered British royals debate future role. LONDON 1996-09-16',\n",
       " \"37 SOUTH AFRICA: It's wonderful I've found Nelson, says new love. JOHANNESBURG 1996-09-17\",\n",
       " '38 CHILE: Chilean economist Felipe Herrera dies at 74. SANTIAGO 1996-09-18',\n",
       " '39 GREECE: Princess Diana joins in funeral on Greek island. LIMNI, Greece 1996-09-18',\n",
       " '40 USA: U.S. House of Representatives honors Mother Teresa. WASHINGTON 1996-09-17',\n",
       " \"41 FRANCE: Jewish-born cardinal is Pope's key man in France. PARIS 1996-09-18\",\n",
       " \"42 VATICAN: Pope's health will figure large on trip to France. VATICAN CITY 1996-09-18\",\n",
       " '43 PHILIPPINES: FEATURE - Ex-actor eyes Philippine presidency. [CORRECTED 03:43 GMT] MANILA 1996-09-18',\n",
       " '44 UK: Runaway bishop had child, Catholic church admits. LONDON 1996-09-19',\n",
       " '45 FRANCE: Pope skirts religious controversy in France. TOURS, France 1996-09-19',\n",
       " \"46 FRANCE: Pope visits western France religious stronghold. SAINTE-ANNE D'AURAY, France 1996-09-20\",\n",
       " '47 UK: \"I still love him\" says runaway bishop\\'s mistress. LONDON 1996-09-21',\n",
       " '48 UK: Church appeals to runaway Scottish bishop. LONDON 1996-09-21',\n",
       " \"49 SWITZERLAND: Romanian ex-king's daughter marries. LAUSANNE 1996-09-21\",\n",
       " \"50 SWITZERLAND: ROMANIAN EX-KING'S DAUGHTER MARRIES. LAUSANNE 1996-09-21\",\n",
       " '51 UK: Errant Catholic bishop wants to marry divorcee. LONDON 1996-09-22',\n",
       " '52 FRANCE: Pope speaks of death with \"a smile\"-Cardinal. REIMS, France 1996-09-22',\n",
       " '53 USA: Actress Dorothy Lamour dead at 81. LOS ANGELES 1996-09-23',\n",
       " '54 USA: South Georgia resort kept Kennedy wedding secret. CUMBERLAND ISLAND, Ga 1996-09-23',\n",
       " '55 FRANCE: FEATURE - Bardot tells all - for the love of animals. PARIS 1996-09-24',\n",
       " '56 FRANCE: Bardot tells all - for the love of animals. [CORRECTED 09:05 GMT] PARIS 1996-09-24',\n",
       " '57 AUSTRALIA: Quiet Buddhist farewell for mercy death Australian. DARWIN, Australia 1996-09-27',\n",
       " '58 AUSTRALIA: Australia mercy death man joked until the end. DARWIN, Australia 1996-09-27',\n",
       " '59 BELGIUM: Famed Belgian battlefield site makes its mark. WATERLOO, Belgium 1996-09-28',\n",
       " \"60 REPUBLIC OF IRELAND: Ireland's Cardinal Daly steps down at 79. DUBLIN 1996-10-01\",\n",
       " '61 CANADA: Former Quebec premier fought for Canadian unity. QUEBEC CITY 1996-10-02',\n",
       " '62 GERMANY: Feminist Hite seeks European parliament platform. FRANKFURT 1996-10-04',\n",
       " '63 UK: Prince Charles aide out after gaffes over Camilla. LONDON 1996-10-05',\n",
       " '64 GERMANY: Vargas Llosa urges sanctions on rights abuses. FRANKFURT 1996-10-06',\n",
       " '65 VATICAN: Tired Pope calls for prayers before operation. VATICAN CITY 1996-10-06',\n",
       " '66 ITALY: Pope ready for appendix surgery. ROME 1996-10-08',\n",
       " '67 FRANCE: FEATURE - \"Who\\'s Who\" sounds requiem for French intellectuals. PARIS 1996-10-07',\n",
       " '68 USA: Clinton wishes Pope \"speedy recovery\". WASHINGTON 1996-10-08',\n",
       " '69 ITALY: \"Textbook\" papal appendix surgery excludes tumour. [CORRECTED 16:45 GMT] ROME 1996-10-08',\n",
       " '70 ITALY: Pope gets clean bill of health after appendectomy. ROME 1996-10-09',\n",
       " '71 UK: Runaway UK bishop to marry, apologises to church. KENDAL, England 1996-10-08',\n",
       " \"72 ITALY: Pope's surgery a success, doctors say no tumour. ROME 1996-10-08\",\n",
       " '73 UK: Runaway Scottish bishop to marry lover. GLASGOW, Scotland 1996-10-08',\n",
       " '74 ITALY: Pope has appendix removed, no problems. ROME 1996-10-08',\n",
       " '75 ITALY: Tranquil Pope has appendix surgery. ROME 1996-10-08',\n",
       " \"76 ITALY: Pope's operation starts - hospital sources. ROME 1996-10-08\",\n",
       " '77 SOUTH KOREA: \"King of Pop\" Michael Jackson arrives in Seoul. SEOUL 1996-10-09',\n",
       " '78 SOUTH KOREA: Jackson takes to stage in Seoul despite protests. SEOUL 1996-10-11',\n",
       " '79 INDONESIA: Nobel peace awards put East Timor in spotlight. JAKARTA 1996-10-11',\n",
       " '80 NORWAY: Nobel peace award wins praise outside indonesia. OSLO 1996-10-11',\n",
       " \"81 VATICAN: Bishop's Nobel prize sweet satisfaction for Pope. VATICAN CITY 1996-10-11\",\n",
       " '82 NORWAY: Winners of Nobel Peace Prize since 1970. OSLO 1996-10-11',\n",
       " '83 SOUTH AFRICA: FEATURE - Germans cling to little oasis in rural South Africa. HERMANNSBURG, South Africa 1996-10-13',\n",
       " '84 GERMANY: German publisher of Stern magazine dies. HAMBURG, Germany 1996-10-13',\n",
       " '85 ITALY: Joking Pope appears in public after surgery. ROME 1996-10-13',\n",
       " '86 INDONESIA: Nobel laureate invited to gathering for Suharto. JAKARTA 1996-10-14',\n",
       " '87 VATICAN: After appendectomy, Papal trembling in spotlight. VATICAN CITY 1996-10-14',\n",
       " '88 USA: Material Girl Madonna becomes a mother. LOS ANGELES 1996-10-14',\n",
       " '89 USA: Madonna as mother - the next chapter. LOS ANGELES 1996-10-14',\n",
       " '90 REPUBLIC OF IRELAND: Irish aid agency pulls out of concert over singer. DUBLIN 1996-10-15',\n",
       " '91 UK: British writer seeks reward on Nazi gold-raid book. LONDON 1996-10-18',\n",
       " \"92 UK: Mahatma Ghandi's letters go on sale in London. LONDON 1996-10-21\",\n",
       " \"93 UK: Mahatma Gandhi's letters go on sale in London. LONDON 1996-10-21\",\n",
       " '94 USA: FEATURE-Haitian voodoo - more than dolls and zombies. MIAMI 1996-10-22',\n",
       " '95 VATICAN: Pope to celebrate public mass on Sunday. VATICAN CITY 1996-10-22',\n",
       " '96 VATICAN: Pope greets pilgrims, resumes full duties Sunday. VATICAN CITY 1996-10-23',\n",
       " \"97 SPAIN: Spanish bishops attack minister's lavish wedding. MADRID 1996-10-23\",\n",
       " '98 INDIA: Former Gandhi aide has second thoughts on auction. MADRAS, India 1996-10-24',\n",
       " '99 UK: ENGLISH PASTOR DEFENDS MEMORIAL SERVICE FOR MONKEY. LONDON 1996-10-25',\n",
       " '100 VATICAN: Pope gradually resumes activity after operation. VATICAN CITY 1996-10-27',\n",
       " '101 RUSSIA: Russia presents archives to U.S. Holocaust museum. MOSCOW 1996-10-28',\n",
       " '102 USA: Municipal industry mourns James Augenthaler. NEW YORK 1996-10-28',\n",
       " '103 UK: U.S. actor berates archbishop over smacking. LONDON 1996-10-28',\n",
       " '104 USA: Author who denied Japanese-Americans interned dies. LOS ANGELES 1996-10-29',\n",
       " '105 VATICAN: Pope to publish brief memoirs. VATICAN CITY 1996-10-31',\n",
       " '106 VATICAN: Pope marks 50 years as priest, announces memoirs. VATICAN CITY 1996-11-01',\n",
       " '107 VATICAN: FEATURE - Pope marks 50th anniversary of priesthood. VATICAN CITY 1996-11-01',\n",
       " '108 ROMANIA: Romanians enjoy colourful choice of candidates. BUCHAREST 1996-11-03',\n",
       " '109 RUSSIA: Veil of secrecy thickens as Yeltsin surgery nears. MOSCOW 1996-11-04',\n",
       " '110 RUSSIA: Yeltsin in good form as heart operation nears. MOSCOW 1996-11-04',\n",
       " '111 RUSSIA: Yeltsin op looks imminent, security tightened. MOSCOW 1996-11-05',\n",
       " '112 RUSSIA: FEATURE - Provincial museum fights to stay open in Russia. KOSTROMA, Russia 1996-11-04',\n",
       " '113 ARGENTINA: FEATURE - Erstwhile angel Cavallo bedevils government. BUENOS AIRES 1996-11-04',\n",
       " '114 RUSSIA: YELTSIN COMES THROUGH SEVEN-HOUR HEART OPERATION. MOSCOW 1996-11-05',\n",
       " '115 RUSSIA: Russia on edge as Yeltsin surgery goes to plan. MOSCOW 1996-11-05',\n",
       " '116 RUSSIA: Yeltsin comes through seven-hour heart operation. MOSCOW 1996-11-05',\n",
       " \"117 ITALY: Real-life Don Camillo won't toll bells for red. ROME 1996-11-06\",\n",
       " '118 VATICAN: Pope celebrates priesthood, to resume all activity. VATICAN CITY 1996-11-10',\n",
       " \"119 USA: Chicago's Cardinal Bernardin reported near death. CHICAGO 1996-11-13\",\n",
       " '120 USA: Church, lay leaders mourn Chicago cardinal. CHICAGO 1996-11-14',\n",
       " \"121 USA: Bishops recall Bernardin's humble leadership. WASHINGTON 1996-11-14\",\n",
       " '122 USA: Cardinal led Chicago archdiocese for 14 years. CHICAGO 1996-11-14',\n",
       " \"123 USA: Chicago's Cardinal Bernardin dead at age 68. CHICAGO 1996-11-14\",\n",
       " '124 VATICAN: Pope saddened over Bernardin death. VATICAN CITY 1996-11-14',\n",
       " '125 CROATIA: Croatian doctor says Tudjman \"feeling excellent\". ZAGREB 1996-11-16',\n",
       " '126 INDONESIA: Norway issues Timorese Nobel laureate a visa. JAKARTA 1996-11-17',\n",
       " '127 INDIA: Mother Teresa becomes honorary American citizen. NEW DELHI 1996-11-16',\n",
       " '128 VATICAN: Pope warms up for Castro by meeting Gorbachev. VATICAN CITY 1996-11-18',\n",
       " '129 USA: Final services for Cardinal Bernardin of Chicago. CHICAGO 1996-11-20',\n",
       " '130 UK: India saves Gandhi papers from jaws of commerce. LONDON 1996-11-22',\n",
       " \"131 USA: Simpson's life story defies imagination. SANTA MONICA, Calif. 1996-11-22\",\n",
       " '132 INDIA: Mother Teresa \"comfortable\" after heart failure. CALCUTTA 1996-11-22',\n",
       " '133 INDIA: Mother Teresa in hospital with heart problem. CALCUTTA 1996-11-22',\n",
       " '134 FRANCE: France pays tribute to writer Malraux on Saturday. PARIS 1996-11-22',\n",
       " '135 USA: S. Carolina Klan museum claims to teach history. LAURENS, S.C. 1996-11-24',\n",
       " '136 USA: Ex-hostage Waite still keeps symbolic ticket. NEW YORK 1996-11-26',\n",
       " \"137 UK: Cluedo's final mystery solved at inventor's grave. LONDON 1996-11-27\",\n",
       " \"138 MOLDOVA: Moldova's new leader has Moscow past, western goals. CHISINAU 1996-12-02\",\n",
       " '139 VATICAN: Belgian cardinal Hamer dies. VATICAN CITY 1996-12-02',\n",
       " '140 UK: Papers show Duke of Windsor was royal loose cannon. LONDON 1996-12-03',\n",
       " '141 FRANCE: Acclaimed French historian Georges Duby dies at 77. PARIS 1996-12-03',\n",
       " '142 CENTRAL AFRICAN REPUBLIC: State burial for African emperor Bokassa cancelled. BANGUI 1996-12-04',\n",
       " '143 INDIA: Mother Teresa seeks foster homes for 4,000 children. CALCUTTA 1996-12-05',\n",
       " '144 USA: Abortion foe Salvi buried, victim attends funeral. IPSWICH, Mass 1996-12-04',\n",
       " '145 ITALY: Nobel laureate Belo says peace will be his message. ROME 1996-12-06',\n",
       " '146 VIETNAM: Hanoi declares dissident temple a national site. HANOI 1996-12-06',\n",
       " '147 GREECE: SALONIKA TO SHOW OFF BYZANTINE LEGACY IN 1997. SALONIKA, Greece 1996-12-08',\n",
       " '148 GREECE: SALONIKA TO SHOW OFF BYZANTINE LEGACY IN 1997. SALONIKA, Greece 1996-12-09',\n",
       " '149 RUSSIA: Cash-strapped Kremlin to start charging visitors. MOSCOW 1996-12-10',\n",
       " '150 VATICAN: Ageing Pope to skip Christmas Day mass this year. VATICAN CITY 1996-12-10',\n",
       " '151 NORWAY: East Timor activist shares peace prize. OSLO 1996-12-10',\n",
       " \"152 UK: FEATURE - Duke's reputation sinks 60 years after abdication. LONDON 1996-12-11\",\n",
       " \"153 SOUTH AFRICA: S.Africa's Boesak charged with theft of aid funds. CAPE TOWN 1996-12-13\",\n",
       " \"154 ITALY: Italy's Dossetti, political figure, dies. BOLOGNA, Italy 1996-12-15\",\n",
       " '155 GREECE: FEATURE - Salonika to show off Byzantine legacy in 1997. SALONIKA, Greece 1996-12-15',\n",
       " '156 NETHERLANDS: Hermitage treasures on show in Amsterdam. AMSTERDAM 1996-12-16',\n",
       " '157 RUSSIA: Russian Orthodox leader taken to hospital. MOSCOW 1996-12-18',\n",
       " '158 FRANCE: Bardot denies racism charge in Paris court. PARIS 1996-12-19',\n",
       " '159 FRANCE: Paris bids emotional farewell to Mastroianni. PARIS 1996-12-20',\n",
       " '160 ITALY: Italy says \"Ciao Marcello,\" thanks for sweet life. ROME 1996-12-20',\n",
       " '161 PERU: Peru rebel chief is angry, violent revolutionary. LIMA 1996-12-22',\n",
       " '162 CUBA: Santa Claus skips Cuba, at least officially. HAVANA 1996-12-23',\n",
       " '163 ISRAEL: Israel takes shine off Christmas in Bethlehem. BETHLEHEM, West Bank 1996-12-23',\n",
       " '164 RUSSIA: FEATURE - Moscow to celebrate 850th birthday in grand style. MOSCOW 1996-12-25',\n",
       " '165 UK: Fred West film plan angers British MPs, relatives. LONDON 1996-12-31',\n",
       " '166 INDIA: Israel president shrugs off illness. NEW DELHI 1996-12-31',\n",
       " '167 UK: Britain to review law after Fred West film plan. LONDON 1997-01-01',\n",
       " '168 UK: Britain to review law after Fred West film plan. LONDON 1997-01-01',\n",
       " '169 USA: Mother Teresa \"miracle\" bun takes to the Internet. NASHVILLE, Tenn. 1997-01-03',\n",
       " \"170 SWEDEN: Sweden's honourable Prince Bertil dies, aged 84. STOCKHOLM 1997-01-05\",\n",
       " \"171 SWEDEN: Sweden's Prince Bertil dies. STOCKHOLM 1997-01-05\",\n",
       " \"172 RUSSIA: Kremlin slams report on return of Tsar's heir. MOSCOW 1997-01-06\",\n",
       " '173 RUSSIA: Yeltsin spends Russian Christmas in bed with cold. MOSCOW 1997-01-07',\n",
       " '174 SOUTH KOREA: Under plastic awning, veteran newsman leads strikes. SEOUL 1997-01-07',\n",
       " '175 RUSSIA: FEATURE - Russian historian seeks real Stalin behind myth. MOSCOW 1997-01-09',\n",
       " '176 GERMANY: Hollywood stars blast Germany over Scientologists. BONN 1997-01-09',\n",
       " \"177 Germany: Kohl dismisses Hollywood stars' rebuke of Germany. BONN 1997-01-09\",\n",
       " '178 UK: Buckingham Palace to campaign for Charles as king. LONDON 1997-01-09',\n",
       " \"179 CANADA: FEATURE-Canada's Ben Heppner -- the Fourth Tenor?. OTTAWA 1997-01-10\",\n",
       " \"180 GERMANY: Germany rebuffs stars' accusations over Scientology. BONN 1997-01-10\",\n",
       " \"181 RUSSIA: FEATURE - Russian artists say forging evidence is kids' stuff. MOSCOW 1997-01-12\",\n",
       " '182 USA: Houston moves to rein in topless nightclubs. HOUSTON 1997-01-12',\n",
       " '183 SWEDEN: Sweden, European royalty mourn Prince Bertil. STOCKHOLM 1997-01-13',\n",
       " '184 GERMANY: German Jewish leader slams Scientology letter. FRANKFURT 1997-01-13',\n",
       " '185 PHILIPPINES: FEATURE - Festivals bring buried Philippine towns back to life. ANGELES CITY, Philippines 1997-01-13',\n",
       " '186 SWEDEN: European royalty join Sweden to mourn Prince Bertil. STOCKHOLM 1997-01-13',\n",
       " '187 AUSTRALIA: RTRS-TIMELINES-Today in History - Jan 15.',\n",
       " '188 DENMARK: Danish queen mourns, marks 25 years as monarch. COPENHAGEN 1997-01-14',\n",
       " \"189 SOUTH AFRICA: S.Africa's moral conscience, Tutu, battles cancer. JOHANNESBURG 1997-01-17\",\n",
       " '190 USA: Debate over King legacy dampens Atlanta festivities. ATLANTA 1997-01-19',\n",
       " '191 USA: Church marks legacy of Martin Luther King Jr.. ATLANTA 1997-01-20',\n",
       " '192 USA: U.S. Sen. Tsongas to be buried on Thursday. LOWELL, Mass 1997-01-19',\n",
       " '193 USA: Friends line up to pay respects to Tsongas. LOWELL, Mass. 1997-01-21',\n",
       " '194 USA: John Phillips dies, ex-First Boston muni official. NEW YORK 1997-01-22',\n",
       " \"195 FRANCE: France's Bardot cleared of racist slur. PARIS 1997-01-23\",\n",
       " \"196 LIBERIA: Liberia's Taylor remarries, offers toast for peace. GBANGA, Liberia 1997-01-28\",\n",
       " '197 TAIWAN: Taiwan president soul-searches with Hollywood hunk. TAIPEI 1997-01-29',\n",
       " '198 COLOMBIA: Gays beat Church ban, parade in Colombian carnival. BOGOTA 1997-02-02',\n",
       " '199 FRANCE: U.S. ambassador to France has brain haemorrhage. PARIS 1997-02-04',\n",
       " '200 GERMANY: Berlin festival quells Scientology boycott fears. BERLIN 1997-02-04',\n",
       " '201 USA: U.S. envoy to France seriously ill. WASHINGTON 1997-02-03',\n",
       " '202 USA: U.S. envoy to France said to be near death. WASHINGTON 1997-02-03',\n",
       " '203 FRANCE: U.S. Paris envoy Harriman in serious condition. PARIS 1997-02-04',\n",
       " '204 FRANCE: U.S. ambassador to France has brain haemorrhage. PARIS 1997-02-04',\n",
       " '205 FRANCE: U.S. ambassador to France ill in hospital. PARIS 1997-02-04',\n",
       " '206 USA: Pamela Harriman eulogized by Clinton, Democrats. WASHINGTON 1997-02-05',\n",
       " '207 USA: Clinton, Democrats laud Pamela Harriman. WASHINGTON 1997-02-05',\n",
       " '208 FRANCE: U.S. envoy Pamela Harriman dies in Paris. PARIS 1997-02-05',\n",
       " \"209 FRANCE: Pamela Harriman's life a mix of wealth and power. PARIS 1997-02-05\",\n",
       " '210 USA: Clinton lauds Harriman as gifted public servant. WASHINGTON 1997-02-05',\n",
       " \"211 USA: O.J. Simpson's incredible reversal of fortune. SANTA MONICA, Calif. 1997-02-04\",\n",
       " '212 FRANCE: U.S. ambassador to Paris Harriman dead at 76. PARIS 1997-02-05',\n",
       " '213 FRANCE: Pamela Harriman, U.S. envoy to France, dead at 76. PARIS 1997-02-05',\n",
       " '214 FRANCE: U.S. ambassador to France condition still serious. PARIS 1997-02-05',\n",
       " '215 FRANCE: Chirac to honour late U.S. envoy Pamela Harriman. PARIS 1997-02-06',\n",
       " '216 USA: FEATURE - Marsalis conjures soul from slavery. NEW YORK 1997-02-06',\n",
       " '217 UK: Oasis singer Liam Gallagher set to marry next week. LONDON 1997-02-06',\n",
       " \"218 USA: Harriman's body returned to Washington. WASHINGTON 1997-02-08\",\n",
       " '219 SWITZERLAND: FEATURE - Troubleshooting Swiss diplomat keeps low profile. BERNE 1997-02-12',\n",
       " '220 USA: Clinton recalls Harriman as elegant, indomitable. WASHINGTON 1997-02-13',\n",
       " '221 USA: Funeral for baby allegedly killed by British nanny. BROOKLINE, Mass. 1997-02-12',\n",
       " '222 VATICAN: Historian of Vatican policy towards Nazis dies. VATICAN CITY 1997-02-14',\n",
       " '223 UK: UK watchdog halts ads over epileptic seizure risk. LONDON 1997-02-14',\n",
       " \"224 PHILIPPINES: Air crash follows bishop's funeral in Philippines. JOLO, Philippines 1997-02-14\",\n",
       " '225 HONG KONG: China, Taiwan, HK stocks rocked by Deng worries. HONG KONG 1997-02-18',\n",
       " '226 UK: Albright looks back to war years on London visit. LONDON 1997-02-19',\n",
       " '227 USA: Harriman son, estranged wife inherit - report. WASHINGTON 1997-02-18',\n",
       " '228 FRANCE: French judges refuse to ban \"Larry Flynt\" posters. PARIS 1997-02-20',\n",
       " \"229 GERMANY: Bavarians outraged at exhibition on Hitler's army. MUNICH, Germany 1997-02-20\",\n",
       " '230 SWITZERLAND: Swiss bishops blast Larry Flynt film poster. ZURICH 1997-02-21',\n",
       " '231 ROMANIA: Romania king, citizenship restored, to visit home. BUCHAREST 1996-02-24',\n",
       " '232 CHINA: China Catholics pray for Deng as church silent. BEIJING 1997-02-23',\n",
       " '233 ROMANIA: Romania flashy \"Gypsy King\" dies of heart attack. BUCHAREST 1997-02-24',\n",
       " '234 USA: Rev. Benjamin Chavis joins Farrakhan group. CHICAGO 1997-02-24',\n",
       " '235 INDIA: Mother Teresa succession vote soon, order says. CALCUTTA, India 1997-02-24',\n",
       " '236 INDIA: Mother Teresa succession vote imminent, order says. CALCUTTA, India 1997-02-24',\n",
       " '237 GERMANY: \"English Patient\" favourite for Berlin Golden Bear. BERLIN 1997-02-24',\n",
       " '238 FRANCE: Berlin-winner Forman drops Larry Flynt poster. PARIS 1997-02-24',\n",
       " \"239 GERMANY: Bavarians protest against exhibit on Hitler's army. MUNICH, Germany 1997-01-24\",\n",
       " '240 GERMANY: \"English Patient\" tipped for Berlin festival prize. BERLIN 1997-02-24',\n",
       " '241 ROMANIA: Romanians honour memory of Gypsy King. SIBIU, Romania 1997-02-26',\n",
       " '242 ROMANIA: Romania to use King as envoy to boost NATO chances. BUCHAREST 1997-02-26',\n",
       " '243 ITALY: Sicily archbishop on trial for corruption, EU fraud. PALERMO, Sicily 1997-02-26',\n",
       " \"244 VATICAN: St Peter's in Rome to get facelift for 2000. VATICAN CITY 1997-02-27\",\n",
       " \"245 ROMANIA: Romania's exiled king backs reforms. BUCHAREST 1997-03-01\",\n",
       " '246 ROMANIA: Small crowds greet Romanian king, patriarch. BUCHAREST 1997-03-02',\n",
       " '247 USA: Forbes seeks to shape U.S. agenda, could run again. NEW YORK 1997-03-04',\n",
       " '248 INDIA: Mother Teresa successor vote soon - church official. CALCUTTA 1997-03-04',\n",
       " '249 POLAND: Polish bishops condemn Larry Flynt film poster. WARSAW 1997-03-05',\n",
       " '250 USA: Ex-president Reagan, wife mark 45th anniversary. LOS ANGELES 1997-03-04',\n",
       " '251 BULGARIA: Bulgarian patriarch vows to stay on despite ruling. SOFIA 1997-03-06',\n",
       " \"252 INDIA: Nuns to elect Mother Teresa's successor any day. CALCUTTA 1997-03-06\",\n",
       " '253 UK: UK Cardinal offers cash help to women not to abort. GLASGOW, Scotland 1997-03-09',\n",
       " \"254 UK: Charles and Diana reunited for son's confirmation. LONDON 1997-03-09\",\n",
       " \"255 INDIA: Mother Teresa's order grappling with succession. CALCUTTA, India 1997-03-09\",\n",
       " \"256 RUSSIA: FEATURE - Russians still squabbling over tsar's bones. YEKATERINBURG, Russia 1997-03-10\",\n",
       " \"257 USA: Pamela Harriman's estate to be auctioned off. NEW YORK 1997-03-11\",\n",
       " '258 USA: FEATURE-Grammy Winner Brecker owes it all to Philadelphia. PHILADELPHIA 1997-03-11',\n",
       " '259 INDIA: Hindu Brahmin convert to succeed Mother Teresa. CALCUTTA, India 1997-03-13',\n",
       " \"260 INDIA: Shy nun emerges from Mother Teresa's shadow. CALCUTTA, India 1997-03-13\",\n",
       " \"261 GERMANY: German home of 'lost Gospel' may hold other finds. BERLIN 1997-03-13\",\n",
       " '262 SPAIN: FEATURE - Spanish fiestas stir animal groups into fury. MANGANESES DE LA POLVOROSA, Spain 1997-03-13',\n",
       " \"263 INDIA: Mother Teresa's successor faces bumpy start. CALCUTTA, India 1997-03-16\",\n",
       " '264 SLOVAKIA: SLOVAK STUDENTS PRESS FOR MINISTER TO QUIT. BRATISLAVA 1997-03-17',\n",
       " '265 JAMAICA: Former Jamaica prime minister Manley laid to rest. KINGSTON, Jamaica 1997-03-16',\n",
       " '266 UK: FEATURE-Maverick Leigh strikes blow for independent film makers. LONDON 1997-03-17',\n",
       " '267 USA: Fans swarm New York procession for slain rapper. NEW YORK 1997-03-18',\n",
       " '268 USA: Hundreds swarm New York motorcade for slain rapper. NEW YORK 1997-03-18',\n",
       " '269 USA: FEATURE - John Tesh - music is entertainment tonight. LOS ANGELES 1997-03-18',\n",
       " \"270 UK: Thatcher's archive to go to Churchill College. LONDON 1997-03-18\",\n",
       " '271 EGYPT: Egypt moves ahead with church restoration project. CAIRO 1997-03-18',\n",
       " '272 PHILIPPINES: Ramos says N.Korean defector in Philppines for short time. MANILA 1997-03-19',\n",
       " '273 UK: Archbishop of Canterbury speaks of retiring. LONDON 1997-03-20',\n",
       " '274 ZIMBABWE: Mrs Clinton sees Zimbabwe efforts to help people. HARARE, Zimbabwe 1997-03-22',\n",
       " '275 ITALY: Dutch-Flemish show goes to roots of modern art. VENICE, Italy 1997-03-23',\n",
       " '276 USA: Clinton adjusts to slower-paced life. WASHINGTON 1997-03-25',\n",
       " '277 RUSSIA: Lenin niece opposes re-burial of Communist leader. MOSCOW 1997-03-26',\n",
       " \"278 INDONESIA: Seventeen detained after riot on Indonesia's Java. JAKARTA 1997-03-27\",\n",
       " '279 VENEZUELA: FEATURE-Andean hermit acrobat wins artist fame. SAN RAFAEL DE MUCUCHIES, Venezuela 1997-04-01',\n",
       " '280 VATICAN: FEATURE - Pope marks 19th Easter season looking tired, frail. VATICAN CITY 1997-04-01',\n",
       " \"281 PORTUGAL: FEATURE - Portugal's Cinderella city gets its reward.\",\n",
       " '282 FRANCE: Christian Dior denies rupture with actress Beart. PARIS 1997-04-03',\n",
       " '283 SPAIN: Spanish princess to wed handball player - reports. MADRID 1997-04-03',\n",
       " '284 UK: Defiant Princess Anne to return for Grand National. LIVERPOOL, England 1997-04-07',\n",
       " '285 USA: Writer Patricia Cornwell admits lesbian affair. [CORRECTED 21:20 GMT]. NEW YORK 1997-04-08',\n",
       " \"286 USA: Joe Kennedy's ex-wife to appeal annulment - report. BOSTON 1997-04-08\",\n",
       " '287 USA: Ex-wife of US Sen. Kerry fights annulment - report. BOSTON 1997-04-10',\n",
       " '288 RUSSIA: Top Russian official meets royal relative. MOSCOW 1997-04-12',\n",
       " '289 USA: Farrakhan blames Catholics Church for hate crimes. [CORRECTED 21:48 GMT] WASHINGTON 1997-04-13',\n",
       " \"290 AUSTRALIA: RTRS-Australia's Colston released from hospital. BRISBANE 1996-04-17\",\n",
       " '291 UK: FEATURE - Britain hosts major Thomas Becket exhibition. CANTERBURY, England 1997-04-20',\n",
       " '292 USA: Brooke Shields and Andre Agassi marry. MONTEREY, Calif. 1997-04-19',\n",
       " \"293 UK: China's HK General perfect choice, says tutor. LONDON 1997-04-22\",\n",
       " '294 USA: U.S. Christian Coalition leader to step down. [CORRECTED 18:19 GMT] WASHINGTON 1997-04-23',\n",
       " '295 USA: Ralph Reed steps down from U.S. Christian Coalition. WASHINGTON 1997-04-23',\n",
       " '296 EGYPT: U.S. pilot heads to Asia on Earhart tribute trip. LUXOR, Egypt 1997-04-24',\n",
       " '297 USA: Alabama judge wins Kennedy \"Courage\" award. BOSTON 1997-04-24',\n",
       " '298 PHILIPPINES: Philippines buries Marcos predecessor Macapagal. MANILA 1997-04-27',\n",
       " \"299 USA: 'Ellen' comes out, gays across U.S. celebrate. MIAMI 1997-05-01\",\n",
       " \"300 USA: 'Ellen' comes out, gays across U.S. celebrate. MIAMI 1997-04-30\",\n",
       " '301 UK: Worldwide Advertising & Media Digest - May 2.',\n",
       " '302 UK: Ex-wife of Yorkshire Ripper weds again in Britain. LONDON 1997-05-03',\n",
       " '303 NEW ZEALAND: Former NZ Social Credit leader Bruce Beetham dies.',\n",
       " '304 ITALY: Italy unveils plan to protect art treasures. ROME 1997-05-03',\n",
       " '305 UK: Eurosceptic Redwood bids to lead UK Conservatives. LONDON 1997-05-06',\n",
       " \"306 GERMANY: Germany's Herzog urges Europeans to back unity. AACHEN, Germany 1997-05-08\",\n",
       " '307 USA: American civil rights leader to be buried in Harlem. NEW YORK 1997-05-08',\n",
       " '308 USA: Kempton honored by New York writers, mayor. NEW YORK 1997-05-08',\n",
       " '309 VATICAN: Glamorous ex-model swaps catwalk for convent. VATICAN CITY 1997-05-09',\n",
       " '310 RUSSIA: Russian parliament votes no changes to Red Square. MOSCOW 1997-05-14',\n",
       " '311 AUSTRIA: FEATURE - \"Sound of Music\" makes Austrian cash tills ring. SALZBURG, Austria 1997-05-16',\n",
       " '312 AUSTRALIA: TIMELINES-Today in History - May 19.',\n",
       " '313 ITALY: Pope, on birthday, says wants to live to 100. ROME 1997-05-18',\n",
       " \"314 USA: Pamela Harriman's estate goes on sale. [CORRECTED 22:43 GMT] NEW YORK 1997-05-19\",\n",
       " '315 USA: Stallone married in London, publicist confirms. LOS ANGELES 1997-05-19',\n",
       " '316 UK: Germans ran systematic wartime plunder campaign. LONDON 1997-05-19',\n",
       " '317 USA: Harriman auction continues to bring high prices. NEW YORK 1997-05-20',\n",
       " '318 MEXICO: Mexico bids awkward farewell to controversial cleric. MEXICO CITY 1997-05-21',\n",
       " '319 USA: Notebook contains early Lennon-McCartney tunes. NEW YORK 1997-05-21',\n",
       " '320 USA: Harriman auction continues to bring high prices. NEW YORK 1997-05-20',\n",
       " '321 ITALY: Healthy looking Mother Teresa initiates new nuns. ROME 1997-05-23',\n",
       " '322 USA: Mother Teresa in New York to initiate new nuns. NEW YORK 1997-05-26',\n",
       " '323 USA: Leona Helmsley makes $1 million donation. NEW YORK 1997-05-28',\n",
       " '324 USA: Alabama judge accepts Kennedy \"Courage\" award. BOSTON 1997-05-29',\n",
       " '325 RUSSIA: Would-be Russian tsar to return for family ceremony. MOSCOW 1997-05-30',\n",
       " '326 POLAND: Pope in Poland tries to allay health concerns. WROCLAW, Poland 1996-06-02',\n",
       " '327 UK: Britain plans glittering royal golden wedding. LONDON 1997-06-04',\n",
       " '328 FRANCE: Vaillant gets loyalty reward in French cabinet post. PARIS 1997-06-04',\n",
       " '329 POLAND: POPE TAKES HELICOPTER TRIP ON REST DAY. ZAKOPANE, Poland 1997-06-05',\n",
       " '330 POLAND: Pope takes helicopter trip over beloved mountains. ZAKOPANE, Poland 1997-06-05',\n",
       " '331 POLAND: Pope rests at halfway mark as Poles mull message. ZAKOPANE, Poland 1997-06-05',\n",
       " '332 POLAND: Pope has moving reunion with with old schoolmates. ZAKOPANE, Poland 1997-06-06',\n",
       " '333 UK: Oasis songwriter Noel Gallagher weds in Las Vegas. LONDON 1997-06-07',\n",
       " '334 POLAND: Pope gives thanks for surviving assassination bid. ZAKOPANE, Poland 1997-06-07',\n",
       " '335 POLAND: Pope emotionally recalls assassination attempt. ZAKOPANE, Poland 1997-06-07',\n",
       " \"336 POLAND: Pope to spend few moments at parents' grave. KRAKOW, Poland 1996-06-09\",\n",
       " \"337 POLAND: Pope spends moments of silence at parents' grave. KRAKOW, Poland 1997-06-09\",\n",
       " '338 POLAND: Poles flock to big mass on last day of Papal visit. KROSNO, Poland 1997-06-10',\n",
       " \"339 ITALY: Mussolini descendants gather for son's funeral. ROME 1997-06-14\",\n",
       " '340 ISRAEL: Sinead quits Jerusalem concert after death threats. JERUSALEM 1997-06-16',\n",
       " '341 USA: U.S. church boycotts \"Gay friendly\" Disney. DALLAS 1997-06-18',\n",
       " \"342 RUSSIA: Russia's Patriarch urges caution on Lenin removal. MOSCOW 1997-06-19\",\n",
       " '343 GERMANY: Fragments of rare Gutenberg bible found in Germany. BONN 1997-06-20',\n",
       " \"344 UK: UK ex-minister quits as Queen's adviser - reports. LONDON 1997-06-25\",\n",
       " '345 GERMANY: Boris Becker threatens Scientology over Internet. BONN 1997-06-27',\n",
       " \"346 CHINA: China's top Catholic church official dies at 80. BEIJING 1997-06-28\",\n",
       " '347 UK: Westminster Abbey to charge entry fee - paper. LONDON 1997-06-29',\n",
       " '348 UK: Freemasons launch magazine to improve image. LONDON 1997-07-01',\n",
       " '349 UK: FEATURE-Orange and Green, the colours of N.Ireland conflict. BELFAST 1997-07-02',\n",
       " '350 COLOMBIA: Colombia recovers church art worth $1.5 million. BOGOTA 1997-07-03',\n",
       " \"351 UK: Rare show of sympathy for UK's royal mistress. LONDON 1997-07-07\",\n",
       " '352 USA: Hollywood bids farewell to actor Jimmy Stewart. BEVERLY HILLS, Calif. 1997-07-07',\n",
       " '353 ITALY: Pope begins private mountain retreat in Italy Alps. INTROD, Italy 1997-07-09',\n",
       " '354 UK: FEATURE - UK royals try to relaunch after decade \"horribilis\". LONDON 1997-07-10',\n",
       " '355 USA: Black church leader denies affair. ST. PETERSBURG, Fla. 1997-07-11',\n",
       " '356 ALBANIA: FEATURE - Albania violence threatens treasured ancient city. BUTRINT, Albania 1997-07-13',\n",
       " '357 ITALY: Jovial Pope seems invigorated by mountain break. LES COMBES, Italy 1997-07-13',\n",
       " \"358 UK: Churchill's World War One letters up for auction. LONDON 1997-07-16\",\n",
       " '359 UK: Prince Charles holds 50th bash for lover Camilla. LONDON 1997-07-16',\n",
       " '360 GERMANY: Russian minister criticises Bonn on art booty. BONN 1997-07-16',\n",
       " '361 UK: Churchill letters sell for three times estimate. LONDON 1997-07-17',\n",
       " '362 USA: Miami police probe new killing, Versace cremated. MIAMI 1997-07-17',\n",
       " '363 USA: Versace ashes to be flown to Italy Thursday. MIAMI 1997-07-17',\n",
       " '364 ISRAEL: FEATURE - Despite Vanunu, no nuclear debate in Israel. JERUSALEM 1997-07-17',\n",
       " '365 USA: Miami Beach bids farewell to Versace. MIAMI BEACH, Fla. 1997-07-18',\n",
       " '366 ITALY: Lakeside villa was hideaway for glamorous Versace. MOLTRASIO, Italy 1997-07-18',\n",
       " '367 USA: Miami Beach bids farewell to Versace. MIAMI BEACH, Fla. 1997-07-18',\n",
       " \"368 USA: Clinton will speak at Arkansas friend's funeral. HARRISON, Ark 1997-07-18\",\n",
       " '369 USA: Versace service set; new murder seen as unrelated. MIAMI BEACH 1997-07-18',\n",
       " '370 UK: Camilla steps out of shadows as royal lover. LONDON 1997-07-19',\n",
       " '371 INDIA: Mother Teresa returns, pleased with foreign trip. NEW DELHI 1997-07-20',\n",
       " '372 VIETNAM: Senior Vietnam Buddhist dies. HANOI 1997-07-21',\n",
       " '373 RUSSIA: Yeltsin revels in good health, backs new reforms. MOSCOW 1997-07-23',\n",
       " '374 PHILIPPINES: Aunt calls Versace killer \"nice, quiet boy\". BALIUAG, Philippines 1997-07-24',\n",
       " '375 VIETNAM: Thousands mourn death of top Vietnam Buddhist. HO CHI MINH CITY, Vietnam 1997-07-25',\n",
       " \"376 UK: UK's Blair says Charles can wed Camilla - report. LONDON 1997-07-27\",\n",
       " \"377 UK: UK's Blair dismisses Charles and Camilla reports. LONDON 1997-07-28\",\n",
       " \"378 USA: Clinton delivers eulogy at Brennan's funeral. WASHINGTON 1997-07-29\",\n",
       " '379 USA: California memorial service held for Andrew Cunanan. SAN DIEGO 1997-07-30',\n",
       " \"380 CROATIA: Croatia's Tudjman sworn in for second 5-year term. ZAGREB 1997-08-05\",\n",
       " '381 USA: Former FBI Director Clarence Kelley dies at 85. KANSAS CITY, Mo. 1997-08-05',\n",
       " '382 UK: Most Britons oppose idea of \"Queen Camilla\"-poll. LONDON 1997-08-06',\n",
       " '383 USA: Clarence Kelley, former FBI director, dies at 85. KANSAS CITY, Mo 1997-08-05',\n",
       " '384 UK: Britain\\'s \"top people\" back Charles marrying - poll. LONDON 1997-08-06',\n",
       " \"385 UK: Scotland kicks off world's biggest arts festival. EDINBURGH 1997-08-10\",\n",
       " '386 UK: Fringe chases audiences in Edinburgh festival month. EDINBURGH 1996-08-12',\n",
       " '387 USA: Even in death, Elvis lives. LOS ANGELES 1997-08-11',\n",
       " '388 USA: EVEN IN DEATH, ELVIS LIVES. LOS ANGELES 1997-08-11',\n",
       " '389 USA: EVEN IN DEATH, ELVIS LIVES. LOS ANGELES 1997-08-11',\n",
       " '390 CANADA: FEATURE - French-speaking Quebec celebrates Irish heritage. QUEBEC CITY 1997-08-14',\n",
       " '391 BULGARIA: FEATURE - Bulgarian opera stars are enduring export. SOFIA 1997-08-15',\n",
       " '392 USA: Fans end Elvis Presley fete with concert. MEMPHIS, Tenn 1997-08-16',\n",
       " '393 UK: Volcano buries studio where rock legends recorded. LONDON 1997-08-18',\n",
       " '394 USA: Joseph Vostal, ex-Kidder muni banker, dead at 88. NEW YORK 1997-08-18')"
      ]
     },
     "execution_count": 4,
     "metadata": {},
     "output_type": "execute_result"
    }
   ],
   "source": [
    "titles"
   ]
  },
  {
   "cell_type": "code",
   "execution_count": 5,
   "metadata": {},
   "outputs": [
    {
     "data": {
      "text/plain": [
       "(395, 4258)"
      ]
     },
     "execution_count": 5,
     "metadata": {},
     "output_type": "execute_result"
    }
   ],
   "source": [
    "X.shape"
   ]
  },
  {
   "cell_type": "code",
   "execution_count": 6,
   "metadata": {},
   "outputs": [],
   "source": [
    "?lda.LDA"
   ]
  },
  {
   "cell_type": "code",
   "execution_count": 7,
   "metadata": {
    "scrolled": true
   },
   "outputs": [
    {
     "name": "stderr",
     "output_type": "stream",
     "text": [
      "INFO:lda:n_documents: 395\n",
      "INFO:lda:vocab_size: 4258\n",
      "INFO:lda:n_words: 84010\n",
      "INFO:lda:n_topics: 20\n",
      "INFO:lda:n_iter: 500\n",
      "INFO:lda:<0> log likelihood: -1051748\n",
      "INFO:lda:<10> log likelihood: -719800\n",
      "INFO:lda:<20> log likelihood: -699115\n",
      "INFO:lda:<30> log likelihood: -689370\n",
      "INFO:lda:<40> log likelihood: -684918\n",
      "INFO:lda:<50> log likelihood: -681322\n",
      "INFO:lda:<60> log likelihood: -678979\n",
      "INFO:lda:<70> log likelihood: -676598\n",
      "INFO:lda:<80> log likelihood: -675383\n",
      "INFO:lda:<90> log likelihood: -673316\n",
      "INFO:lda:<100> log likelihood: -672761\n",
      "INFO:lda:<110> log likelihood: -671320\n",
      "INFO:lda:<120> log likelihood: -669744\n",
      "INFO:lda:<130> log likelihood: -669292\n",
      "INFO:lda:<140> log likelihood: -667940\n",
      "INFO:lda:<150> log likelihood: -668038\n",
      "INFO:lda:<160> log likelihood: -667429\n",
      "INFO:lda:<170> log likelihood: -666475\n",
      "INFO:lda:<180> log likelihood: -665562\n",
      "INFO:lda:<190> log likelihood: -664920\n",
      "INFO:lda:<200> log likelihood: -664979\n",
      "INFO:lda:<210> log likelihood: -664722\n",
      "INFO:lda:<220> log likelihood: -664459\n",
      "INFO:lda:<230> log likelihood: -664360\n",
      "INFO:lda:<240> log likelihood: -663600\n",
      "INFO:lda:<250> log likelihood: -664164\n",
      "INFO:lda:<260> log likelihood: -663826\n",
      "INFO:lda:<270> log likelihood: -663458\n",
      "INFO:lda:<280> log likelihood: -663393\n",
      "INFO:lda:<290> log likelihood: -662904\n",
      "INFO:lda:<300> log likelihood: -662294\n",
      "INFO:lda:<310> log likelihood: -662031\n",
      "INFO:lda:<320> log likelihood: -662430\n",
      "INFO:lda:<330> log likelihood: -661601\n",
      "INFO:lda:<340> log likelihood: -662108\n",
      "INFO:lda:<350> log likelihood: -662152\n",
      "INFO:lda:<360> log likelihood: -661899\n",
      "INFO:lda:<370> log likelihood: -661012\n",
      "INFO:lda:<380> log likelihood: -661278\n",
      "INFO:lda:<390> log likelihood: -661085\n",
      "INFO:lda:<400> log likelihood: -660418\n",
      "INFO:lda:<410> log likelihood: -660510\n",
      "INFO:lda:<420> log likelihood: -660343\n",
      "INFO:lda:<430> log likelihood: -659789\n",
      "INFO:lda:<440> log likelihood: -659336\n",
      "INFO:lda:<450> log likelihood: -659039\n",
      "INFO:lda:<460> log likelihood: -659329\n",
      "INFO:lda:<470> log likelihood: -658707\n",
      "INFO:lda:<480> log likelihood: -658879\n",
      "INFO:lda:<490> log likelihood: -658819\n",
      "INFO:lda:<499> log likelihood: -658407\n"
     ]
    },
    {
     "name": "stdout",
     "output_type": "stream",
     "text": [
      "Wall time: 6.51 s\n"
     ]
    }
   ],
   "source": [
    "%%time\n",
    "model = lda.LDA(n_topics=20, n_iter=500, random_state=1)\n",
    "model.fit(X)"
   ]
  },
  {
   "cell_type": "code",
   "execution_count": 8,
   "metadata": {},
   "outputs": [],
   "source": [
    "topic_word = model.topic_word_"
   ]
  },
  {
   "cell_type": "code",
   "execution_count": 10,
   "metadata": {},
   "outputs": [
    {
     "data": {
      "text/plain": [
       "4258"
      ]
     },
     "execution_count": 10,
     "metadata": {},
     "output_type": "execute_result"
    }
   ],
   "source": [
    "len(topic_word[0])"
   ]
  },
  {
   "cell_type": "code",
   "execution_count": 11,
   "metadata": {},
   "outputs": [],
   "source": [
    "n_top_words = 10"
   ]
  },
  {
   "cell_type": "code",
   "execution_count": 12,
   "metadata": {},
   "outputs": [
    {
     "data": {
      "text/plain": [
       "[array([   0, 2773, 2774, ...,   32,   24,   36], dtype=int64)]"
      ]
     },
     "execution_count": 12,
     "metadata": {},
     "output_type": "execute_result"
    }
   ],
   "source": [
    "[np.argsort(topic_word[0])][:-n_top_words:-1]"
   ]
  },
  {
   "cell_type": "code",
   "execution_count": 38,
   "metadata": {},
   "outputs": [
    {
     "name": "stdout",
     "output_type": "stream",
     "text": [
      "Topic 0: government british minister west group letters party former million\n",
      "Topic 1: church first during people political country ceremony visit government\n",
      "Topic 2: elvis king wright fans presley concert life death first\n",
      "Topic 3: yeltsin russian russia president kremlin michael romania orthodox operation\n",
      "Topic 4: pope vatican paul surgery pontiff john hospital trip rome\n",
      "Topic 5: family police miami versace cunanan funeral home church kennedy\n",
      "Topic 6: south simpson born york white north african black wife\n",
      "Topic 7: order church mother successor since election religious head nuns\n",
      "Topic 8: charles prince diana royal queen king parker bowles camilla\n",
      "Topic 9: film france french against actor paris bardot magazine poster\n",
      "Topic 10: germany german war nazi christian letter book scientology jews\n",
      "Topic 11: east prize peace timor quebec belo indonesia nobel award\n",
      "Topic 12: n't told life people church show very public come\n",
      "Topic 13: years world time year last say three later news\n",
      "Topic 14: mother teresa heart charity calcutta missionaries sister order hospital\n",
      "Topic 15: city salonika exhibition buddhist byzantine vietnam swiss capital greek\n",
      "Topic 16: music first people tour including off opera set city\n",
      "Topic 17: church catholic bernardin cardinal bishop death cancer life priest\n",
      "Topic 18: harriman clinton u.s churchill paris president ambassador france american\n",
      "Topic 19: century art million museum city churches works left artists\n"
     ]
    }
   ],
   "source": [
    "for i, topic_dist in enumerate(topic_word):\n",
    "    topic_words = np.array(vocab)[np.argsort(topic_dist)][:-n_top_words:-1]\n",
    "     print(\" \".join(topic_words))"
   ]
  },
  {
   "cell_type": "markdown",
   "metadata": {},
   "source": [
    "### Amazon Tap reviews data"
   ]
  },
  {
   "cell_type": "code",
   "execution_count": 11,
   "metadata": {},
   "outputs": [],
   "source": [
    "df = pd.read_csv('Tap Reviews.csv')"
   ]
  },
  {
   "cell_type": "code",
   "execution_count": 12,
   "metadata": {
    "scrolled": true
   },
   "outputs": [
    {
     "data": {
      "text/html": [
       "<div>\n",
       "<style scoped>\n",
       "    .dataframe tbody tr th:only-of-type {\n",
       "        vertical-align: middle;\n",
       "    }\n",
       "\n",
       "    .dataframe tbody tr th {\n",
       "        vertical-align: top;\n",
       "    }\n",
       "\n",
       "    .dataframe thead th {\n",
       "        text-align: right;\n",
       "    }\n",
       "</style>\n",
       "<table border=\"1\" class=\"dataframe\">\n",
       "  <thead>\n",
       "    <tr style=\"text-align: right;\">\n",
       "      <th></th>\n",
       "      <th>asins</th>\n",
       "      <th>name</th>\n",
       "      <th>reviews.numHelpful</th>\n",
       "      <th>reviews.rating</th>\n",
       "      <th>reviews.text</th>\n",
       "      <th>reviews.title</th>\n",
       "    </tr>\n",
       "  </thead>\n",
       "  <tbody>\n",
       "    <tr>\n",
       "      <th>0</th>\n",
       "      <td>B01BH83OOM</td>\n",
       "      <td>Amazon Tap - Alexa-Enabled Portable Bluetooth ...</td>\n",
       "      <td>806</td>\n",
       "      <td>5</td>\n",
       "      <td>IMPORTANT UPDATE (3/8/17): As you read my orig...</td>\n",
       "      <td>The Echo's Little Sister Is AMAZING!! 3,</td>\n",
       "    </tr>\n",
       "    <tr>\n",
       "      <th>1</th>\n",
       "      <td>B01BH83OOM</td>\n",
       "      <td>Amazon Tap - Alexa-Enabled Portable Bluetooth ...</td>\n",
       "      <td>426</td>\n",
       "      <td>5</td>\n",
       "      <td>It was just a few weeks ago that I was bemoani...</td>\n",
       "      <td>Tap Alexa on the go!</td>\n",
       "    </tr>\n",
       "    <tr>\n",
       "      <th>2</th>\n",
       "      <td>B01BH83OOM</td>\n",
       "      <td>Amazon Tap - Alexa-Enabled Portable Bluetooth ...</td>\n",
       "      <td>295</td>\n",
       "      <td>5</td>\n",
       "      <td>The Amazon Tap is a portable Bluetooth speaker...</td>\n",
       "      <td>Amazon Tap Review - Best Bluetooth Speaker in ...</td>\n",
       "    </tr>\n",
       "    <tr>\n",
       "      <th>3</th>\n",
       "      <td>B01BH83OOM</td>\n",
       "      <td>Amazon Tap - Alexa-Enabled Portable Bluetooth ...</td>\n",
       "      <td>0</td>\n",
       "      <td>5</td>\n",
       "      <td>Look at this product as a portable speaker fir...</td>\n",
       "      <td>Great for what it does</td>\n",
       "    </tr>\n",
       "    <tr>\n",
       "      <th>4</th>\n",
       "      <td>B01BH83OOM</td>\n",
       "      <td>Amazon Tap - Alexa-Enabled Portable Bluetooth ...</td>\n",
       "      <td>3</td>\n",
       "      <td>5</td>\n",
       "      <td>This Amazon tap is not only a great Bluetooth ...</td>\n",
       "      <td>Awesome, smart little portable speaker</td>\n",
       "    </tr>\n",
       "  </tbody>\n",
       "</table>\n",
       "</div>"
      ],
      "text/plain": [
       "        asins                                               name  \\\n",
       "0  B01BH83OOM  Amazon Tap - Alexa-Enabled Portable Bluetooth ...   \n",
       "1  B01BH83OOM  Amazon Tap - Alexa-Enabled Portable Bluetooth ...   \n",
       "2  B01BH83OOM  Amazon Tap - Alexa-Enabled Portable Bluetooth ...   \n",
       "3  B01BH83OOM  Amazon Tap - Alexa-Enabled Portable Bluetooth ...   \n",
       "4  B01BH83OOM  Amazon Tap - Alexa-Enabled Portable Bluetooth ...   \n",
       "\n",
       "   reviews.numHelpful  reviews.rating  \\\n",
       "0                 806               5   \n",
       "1                 426               5   \n",
       "2                 295               5   \n",
       "3                   0               5   \n",
       "4                   3               5   \n",
       "\n",
       "                                        reviews.text  \\\n",
       "0  IMPORTANT UPDATE (3/8/17): As you read my orig...   \n",
       "1  It was just a few weeks ago that I was bemoani...   \n",
       "2  The Amazon Tap is a portable Bluetooth speaker...   \n",
       "3  Look at this product as a portable speaker fir...   \n",
       "4  This Amazon tap is not only a great Bluetooth ...   \n",
       "\n",
       "                                       reviews.title  \n",
       "0           The Echo's Little Sister Is AMAZING!! 3,  \n",
       "1                               Tap Alexa on the go!  \n",
       "2  Amazon Tap Review - Best Bluetooth Speaker in ...  \n",
       "3                             Great for what it does  \n",
       "4             Awesome, smart little portable speaker  "
      ]
     },
     "execution_count": 12,
     "metadata": {},
     "output_type": "execute_result"
    }
   ],
   "source": [
    "df.head()"
   ]
  },
  {
   "cell_type": "code",
   "execution_count": 23,
   "metadata": {},
   "outputs": [],
   "source": [
    "df = df.rename(columns={'reviews.text':'review'})"
   ]
  },
  {
   "cell_type": "code",
   "execution_count": 25,
   "metadata": {},
   "outputs": [
    {
     "data": {
      "text/plain": [
       "Index(['asins', 'name', 'reviews.numHelpful', 'reviews.rating', 'review',\n",
       "       'reviews.title'],\n",
       "      dtype='object')"
      ]
     },
     "execution_count": 25,
     "metadata": {},
     "output_type": "execute_result"
    }
   ],
   "source": [
    "df.columns"
   ]
  },
  {
   "cell_type": "code",
   "execution_count": 24,
   "metadata": {},
   "outputs": [
    {
     "data": {
      "text/plain": [
       "(542, 6)"
      ]
     },
     "execution_count": 24,
     "metadata": {},
     "output_type": "execute_result"
    }
   ],
   "source": [
    "df.shape"
   ]
  },
  {
   "cell_type": "markdown",
   "metadata": {},
   "source": [
    "#### Text pre-processing"
   ]
  },
  {
   "cell_type": "code",
   "execution_count": 15,
   "metadata": {},
   "outputs": [],
   "source": [
    "from nltk.corpus import stopwords\n",
    "stop_words = stopwords.words('english') + list(string.punctuation)"
   ]
  },
  {
   "cell_type": "code",
   "execution_count": 17,
   "metadata": {},
   "outputs": [],
   "source": [
    "from gensim.utils import simple_preprocess"
   ]
  },
  {
   "cell_type": "code",
   "execution_count": 18,
   "metadata": {},
   "outputs": [
    {
     "data": {
      "text/plain": [
       "['don', 'like', 'this', 'product']"
      ]
     },
     "execution_count": 18,
     "metadata": {},
     "output_type": "execute_result"
    }
   ],
   "source": [
    "simple_preprocess(\"I don't like this product!\")"
   ]
  },
  {
   "cell_type": "code",
   "execution_count": 19,
   "metadata": {},
   "outputs": [],
   "source": [
    "?simple_preprocess"
   ]
  },
  {
   "cell_type": "code",
   "execution_count": 20,
   "metadata": {},
   "outputs": [
    {
     "data": {
      "text/plain": [
       "['I', 'do', \"n't\", 'like', 'this', 'product', '!']"
      ]
     },
     "execution_count": 20,
     "metadata": {},
     "output_type": "execute_result"
    }
   ],
   "source": [
    "word_tokenize(\"I don't like this product!\")"
   ]
  },
  {
   "cell_type": "markdown",
   "metadata": {},
   "source": [
    "**Important Note:** Models are not sutomatically downloaded with Spacy, so you may need to do a ```python -m spacy download en``` to use its preprocessing methods."
   ]
  },
  {
   "cell_type": "code",
   "execution_count": null,
   "metadata": {},
   "outputs": [],
   "source": [
    "# gensim for LDA \n",
    "import gensim\n",
    "import gensim.corpora as corpora\n",
    "from gensim.utils import simple_preprocess\n",
    "from gensim.models import CoherenceModel"
   ]
  },
  {
   "cell_type": "code",
   "execution_count": null,
   "metadata": {},
   "outputs": [],
   "source": [
    "# Plotting tools\n",
    "import pyLDAvis\n",
    "import pyLDAvis.gensim\n",
    "import matplotlib.pyplot as plt\n",
    "%matplotlib inline"
   ]
  },
  {
   "cell_type": "code",
   "execution_count": null,
   "metadata": {
    "scrolled": true
   },
   "outputs": [],
   "source": [
    "# create dictionary and corpus\n",
    "# Create Dictionary\n",
    "id2word = corpora.Dictionary(data)\n",
    "\n",
    "# Create Corpus\n",
    "texts = data_lemmatized\n",
    "\n",
    "# Term Document Frequency\n",
    "corpus = [id2word.doc2bow(text) for text in texts]\n",
    "\n",
    "# View\n",
    "print(corpus[2])"
   ]
  },
  {
   "cell_type": "markdown",
   "metadata": {},
   "source": [
    "### Building the Topic Model"
   ]
  },
  {
   "cell_type": "code",
   "execution_count": 14,
   "metadata": {},
   "outputs": [
    {
     "name": "stderr",
     "output_type": "stream",
     "text": [
      "INFO:summarizer.preprocessing.cleaner:'pattern' package not found; tag filters are not available for English\n"
     ]
    }
   ],
   "source": [
    "from gensim.models import ldamodel"
   ]
  },
  {
   "cell_type": "code",
   "execution_count": 15,
   "metadata": {},
   "outputs": [],
   "source": [
    "?ldamodel.LdaModel"
   ]
  },
  {
   "cell_type": "code",
   "execution_count": null,
   "metadata": {},
   "outputs": [],
   "source": [
    "# Build LDA model\n",
    "lda_model = gensim.models.ldamodel.LdaModel(corpus=corpus,\n",
    "                                           id2word=id2word,\n",
    "                                           num_topics=10, \n",
    "                                           random_state=42,\n",
    "                                           passes=10,\n",
    "                                           per_word_topics=True)"
   ]
  },
  {
   "cell_type": "code",
   "execution_count": 244,
   "metadata": {},
   "outputs": [
    {
     "name": "stdout",
     "output_type": "stream",
     "text": [
      "[(0,\n",
      "  '0.100*\"use\" + 0.055*\"love\" + 0.045*\"easy\" + 0.044*\"great\" + 0.042*\"buy\" + '\n",
      "  '0.029*\"excellent\" + 0.028*\"gift\" + 0.028*\"enjoy\" + 0.019*\"work\" + '\n",
      "  '0.016*\"product\"'),\n",
      " (1,\n",
      "  '0.052*\"echo\" + 0.047*\"alexa\" + 0.031*\"button\" + 0.030*\"tap\" + 0.026*\"great\" '\n",
      "  '+ 0.022*\"hand\" + 0.022*\"talk\" + 0.019*\"portable\" + 0.018*\"sound\" + '\n",
      "  '0.018*\"set\"'),\n",
      " (2,\n",
      "  '0.055*\"phone\" + 0.027*\"love\" + 0.021*\"light\" + 0.021*\"information\" + '\n",
      "  '0.020*\"move\" + 0.018*\"old\" + 0.018*\"month\" + 0.017*\"apple\" + 0.016*\"app\" + '\n",
      "  '0.015*\"system\"'),\n",
      " (3,\n",
      "  '0.036*\"button\" + 0.028*\"size\" + 0.024*\"alexa\" + 0.022*\"speaker\" + '\n",
      "  '0.021*\"loud\" + 0.020*\"dot\" + 0.020*\"press\" + 0.019*\"put\" + 0.019*\"get\" + '\n",
      "  '0.017*\"echo\"'),\n",
      " (4,\n",
      "  '0.044*\"question\" + 0.035*\"need\" + 0.030*\"get\" + 0.029*\"time\" + 0.028*\"ask\" '\n",
      "  '+ 0.027*\"lot\" + 0.023*\"love\" + 0.022*\"pretty\" + 0.020*\"anywhere\" + '\n",
      "  '0.020*\"answer\"'),\n",
      " (5,\n",
      "  '0.036*\"fun\" + 0.032*\"carry\" + 0.021*\"super\" + 0.019*\"high\" + 0.017*\"news\" + '\n",
      "  '0.017*\"case\" + 0.016*\"clock\" + 0.016*\"app\" + 0.016*\"certain\" + '\n",
      "  '0.014*\"enough\"'),\n",
      " (6,\n",
      "  '0.072*\"tap\" + 0.039*\"echo\" + 0.022*\"dot\" + 0.018*\"make\" + 0.018*\"review\" + '\n",
      "  '0.016*\"use\" + 0.015*\"call\" + 0.014*\"read\" + 0.014*\"place\" + '\n",
      "  '0.014*\"capability\"'),\n",
      " (7,\n",
      "  '0.058*\"price\" + 0.040*\"love\" + 0.038*\"easy\" + 0.034*\"great\" + 0.028*\"worth\" '\n",
      "  '+ 0.025*\"make\" + 0.025*\"base\" + 0.023*\"good\" + 0.021*\"sound\" + '\n",
      "  '0.018*\"wireless\"'),\n",
      " (8,\n",
      "  '0.063*\"wish\" + 0.026*\"learn\" + 0.023*\"must\" + 0.022*\"return\" + '\n",
      "  '0.021*\"bedroom\" + 0.018*\"live\" + 0.017*\"still\" + 0.015*\"thing\" + '\n",
      "  '0.014*\"benefit\" + 0.013*\"source\"'),\n",
      " (9,\n",
      "  '0.048*\"tap\" + 0.044*\"sound\" + 0.039*\"speaker\" + 0.035*\"good\" + 0.035*\"echo\" '\n",
      "  '+ 0.034*\"great\" + 0.030*\"music\" + 0.026*\"alexa\" + 0.024*\"amazon\" + '\n",
      "  '0.019*\"get\"')]\n"
     ]
    }
   ],
   "source": [
    "# Print the Keyword in the 10 topics\n",
    "pprint(lda_model.print_topics())\n",
    "doc_lda = lda_model[corpus]"
   ]
  },
  {
   "cell_type": "code",
   "execution_count": null,
   "metadata": {},
   "outputs": [],
   "source": [
    "# Compute Perplexity\n",
    "print('Perplexity: ', lda_model.log_perplexity(corpus))  # a measure of how good the model is. lower the better."
   ]
  },
  {
   "cell_type": "code",
   "execution_count": null,
   "metadata": {},
   "outputs": [],
   "source": [
    "# Compute Coherence Score\n",
    "coherence_model_lda = CoherenceModel(model=lda_model, texts=data_lemmatized, dictionary=id2word, coherence='c_v')\n",
    "coherence_lda = coherence_model_lda.get_coherence()\n",
    "print('\\nCoherence Score: ', coherence_lda)"
   ]
  },
  {
   "cell_type": "code",
   "execution_count": 246,
   "metadata": {},
   "outputs": [
    {
     "data": {
      "text/html": [
       "\n",
       "<link rel=\"stylesheet\" type=\"text/css\" href=\"https://cdn.rawgit.com/bmabey/pyLDAvis/files/ldavis.v1.0.0.css\">\n",
       "\n",
       "\n",
       "<div id=\"ldavis_el774351339905524546695188\"></div>\n",
       "<script type=\"text/javascript\">\n",
       "\n",
       "var ldavis_el774351339905524546695188_data = {\"mdsDat\": {\"Freq\": [42.207698822021484, 10.291842460632324, 9.701098442077637, 8.57590103149414, 8.266050338745117, 5.955149173736572, 4.601310729980469, 3.8699095249176025, 3.482034683227539, 3.049006700515747], \"cluster\": [1, 1, 1, 1, 1, 1, 1, 1, 1, 1], \"topics\": [1, 2, 3, 4, 5, 6, 7, 8, 9, 10], \"x\": [-0.26403920018411686, -0.02234395519679292, -0.19175118403833755, -0.10787492430443599, 0.028819623798979663, 0.024295822192777015, 0.08009885653458741, 0.07232379700405095, 0.20684867779803703, 0.1736224863952513], \"y\": [0.04180702153481037, 0.2537171770444624, -0.05960067864720836, -0.16907512235639588, 0.015968017838172626, -0.11021565976930282, 0.017681658496968615, 0.12388207890668092, -0.039021052801669086, -0.07514344024651852]}, \"tinfo\": {\"Category\": [\"Default\", \"Default\", \"Default\", \"Default\", \"Default\", \"Default\", \"Default\", \"Default\", \"Default\", \"Default\", \"Default\", \"Default\", \"Default\", \"Default\", \"Default\", \"Default\", \"Default\", \"Default\", \"Default\", \"Default\", \"Default\", \"Default\", \"Default\", \"Default\", \"Default\", \"Default\", \"Default\", \"Default\", \"Default\", \"Default\", \"Topic1\", \"Topic1\", \"Topic1\", \"Topic1\", \"Topic1\", \"Topic1\", \"Topic1\", \"Topic1\", \"Topic1\", \"Topic1\", \"Topic1\", \"Topic1\", \"Topic1\", \"Topic1\", \"Topic1\", \"Topic1\", \"Topic1\", \"Topic1\", \"Topic1\", \"Topic1\", \"Topic1\", \"Topic1\", \"Topic1\", \"Topic1\", \"Topic1\", \"Topic1\", \"Topic1\", \"Topic1\", \"Topic1\", \"Topic1\", \"Topic1\", \"Topic1\", \"Topic1\", \"Topic1\", \"Topic1\", \"Topic1\", \"Topic1\", \"Topic1\", \"Topic1\", \"Topic1\", \"Topic1\", \"Topic1\", \"Topic1\", \"Topic1\", \"Topic1\", \"Topic1\", \"Topic1\", \"Topic1\", \"Topic1\", \"Topic1\", \"Topic1\", \"Topic1\", \"Topic1\", \"Topic1\", \"Topic1\", \"Topic1\", \"Topic1\", \"Topic1\", \"Topic2\", \"Topic2\", \"Topic2\", \"Topic2\", \"Topic2\", \"Topic2\", \"Topic2\", \"Topic2\", \"Topic2\", \"Topic2\", \"Topic2\", \"Topic2\", \"Topic2\", \"Topic2\", \"Topic2\", \"Topic2\", \"Topic2\", \"Topic2\", \"Topic2\", \"Topic2\", \"Topic2\", \"Topic2\", \"Topic2\", \"Topic2\", \"Topic2\", \"Topic2\", \"Topic2\", \"Topic2\", \"Topic2\", \"Topic2\", \"Topic2\", \"Topic2\", \"Topic2\", \"Topic2\", \"Topic2\", \"Topic2\", \"Topic2\", \"Topic2\", \"Topic2\", \"Topic2\", \"Topic2\", \"Topic2\", \"Topic2\", \"Topic2\", \"Topic2\", \"Topic2\", \"Topic2\", \"Topic2\", \"Topic2\", \"Topic3\", \"Topic3\", \"Topic3\", \"Topic3\", \"Topic3\", \"Topic3\", \"Topic3\", \"Topic3\", \"Topic3\", \"Topic3\", \"Topic3\", \"Topic3\", \"Topic3\", \"Topic3\", \"Topic3\", \"Topic3\", \"Topic3\", \"Topic3\", \"Topic3\", \"Topic3\", \"Topic3\", \"Topic3\", \"Topic3\", \"Topic3\", \"Topic3\", \"Topic3\", \"Topic3\", \"Topic3\", \"Topic3\", \"Topic3\", \"Topic3\", \"Topic3\", \"Topic3\", \"Topic3\", \"Topic3\", \"Topic3\", \"Topic3\", \"Topic3\", \"Topic3\", \"Topic3\", \"Topic3\", \"Topic3\", \"Topic3\", \"Topic3\", \"Topic3\", \"Topic3\", \"Topic3\", \"Topic3\", \"Topic3\", \"Topic3\", \"Topic3\", \"Topic3\", \"Topic3\", \"Topic3\", \"Topic3\", \"Topic3\", \"Topic3\", \"Topic4\", \"Topic4\", \"Topic4\", \"Topic4\", \"Topic4\", \"Topic4\", \"Topic4\", \"Topic4\", \"Topic4\", \"Topic4\", \"Topic4\", \"Topic4\", \"Topic4\", \"Topic4\", \"Topic4\", \"Topic4\", \"Topic4\", \"Topic4\", \"Topic4\", \"Topic4\", \"Topic4\", \"Topic4\", \"Topic4\", \"Topic4\", \"Topic4\", \"Topic4\", \"Topic4\", \"Topic4\", \"Topic4\", \"Topic4\", \"Topic4\", \"Topic4\", \"Topic4\", \"Topic4\", \"Topic4\", \"Topic4\", \"Topic4\", \"Topic4\", \"Topic4\", \"Topic4\", \"Topic4\", \"Topic4\", \"Topic4\", \"Topic4\", \"Topic4\", \"Topic4\", \"Topic4\", \"Topic4\", \"Topic4\", \"Topic5\", \"Topic5\", \"Topic5\", \"Topic5\", \"Topic5\", \"Topic5\", \"Topic5\", \"Topic5\", \"Topic5\", \"Topic5\", \"Topic5\", \"Topic5\", \"Topic5\", \"Topic5\", \"Topic5\", \"Topic5\", \"Topic5\", \"Topic5\", \"Topic5\", \"Topic5\", \"Topic5\", \"Topic5\", \"Topic5\", \"Topic5\", \"Topic5\", \"Topic5\", \"Topic5\", \"Topic5\", \"Topic5\", \"Topic5\", \"Topic5\", \"Topic5\", \"Topic5\", \"Topic5\", \"Topic5\", \"Topic5\", \"Topic5\", \"Topic5\", \"Topic5\", \"Topic5\", \"Topic5\", \"Topic5\", \"Topic5\", \"Topic5\", \"Topic5\", \"Topic5\", \"Topic5\", \"Topic5\", \"Topic5\", \"Topic5\", \"Topic5\", \"Topic6\", \"Topic6\", \"Topic6\", \"Topic6\", \"Topic6\", \"Topic6\", \"Topic6\", \"Topic6\", \"Topic6\", \"Topic6\", \"Topic6\", \"Topic6\", \"Topic6\", \"Topic6\", \"Topic6\", \"Topic6\", \"Topic6\", \"Topic6\", \"Topic6\", \"Topic6\", \"Topic6\", \"Topic6\", \"Topic6\", \"Topic6\", \"Topic6\", \"Topic6\", \"Topic6\", \"Topic6\", \"Topic6\", \"Topic6\", \"Topic6\", \"Topic6\", \"Topic6\", \"Topic6\", \"Topic6\", \"Topic6\", \"Topic6\", \"Topic6\", \"Topic6\", \"Topic6\", \"Topic6\", \"Topic6\", \"Topic6\", \"Topic6\", \"Topic6\", \"Topic6\", \"Topic6\", \"Topic7\", \"Topic7\", \"Topic7\", \"Topic7\", \"Topic7\", \"Topic7\", \"Topic7\", \"Topic7\", \"Topic7\", \"Topic7\", \"Topic7\", \"Topic7\", \"Topic7\", \"Topic7\", \"Topic7\", \"Topic7\", \"Topic7\", \"Topic7\", \"Topic7\", \"Topic7\", \"Topic7\", \"Topic7\", \"Topic7\", \"Topic7\", \"Topic7\", \"Topic7\", \"Topic7\", \"Topic7\", \"Topic7\", \"Topic7\", \"Topic7\", \"Topic7\", \"Topic7\", \"Topic7\", \"Topic7\", \"Topic7\", \"Topic7\", \"Topic7\", \"Topic7\", \"Topic7\", \"Topic7\", \"Topic7\", \"Topic7\", \"Topic8\", \"Topic8\", \"Topic8\", \"Topic8\", \"Topic8\", \"Topic8\", \"Topic8\", \"Topic8\", \"Topic8\", \"Topic8\", \"Topic8\", \"Topic8\", \"Topic8\", \"Topic8\", \"Topic8\", \"Topic8\", \"Topic8\", \"Topic8\", \"Topic8\", \"Topic8\", \"Topic8\", \"Topic8\", \"Topic8\", \"Topic8\", \"Topic8\", \"Topic8\", \"Topic8\", \"Topic8\", \"Topic8\", \"Topic8\", \"Topic8\", \"Topic8\", \"Topic8\", \"Topic8\", \"Topic8\", \"Topic8\", \"Topic8\", \"Topic8\", \"Topic8\", \"Topic8\", \"Topic8\", \"Topic8\", \"Topic8\", \"Topic9\", \"Topic9\", \"Topic9\", \"Topic9\", \"Topic9\", \"Topic9\", \"Topic9\", \"Topic9\", \"Topic9\", \"Topic9\", \"Topic9\", \"Topic9\", \"Topic9\", \"Topic9\", \"Topic9\", \"Topic9\", \"Topic9\", \"Topic9\", \"Topic9\", \"Topic9\", \"Topic9\", \"Topic9\", \"Topic9\", \"Topic9\", \"Topic9\", \"Topic9\", \"Topic9\", \"Topic9\", \"Topic9\", \"Topic9\", \"Topic9\", \"Topic9\", \"Topic9\", \"Topic9\", \"Topic9\", \"Topic9\", \"Topic9\", \"Topic9\", \"Topic10\", \"Topic10\", \"Topic10\", \"Topic10\", \"Topic10\", \"Topic10\", \"Topic10\", \"Topic10\", \"Topic10\", \"Topic10\", \"Topic10\", \"Topic10\", \"Topic10\", \"Topic10\", \"Topic10\", \"Topic10\", \"Topic10\", \"Topic10\", \"Topic10\", \"Topic10\", \"Topic10\", \"Topic10\", \"Topic10\", \"Topic10\", \"Topic10\", \"Topic10\", \"Topic10\", \"Topic10\", \"Topic10\", \"Topic10\", \"Topic10\", \"Topic10\", \"Topic10\", \"Topic10\", \"Topic10\", \"Topic10\", \"Topic10\", \"Topic10\", \"Topic10\"], \"Freq\": [175.0, 276.0, 224.0, 221.0, 146.0, 168.0, 162.0, 58.0, 113.0, 66.0, 209.0, 35.0, 33.0, 92.0, 47.0, 26.0, 57.0, 36.0, 26.0, 18.0, 38.0, 195.0, 28.0, 96.0, 50.0, 116.0, 36.0, 30.0, 39.0, 23.0, 49.16327667236328, 41.84935760498047, 33.78197479248047, 24.18761444091797, 51.60350799560547, 19.448406219482422, 18.968568801879883, 18.4903621673584, 37.08028030395508, 17.777931213378906, 27.606203079223633, 17.07193946838379, 16.13587188720703, 15.939095497131348, 15.538824081420898, 14.522136688232422, 72.98768615722656, 12.013337135314941, 11.722172737121582, 11.306278228759766, 11.076163291931152, 10.44133186340332, 10.123919486999512, 14.986242294311523, 9.840046882629395, 9.627387046813965, 9.236335754394531, 41.04536437988281, 20.491025924682617, 8.239357948303223, 35.329673767089844, 35.78030014038086, 62.124637603759766, 45.09838104248047, 30.990707397460938, 139.05064392089844, 172.6488037109375, 120.70672607421875, 95.8237075805664, 154.37437438964844, 59.47671890258789, 40.8399772644043, 191.67018127441406, 45.92832946777344, 27.494890213012695, 33.430885314941406, 137.73532104492188, 134.93939208984375, 68.27928924560547, 102.8478012084961, 75.29067993164062, 39.752655029296875, 38.6317253112793, 54.812679290771484, 40.2880973815918, 60.057212829589844, 37.502437591552734, 42.808902740478516, 27.78487777709961, 13.951744079589844, 10.439464569091797, 8.00547981262207, 8.043127059936523, 7.712796211242676, 7.421596050262451, 7.209290981292725, 7.200252532958984, 6.9395976066589355, 6.82065486907959, 6.222519874572754, 27.176212310791016, 6.161138534545898, 6.161121845245361, 6.1104536056518555, 6.097205638885498, 5.348569393157959, 5.298792362213135, 4.512327671051025, 4.16414737701416, 3.923135280609131, 3.8693392276763916, 3.819840669631958, 8.190008163452148, 3.5876762866973877, 3.5876762866973877, 3.5876569747924805, 3.5876400470733643, 3.5876400470733643, 26.982616424560547, 43.793766021728516, 11.90139102935791, 7.675390720367432, 97.0191421508789, 40.424983978271484, 9.093477249145508, 53.238441467285156, 9.383275985717773, 42.91860580444336, 14.87001895904541, 11.30258846282959, 15.909758567810059, 18.282682418823242, 9.167206764221191, 9.279902458190918, 13.146666526794434, 8.480720520019531, 7.548308849334717, 10.882623672485352, 9.933735847473145, 8.588775634765625, 7.164577484130859, 7.153773784637451, 7.030419826507568, 6.994651794433594, 6.880441665649414, 5.840411186218262, 5.733366012573242, 11.691093444824219, 5.31266975402832, 4.919549942016602, 4.671159267425537, 4.53953742980957, 4.2639241218566895, 4.128109931945801, 3.980186700820923, 3.980137348175049, 3.9456255435943604, 3.8375563621520996, 3.7418582439422607, 6.168315887451172, 9.728720664978027, 3.334852695465088, 3.3347811698913574, 8.558711051940918, 19.962528228759766, 3.0508675575256348, 3.050743341445923, 3.0507426261901855, 3.0507426261901855, 3.0507426261901855, 20.039308547973633, 16.380605697631836, 10.606359481811523, 16.381376266479492, 28.164813995361328, 42.639320373535156, 47.26696014404297, 9.350439071655273, 7.27511739730835, 15.342215538024902, 10.19019889831543, 27.708084106445312, 17.051345825195312, 23.64647674560547, 14.264060974121094, 11.902280807495117, 16.40789031982422, 12.877985954284668, 9.431367874145508, 13.079379081726074, 9.819018363952637, 8.845993041992188, 8.874403953552246, 7.278629779815674, 22.802860260009766, 16.85851287841797, 15.885310173034668, 15.224613189697266, 13.786469459533691, 13.409571647644043, 10.961298942565918, 10.523488998413086, 7.978571891784668, 7.5368146896362305, 7.381058692932129, 7.201037406921387, 7.0325517654418945, 6.516446113586426, 6.4768218994140625, 5.9877166748046875, 5.683881759643555, 5.650198459625244, 5.609987735748291, 5.525291919708252, 5.234554767608643, 5.199985980987549, 5.159969806671143, 5.091386318206787, 5.076426982879639, 4.83462381362915, 4.7413201332092285, 4.423882961273193, 4.270906925201416, 4.216735363006592, 12.018177032470703, 11.487922668457031, 7.699621200561523, 7.433801174163818, 29.174020767211914, 11.956110954284668, 9.746718406677246, 16.287181854248047, 8.42897891998291, 19.341493606567383, 18.00130271911621, 14.956096649169922, 8.642878532409668, 9.024255752563477, 13.976395606994629, 9.580378532409668, 8.586690902709961, 8.486464500427246, 7.54709005355835, 34.34271240234375, 20.983091354370117, 17.29010581970215, 15.58503532409668, 15.210358619689941, 10.978543281555176, 7.497581481933594, 6.961239337921143, 6.009428024291992, 5.734647750854492, 5.611772537231445, 9.721677780151367, 5.284753322601318, 5.06879186630249, 4.471263885498047, 3.9882314205169678, 3.905129909515381, 3.784381151199341, 3.6559085845947266, 3.6458945274353027, 3.5448412895202637, 3.5448150634765625, 3.5448150634765625, 5.681664943695068, 3.3260061740875244, 3.325916290283203, 3.32582688331604, 3.2266287803649902, 3.0735726356506348, 3.020244836807251, 6.4287567138671875, 27.33808708190918, 21.653507232666016, 13.565468788146973, 22.352436065673828, 7.693928241729736, 12.711310386657715, 4.39847469329834, 22.91645622253418, 9.46373176574707, 17.61227798461914, 6.466235160827637, 12.889697074890137, 5.0551066398620605, 9.33804988861084, 5.841309547424316, 6.446422576904297, 8.625299453735352, 8.057339668273926, 7.114938735961914, 6.291557788848877, 9.965216636657715, 8.327685356140137, 8.085771560668945, 7.938727378845215, 7.920477867126465, 7.670558929443359, 6.392371654510498, 6.1360578536987305, 5.599562644958496, 5.103338718414307, 5.102816104888916, 4.348365783691406, 4.235930919647217, 3.643474817276001, 3.437628984451294, 3.3343307971954346, 3.333073854446411, 3.333073854446411, 3.333057165145874, 3.333057165145874, 3.333057165145874, 3.332977056503296, 3.332977771759033, 3.332977771759033, 3.284686326980591, 2.9837658405303955, 2.8398818969726562, 2.839808464050293, 2.751657485961914, 2.696350336074829, 7.483267784118652, 5.993818759918213, 40.045257568359375, 10.20993709564209, 12.085954666137695, 22.077404022216797, 5.569826126098633, 6.391745090484619, 4.842685222625732, 9.015217781066895, 4.737485408782959, 4.780602931976318, 5.513935565948486, 4.389667510986328, 4.773313045501709, 3.8877787590026855, 3.763306140899658, 9.208962440490723, 8.909915924072266, 7.886823654174805, 7.661587715148926, 7.14857816696167, 6.572293281555176, 5.671453952789307, 5.562652587890625, 5.529965877532959, 5.248361110687256, 4.922877788543701, 4.718298435211182, 4.472594738006592, 4.194451332092285, 3.8058528900146484, 3.625694990158081, 3.5891618728637695, 3.5551421642303467, 3.491560697555542, 3.433730125427246, 3.1762561798095703, 3.1030094623565674, 2.9239938259124756, 2.715830087661743, 2.643887758255005, 2.488959789276123, 2.2334280014038086, 2.133737087249756, 1.9664236307144165, 1.9663101434707642, 23.68648910522461, 8.591578483581543, 3.1528384685516357, 6.8143510818481445, 5.885708332061768, 11.850175857543945, 5.810125827789307, 6.459175109863281, 5.251484394073486, 5.521632671356201, 3.942636251449585, 3.6600148677825928, 3.542998790740967, 10.093477249145508, 9.118906021118164, 5.646683216094971, 4.921522617340088, 3.7422304153442383, 3.7421717643737793, 3.4104535579681396, 3.114877223968506, 20.930797576904297, 2.768552780151367, 2.768409252166748, 2.6725313663482666, 2.2206292152404785, 2.18967866897583, 5.376063346862793, 2.1011905670166016, 1.7959727048873901, 1.7240866422653198, 1.7240164279937744, 1.6352132558822632, 1.538232445716858, 1.4262077808380127, 1.3774076700210571, 1.3772863149642944, 1.3772656917572021, 1.3772505521774292, 3.101165294647217, 1.2984654903411865, 1.2578341960906982, 1.257830262184143, 6.634821891784668, 3.3856847286224365, 13.823346138000488, 9.126004219055176, 5.493505001068115, 14.37392520904541, 6.102706432342529, 6.422794818878174, 12.505996704101562, 8.26409912109375, 7.685379505157471, 2.6815667152404785, 2.4604151248931885, 10.430051803588867, 6.91085147857666, 6.1096510887146, 5.6096510887146, 5.226247787475586, 5.155919551849365, 4.491603851318359, 4.246251106262207, 4.194435119628906, 4.194034099578857, 3.7842819690704346, 3.784142017364502, 3.597935438156128, 3.299811363220215, 2.9335691928863525, 2.9335691928863525, 2.9335691928863525, 2.9335691928863525, 2.5233263969421387, 2.4912631511688232, 2.4912171363830566, 2.4911110401153564, 2.43241548538208, 2.364527463912964, 2.3645243644714355, 2.226017951965332, 2.1941184997558594, 1.9971541166305542, 1.9970574378967285, 1.9964393377304077, 4.718594551086426, 11.923008918762207, 5.641329765319824, 5.201523303985596, 2.931342840194702, 2.805307149887085, 3.0554823875427246, 2.9025471210479736, 17.912174224853516, 7.33267879486084, 6.713813781738281, 6.16659688949585, 5.898561000823975, 5.097682476043701, 3.958542823791504, 3.7167091369628906, 3.6257071495056152, 3.5135796070098877, 3.3874335289001465, 2.999253511428833, 2.599463939666748, 2.599463939666748, 2.599463939666748, 2.599463939666748, 2.4106507301330566, 2.4105637073516846, 2.0851352214813232, 2.056511640548706, 1.9728894233703613, 1.8820403814315796, 1.8820403814315796, 1.8819772005081177, 1.8608604669570923, 1.8608509302139282, 1.8608509302139282, 1.6472904682159424, 1.6187962293624878, 1.2932592630386353, 2.9921693801879883, 4.864918231964111, 2.435425043106079, 3.1961426734924316, 4.176776885986328, 2.2981317043304443, 2.0243351459503174, 2.899465560913086, 2.3322975635528564], \"Term\": [\"use\", \"tap\", \"echo\", \"great\", \"love\", \"alexa\", \"good\", \"easy\", \"get\", \"button\", \"sound\", \"question\", \"phone\", \"buy\", \"portability\", \"price\", \"time\", \"need\", \"fun\", \"wish\", \"ask\", \"speaker\", \"excellent\", \"portable\", \"dot\", \"amazon\", \"make\", \"gift\", \"purchase\", \"size\", \"connect\", \"wifi\", \"nice\", \"stream\", \"really\", \"something\", \"first\", \"life\", \"well\", \"perfect\", \"prime\", \"start\", \"alarm\", \"unit\", \"speak\", \"already\", \"quality\", \"expensive\", \"pandora\", \"extra\", \"easily\", \"rechargeable\", \"song\", \"access\", \"skill\", \"problem\", \"feel\", \"battery\", \"may\", \"big\", \"feature\", \"charge\", \"bluetooth\", \"take\", \"small\", \"good\", \"sound\", \"music\", \"amazon\", \"speaker\", \"device\", \"portability\", \"tap\", \"want\", \"little\", \"purchase\", \"echo\", \"great\", \"portable\", \"alexa\", \"get\", \"play\", \"voice\", \"work\", \"product\", \"use\", \"listen\", \"love\", \"excellent\", \"daughter\", \"wi\", \"christma\", \"cool\", \"many\", \"father\", \"far\", \"network\", \"fi\", \"spotify\", \"movie\", \"gift\", \"support\", \"several\", \"definitely\", \"beach\", \"offer\", \"mother\", \"surprisingly\", \"absolutely\", \"recognition\", \"audio\", \"search\", \"turn\", \"dish\", \"subscription\", \"dad\", \"watch\", \"ipad\", \"enjoy\", \"easy\", \"smart\", \"overall\", \"use\", \"buy\", \"awesome\", \"love\", \"find\", \"great\", \"able\", \"app\", \"product\", \"work\", \"item\", \"recommend\", \"speaker\", \"set\", \"day\", \"hit\", \"anything\", \"anyone\", \"outside\", \"activation\", \"mostly\", \"office\", \"original\", \"highly\", \"bose\", \"hold\", \"value\", \"tell\", \"mini\", \"wherever\", \"tunein\", \"wait\", \"simply\", \"tie\", \"physically\", \"huge\", \"alternative\", \"part\", \"operate\", \"rest\", \"personally\", \"microphone\", \"talk\", \"supposedly\", \"worldwide\", \"camping\", \"weight\", \"batterey\", \"hand\", \"add\", \"free\", \"set\", \"button\", \"alexa\", \"echo\", \"room\", \"still\", \"dot\", \"activate\", \"tap\", \"portable\", \"great\", \"buy\", \"listen\", \"sound\", \"work\", \"house\", \"good\", \"amazon\", \"voice\", \"time\", \"speaker\", \"size\", \"loud\", \"press\", \"put\", \"order\", \"actually\", \"decent\", \"favorite\", \"name\", \"pay\", \"instead\", \"star\", \"sit\", \"connection\", \"see\", \"pick\", \"everyday\", \"manually\", \"never\", \"garage\", \"regular\", \"power\", \"sure\", \"directly\", \"personal\", \"help\", \"mic\", \"point\", \"clear\", \"run\", \"family\", \"plug\", \"bass\", \"playing\", \"button\", \"push\", \"better\", \"dot\", \"could\", \"alexa\", \"speaker\", \"get\", \"say\", \"need\", \"echo\", \"portable\", \"listen\", \"work\", \"great\", \"question\", \"lot\", \"pretty\", \"anywhere\", \"answer\", \"know\", \"glad\", \"deck\", \"daily\", \"siri\", \"mode\", \"ability\", \"bonus\", \"mom\", \"useless\", \"course\", \"otherwise\", \"wonderful\", \"guy\", \"serve\", \"science\", \"sooner\", \"appliance\", \"wake\", \"side\", \"box\", \"silly\", \"prefer\", \"surprised\", \"brother\", \"require\", \"need\", \"ask\", \"everything\", \"time\", \"kid\", \"make\", \"quickly\", \"get\", \"phone\", \"love\", \"find\", \"buy\", \"year\", \"play\", \"free\", \"hand\", \"music\", \"use\", \"tap\", \"dot\", \"review\", \"call\", \"read\", \"place\", \"capability\", \"decide\", \"week\", \"however\", \"whole\", \"hot\", \"remember\", \"tub\", \"back\", \"disappointed\", \"shopping\", \"change\", \"upgraded\", \"valid\", \"tab\", \"habit\", \"graduate\", \"vacation\", \"notice\", \"interest\", \"fit\", \"thought\", \"grow\", \"book\", \"release\", \"minimal\", \"list\", \"service\", \"tap\", \"make\", \"dot\", \"echo\", \"better\", \"even\", \"new\", \"use\", \"could\", \"try\", \"device\", \"control\", \"thing\", \"voice\", \"enjoy\", \"light\", \"information\", \"old\", \"month\", \"apple\", \"system\", \"hook\", \"functionality\", \"happy\", \"last\", \"useful\", \"stand\", \"member\", \"invest\", \"playlist\", \"fire\", \"show\", \"plan\", \"disappoint\", \"gadget\", \"additional\", \"backyard\", \"link\", \"switch\", \"check\", \"nephew\", \"dock\", \"include\", \"load\", \"clean\", \"phone\", \"move\", \"computer\", \"app\", \"everything\", \"love\", \"purchase\", \"amazon\", \"music\", \"tap\", \"bluetooth\", \"buy\", \"room\", \"worth\", \"base\", \"version\", \"compact\", \"produce\", \"rather\", \"ready\", \"apart\", \"price\", \"slightly\", \"teenager\", \"someone\", \"response\", \"ideal\", \"beat\", \"local\", \"versatile\", \"amazed\", \"girlfriend\", \"penny\", \"durable\", \"demand\", \"flawless\", \"continually\", \"lake\", \"debate\", \"pool\", \"note\", \"funny\", \"cordless\", \"wireless\", \"pair\", \"easy\", \"make\", \"room\", \"love\", \"set\", \"portability\", \"great\", \"good\", \"sound\", \"everything\", \"fun\", \"carry\", \"super\", \"high\", \"case\", \"clock\", \"certain\", \"instruction\", \"yet\", \"event\", \"cell\", \"guess\", \"assistant\", \"table\", \"gathering\", \"follow\", \"avail\", \"sitting\", \"unable\", \"podcast\", \"kind\", \"similar\", \"store\", \"yard\", \"calendar\", \"continue\", \"fabric\", \"tip\", \"walk\", \"water\", \"short\", \"enough\", \"fun\", \"news\", \"app\", \"hear\", \"figure\", \"ask\", \"product\", \"wish\", \"learn\", \"must\", \"return\", \"bedroom\", \"live\", \"benefit\", \"source\", \"area\", \"charger\", \"son\", \"simple\", \"yr\", \"us\", \"moment\", \"dual\", \"cover\", \"usage\", \"drive\", \"enjoying\", \"step\", \"score\", \"sport\", \"basement\", \"advertise\", \"friendly\", \"user\", \"stay\", \"quite\", \"traffic\", \"ago\", \"still\", \"wife\", \"new\", \"thing\", \"technology\", \"people\", \"work\", \"play\"], \"Total\": [175.0, 276.0, 224.0, 221.0, 146.0, 168.0, 162.0, 58.0, 113.0, 66.0, 209.0, 35.0, 33.0, 92.0, 47.0, 26.0, 57.0, 36.0, 26.0, 18.0, 38.0, 195.0, 28.0, 96.0, 50.0, 116.0, 36.0, 30.0, 39.0, 23.0, 49.86846160888672, 42.548255920410156, 34.59047317504883, 24.88657569885254, 53.327392578125, 20.14738655090332, 19.66753387451172, 19.18992042541504, 38.52323913574219, 18.478599548339844, 28.710683822631836, 17.77109146118164, 16.842790603637695, 16.63837242126465, 16.237768173217773, 15.221158981323242, 76.85981750488281, 12.712335586547852, 12.421091079711914, 12.005267143249512, 11.77511215209961, 11.140266418457031, 10.832666397094727, 16.045087814331055, 10.539217948913574, 10.326288223266602, 9.935297012329102, 44.21094512939453, 22.16868019104004, 8.93822193145752, 38.46977233886719, 39.26607131958008, 69.03677368164062, 49.92758560180664, 34.22683334350586, 162.02684020996094, 209.65835571289062, 145.0362091064453, 116.59044647216797, 195.05325317382812, 70.57337188720703, 47.89387893676758, 276.6268615722656, 54.917213439941406, 31.365514755249023, 39.864410400390625, 224.8765411376953, 221.95762634277344, 96.01811981201172, 168.44822692871094, 113.68696594238281, 55.661251068115234, 54.98593521118164, 99.89347839355469, 63.66878128051758, 175.23719787597656, 58.52720260620117, 146.70065307617188, 28.498817443847656, 14.66564655303955, 11.15339469909668, 8.719452857971191, 8.769671440124512, 8.426709175109863, 8.135374069213867, 7.923120021820068, 7.914181232452393, 7.653555870056152, 7.534572124481201, 6.936476707458496, 30.29509735107422, 6.875064373016357, 6.875060081481934, 6.825125694274902, 6.811114311218262, 6.06248664855957, 6.0125732421875, 5.2268452644348145, 4.877954006195068, 4.63707160949707, 4.583293914794922, 4.53369665145874, 9.74433422088623, 4.3014750480651855, 4.3014750480651855, 4.3014702796936035, 4.301466941833496, 4.301466941833496, 34.18351364135742, 58.26316452026367, 15.18102741241455, 9.850523948669434, 175.23719787597656, 92.60676574707031, 13.866128921508789, 146.70065307617188, 16.476573944091797, 221.95762634277344, 41.717472076416016, 25.609649658203125, 63.66878128051758, 99.89347839355469, 24.582555770874023, 35.220741271972656, 195.05325317382812, 31.536190032958984, 23.97248649597168, 11.609639167785645, 10.660751342773438, 9.315839767456055, 7.891580581665039, 7.880774974822998, 7.757699012756348, 7.721674919128418, 7.607496738433838, 6.567430019378662, 6.460562229156494, 13.189165115356445, 6.039645671844482, 5.646734237670898, 5.398136615753174, 5.266662120819092, 4.9912309646606445, 4.855138301849365, 4.70713996887207, 4.707155227661133, 4.673759937286377, 4.564808368682861, 4.468775272369385, 7.392909526824951, 11.828859329223633, 4.061877727508545, 4.061889171600342, 10.449043273925781, 24.624876022338867, 3.777783155441284, 3.7777843475341797, 3.7777836322784424, 3.7777836322784424, 3.7777836322784424, 27.12595558166504, 22.72516441345215, 17.08783721923828, 31.536190032958984, 66.25884246826172, 168.44822692871094, 224.8765411376953, 18.998727798461914, 12.803495407104492, 50.477088928222656, 24.833110809326172, 276.6268615722656, 96.01811981201172, 221.95762634277344, 92.60676574707031, 58.52720260620117, 209.65835571289062, 99.89347839355469, 33.01892852783203, 162.02684020996094, 116.59044647216797, 54.98593521118164, 57.440303802490234, 195.05325317382812, 23.51628875732422, 17.571914672851562, 16.598669052124023, 15.938009262084961, 14.50003719329834, 14.123241424560547, 11.674674987792969, 11.236990928649902, 8.69188404083252, 8.250310897827148, 8.094518661499023, 7.914394855499268, 7.746020793914795, 7.229935169219971, 7.190274238586426, 6.701096534729004, 6.397472858428955, 6.363595485687256, 6.323813438415527, 6.238763332366943, 5.948244571685791, 5.91337251663208, 5.873405456542969, 5.80518102645874, 5.789915084838867, 5.548011779785156, 5.45461893081665, 5.138145923614502, 4.984273910522461, 4.93019437789917, 14.641351699829102, 14.584561347961426, 9.478263854980469, 9.407934188842773, 66.25884246826172, 19.252609252929688, 15.94836139678955, 50.477088928222656, 15.009713172912598, 168.44822692871094, 195.05325317382812, 113.68696594238281, 25.227079391479492, 36.989017486572266, 224.8765411376953, 96.01811981201172, 58.52720260620117, 99.89347839355469, 221.95762634277344, 35.05820083618164, 21.698017120361328, 18.005126953125, 16.29997444152832, 15.925280570983887, 11.693510055541992, 8.212531089782715, 7.676492214202881, 6.724380016326904, 6.449807167053223, 6.326655864715576, 10.987359046936035, 5.999721050262451, 5.783772945404053, 5.186689376831055, 4.703604221343994, 4.620215892791748, 4.499240875244141, 4.371220588684082, 4.361151218414307, 4.259709358215332, 4.259710311889648, 4.259710311889648, 6.846608638763428, 4.0411458015441895, 4.041114807128906, 4.041109561920166, 3.941514492034912, 3.7884345054626465, 3.735288381576538, 8.085579872131348, 36.989017486572266, 38.00148391723633, 22.703994750976562, 57.440303802490234, 13.897662162780762, 36.837947845458984, 6.103740215301514, 113.68696594238281, 33.78927993774414, 146.70065307617188, 16.476573944091797, 92.60676574707031, 9.127839088439941, 55.661251068115234, 17.08783721923828, 27.12595558166504, 145.0362091064453, 175.23719787597656, 276.6268615722656, 50.477088928222656, 10.68530559539795, 9.047798156738281, 8.805869102478027, 8.659008026123047, 8.640664100646973, 8.390629768371582, 7.112515926361084, 6.856245994567871, 6.319679260253906, 5.823432922363281, 5.823476791381836, 5.068495750427246, 4.956162452697754, 4.363536357879639, 4.15801477432251, 4.054601192474365, 4.05317497253418, 4.05317497253418, 4.053174018859863, 4.053174018859863, 4.053174018859863, 4.053166389465332, 4.05316686630249, 4.05316686630249, 4.004943370819092, 3.7040395736694336, 3.560075283050537, 3.5600697994232178, 3.476149559020996, 3.416433095932007, 9.98515510559082, 9.30133056640625, 276.6268615722656, 36.837947845458984, 50.477088928222656, 224.8765411376953, 15.94836139678955, 23.776506423950195, 12.91682243347168, 175.23719787597656, 15.009713172912598, 18.31770896911621, 70.57337188720703, 18.96731185913086, 33.37224197387695, 54.98593521118164, 34.18351364135742, 9.934807777404785, 9.63582706451416, 8.612765312194824, 8.387349128723145, 7.874377727508545, 7.298069000244141, 6.397164821624756, 6.288458347320557, 6.25568151473999, 5.9742112159729, 5.648913383483887, 5.444158554077148, 5.198373794555664, 4.920224666595459, 4.531637668609619, 4.351388931274414, 4.315016269683838, 4.280911922454834, 4.217391490936279, 4.160107612609863, 3.9019317626953125, 3.828817129135132, 3.6498992443084717, 3.4415442943573, 3.3697333335876465, 3.2147955894470215, 2.9591779708862305, 2.8595573902130127, 2.6922240257263184, 2.6922295093536377, 33.78927993774414, 12.664350509643555, 5.278995037078857, 25.609649658203125, 22.703994750976562, 146.70065307617188, 39.864410400390625, 116.59044647216797, 145.0362091064453, 276.6268615722656, 69.03677368164062, 92.60676574707031, 18.998727798461914, 10.827410697937012, 9.85290813446045, 6.380673408508301, 5.655420780181885, 4.476193428039551, 4.4762282371521, 4.144771099090576, 3.8492014408111572, 26.21291160583496, 3.502427339553833, 3.5024805068969727, 3.406994342803955, 2.9546701908111572, 2.9242873191833496, 7.1864190101623535, 2.8350718021392822, 2.529874563217163, 2.45794677734375, 2.4579715728759766, 2.369053602218628, 2.2720656394958496, 2.160740613937378, 2.111257791519165, 2.111276626586914, 2.1112842559814453, 2.1112892627716064, 4.767794132232666, 2.033342123031616, 1.9917025566101074, 1.9917075634002686, 11.753768920898438, 6.761601448059082, 58.26316452026367, 36.837947845458984, 18.998727798461914, 146.70065307617188, 31.536190032958984, 47.89387893676758, 221.95762634277344, 162.02684020996094, 209.65835571289062, 22.703994750976562, 26.584306716918945, 11.16003704071045, 7.640933513641357, 6.839600563049316, 6.339634418487549, 5.9561662673950195, 5.885903835296631, 5.221449375152588, 4.976114749908447, 4.924385070800781, 4.9244585037231445, 4.514354228973389, 4.514391899108887, 4.327836513519287, 4.030797958374023, 3.6633944511413574, 3.6633944511413574, 3.6633944511413574, 3.6633944511413574, 3.253366231918335, 3.2210936546325684, 3.2211036682128906, 3.221104621887207, 3.1623034477233887, 3.0944125652313232, 3.0944113731384277, 2.956282377243042, 2.9240212440490723, 2.727072238922119, 2.7270619869232178, 2.7271676063537598, 7.926764488220215, 26.584306716918945, 18.65299415588379, 25.609649658203125, 6.421876907348633, 5.994474411010742, 38.00148391723633, 63.66878128051758, 18.650495529174805, 8.07071304321289, 7.451953887939453, 6.904964923858643, 6.636652946472168, 5.835737705230713, 4.69699239730835, 4.454923629760742, 4.36412239074707, 4.251816749572754, 4.125439643859863, 3.7374866008758545, 3.337501049041748, 3.337501049041748, 3.337501049041748, 3.337501049041748, 3.14866304397583, 3.148699998855591, 2.823146343231201, 2.7945995330810547, 2.710883140563965, 2.6200501918792725, 2.6200501918792725, 2.6200644969940186, 2.5988500118255615, 2.598851442337036, 2.598851442337036, 2.385392665863037, 2.3567986488342285, 2.031287431716919, 5.7246623039245605, 12.803495407104492, 5.858583450317383, 12.91682243347168, 33.37224197387695, 5.170747756958008, 4.13945198059082, 99.89347839355469, 55.661251068115234], \"loglift\": [30.0, 29.0, 28.0, 27.0, 26.0, 25.0, 24.0, 23.0, 22.0, 21.0, 20.0, 19.0, 18.0, 17.0, 16.0, 15.0, 14.0, 13.0, 12.0, 11.0, 10.0, 9.0, 8.0, 7.0, 6.0, 5.0, 4.0, 3.0, 2.0, 1.0, 0.8482999801635742, 0.8460000157356262, 0.8389000296592712, 0.8341000080108643, 0.8296999931335449, 0.8273000121116638, 0.8263999819755554, 0.8253999948501587, 0.824400007724762, 0.8238999843597412, 0.8233000040054321, 0.8223999738693237, 0.8197000026702881, 0.819599986076355, 0.8185999989509583, 0.8155999779701233, 0.8108999729156494, 0.8059999942779541, 0.8047000169754028, 0.8026000261306763, 0.8014000058174133, 0.7978000044822693, 0.7949000000953674, 0.7943000197410583, 0.7939000129699707, 0.7925000190734863, 0.7896000146865845, 0.7882999777793884, 0.7839000225067139, 0.7811999917030334, 0.777400016784668, 0.769599974155426, 0.757099986076355, 0.7608000040054321, 0.7631999850273132, 0.7095999717712402, 0.6682999730110168, 0.6789000034332275, 0.6664000153541565, 0.6287000179290771, 0.6915000081062317, 0.7031999826431274, 0.49570000171661377, 0.6837999820709229, 0.73089998960495, 0.6866000294685364, 0.37229999899864197, 0.36489999294281006, 0.5216000080108643, 0.3691999912261963, 0.4505000114440918, 0.5260000228881836, 0.5095999836921692, 0.2624000012874603, 0.4049000144004822, -0.20829999446868896, 0.41749998927116394, -0.36910000443458557, 2.2483999729156494, 2.223900079727173, 2.20770001411438, 2.1884000301361084, 2.187299966812134, 2.18530011177063, 2.181999921798706, 2.1793999671936035, 2.17930006980896, 2.1758999824523926, 2.174299955368042, 2.1651999950408936, 2.1651999950408936, 2.1642000675201416, 2.1642000675201416, 2.1631999015808105, 2.163100004196167, 2.1484999656677246, 2.14739990234375, 2.126800060272217, 2.115600109100342, 2.106600046157837, 2.1045000553131104, 2.1024999618530273, 2.0999999046325684, 2.092400074005127, 2.092400074005127, 2.092400074005127, 2.092400074005127, 2.092400074005127, 2.0373001098632812, 1.9882999658584595, 2.030400037765503, 2.0243000984191895, 1.6826000213623047, 1.4449000358581543, 1.8518999814987183, 1.260200023651123, 1.710800051689148, 0.6305999755859375, 1.2422000169754028, 1.455899953842163, 0.8870999813079834, 0.5756999850273132, 1.2874000072479248, 0.9399999976158142, -0.42329999804496765, 0.9605000019073486, 1.1181999444961548, 2.2683000564575195, 2.2623000144958496, 2.251699924468994, 2.236299991607666, 2.2360999584198, 2.234499931335449, 2.2339999675750732, 2.2325000762939453, 2.21560001373291, 2.2135000228881836, 2.212399959564209, 2.204699993133545, 2.1951000690460205, 2.1882998943328857, 2.1844000816345215, 2.1754000186920166, 2.1707000732421875, 2.1651999950408936, 2.1651999950408936, 2.163599967956543, 2.15939998626709, 2.155400037765503, 2.1517999172210693, 2.137500047683716, 2.135699987411499, 2.135699987411499, 2.1333999633789062, 2.122999906539917, 2.1191999912261963, 2.1191999912261963, 2.1191999912261963, 2.1191999912261963, 2.1191999912261963, 2.030100107192993, 2.0055999755859375, 1.8559999465942383, 1.677899956703186, 1.4773999452590942, 0.9591000080108643, 0.7731999754905701, 1.6239999532699585, 1.767699956893921, 1.1419999599456787, 1.442199945449829, 0.03200000151991844, 0.6046000123023987, 0.09369999915361404, 0.46230000257492065, 0.7401999831199646, -0.21480000019073486, 0.2842999994754791, 1.0799000263214111, -0.18379999697208405, -0.14139999449253082, 0.5058000087738037, 0.46540001034736633, -0.9553999900817871, 2.4254000186920166, 2.414799928665161, 2.4123001098632812, 2.410399913787842, 2.4058001041412354, 2.404400110244751, 2.393199920654297, 2.3905999660491943, 2.3705999851226807, 2.365799903869629, 2.3638999462127686, 2.361799955368042, 2.359600067138672, 2.352299928665161, 2.3517000675201416, 2.3436999320983887, 2.337899923324585, 2.3373000621795654, 2.336400032043457, 2.3348000049591064, 2.328399896621704, 2.327699899673462, 2.32669997215271, 2.325000047683716, 2.324700117111206, 2.3185999393463135, 2.3160998821258545, 2.30649995803833, 2.301800012588501, 2.2999000549316406, 2.2588000297546387, 2.2174999713897705, 2.2483999729156494, 2.2207000255584717, 1.6359000205993652, 1.9797999858856201, 1.9637999534606934, 1.3250999450683594, 1.8791999816894531, 0.29179999232292175, 0.07339999824762344, 0.4278999865055084, 1.3849999904632568, 1.0455000400543213, -0.32199999690055847, 0.15139999985694885, 0.536899983882904, -0.009399999864399433, -0.9251000285148621, 2.472399950027466, 2.4595000743865967, 2.452500104904175, 2.448199987411499, 2.4470999240875244, 2.4298999309539795, 2.401900053024292, 2.39520001411438, 2.3805999755859375, 2.375499963760376, 2.3731000423431396, 2.3705999851226807, 2.3661000728607178, 2.3610999584198, 2.344599962234497, 2.328000068664551, 2.324899911880493, 2.319999933242798, 2.314300060272217, 2.3138999938964844, 2.309299945831299, 2.309299945831299, 2.309299945831299, 2.30649995803833, 2.29830002784729, 2.2981998920440674, 2.2981998920440674, 2.2929000854492188, 2.283900022506714, 2.2804999351501465, 2.263700008392334, 2.190700054168701, 1.9306000471115112, 1.9780000448226929, 1.5492000579833984, 1.9017000198364258, 1.4290000200271606, 2.1654000282287598, 0.8913999795913696, 1.2202999591827393, 0.373199999332428, 1.5577000379562378, 0.5210999846458435, 1.9020999670028687, 0.7077999711036682, 1.419600009918213, 1.055999994277954, -0.3292999863624573, -0.5864999890327454, -1.1675000190734863, 0.4106999933719635, 2.7511000633239746, 2.73799991607666, 2.735599994659424, 2.734100103378296, 2.7339000701904297, 2.7311999797821045, 2.714200019836426, 2.70989990234375, 2.699899911880493, 2.6888999938964844, 2.688800096511841, 2.6677000522613525, 2.6638998985290527, 2.6405999660491943, 2.63070011138916, 2.6252999305725098, 2.6252999305725098, 2.6252999305725098, 2.6252999305725098, 2.6252999305725098, 2.6252999305725098, 2.6252999305725098, 2.6252999305725098, 2.6252999305725098, 2.6226999759674072, 2.6047000885009766, 2.594899892807007, 2.594899892807007, 2.5871999263763428, 2.584199905395508, 2.5325000286102295, 2.381500005722046, 0.8883000016212463, 1.5377000570297241, 1.3913999795913696, 0.4999000132083893, 1.7689000368118286, 1.507200002670288, 1.839900016784668, -0.14630000293254852, 1.6677000522613525, 1.4775999784469604, 0.27149999141693115, 1.3574999570846558, 0.8762000203132629, 0.17170000076293945, 0.6144999861717224, 3.003000020980835, 3.000499963760376, 2.990799903869629, 2.988300085067749, 2.982100009918213, 2.974100112915039, 2.958400011062622, 2.956199884414673, 2.9554998874664307, 2.9493000507354736, 2.9412999153137207, 2.935699939727783, 2.928499937057495, 2.9191999435424805, 2.9042999744415283, 2.896399974822998, 2.8945999145507812, 2.8931000232696533, 2.890000104904175, 2.886899948120117, 2.8731000423431396, 2.8685998916625977, 2.857100009918213, 2.8420000076293945, 2.836199998855591, 2.8229000568389893, 2.797499895095825, 2.7860000133514404, 2.764699935913086, 2.7646000385284424, 2.723599910736084, 2.6907999515533447, 2.5634000301361084, 1.7548999786376953, 1.7288000583648682, 0.5627999901771545, 1.152899980545044, 0.18569999933242798, -0.23960000276565552, -0.8352000117301941, 0.2160000056028366, -0.15209999680519104, 1.399399995803833, 3.1816999912261963, 3.174499988555908, 3.129699945449829, 3.1129000186920166, 3.0727999210357666, 3.0727999210357666, 3.0569000244140625, 3.040299892425537, 3.026900053024292, 3.0167999267578125, 3.016700029373169, 3.0090999603271484, 2.9663000106811523, 2.962599992752075, 2.961699962615967, 2.952399969100952, 2.9093000888824463, 2.8973000049591064, 2.8973000049591064, 2.881200075149536, 2.8619000911712646, 2.8364999294281006, 2.824899911880493, 2.8248000144958496, 2.824700117111206, 2.824700117111206, 2.8217999935150146, 2.8034000396728516, 2.79229998588562, 2.79229998588562, 2.6800999641418457, 2.5601999759674072, 1.8133000135421753, 1.8565000295639038, 2.0111000537872314, 0.9290000200271606, 1.6095000505447388, 1.242799997329712, 0.3756999969482422, 0.2761000096797943, -0.05420000106096268, 1.1158000230789185, 0.8719000220298767, 3.289900064468384, 3.2571001052856445, 3.2446999549865723, 3.2351999282836914, 3.226799964904785, 3.225100040435791, 3.2070000171661377, 3.198899984359741, 3.1970999240875244, 3.197000026702881, 3.1810998916625977, 3.1810998916625977, 3.172800064086914, 3.1575000286102295, 3.1354000568389893, 3.1354000568389893, 3.1354000568389893, 3.1354000568389893, 3.1033999919891357, 3.100600004196167, 3.100600004196167, 3.100600004196167, 3.095099925994873, 3.0885000228881836, 3.0885000228881836, 3.0738000869750977, 3.0703999996185303, 3.0460000038146973, 3.0460000038146973, 3.0457000732421875, 2.8387999534606934, 2.5557000637054443, 2.1617000102996826, 1.7634999752044678, 2.5732998847961426, 2.5982000827789307, 0.836899995803833, 0.2694000005722046, 3.450000047683716, 3.3945000171661377, 3.385999917984009, 3.3773000240325928, 3.372499942779541, 3.35509991645813, 3.3192999362945557, 3.3092000484466553, 3.305000066757202, 3.2995998859405518, 3.293299913406372, 3.2702999114990234, 3.2404000759124756, 3.2404000759124756, 3.2404000759124756, 3.2404000759124756, 3.223299980163574, 3.2232000827789307, 3.187299966812134, 3.1837000846862793, 3.172600030899048, 3.1594998836517334, 3.1594998836517334, 3.1594998836517334, 3.1563000679016113, 3.1563000679016113, 3.1563000679016113, 3.1201000213623047, 3.1147000789642334, 3.038800001144409, 2.841599941253662, 2.522700071334839, 2.612600088119507, 2.0938000679016113, 1.4121999740600586, 2.6793999671936035, 2.7750000953674316, -0.04919999837875366, 0.31790000200271606], \"logprob\": [30.0, 29.0, 28.0, 27.0, 26.0, 25.0, 24.0, 23.0, 22.0, 21.0, 20.0, 19.0, 18.0, 17.0, 16.0, 15.0, 14.0, 13.0, 12.0, 11.0, 10.0, 9.0, 8.0, 7.0, 6.0, 5.0, 4.0, 3.0, 2.0, 1.0, -4.389900207519531, -4.551000118255615, -4.765100002288818, -5.0991997718811035, -4.3414998054504395, -5.317299842834473, -5.342299938201904, -5.367800235748291, -4.671999931335449, -5.407100200653076, -4.9670000076293945, -5.4475998878479, -5.504000186920166, -5.516300201416016, -5.5416998863220215, -5.609399795532227, -3.994800090789795, -5.798999786376953, -5.823599815368652, -5.8597002029418945, -5.880300045013428, -5.939300060272217, -5.970099925994873, -5.577899932861328, -5.998600006103516, -6.020400047302246, -6.0619001388549805, -4.570400238037109, -5.265100002288818, -6.17609977722168, -4.720300197601318, -4.707600116729736, -4.155900001525879, -4.476200103759766, -4.851399898529053, -3.3501999378204346, -3.1338000297546387, -3.4916999340057373, -3.7225000858306885, -3.245699882507324, -4.19950008392334, -4.575399875640869, -3.0292999744415283, -4.458000183105469, -4.9710001945495605, -4.775599956512451, -3.3596999645233154, -3.380199909210205, -4.061399936676025, -3.6517999172210693, -3.96370005607605, -4.602399826049805, -4.63100004196167, -4.281099796295166, -4.589000225067139, -4.189700126647949, -4.660600185394287, -4.528299808502197, -3.549299955368042, -4.2382001876831055, -4.528200149536133, -4.793700218200684, -4.789000034332275, -4.830900192260742, -4.8694000244140625, -4.898399829864502, -4.899700164794922, -4.936600208282471, -4.953800201416016, -5.045599937438965, -3.571500062942505, -5.055500030517578, -5.055500030517578, -5.063799858093262, -5.065999984741211, -5.197000026702881, -5.206299781799316, -5.367000102996826, -5.447299957275391, -5.506899833679199, -5.520699977874756, -5.533599853515625, -4.770899772644043, -5.59630012512207, -5.59630012512207, -5.59630012512207, -5.59630012512207, -5.59630012512207, -3.5785999298095703, -3.0943000316619873, -4.39709997177124, -4.8358001708984375, -2.2988998889923096, -3.174299955368042, -4.666200160980225, -2.8989999294281006, -4.634900093078613, -3.114500045776367, -4.1743998527526855, -4.448800086975098, -4.106900215148926, -3.9677999019622803, -4.658199787139893, -4.645899772644043, -4.297599792480469, -4.736000061035156, -4.852499961853027, -4.427499771118164, -4.518700122833252, -4.6641998291015625, -4.8454999923706055, -4.8470001220703125, -4.8643999099731445, -4.869500160217285, -4.886000156402588, -5.049900054931641, -5.068399906158447, -4.355899810791016, -5.144599914550781, -5.221499919891357, -5.2733001708984375, -5.3018999099731445, -5.364500045776367, -5.396900177001953, -5.4334001541137695, -5.4334001541137695, -5.4421000480651855, -5.469799995422363, -5.495100021362305, -4.995299816131592, -4.539599895477295, -5.610300064086914, -5.610300064086914, -4.667699813842773, -3.8208000659942627, -5.6992998123168945, -5.6992998123168945, -5.6992998123168945, -5.6992998123168945, -5.6992998123168945, -3.816999912261963, -4.018599987030029, -4.453199863433838, -4.018499851226807, -3.476599931716919, -3.0618999004364014, -2.958899974822998, -4.5792999267578125, -4.8302001953125, -4.084099769592285, -4.493299961090088, -3.493000030517578, -3.9784998893737793, -3.6514999866485596, -4.156899929046631, -4.3379998207092285, -4.016900062561035, -4.259200096130371, -4.5706000328063965, -4.243599891662598, -4.530399799346924, -4.634699821472168, -4.631499767303467, -4.829699993133545, -3.564500093460083, -3.866499900817871, -3.9260001182556152, -3.9684998989105225, -4.067699909210205, -4.095399856567383, -4.296999931335449, -4.337800025939941, -4.61460018157959, -4.671599864959717, -4.692500114440918, -4.717199802398682, -4.740799903869629, -4.8171000480651855, -4.823200225830078, -4.901700019836426, -4.953800201416016, -4.959700107574463, -4.966899871826172, -4.982100009918213, -5.036099910736084, -5.042699813842773, -5.05049991607666, -5.063799858093262, -5.066800117492676, -5.115600109100342, -5.1350998878479, -5.204400062561035, -5.23960018157959, -5.252299785614014, -4.204999923706055, -4.250100135803223, -4.650199890136719, -4.685400009155273, -3.3180999755859375, -4.21019983291626, -4.4145002365112305, -3.9010000228881836, -4.559700012207031, -3.729099988937378, -3.8010001182556152, -3.986299991607666, -4.5346999168396, -4.491499900817871, -4.053999900817871, -4.431700229644775, -4.541200160980225, -4.5528998374938965, -4.670199871063232, -3.1182000637054443, -3.6108999252319336, -3.804500102996826, -3.9082999229431152, -3.9326000213623047, -4.258699893951416, -4.639999866485596, -4.714200019836426, -4.861299991607666, -4.908100128173828, -4.929699897766113, -4.380199909210205, -4.989799976348877, -5.031499862670898, -5.156899929046631, -5.271299839019775, -5.292300224304199, -5.323699951171875, -5.35830020904541, -5.361000061035156, -5.389100074768066, -5.389100074768066, -5.389100074768066, -4.917399883270264, -5.4527997970581055, -5.452899932861328, -5.452899932861328, -5.4832000732421875, -5.531799793243408, -5.549300193786621, -4.793799877166748, -3.346299886703491, -3.579400062561035, -4.047100067138672, -3.5476999282836914, -4.614200115203857, -4.112100124359131, -5.173299789428711, -3.522700071334839, -4.407100200653076, -3.7860000133514404, -4.788000106811523, -4.098199844360352, -5.034200191497803, -4.420499801635742, -4.889599800109863, -4.791100025177002, -4.499899864196777, -4.567999839782715, -4.692399978637695, -4.815400123596191, -4.027599811553955, -4.207099914550781, -4.236599922180176, -4.254899978637695, -4.257199764251709, -4.289299964904785, -4.47160005569458, -4.512499809265137, -4.604000091552734, -4.696800231933594, -4.696899890899658, -4.856900215148926, -4.8831000328063965, -5.03380012512207, -5.091899871826172, -5.122399806976318, -5.122799873352051, -5.122799873352051, -5.122799873352051, -5.122799873352051, -5.122799873352051, -5.122799873352051, -5.122799873352051, -5.122799873352051, -5.137400150299072, -5.233500003814697, -5.282899856567383, -5.2829999923706055, -5.314499855041504, -5.334799766540527, -4.314000129699707, -4.535999774932861, -2.636699914932251, -4.003300189971924, -3.834700107574463, -3.232100009918213, -4.609300136566162, -4.471700191497803, -4.749199867248535, -4.127799987792969, -4.771200180053711, -4.7621002197265625, -4.6194000244140625, -4.847400188446045, -4.763700008392334, -4.968900203704834, -5.001399993896484, -3.848599910736084, -3.8815999031066895, -4.003600120544434, -4.032599925994873, -4.101900100708008, -4.1859002113342285, -4.3333001136779785, -4.352700233459473, -4.35860013961792, -4.410900115966797, -4.474899768829346, -4.517300128936768, -4.570799827575684, -4.635000228881836, -4.7322001457214355, -4.780700206756592, -4.790900230407715, -4.8003997802734375, -4.818399906158447, -4.835100173950195, -4.913099765777588, -4.936399936676025, -4.995800018310547, -5.069699764251709, -5.096499919891357, -5.156899929046631, -5.265200138092041, -5.3109002113342285, -5.392600059509277, -5.392600059509277, -2.903899908065796, -3.9179999828338623, -4.920499801635742, -4.149799823760986, -4.296299934387207, -3.596400022506714, -4.309199810028076, -4.2032999992370605, -4.410299777984619, -4.360099792480469, -4.696899890899658, -4.771299839019775, -4.803800106048584, -3.5838000774383545, -3.68530011177063, -4.164599895477295, -4.30210018157959, -4.576000213623047, -4.576000213623047, -4.668799877166748, -4.759500026702881, -2.8545000553131104, -4.877299785614014, -4.877399921417236, -4.912600040435791, -5.097899913787842, -5.1118998527526855, -4.213699817657471, -5.153200149536133, -5.310100078582764, -5.35099983215332, -5.35099983215332, -5.403900146484375, -5.465000152587891, -5.5406999588012695, -5.575500011444092, -5.5756001472473145, -5.5756001472473145, -5.5756001472473145, -4.763899803161621, -5.634500026702881, -5.666299819946289, -5.666299819946289, -4.003300189971924, -4.67609977722168, -3.2692999839782715, -3.684499979019165, -4.1921000480651855, -3.230299949645996, -4.086900234222412, -4.035799980163574, -3.369499921798706, -3.783799886703491, -3.8564000129699707, -4.909299850463867, -4.995299816131592, -3.4453999996185303, -3.8570001125335693, -3.9802000522613525, -4.0655999183654785, -4.13640022277832, -4.149899959564209, -4.287799835205078, -4.343999862670898, -4.356299877166748, -4.356400012969971, -4.459199905395508, -4.459199905395508, -4.509699821472168, -4.596199989318848, -4.713799953460693, -4.713799953460693, -4.713799953460693, -4.713799953460693, -4.864500045776367, -4.877299785614014, -4.877299785614014, -4.877299785614014, -4.901199817657471, -4.929500102996826, -4.929500102996826, -4.989799976348877, -5.004300117492676, -5.098299980163574, -5.098400115966797, -5.098700046539307, -4.238500118255615, -3.3115999698638916, -4.059899806976318, -4.14109992980957, -4.714600086212158, -4.758500099182129, -4.673099994659424, -4.7245001792907715, -2.7718000411987305, -3.664900064468384, -3.7530999183654785, -3.838099956512451, -3.8826000690460205, -4.028500080108643, -4.281400203704834, -4.344399929046631, -4.369200229644775, -4.400599956512451, -4.43720006942749, -4.558899879455566, -4.702000141143799, -4.702000141143799, -4.702000141143799, -4.702000141143799, -4.777400016784668, -4.777400016784668, -4.922399997711182, -4.936200141906738, -4.977799892425537, -5.024899959564209, -5.024899959564209, -5.024899959564209, -5.036200046539307, -5.036200046539307, -5.036200046539307, -5.158100128173828, -5.175600051879883, -5.400100231170654, -4.561299800872803, -4.075200080871582, -4.767099857330322, -4.495299816131592, -4.227700233459473, -4.825200080871582, -4.952000141143799, -4.592700004577637, -4.810400009155273]}, \"token.table\": {\"Topic\": [5, 6, 1, 2, 2, 1, 1, 3, 4, 3, 4, 2, 3, 7, 7, 10, 6, 10, 1, 1, 2, 3, 4, 1, 3, 8, 1, 2, 3, 4, 6, 7, 5, 3, 3, 5, 8, 2, 5, 7, 9, 7, 5, 10, 1, 5, 9, 9, 2, 9, 2, 4, 7, 8, 6, 7, 8, 10, 3, 4, 3, 1, 4, 5, 2, 7, 8, 10, 10, 4, 6, 1, 1, 3, 5, 7, 5, 6, 3, 5, 5, 1, 3, 4, 1, 2, 3, 5, 7, 8, 10, 9, 6, 3, 6, 9, 9, 9, 9, 6, 1, 4, 10, 7, 2, 7, 4, 9, 8, 7, 9, 1, 4, 8, 9, 1, 6, 7, 2, 8, 4, 5, 6, 5, 10, 2, 5, 2, 1, 2, 8, 4, 6, 5, 2, 8, 1, 2, 3, 6, 4, 7, 6, 2, 7, 3, 4, 5, 6, 10, 10, 8, 1, 2, 8, 1, 3, 4, 5, 6, 2, 5, 6, 10, 2, 9, 1, 3, 5, 6, 7, 9, 4, 5, 7, 8, 2, 1, 1, 9, 4, 7, 2, 2, 4, 1, 3, 5, 1, 2, 2, 9, 2, 5, 7, 1, 6, 8, 9, 3, 5, 10, 1, 8, 9, 7, 8, 7, 4, 9, 1, 4, 5, 2, 5, 8, 5, 1, 2, 3, 8, 6, 1, 2, 3, 4, 8, 6, 9, 5, 6, 3, 5, 7, 1, 9, 4, 9, 3, 3, 3, 5, 7, 6, 1, 3, 6, 6, 3, 8, 7, 7, 4, 9, 6, 7, 2, 1, 2, 4, 5, 9, 5, 8, 7, 10, 1, 7, 7, 1, 6, 1, 3, 4, 1, 5, 10, 7, 8, 5, 4, 1, 2, 3, 4, 5, 7, 8, 4, 5, 6, 7, 8, 4, 2, 1, 4, 6, 7, 4, 1, 3, 3, 6, 5, 5, 10, 7, 3, 2, 5, 7, 2, 1, 2, 3, 4, 5, 7, 10, 4, 4, 5, 7, 2, 4, 2, 6, 10, 1, 9, 1, 8, 6, 2, 3, 7, 3, 8, 4, 3, 5, 3, 2, 8, 1, 8, 1, 3, 6, 4, 8, 1, 10, 1, 4, 3, 5, 7, 3, 4, 6, 7, 1, 5, 7, 10, 4, 7, 7, 4, 5, 7, 9, 4, 5, 8, 1, 8, 1, 3, 4, 7, 4, 5, 4, 5, 3, 6, 8, 1, 1, 8, 1, 2, 3, 5, 9, 1, 7, 3, 4, 4, 1, 3, 5, 4, 5, 10, 8, 6, 8, 1, 3, 1, 2, 1, 2, 3, 4, 6, 6, 4, 5, 8, 3, 10, 6, 3, 7, 8, 4, 1, 4, 5, 10, 2, 4, 5, 2, 6, 2, 3, 8, 2, 6, 9, 7, 5, 5, 9, 10, 3, 5, 4, 9, 4, 1, 8, 1, 3, 2, 7, 8, 1, 10, 1, 5, 1, 2, 3, 4, 5, 8, 10, 1, 1, 2, 3, 4, 7, 10, 2, 7, 4, 1, 10, 10, 3, 10, 9, 1, 2, 9, 2, 3, 4, 5, 2, 7, 7, 6, 9, 1, 5, 8, 3, 4, 1, 3, 4, 5, 6, 7, 8, 9, 10, 8, 3, 1, 2, 4, 6, 10, 6, 3, 1, 3, 5, 9, 10, 1, 5, 6, 6, 3, 2, 3, 9, 1, 6, 10, 10, 1, 2, 5, 6, 7, 7, 5, 10, 6, 6, 3, 8, 8, 1, 2, 3, 6, 3, 5, 6, 9, 1, 2, 3, 7, 2, 9, 6, 3, 1, 3, 6, 2, 3, 10, 1, 5, 8, 10, 5, 1, 2, 3, 4, 5, 10, 3, 8, 9, 5, 6, 9, 10], \"Freq\": [0.9101368188858032, 0.09101368486881256, 0.623240053653717, 0.359561562538147, 0.8200159072875977, 0.9348655343055725, 0.44295698404312134, 0.4026881754398346, 0.12080644816160202, 0.8882375359535217, 0.9204685688018799, 0.17601633071899414, 0.7040653228759766, 0.044004082679748535, 0.7688499689102173, 0.7695711255073547, 0.34936559200286865, 0.524048388004303, 0.9499613642692566, 0.6114638447761536, 0.01780962571501732, 0.255271315574646, 0.11279430240392685, 0.9854702949523926, 0.8950998187065125, 0.813687264919281, 0.8233950734138489, 0.008577032014727592, 0.08577032387256622, 0.017154064029455185, 0.017154064029455185, 0.051462192088365555, 0.9418986439704895, 0.9660964608192444, 0.9380201697349548, 0.9815966486930847, 0.7793824076652527, 0.42952558398246765, 0.07809556275606155, 0.27333447337150574, 0.1952389031648636, 0.8889591097831726, 0.9390310049057007, 0.9165645837783813, 0.3420919179916382, 0.5789247751235962, 0.07894428819417953, 0.8860551118850708, 0.872734785079956, 0.8189126253128052, 0.6490636467933655, 0.07211817800998688, 0.07211817800998688, 0.14423635601997375, 0.8070760369300842, 0.7835317850112915, 0.9134358763694763, 0.7633399963378906, 0.10550455749034882, 0.8440364599227905, 0.7941164374351501, 0.9273721575737, 0.022618833929300308, 0.045237667858600616, 0.8809131383895874, 0.13915136456489563, 0.6957567930221558, 0.9040701985359192, 0.8516088128089905, 0.6270236372947693, 0.3762142062187195, 0.8950325846672058, 0.8980721235275269, 0.01448503416031599, 0.02897006832063198, 0.05794013664126396, 0.8333720564842224, 0.8426800966262817, 0.9287117123603821, 0.7423694133758545, 0.8031508326530457, 0.12073860317468643, 0.4225850999355316, 0.43767744302749634, 0.20516858994960785, 0.4319338798522949, 0.15117685496807098, 0.14037850499153137, 0.04319338873028755, 0.010798347182571888, 0.010798347182571888, 0.6463262438774109, 0.8841930031776428, 0.7941164374351501, 0.9258547425270081, 0.8960543870925903, 0.9464268088340759, 0.8122720718383789, 0.8494871854782104, 0.7399001717567444, 0.916822075843811, 0.07640183717012405, 0.9407743215560913, 0.890278160572052, 0.9174887537956238, 0.7428787350654602, 0.8025240898132324, 0.8394661545753479, 0.8841075301170349, 0.5682899951934814, 0.18942999839782715, 0.9825849533081055, 0.9681968092918396, 0.4736470878124237, 0.64632648229599, 0.6853896975517273, 0.21088913083076477, 0.05272228270769119, 0.9122348427772522, 0.5020817518234253, 0.5329881906509399, 0.06662352383136749, 0.33311763405799866, 0.8504117131233215, 0.6351902484893799, 0.9299145936965942, 0.8922755718231201, 0.9546118378639221, 0.6674318313598633, 0.33371591567993164, 0.4736442267894745, 0.9422103762626648, 0.9534445405006409, 0.9118748307228088, 0.8791046738624573, 0.46280428767204285, 0.8360093832015991, 0.02833930030465126, 0.04250895231962204, 0.08501790463924408, 0.8612995743751526, 0.7113401889801025, 0.9166876673698425, 0.9299135804176331, 0.6758633852005005, 0.29716452956199646, 0.31697550415992737, 0.11886581033468246, 0.23773162066936493, 0.7084294557571411, 0.8988761305809021, 0.8802562355995178, 0.9341737031936646, 0.7551941275596619, 0.24028904736042023, 0.6136700510978699, 0.20900356769561768, 0.062256380915641785, 0.013340653851628304, 0.09783145785331726, 0.7898544669151306, 0.08776160329580307, 0.11701547354459763, 0.7156660556793213, 0.37846463918685913, 0.6307743787765503, 0.33646658062934875, 0.25234994292259216, 0.042058322578668594, 0.25234994292259216, 0.08411664515733719, 0.8122841715812683, 0.9378703236579895, 0.6166315674781799, 0.2642706632614136, 0.1321353316307068, 0.9824969172477722, 0.9439650177955627, 0.9162644743919373, 0.676525354385376, 0.8195964694023132, 0.13659940659999847, 0.8834903240203857, 0.8604398369789124, 0.9789097309112549, 0.9098052382469177, 0.0259944349527359, 0.0519888699054718, 0.9058611989021301, 0.9146075248718262, 0.5004608631134033, 0.5004608631134033, 0.5462300777435303, 0.3641533851623535, 0.9192467331886292, 0.9660590887069702, 0.7490742802619934, 0.47365128993988037, 0.8189126253128052, 0.6437327265739441, 0.35112693905830383, 0.7695707082748413, 0.45139414072036743, 0.0752323567867279, 0.45139414072036743, 0.9541289210319519, 0.5020830035209656, 0.7211351990699768, 0.9617290496826172, 0.7442694902420044, 0.6597062349319458, 0.13194124400615692, 0.20230990648269653, 0.8912333250045776, 0.066017284989357, 0.813679039478302, 0.85235595703125, 0.857882559299469, 0.00617181695997715, 0.0802336186170578, 0.0493745356798172, 0.7401606440544128, 0.6082242131233215, 0.1937306672334671, 0.10812874883413315, 0.03604291379451752, 0.058569736778736115, 0.8426787853240967, 0.886062502861023, 0.9150761961936951, 0.7401606440544128, 0.737301230430603, 0.22119036316871643, 0.9591281414031982, 0.4671531319618225, 0.4671531319618225, 0.9012237787246704, 0.877244234085083, 0.9135993719100952, 0.94748854637146, 0.9098377227783203, 0.07581981271505356, 0.9379155039787292, 0.8586000800132751, 0.6359988451004028, 0.272570937871933, 0.06057131662964821, 0.8751144409179688, 0.8762689828872681, 0.6839272975921631, 0.6994089484214783, 0.9340142607688904, 0.8647827506065369, 0.7660708427429199, 0.7401619553565979, 0.8129709959030151, 0.9299153089523315, 0.6101887822151184, 0.3661132752895355, 0.4317272901535034, 0.5756363868713379, 0.6209071278572083, 0.9406927227973938, 0.4736453592777252, 0.8369305729866028, 0.8673335313796997, 0.9379924535751343, 0.9059057831764221, 0.8219404816627502, 0.20029734075069427, 0.7010406851768494, 0.6492707133293152, 0.20503287017345428, 0.15377464890480042, 0.8608180284500122, 0.0956464484333992, 0.8567897081375122, 0.7428802251815796, 0.7054495215415955, 0.9678303599357605, 0.967452883720398, 0.2931138873100281, 0.3612799048423767, 0.02044980600476265, 0.027266409248113632, 0.1226988434791565, 0.0817992240190506, 0.09543243050575256, 0.02714592032134533, 0.35289695858955383, 0.2714591920375824, 0.08143775910139084, 0.2443132847547531, 0.9428632259368896, 0.9493622779846191, 0.9021736979484558, 0.04510868340730667, 0.04510868340730667, 0.7694714069366455, 0.9166543483734131, 0.09570254385471344, 0.8613228797912598, 0.9262455701828003, 0.87810879945755, 0.9483683109283447, 0.8644875884056091, 0.8988761305809021, 0.9538174271583557, 0.9023293852806091, 0.8315907120704651, 0.2368854135274887, 0.7106562852859497, 0.8649924397468567, 0.834274411201477, 0.006894830148667097, 0.04826381057500839, 0.013789660297334194, 0.06205346807837486, 0.034474149346351624, 0.939350962638855, 0.9203988313674927, 0.2433154582977295, 0.7299463748931885, 0.6221235394477844, 0.8844882249832153, 0.9487946033477783, 0.3096736967563629, 0.38709211349487305, 0.2322552651166916, 0.6433283686637878, 0.3216641843318939, 0.9829295873641968, 0.4918011426925659, 0.7401619553565979, 0.8247441053390503, 0.9065390825271606, 0.9288538098335266, 0.8453900814056396, 0.0845390036702156, 0.9655147790908813, 0.9201449751853943, 0.8657603859901428, 0.8870213031768799, 0.8121395707130432, 0.2030348926782608, 0.44368186593055725, 0.44368186593055725, 0.9660987257957458, 0.81158846616745, 0.13526473939418793, 0.9696604013442993, 0.8442189693450928, 0.2415778785943985, 0.483155757188797, 0.9740998148918152, 0.863570511341095, 0.7385725975036621, 0.2663566768169403, 0.7102844715118408, 0.8558419942855835, 0.8953758478164673, 0.9238933324813843, 0.9343803524971008, 0.7186327576637268, 0.16169238090515137, 0.05389745905995369, 0.03593163937330246, 0.7440528273582458, 0.10629326105117798, 0.8826830983161926, 0.7542222142219543, 0.06856565177440643, 0.13713130354881287, 0.9221218228340149, 0.7784909009933472, 0.20974059402942657, 0.6292217969894409, 0.8560593128204346, 0.12527696788311005, 0.708199679851532, 0.177049919962883, 0.10414700955152512, 0.010414700955152512, 0.8455411791801453, 0.7611287236213684, 0.9639326930046082, 0.9441755414009094, 0.11444741487503052, 0.038149137049913406, 0.8011319041252136, 0.9752467274665833, 0.9684022068977356, 0.8936164379119873, 0.6282513737678528, 0.25130054354667664, 0.04711885377764702, 0.01570628397166729, 0.04711885377764702, 0.8278060555458069, 0.15051019191741943, 0.36358708143234253, 0.6232921481132507, 0.9411463737487793, 0.949781060218811, 0.03903209790587425, 0.9698159098625183, 0.16383397579193115, 0.6553359031677246, 0.8486087918281555, 0.8936094641685486, 0.9084849953651428, 0.7238035202026367, 0.9751086235046387, 0.018752088770270348, 0.897644579410553, 0.8626133799552917, 0.6814166903495789, 0.2555312514305115, 0.028392361477017403, 0.8405841588973999, 0.8630238771438599, 0.8585936427116394, 0.12367697060108185, 0.7420617938041687, 0.67689448595047, 0.7385746836662292, 0.868939995765686, 0.9358646869659424, 0.4737159311771393, 0.21054041385650635, 0.26317551732063293, 0.8113270401954651, 0.6342390775680542, 0.3567594885826111, 0.939031183719635, 0.7633441686630249, 0.8822822570800781, 0.8344604969024658, 0.9171890020370483, 0.3225345015525818, 0.6450690031051636, 0.25367680191993713, 0.5073536038398743, 0.19025760889053345, 0.8727196455001831, 0.7214981317520142, 0.7333616018295288, 0.9269953370094299, 0.742363691329956, 0.7423703670501709, 0.6209052205085754, 0.8026784658432007, 0.8497729301452637, 0.9302603602409363, 0.9036898016929626, 0.8189126253128052, 0.9780454635620117, 0.9488369822502136, 0.8565488457679749, 0.9057221412658691, 0.08765053004026413, 0.7904603481292725, 0.19761508703231812, 0.8805415034294128, 0.9430503249168396, 0.7271952033042908, 0.9231337308883667, 0.9390310049057007, 0.8251519203186035, 0.028617987409234047, 0.07631462812423706, 0.019078657031059265, 0.014308993704617023, 0.03815731406211853, 0.8978829383850098, 0.9853571057319641, 0.789527952671051, 0.066648468375206, 0.03588763624429703, 0.0922824889421463, 0.010253610089421272, 0.7633441686630249, 0.9290507435798645, 0.9184155464172363, 0.8844643235206604, 0.9566097855567932, 0.8384363651275635, 0.7377669811248779, 0.5467256903648376, 0.3905183672904968, 0.6209049820899963, 0.9643753170967102, 0.9299135804176331, 0.9161184430122375, 0.8727191090583801, 0.7941164970397949, 0.8512948751449585, 0.7918838262557983, 0.9565999507904053, 0.871701717376709, 0.9591578245162964, 0.7401606440544128, 0.9242493510246277, 0.9013053774833679, 0.06008702516555786, 0.040058016777038574, 0.8121868371963501, 0.16243736445903778, 0.6940757632255554, 0.10121937841176987, 0.014459911733865738, 0.025304844602942467, 0.14459910988807678, 0.021689867600798607, 0.38679125905036926, 0.19339562952518463, 0.38679125905036926, 0.856535792350769, 0.8854675889015198, 0.3296152651309967, 0.20975516736507416, 0.17979013919830322, 0.1498251110315323, 0.11986009031534195, 0.8099265694618225, 0.8497701287269592, 0.45264384150505066, 0.15668441355228424, 0.38300633430480957, 0.6839895844459534, 0.4922986328601837, 0.4367358386516571, 0.2729598879814148, 0.2729598879814148, 0.789188802242279, 0.8014054894447327, 0.8209899067878723, 0.10262373834848404, 0.8189126253128052, 0.9616325497627258, 0.7401605248451233, 0.8988761305809021, 0.635182797908783, 0.34239307045936584, 0.5535354614257812, 0.04565240815281868, 0.05135895684361458, 0.005706551019102335, 0.885125994682312, 0.7712048292160034, 0.7695707082748413, 0.7401620745658875, 0.7401605248451233, 0.8278631567955017, 0.7905530333518982, 0.9403396248817444, 0.7092722654342651, 0.05455940589308739, 0.16367821395397186, 0.07274587452411652, 0.8238694071769714, 0.8763462901115417, 0.14605771005153656, 0.7333872318267822, 0.8376244306564331, 0.0546276792883873, 0.0546276792883873, 0.036418452858924866, 0.9299153089523315, 0.7333900332450867, 0.843583345413208, 0.7941164374351501, 0.9604592323303223, 0.949367880821228, 0.9494152665138245, 0.8965880274772644, 0.5120691657066345, 0.34137946367263794, 0.9871144890785217, 0.34031638503074646, 0.5955536365509033, 0.9651218056678772, 0.8890388607978821, 0.5505865216255188, 0.18019194900989532, 0.13013862073421478, 0.08008530735969543, 0.02002132683992386, 0.030031990259885788, 0.7941162586212158, 0.9235818386077881, 0.6324504017829895, 0.5477747917175293, 0.3286648690700531, 0.8038399815559387, 0.8988761305809021], \"Term\": [\"ability\", \"ability\", \"able\", \"able\", \"absolutely\", \"access\", \"activate\", \"activate\", \"activate\", \"activation\", \"actually\", \"add\", \"add\", \"add\", \"additional\", \"advertise\", \"ago\", \"ago\", \"alarm\", \"alexa\", \"alexa\", \"alexa\", \"alexa\", \"already\", \"alternative\", \"amazed\", \"amazon\", \"amazon\", \"amazon\", \"amazon\", \"amazon\", \"amazon\", \"answer\", \"anyone\", \"anything\", \"anywhere\", \"apart\", \"app\", \"app\", \"app\", \"app\", \"apple\", \"appliance\", \"area\", \"ask\", \"ask\", \"ask\", \"assistant\", \"audio\", \"avail\", \"awesome\", \"awesome\", \"awesome\", \"awesome\", \"back\", \"backyard\", \"base\", \"basement\", \"bass\", \"bass\", \"batterey\", \"battery\", \"battery\", \"battery\", \"beach\", \"beat\", \"beat\", \"bedroom\", \"benefit\", \"better\", \"better\", \"big\", \"bluetooth\", \"bluetooth\", \"bluetooth\", \"bluetooth\", \"bonus\", \"book\", \"bose\", \"box\", \"brother\", \"button\", \"button\", \"button\", \"buy\", \"buy\", \"buy\", \"buy\", \"buy\", \"buy\", \"buy\", \"calendar\", \"call\", \"camping\", \"capability\", \"carry\", \"case\", \"cell\", \"certain\", \"change\", \"charge\", \"charge\", \"charger\", \"check\", \"christma\", \"clean\", \"clear\", \"clock\", \"compact\", \"computer\", \"computer\", \"connect\", \"connection\", \"continually\", \"continue\", \"control\", \"control\", \"control\", \"cool\", \"cordless\", \"could\", \"could\", \"could\", \"course\", \"cover\", \"dad\", \"daily\", \"daughter\", \"day\", \"day\", \"debate\", \"decent\", \"decide\", \"deck\", \"definitely\", \"demand\", \"device\", \"device\", \"device\", \"device\", \"directly\", \"disappoint\", \"disappointed\", \"dish\", \"dock\", \"dot\", \"dot\", \"dot\", \"dot\", \"drive\", \"dual\", \"durable\", \"easily\", \"easy\", \"easy\", \"echo\", \"echo\", \"echo\", \"echo\", \"echo\", \"enjoy\", \"enjoy\", \"enjoy\", \"enjoying\", \"enough\", \"enough\", \"even\", \"even\", \"even\", \"even\", \"even\", \"event\", \"everyday\", \"everything\", \"everything\", \"everything\", \"excellent\", \"expensive\", \"extra\", \"fabric\", \"family\", \"family\", \"far\", \"father\", \"favorite\", \"feature\", \"feature\", \"feature\", \"feel\", \"fi\", \"figure\", \"figure\", \"find\", \"find\", \"fire\", \"first\", \"fit\", \"flawless\", \"follow\", \"free\", \"free\", \"friendly\", \"fun\", \"fun\", \"fun\", \"functionality\", \"funny\", \"gadget\", \"garage\", \"gathering\", \"get\", \"get\", \"get\", \"gift\", \"gift\", \"girlfriend\", \"glad\", \"good\", \"good\", \"good\", \"good\", \"graduate\", \"great\", \"great\", \"great\", \"great\", \"great\", \"grow\", \"guess\", \"guy\", \"habit\", \"hand\", \"hand\", \"happy\", \"hear\", \"hear\", \"help\", \"high\", \"highly\", \"hit\", \"hold\", \"hold\", \"hook\", \"hot\", \"house\", \"house\", \"house\", \"however\", \"huge\", \"ideal\", \"include\", \"information\", \"instead\", \"instruction\", \"interest\", \"invest\", \"ipad\", \"item\", \"item\", \"kid\", \"kid\", \"kind\", \"know\", \"lake\", \"last\", \"learn\", \"life\", \"light\", \"link\", \"list\", \"list\", \"listen\", \"listen\", \"listen\", \"little\", \"little\", \"live\", \"load\", \"local\", \"lot\", \"loud\", \"love\", \"love\", \"love\", \"love\", \"love\", \"love\", \"love\", \"make\", \"make\", \"make\", \"make\", \"make\", \"manually\", \"many\", \"may\", \"may\", \"may\", \"member\", \"mic\", \"microphone\", \"microphone\", \"mini\", \"minimal\", \"mode\", \"mom\", \"moment\", \"month\", \"mostly\", \"mother\", \"move\", \"move\", \"movie\", \"music\", \"music\", \"music\", \"music\", \"music\", \"music\", \"must\", \"name\", \"need\", \"need\", \"nephew\", \"network\", \"never\", \"new\", \"new\", \"new\", \"news\", \"news\", \"nice\", \"note\", \"notice\", \"offer\", \"office\", \"old\", \"operate\", \"operate\", \"order\", \"original\", \"otherwise\", \"outside\", \"overall\", \"overall\", \"pair\", \"pair\", \"pandora\", \"part\", \"part\", \"pay\", \"penny\", \"people\", \"people\", \"perfect\", \"personal\", \"personally\", \"phone\", \"phone\", \"physically\", \"pick\", \"place\", \"plan\", \"play\", \"play\", \"play\", \"play\", \"playing\", \"playing\", \"playlist\", \"plug\", \"plug\", \"plug\", \"podcast\", \"point\", \"pool\", \"pool\", \"portability\", \"portability\", \"portable\", \"portable\", \"portable\", \"portable\", \"power\", \"prefer\", \"press\", \"pretty\", \"price\", \"price\", \"price\", \"prime\", \"problem\", \"produce\", \"product\", \"product\", \"product\", \"product\", \"product\", \"purchase\", \"purchase\", \"push\", \"push\", \"put\", \"quality\", \"quality\", \"question\", \"quickly\", \"quickly\", \"quite\", \"rather\", \"read\", \"ready\", \"really\", \"really\", \"rechargeable\", \"recognition\", \"recommend\", \"recommend\", \"recommend\", \"regular\", \"release\", \"remember\", \"require\", \"require\", \"response\", \"rest\", \"return\", \"review\", \"room\", \"room\", \"room\", \"run\", \"say\", \"say\", \"science\", \"score\", \"search\", \"see\", \"serve\", \"service\", \"service\", \"set\", \"set\", \"set\", \"several\", \"shopping\", \"short\", \"show\", \"side\", \"silly\", \"similar\", \"simple\", \"simply\", \"siri\", \"sit\", \"sitting\", \"size\", \"skill\", \"slightly\", \"small\", \"small\", \"smart\", \"smart\", \"someone\", \"something\", \"son\", \"song\", \"sooner\", \"sound\", \"sound\", \"sound\", \"sound\", \"sound\", \"sound\", \"source\", \"speak\", \"speaker\", \"speaker\", \"speaker\", \"speaker\", \"speaker\", \"sport\", \"spotify\", \"stand\", \"star\", \"start\", \"stay\", \"step\", \"still\", \"still\", \"store\", \"stream\", \"subscription\", \"super\", \"support\", \"supposedly\", \"sure\", \"surprised\", \"surprisingly\", \"switch\", \"system\", \"tab\", \"table\", \"take\", \"take\", \"take\", \"talk\", \"talk\", \"tap\", \"tap\", \"tap\", \"tap\", \"tap\", \"tap\", \"technology\", \"technology\", \"technology\", \"teenager\", \"tell\", \"thing\", \"thing\", \"thing\", \"thing\", \"thing\", \"thought\", \"tie\", \"time\", \"time\", \"time\", \"tip\", \"traffic\", \"try\", \"try\", \"try\", \"tub\", \"tunein\", \"turn\", \"turn\", \"unable\", \"unit\", \"upgraded\", \"us\", \"usage\", \"use\", \"use\", \"use\", \"use\", \"use\", \"useful\", \"useless\", \"user\", \"vacation\", \"valid\", \"value\", \"versatile\", \"version\", \"voice\", \"voice\", \"voice\", \"voice\", \"wait\", \"wake\", \"wake\", \"walk\", \"want\", \"want\", \"want\", \"want\", \"watch\", \"water\", \"week\", \"weight\", \"well\", \"wherever\", \"whole\", \"wi\", \"wife\", \"wife\", \"wifi\", \"wireless\", \"wireless\", \"wish\", \"wonderful\", \"work\", \"work\", \"work\", \"work\", \"work\", \"work\", \"worldwide\", \"worth\", \"yard\", \"year\", \"year\", \"yet\", \"yr\"]}, \"R\": 30, \"lambda.step\": 0.01, \"plot.opts\": {\"xlab\": \"PC1\", \"ylab\": \"PC2\"}, \"topic.order\": [10, 1, 2, 4, 5, 7, 3, 8, 6, 9]};\n",
       "\n",
       "function LDAvis_load_lib(url, callback){\n",
       "  var s = document.createElement('script');\n",
       "  s.src = url;\n",
       "  s.async = true;\n",
       "  s.onreadystatechange = s.onload = callback;\n",
       "  s.onerror = function(){console.warn(\"failed to load library \" + url);};\n",
       "  document.getElementsByTagName(\"head\")[0].appendChild(s);\n",
       "}\n",
       "\n",
       "if(typeof(LDAvis) !== \"undefined\"){\n",
       "   // already loaded: just create the visualization\n",
       "   !function(LDAvis){\n",
       "       new LDAvis(\"#\" + \"ldavis_el774351339905524546695188\", ldavis_el774351339905524546695188_data);\n",
       "   }(LDAvis);\n",
       "}else if(typeof define === \"function\" && define.amd){\n",
       "   // require.js is available: use it to load d3/LDAvis\n",
       "   require.config({paths: {d3: \"https://cdnjs.cloudflare.com/ajax/libs/d3/3.5.5/d3.min\"}});\n",
       "   require([\"d3\"], function(d3){\n",
       "      window.d3 = d3;\n",
       "      LDAvis_load_lib(\"https://cdn.rawgit.com/bmabey/pyLDAvis/files/ldavis.v1.0.0.js\", function(){\n",
       "        new LDAvis(\"#\" + \"ldavis_el774351339905524546695188\", ldavis_el774351339905524546695188_data);\n",
       "      });\n",
       "    });\n",
       "}else{\n",
       "    // require.js not available: dynamically load d3 & LDAvis\n",
       "    LDAvis_load_lib(\"https://cdnjs.cloudflare.com/ajax/libs/d3/3.5.5/d3.min.js\", function(){\n",
       "         LDAvis_load_lib(\"https://cdn.rawgit.com/bmabey/pyLDAvis/files/ldavis.v1.0.0.js\", function(){\n",
       "                 new LDAvis(\"#\" + \"ldavis_el774351339905524546695188\", ldavis_el774351339905524546695188_data);\n",
       "            })\n",
       "         });\n",
       "}\n",
       "</script>"
      ],
      "text/plain": [
       "PreparedData(topic_coordinates=            Freq  cluster  topics         x         y\n",
       "topic                                                \n",
       "9      42.207699        1       1 -0.264039  0.041807\n",
       "0      10.291842        1       2 -0.022344  0.253717\n",
       "1       9.701098        1       3 -0.191751 -0.059601\n",
       "3       8.575901        1       4 -0.107875 -0.169075\n",
       "4       8.266050        1       5  0.028820  0.015968\n",
       "6       5.955149        1       6  0.024296 -0.110216\n",
       "2       4.601311        1       7  0.080099  0.017682\n",
       "7       3.869910        1       8  0.072324  0.123882\n",
       "5       3.482035        1       9  0.206849 -0.039021\n",
       "8       3.049007        1      10  0.173622 -0.075143, topic_info=     Category        Freq         Term       Total  loglift  logprob\n",
       "term                                                                \n",
       "99    Default  175.000000          use  175.000000  30.0000  30.0000\n",
       "89    Default  276.000000          tap  276.000000  29.0000  29.0000\n",
       "29    Default  224.000000         echo  224.000000  28.0000  28.0000\n",
       "177   Default  221.000000        great  221.000000  27.0000  27.0000\n",
       "55    Default  146.000000         love  146.000000  26.0000  26.0000\n",
       "1     Default  168.000000        alexa  168.000000  25.0000  25.0000\n",
       "42    Default  162.000000         good  162.000000  24.0000  24.0000\n",
       "417   Default   58.000000         easy   58.000000  23.0000  23.0000\n",
       "39    Default  113.000000          get  113.000000  22.0000  22.0000\n",
       "163   Default   66.000000       button   66.000000  21.0000  21.0000\n",
       "86    Default  209.000000        sound  209.000000  20.0000  20.0000\n",
       "71    Default   35.000000     question   35.000000  19.0000  19.0000\n",
       "270   Default   33.000000        phone   33.000000  18.0000  18.0000\n",
       "13    Default   92.000000          buy   92.000000  17.0000  17.0000\n",
       "304   Default   47.000000  portability   47.000000  16.0000  16.0000\n",
       "136   Default   26.000000        price   26.000000  15.0000  15.0000\n",
       "94    Default   57.000000         time   57.000000  14.0000  14.0000\n",
       "378   Default   36.000000         need   36.000000  13.0000  13.0000\n",
       "530   Default   26.000000          fun   26.000000  12.0000  12.0000\n",
       "447   Default   18.000000         wish   18.000000  11.0000  11.0000\n",
       "286   Default   38.000000          ask   38.000000  10.0000  10.0000\n",
       "205   Default  195.000000      speaker  195.000000   9.0000   9.0000\n",
       "339   Default   28.000000    excellent   28.000000   8.0000   8.0000\n",
       "195   Default   96.000000     portable   96.000000   7.0000   7.0000\n",
       "25    Default   50.000000          dot   50.000000   6.0000   6.0000\n",
       "3     Default  116.000000       amazon  116.000000   5.0000   5.0000\n",
       "57    Default   36.000000         make   36.000000   4.0000   4.0000\n",
       "366   Default   30.000000         gift   30.000000   3.0000   3.0000\n",
       "313   Default   39.000000     purchase   39.000000   2.0000   2.0000\n",
       "503   Default   23.000000         size   23.000000   1.0000   1.0000\n",
       "...       ...         ...          ...         ...      ...      ...\n",
       "738   Topic10    3.513580      charger    4.251817   3.2996  -4.4006\n",
       "445   Topic10    3.387434          son    4.125440   3.2933  -4.4372\n",
       "829   Topic10    2.999254       simple    3.737487   3.2703  -4.5589\n",
       "1427  Topic10    2.599464           yr    3.337501   3.2404  -4.7020\n",
       "1426  Topic10    2.599464           us    3.337501   3.2404  -4.7020\n",
       "1425  Topic10    2.599464       moment    3.337501   3.2404  -4.7020\n",
       "1424  Topic10    2.599464         dual    3.337501   3.2404  -4.7020\n",
       "826   Topic10    2.410651        cover    3.148663   3.2233  -4.7774\n",
       "830   Topic10    2.410564        usage    3.148700   3.2232  -4.7774\n",
       "1013  Topic10    2.085135        drive    2.823146   3.1873  -4.9224\n",
       "814   Topic10    2.056512     enjoying    2.794600   3.1837  -4.9362\n",
       "768   Topic10    1.972889         step    2.710883   3.1726  -4.9778\n",
       "940   Topic10    1.882040        score    2.620050   3.1595  -5.0249\n",
       "941   Topic10    1.882040        sport    2.620050   3.1595  -5.0249\n",
       "1028  Topic10    1.881977     basement    2.620064   3.1595  -5.0249\n",
       "526   Topic10    1.860860    advertise    2.598850   3.1563  -5.0362\n",
       "443   Topic10    1.860851     friendly    2.598851   3.1563  -5.0362\n",
       "446   Topic10    1.860851         user    2.598851   3.1563  -5.0362\n",
       "1268  Topic10    1.647290         stay    2.385393   3.1201  -5.1581\n",
       "767   Topic10    1.618796        quite    2.356799   3.1147  -5.1756\n",
       "942   Topic10    1.293259      traffic    2.031287   3.0388  -5.4001\n",
       "106   Topic10    2.992169          ago    5.724662   2.8416  -4.5613\n",
       "525   Topic10    4.864918        still   12.803495   2.5227  -4.0752\n",
       "521   Topic10    2.435425         wife    5.858583   2.6126  -4.7671\n",
       "64    Topic10    3.196143          new   12.916822   2.0938  -4.4953\n",
       "91    Topic10    4.176777        thing   33.372242   1.4122  -4.2277\n",
       "892   Topic10    2.298132   technology    5.170748   2.6794  -4.8252\n",
       "1021  Topic10    2.024335       people    4.139452   2.7750  -4.9520\n",
       "349   Topic10    2.899466         work   99.893478  -0.0492  -4.5927\n",
       "193   Topic10    2.332298         play   55.661251   0.3179  -4.8104\n",
       "\n",
       "[504 rows x 6 columns], token_table=      Topic      Freq         Term\n",
       "term                              \n",
       "105       5  0.910137      ability\n",
       "105       6  0.091014      ability\n",
       "298       1  0.623240         able\n",
       "298       2  0.359562         able\n",
       "450       2  0.820016   absolutely\n",
       "244       1  0.934866       access\n",
       "152       1  0.442957     activate\n",
       "152       3  0.402688     activate\n",
       "152       4  0.120806     activate\n",
       "640       3  0.888238   activation\n",
       "452       4  0.920469     actually\n",
       "335       2  0.176016          add\n",
       "335       3  0.704065          add\n",
       "335       7  0.044004          add\n",
       "394       7  0.768850   additional\n",
       "526      10  0.769571    advertise\n",
       "106       6  0.349366          ago\n",
       "106      10  0.524048          ago\n",
       "284       1  0.949961        alarm\n",
       "1         1  0.611464        alexa\n",
       "1         2  0.017810        alexa\n",
       "1         3  0.255271        alexa\n",
       "1         4  0.112794        alexa\n",
       "153       1  0.985470      already\n",
       "1108      3  0.895100  alternative\n",
       "724       8  0.813687       amazed\n",
       "3         1  0.823395       amazon\n",
       "3         2  0.008577       amazon\n",
       "3         3  0.085770       amazon\n",
       "3         4  0.017154       amazon\n",
       "...     ...       ...          ...\n",
       "101       3  0.054628         want\n",
       "101       7  0.036418         want\n",
       "1423      2  0.929915        watch\n",
       "796       9  0.733390        water\n",
       "148       6  0.843583         week\n",
       "1439      3  0.794116       weight\n",
       "149       1  0.960459         well\n",
       "558       3  0.949368     wherever\n",
       "103       6  0.949415        whole\n",
       "222       2  0.896588           wi\n",
       "521       3  0.512069         wife\n",
       "521      10  0.341379         wife\n",
       "243       1  0.987114         wifi\n",
       "320       5  0.340316     wireless\n",
       "320       8  0.595554     wireless\n",
       "447      10  0.965122         wish\n",
       "104       5  0.889039    wonderful\n",
       "349       1  0.550587         work\n",
       "349       2  0.180192         work\n",
       "349       3  0.130139         work\n",
       "349       4  0.080085         work\n",
       "349       5  0.020021         work\n",
       "349      10  0.030032         work\n",
       "1440      3  0.794116    worldwide\n",
       "330       8  0.923582        worth\n",
       "652       9  0.632450         yard\n",
       "150       5  0.547775         year\n",
       "150       6  0.328665         year\n",
       "735       9  0.803840          yet\n",
       "1427     10  0.898876           yr\n",
       "\n",
       "[596 rows x 3 columns], R=30, lambda_step=0.01, plot_opts={'xlab': 'PC1', 'ylab': 'PC2'}, topic_order=[10, 1, 2, 4, 5, 7, 3, 8, 6, 9])"
      ]
     },
     "execution_count": 246,
     "metadata": {},
     "output_type": "execute_result"
    }
   ],
   "source": [
    "# Visualize the topics\n",
    "pyLDAvis.enable_notebook()\n",
    "vis = pyLDAvis.gensim.prepare(lda_model, corpus, id2word)\n",
    "vis"
   ]
  },
  {
   "cell_type": "code",
   "execution_count": 243,
   "metadata": {},
   "outputs": [],
   "source": [
    "# Build LDA model\n",
    "lda_model = gensim.models.ldamodel.LdaModel(corpus=corpus,\n",
    "                                           id2word=id2word,\n",
    "                                           num_topics=10, \n",
    "                                           random_state=42,\n",
    "                                           passes=10,\n",
    "                                           alpha='auto',\n",
    "                                           per_word_topics=True)"
   ]
  },
  {
   "cell_type": "markdown",
   "metadata": {},
   "source": [
    "### Get topics for any new document"
   ]
  },
  {
   "cell_type": "code",
   "execution_count": null,
   "metadata": {},
   "outputs": [],
   "source": [
    "new_doc = \"enter text here\""
   ]
  },
  {
   "cell_type": "code",
   "execution_count": null,
   "metadata": {},
   "outputs": [],
   "source": [
    "new_doc_bow = diction.doc2bow(new_doc)\n",
    "new_doc_bow"
   ]
  },
  {
   "cell_type": "code",
   "execution_count": null,
   "metadata": {},
   "outputs": [],
   "source": [
    "lda_mod.get_document_topics(new_doc_bow)"
   ]
  },
  {
   "cell_type": "markdown",
   "metadata": {},
   "source": [
    "### Choosing the number of topics"
   ]
  },
  {
   "cell_type": "code",
   "execution_count": null,
   "metadata": {},
   "outputs": [],
   "source": [
    "def compute_coherence_values(dictionary, corpus, texts, limit, start=2, step=3):\n",
    "    coherence_values = []\n",
    "    model_list = []\n",
    "\n",
    "    for num_topics in range(start, limit, step):\n",
    "        model_list.append(model)\n",
    "        lda_model = gensim.models.ldamodel.LdaModel(corpus=corpus, id2word=id2word, num_topics=num_topics, \n",
    "                                           random_state=42, passes=10, per_word_topics=True)\n",
    "        coherence_model_lda = CoherenceModel(model=lda_model, texts=data_lemmatized, dictionary=id2word, coherence='c_v')\n",
    "        coherence_values.append(coherence_model_lda.get_coherence())\n",
    "\n",
    "    return model_list, coherence_values"
   ]
  },
  {
   "cell_type": "code",
   "execution_count": null,
   "metadata": {},
   "outputs": [],
   "source": [
    "model_list, coherence_values = compute_coherence_values(dictionary=id2word, corpus=corpus, texts=data_lemmatized, start=2, limit=10, step=2)"
   ]
  },
  {
   "cell_type": "code",
   "execution_count": null,
   "metadata": {},
   "outputs": [],
   "source": [
    "limit=40; start=2; step=6;\n",
    "x = range(start, limit, step)\n",
    "\n",
    "for m, cv in zip(x, coherence_values):\n",
    "    print(\"Num Topics =\", m, \" has Coherence Value of\", round(cv, 4))"
   ]
  }
 ],
 "metadata": {
  "kernelspec": {
   "display_name": "Python 3",
   "language": "python",
   "name": "python3"
  },
  "language_info": {
   "codemirror_mode": {
    "name": "ipython",
    "version": 3
   },
   "file_extension": ".py",
   "mimetype": "text/x-python",
   "name": "python",
   "nbconvert_exporter": "python",
   "pygments_lexer": "ipython3",
   "version": "3.7.6"
  }
 },
 "nbformat": 4,
 "nbformat_minor": 2
}
